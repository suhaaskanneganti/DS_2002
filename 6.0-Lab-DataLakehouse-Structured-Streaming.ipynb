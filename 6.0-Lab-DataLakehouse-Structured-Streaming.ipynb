{
 "cells": [
  {
   "cell_type": "markdown",
   "metadata": {
    "application/vnd.databricks.v1+cell": {
     "cellMetadata": {
      "byteLimit": 2048000,
      "rowLimit": 10000
     },
     "inputWidgets": {},
     "nuid": "4f6cce12-a006-4a6f-aa2d-49ffb1836a2e",
     "showTitle": false,
     "title": ""
    }
   },
   "source": [
    "## Lab 06: Data Lakehouse with Structured Streaming\n",
    "This lab will help you learn to use many of the software libraries and programming techniques required to fulfill the requirements of the final end-of-session capstone project for course **DS-2002: Data Systems**. The spirit of the project is to provide a capstone challenge that requires students to demonstrate a practical and functional understanding of each of the data systems and architectural principles covered throughout the session.\n",
    "\n",
    "**These include:**\n",
    "- Relational Database Management Systems (e.g., MySQL, Microsoft SQL Server, Oracle, IBM DB2)\n",
    "  - Online Transaction Processing Systems (OLTP): *Optimized for High-Volume Write Operations; Normalized to 3rd Normal Form.*\n",
    "  - Online Analytical Processing Systems (OLAP): *Optimized for Read/Aggregation Operations; Dimensional Model (i.e, Star Schema)*\n",
    "- NoSQL *(Not Only SQL)* Systems (e.g., MongoDB, CosmosDB, Cassandra, HBase, Redis)\n",
    "- File System *(Data Lake)* Source Systems (e.g., AWS S3, Microsoft Azure Data Lake Storage)\n",
    "  - Various Datafile Formats (e.g., JSON, CSV, Parquet, Text, Binary)\n",
    "- Massively Parallel Processing *(MPP)* Data Integration Systems (e.g., Apache Spark, Databricks)\n",
    "- Data Integration Patterns (e.g., Extract-Transform-Load, Extract-Load-Transform, Extract-Load-Transform-Load, Lambda & Kappa Architectures)\n",
    "\n",
    "### Section I: Prerequisites\n",
    "\n",
    "#### 1.0. Import Required Libraries"
   ]
  },
  {
   "cell_type": "code",
   "execution_count": 0,
   "metadata": {
    "application/vnd.databricks.v1+cell": {
     "cellMetadata": {
      "byteLimit": 2048000,
      "rowLimit": 10000
     },
     "inputWidgets": {},
     "nuid": "f6a8545c-e396-40dd-a0eb-8fb98663bef7",
     "showTitle": false,
     "title": ""
    }
   },
   "outputs": [],
   "source": [
    "import os\n",
    "import json\n",
    "import pymongo\n",
    "import pyspark.pandas as pd  # This uses Koalas that is included in PySpark version 3.2 or newer.\n",
    "from pyspark.sql.functions import col\n",
    "from pyspark.sql.types import StructType, StructField, StringType, TimestampType, BinaryType\n",
    "from pyspark.sql.types import ByteType, ShortType, IntegerType, LongType, FloatType, DecimalType"
   ]
  },
  {
   "cell_type": "markdown",
   "metadata": {
    "application/vnd.databricks.v1+cell": {
     "cellMetadata": {
      "byteLimit": 2048000,
      "rowLimit": 10000
     },
     "inputWidgets": {},
     "nuid": "3c43fc7d-2918-4270-8595-354881a4e36d",
     "showTitle": false,
     "title": ""
    }
   },
   "source": [
    "#### 2.0. Instantiate Global Variables"
   ]
  },
  {
   "cell_type": "code",
   "execution_count": 0,
   "metadata": {
    "application/vnd.databricks.v1+cell": {
     "cellMetadata": {
      "byteLimit": 2048000,
      "rowLimit": 10000
     },
     "inputWidgets": {},
     "nuid": "ae18ed4a-a051-4249-ac4d-55d27a42b4e5",
     "showTitle": false,
     "title": ""
    }
   },
   "outputs": [
    {
     "output_type": "stream",
     "name": "stdout",
     "output_type": "stream",
     "text": [
      "Out[2]: True"
     ]
    }
   ],
   "source": [
    "# Azure MySQL Server Connection Information ###################\n",
    "jdbc_hostname = \"yvf7ua-mysql.mysql.database.azure.com\"\n",
    "jdbc_port = 3306\n",
    "src_database = \"northwind_dw2\"\n",
    "\n",
    "connection_properties = {\n",
    "  \"user\" : \"yvf7ua\",\n",
    "  \"password\" : \"Passw0rd123\",\n",
    "  \"driver\" : \"org.mariadb.jdbc.Driver\"\n",
    "}\n",
    "\n",
    "# MongoDB Atlas Connection Information ########################\n",
    "atlas_cluster_name = \"clustermidterm.7rtqy6x\"\n",
    "atlas_database_name = \"northwind_dw2\"\n",
    "atlas_user_name = \"yvf7ua\"\n",
    "atlas_password = \"Passw0rd123\"\n",
    "\n",
    "# Data Files (JSON) Information ###############################\n",
    "dst_database = \"northwind_dlh\"\n",
    "\n",
    "base_dir = \"dbfs:/FileStore/ds2002-lab06\"\n",
    "database_dir = f\"{base_dir}/{dst_database}\"\n",
    "\n",
    "data_dir = f\"{base_dir}/source_data\"\n",
    "batch_dir = f\"{data_dir}/batch\"\n",
    "stream_dir = f\"{data_dir}/stream\"\n",
    "\n",
    "orders_stream_dir = f\"{stream_dir}/orders\"\n",
    "purchase_orders_stream_dir = f\"{stream_dir}/purchase_orders\"\n",
    "inventory_trans_stream_dir = f\"{stream_dir}/inventory_transactions\"\n",
    "\n",
    "orders_output_bronze = f\"{database_dir}/fact_orders/bronze\"\n",
    "orders_output_silver = f\"{database_dir}/fact_orders/silver\"\n",
    "orders_output_gold   = f\"{database_dir}/fact_orders/gold\"\n",
    "\n",
    "purchase_orders_output_bronze = f\"{database_dir}/fact_purchase_orders/bronze\"\n",
    "purchase_orders_output_silver = f\"{database_dir}/fact_purchase_orders/silver\"\n",
    "purchase_orders_output_gold   = f\"{database_dir}/fact_purchase_orders/gold\"\n",
    "\n",
    "inventory_trans_output_bronze = f\"{database_dir}/fact_inventory_transactions/bronze\"\n",
    "inventory_trans_output_silver = f\"{database_dir}/fact_inventory_transactions/silver\"\n",
    "inventory_trans_output_gold   = f\"{database_dir}/fact_inventory_transactions/gold\"\n",
    "\n",
    "# Delete the Streaming Files ################################## \n",
    "dbutils.fs.rm(f\"{database_dir}/fact_orders\", True) \n",
    "dbutils.fs.rm(f\"{database_dir}/fact_purchase_orders\", True) \n",
    "dbutils.fs.rm(f\"{database_dir}/fact_inventory_transactions\", True)\n",
    "\n",
    "# Delete the Database Files ###################################\n",
    "dbutils.fs.rm(database_dir, True)"
   ]
  },
  {
   "cell_type": "markdown",
   "metadata": {
    "application/vnd.databricks.v1+cell": {
     "cellMetadata": {
      "byteLimit": 2048000,
      "rowLimit": 10000
     },
     "inputWidgets": {},
     "nuid": "4e33d70f-637e-4eb6-a1a8-c00ea26011a5",
     "showTitle": false,
     "title": ""
    }
   },
   "source": [
    "#### 3.0. Define Global Functions"
   ]
  },
  {
   "cell_type": "code",
   "execution_count": 0,
   "metadata": {
    "application/vnd.databricks.v1+cell": {
     "cellMetadata": {
      "byteLimit": 2048000,
      "rowLimit": 10000
     },
     "inputWidgets": {},
     "nuid": "939af89f-638e-44fd-8e58-f88591889f4c",
     "showTitle": false,
     "title": ""
    }
   },
   "outputs": [],
   "source": [
    "# ######################################################################################################################\n",
    "# Use this Function to Fetch a DataFrame from the MongoDB Atlas database server Using PyMongo.\n",
    "# ######################################################################################################################\n",
    "def get_mongo_dataframe(user_id, pwd, cluster_name, db_name, collection, conditions, projection, sort):\n",
    "    '''Create a client connection to MongoDB'''\n",
    "    mongo_uri = f\"mongodb+srv://{user_id}:{pwd}@{cluster_name}.mongodb.net/{db_name}\"\n",
    "    \n",
    "    client = pymongo.MongoClient(mongo_uri)\n",
    "\n",
    "    '''Query MongoDB, and fill a python list with documents to create a DataFrame'''\n",
    "    db = client[db_name]\n",
    "    if conditions and projection and sort:\n",
    "        dframe = pd.DataFrame(list(db[collection].find(conditions, projection).sort(sort)))\n",
    "    elif conditions and projection and not sort:\n",
    "        dframe = pd.DataFrame(list(db[collection].find(conditions, projection)))\n",
    "    else:\n",
    "        dframe = pd.DataFrame(list(db[collection].find()))\n",
    "\n",
    "    client.close()\n",
    "    \n",
    "    return dframe\n",
    "\n",
    "# ######################################################################################################################\n",
    "# Use this Function to Create New Collections by Uploading JSON file(s) to the MongoDB Atlas server.\n",
    "# ######################################################################################################################\n",
    "def set_mongo_collection(user_id, pwd, cluster_name, db_name, src_file_path, json_files):\n",
    "    '''Create a client connection to MongoDB'''\n",
    "    mongo_uri = f\"mongodb+srv://{user_id}:{pwd}@{cluster_name}.mongodb.net/{db_name}\"\n",
    "    client = pymongo.MongoClient(mongo_uri)\n",
    "    db = client[db_name]\n",
    "    \n",
    "    '''Read in a JSON file, and Use It to Create a New Collection'''\n",
    "    for file in json_files:\n",
    "        db.drop_collection(file)\n",
    "        json_file = os.path.join(src_file_path, json_files[file])\n",
    "        with open(json_file, 'r') as openfile:\n",
    "            json_object = json.load(openfile)\n",
    "            file = db[file]\n",
    "            result = file.insert_many(json_object)\n",
    "\n",
    "    client.close()\n",
    "    \n",
    "    return result"
   ]
  },
  {
   "cell_type": "markdown",
   "metadata": {
    "application/vnd.databricks.v1+cell": {
     "cellMetadata": {
      "byteLimit": 2048000,
      "rowLimit": 10000
     },
     "inputWidgets": {},
     "nuid": "8066e8d6-3626-449d-a985-2fce976d0914",
     "showTitle": false,
     "title": ""
    }
   },
   "source": [
    "### Section II: Populate Dimensions by Ingesting Reference (Cold-path) Data \n",
    "#### 1.0. Fetch Reference Data From an Azure MySQL Database\n",
    "##### 1.1. Create a New Databricks Metadata Database."
   ]
  },
  {
   "cell_type": "code",
   "execution_count": 0,
   "metadata": {
    "application/vnd.databricks.v1+cell": {
     "cellMetadata": {
      "byteLimit": 2048000,
      "implicitDf": true,
      "rowLimit": 10000
     },
     "inputWidgets": {},
     "nuid": "cd70267e-3bc4-4f48-a7ef-4ea4d2dcc3c6",
     "showTitle": false,
     "title": ""
    }
   },
   "outputs": [
    {
     "output_type": "display_data",
     "data": {
      "text/html": [
       "<style scoped>\n",
       "  .table-result-container {\n",
       "    max-height: 300px;\n",
       "    overflow: auto;\n",
       "  }\n",
       "  table, th, td {\n",
       "    border: 1px solid black;\n",
       "    border-collapse: collapse;\n",
       "  }\n",
       "  th, td {\n",
       "    padding: 5px;\n",
       "  }\n",
       "  th {\n",
       "    text-align: left;\n",
       "  }\n",
       "</style><div class='table-result-container'><table class='table-result'><thead style='background-color: white'><tr></tr></thead><tbody></tbody></table></div>"
      ]
     },
     "metadata": {
      "application/vnd.databricks.v1+output": {
       "addedWidgets": {},
       "aggData": [],
       "aggError": "",
       "aggOverflow": false,
       "aggSchema": [],
       "aggSeriesLimitReached": false,
       "aggType": "",
       "arguments": {},
       "columnCustomDisplayInfos": {},
       "data": [],
       "datasetInfos": [],
       "dbfsResultPath": null,
       "isJsonSchema": true,
       "metadata": {},
       "overflow": false,
       "plotOptions": {
        "customPlotOptions": {},
        "displayType": "table",
        "pivotAggregation": null,
        "pivotColumns": null,
        "xColumns": null,
        "yColumns": null
       },
       "removedWidgets": [],
       "schema": [],
       "type": "table"
      }
     },
     "output_type": "display_data"
    }
   ],
   "source": [
    "%sql\n",
    "DROP DATABASE IF EXISTS northwind_dlh CASCADE;"
   ]
  },
  {
   "cell_type": "code",
   "execution_count": 0,
   "metadata": {
    "application/vnd.databricks.v1+cell": {
     "cellMetadata": {
      "byteLimit": 2048000,
      "implicitDf": true,
      "rowLimit": 10000
     },
     "inputWidgets": {},
     "nuid": "8753d7a5-d652-4163-b69f-71355180c93a",
     "showTitle": false,
     "title": ""
    }
   },
   "outputs": [
    {
     "output_type": "display_data",
     "data": {
      "text/html": [
       "<style scoped>\n",
       "  .table-result-container {\n",
       "    max-height: 300px;\n",
       "    overflow: auto;\n",
       "  }\n",
       "  table, th, td {\n",
       "    border: 1px solid black;\n",
       "    border-collapse: collapse;\n",
       "  }\n",
       "  th, td {\n",
       "    padding: 5px;\n",
       "  }\n",
       "  th {\n",
       "    text-align: left;\n",
       "  }\n",
       "</style><div class='table-result-container'><table class='table-result'><thead style='background-color: white'><tr></tr></thead><tbody></tbody></table></div>"
      ]
     },
     "metadata": {
      "application/vnd.databricks.v1+output": {
       "addedWidgets": {},
       "aggData": [],
       "aggError": "",
       "aggOverflow": false,
       "aggSchema": [],
       "aggSeriesLimitReached": false,
       "aggType": "",
       "arguments": {},
       "columnCustomDisplayInfos": {},
       "data": [],
       "datasetInfos": [],
       "dbfsResultPath": null,
       "isJsonSchema": true,
       "metadata": {},
       "overflow": false,
       "plotOptions": {
        "customPlotOptions": {},
        "displayType": "table",
        "pivotAggregation": null,
        "pivotColumns": null,
        "xColumns": null,
        "yColumns": null
       },
       "removedWidgets": [],
       "schema": [],
       "type": "table"
      }
     },
     "output_type": "display_data"
    }
   ],
   "source": [
    "%sql\n",
    "CREATE DATABASE IF NOT EXISTS northwind_dlh\n",
    "COMMENT \"DS-2002 Lab 06 Database\"\n",
    "LOCATION \"dbfs:/FileStore/ds2002-lab06/northwind_dlh\"\n",
    "WITH DBPROPERTIES (contains_pii = true, purpose = \"DS-2002 Lab 6.0\");"
   ]
  },
  {
   "cell_type": "markdown",
   "metadata": {
    "application/vnd.databricks.v1+cell": {
     "cellMetadata": {
      "byteLimit": 2048000,
      "rowLimit": 10000
     },
     "inputWidgets": {},
     "nuid": "8b8250c5-9f2b-4b9b-9e3a-6e5fcd2b3aff",
     "showTitle": false,
     "title": ""
    }
   },
   "source": [
    "##### 1.2. Create a New Table that Sources Date Dimension Data from a Table in an Azure MySQL database."
   ]
  },
  {
   "cell_type": "code",
   "execution_count": 0,
   "metadata": {
    "application/vnd.databricks.v1+cell": {
     "cellMetadata": {
      "byteLimit": 2048000,
      "implicitDf": true,
      "rowLimit": 10000
     },
     "inputWidgets": {},
     "nuid": "7fc64a21-eb30-4d1d-9ed9-9258593d5281",
     "showTitle": false,
     "title": ""
    }
   },
   "outputs": [
    {
     "output_type": "display_data",
     "data": {
      "text/html": [
       "<style scoped>\n",
       "  .table-result-container {\n",
       "    max-height: 300px;\n",
       "    overflow: auto;\n",
       "  }\n",
       "  table, th, td {\n",
       "    border: 1px solid black;\n",
       "    border-collapse: collapse;\n",
       "  }\n",
       "  th, td {\n",
       "    padding: 5px;\n",
       "  }\n",
       "  th {\n",
       "    text-align: left;\n",
       "  }\n",
       "</style><div class='table-result-container'><table class='table-result'><thead style='background-color: white'><tr></tr></thead><tbody></tbody></table></div>"
      ]
     },
     "metadata": {
      "application/vnd.databricks.v1+output": {
       "addedWidgets": {},
       "aggData": [],
       "aggError": "",
       "aggOverflow": false,
       "aggSchema": [],
       "aggSeriesLimitReached": false,
       "aggType": "",
       "arguments": {},
       "columnCustomDisplayInfos": {},
       "data": [],
       "datasetInfos": [],
       "dbfsResultPath": null,
       "isJsonSchema": true,
       "metadata": {},
       "overflow": false,
       "plotOptions": {
        "customPlotOptions": {},
        "displayType": "table",
        "pivotAggregation": null,
        "pivotColumns": null,
        "xColumns": null,
        "yColumns": null
       },
       "removedWidgets": [],
       "schema": [],
       "type": "table"
      }
     },
     "output_type": "display_data"
    }
   ],
   "source": [
    "%sql\n",
    "CREATE OR REPLACE TEMPORARY VIEW view_date\n",
    "USING org.apache.spark.sql.jdbc\n",
    "OPTIONS (\n",
    "  url \"jdbc:mysql://yvf7ua-mysql.mysql.database.azure.com:3306/northwind_dw2\",\n",
    "  dbtable \"dim_date\",\n",
    "  user \"yvf7ua\",\n",
    "  password \"Passw0rd123\"\n",
    ")"
   ]
  },
  {
   "cell_type": "code",
   "execution_count": 0,
   "metadata": {
    "application/vnd.databricks.v1+cell": {
     "cellMetadata": {
      "byteLimit": 2048000,
      "implicitDf": true,
      "rowLimit": 10000
     },
     "inputWidgets": {},
     "nuid": "015675a3-1b74-4f42-b00b-df8b9f2cfa0c",
     "showTitle": false,
     "title": ""
    }
   },
   "outputs": [
    {
     "output_type": "display_data",
     "data": {
      "text/html": [
       "<style scoped>\n",
       "  .table-result-container {\n",
       "    max-height: 300px;\n",
       "    overflow: auto;\n",
       "  }\n",
       "  table, th, td {\n",
       "    border: 1px solid black;\n",
       "    border-collapse: collapse;\n",
       "  }\n",
       "  th, td {\n",
       "    padding: 5px;\n",
       "  }\n",
       "  th {\n",
       "    text-align: left;\n",
       "  }\n",
       "</style><div class='table-result-container'><table class='table-result'><thead style='background-color: white'><tr><th>num_affected_rows</th><th>num_inserted_rows</th></tr></thead><tbody></tbody></table></div>"
      ]
     },
     "metadata": {
      "application/vnd.databricks.v1+output": {
       "addedWidgets": {},
       "aggData": [],
       "aggError": "",
       "aggOverflow": false,
       "aggSchema": [],
       "aggSeriesLimitReached": false,
       "aggType": "",
       "arguments": {},
       "columnCustomDisplayInfos": {},
       "data": [],
       "datasetInfos": [],
       "dbfsResultPath": null,
       "isJsonSchema": true,
       "metadata": {},
       "overflow": false,
       "plotOptions": {
        "customPlotOptions": {},
        "displayType": "table",
        "pivotAggregation": null,
        "pivotColumns": null,
        "xColumns": null,
        "yColumns": null
       },
       "removedWidgets": [],
       "schema": [
        {
         "metadata": "{}",
         "name": "num_affected_rows",
         "type": "\"long\""
        },
        {
         "metadata": "{}",
         "name": "num_inserted_rows",
         "type": "\"long\""
        }
       ],
       "type": "table"
      }
     },
     "output_type": "display_data"
    }
   ],
   "source": [
    "%sql\n",
    "USE DATABASE northwind_dlh;\n",
    "\n",
    "CREATE OR REPLACE TABLE northwind_dlh.dim_date\n",
    "COMMENT \"Date Dimension Table\"\n",
    "LOCATION \"dbfs:/FileStore/ds2002-lab06/northwind_dlh/dim_date\"\n",
    "AS SELECT * FROM view_date"
   ]
  },
  {
   "cell_type": "code",
   "execution_count": 0,
   "metadata": {
    "application/vnd.databricks.v1+cell": {
     "cellMetadata": {
      "byteLimit": 2048000,
      "implicitDf": true,
      "rowLimit": 10000
     },
     "inputWidgets": {},
     "nuid": "368e6706-b13d-4be4-98dd-16956e85d40b",
     "showTitle": false,
     "title": ""
    }
   },
   "outputs": [
    {
     "output_type": "display_data",
     "data": {
      "text/html": [
       "<style scoped>\n",
       "  .table-result-container {\n",
       "    max-height: 300px;\n",
       "    overflow: auto;\n",
       "  }\n",
       "  table, th, td {\n",
       "    border: 1px solid black;\n",
       "    border-collapse: collapse;\n",
       "  }\n",
       "  th, td {\n",
       "    padding: 5px;\n",
       "  }\n",
       "  th {\n",
       "    text-align: left;\n",
       "  }\n",
       "</style><div class='table-result-container'><table class='table-result'><thead style='background-color: white'><tr><th>col_name</th><th>data_type</th><th>comment</th></tr></thead><tbody><tr><td>date_key</td><td>int</td><td>null</td></tr><tr><td>full_date</td><td>date</td><td>null</td></tr><tr><td>date_name</td><td>string</td><td>null</td></tr><tr><td>date_name_us</td><td>string</td><td>null</td></tr><tr><td>date_name_eu</td><td>string</td><td>null</td></tr><tr><td>day_of_week</td><td>int</td><td>null</td></tr><tr><td>day_name_of_week</td><td>string</td><td>null</td></tr><tr><td>day_of_month</td><td>int</td><td>null</td></tr><tr><td>day_of_year</td><td>int</td><td>null</td></tr><tr><td>weekday_weekend</td><td>string</td><td>null</td></tr><tr><td>week_of_year</td><td>int</td><td>null</td></tr><tr><td>month_name</td><td>string</td><td>null</td></tr><tr><td>month_of_year</td><td>int</td><td>null</td></tr><tr><td>is_last_day_of_month</td><td>string</td><td>null</td></tr><tr><td>calendar_quarter</td><td>int</td><td>null</td></tr><tr><td>calendar_year</td><td>int</td><td>null</td></tr><tr><td>calendar_year_month</td><td>string</td><td>null</td></tr><tr><td>calendar_year_qtr</td><td>string</td><td>null</td></tr><tr><td>fiscal_month_of_year</td><td>int</td><td>null</td></tr><tr><td>fiscal_quarter</td><td>int</td><td>null</td></tr><tr><td>fiscal_year</td><td>int</td><td>null</td></tr><tr><td>fiscal_year_month</td><td>string</td><td>null</td></tr><tr><td>fiscal_year_qtr</td><td>string</td><td>null</td></tr><tr><td></td><td></td><td></td></tr><tr><td># Detailed Table Information</td><td></td><td></td></tr><tr><td>Catalog</td><td>spark_catalog</td><td></td></tr><tr><td>Database</td><td>northwind_dlh</td><td></td></tr><tr><td>Table</td><td>dim_date</td><td></td></tr><tr><td>Type</td><td>EXTERNAL</td><td></td></tr><tr><td>Comment</td><td>Date Dimension Table</td><td></td></tr><tr><td>Location</td><td>dbfs:/FileStore/ds2002-lab06/northwind_dlh/dim_date</td><td></td></tr><tr><td>Provider</td><td>delta</td><td></td></tr><tr><td>Owner</td><td>root</td><td></td></tr><tr><td>Table Properties</td><td>[delta.minReaderVersion=1,delta.minWriterVersion=2]</td><td></td></tr></tbody></table></div>"
      ]
     },
     "metadata": {
      "application/vnd.databricks.v1+output": {
       "addedWidgets": {},
       "aggData": [],
       "aggError": "",
       "aggOverflow": false,
       "aggSchema": [],
       "aggSeriesLimitReached": false,
       "aggType": "",
       "arguments": {},
       "columnCustomDisplayInfos": {},
       "data": [
        [
         "date_key",
         "int",
         null
        ],
        [
         "full_date",
         "date",
         null
        ],
        [
         "date_name",
         "string",
         null
        ],
        [
         "date_name_us",
         "string",
         null
        ],
        [
         "date_name_eu",
         "string",
         null
        ],
        [
         "day_of_week",
         "int",
         null
        ],
        [
         "day_name_of_week",
         "string",
         null
        ],
        [
         "day_of_month",
         "int",
         null
        ],
        [
         "day_of_year",
         "int",
         null
        ],
        [
         "weekday_weekend",
         "string",
         null
        ],
        [
         "week_of_year",
         "int",
         null
        ],
        [
         "month_name",
         "string",
         null
        ],
        [
         "month_of_year",
         "int",
         null
        ],
        [
         "is_last_day_of_month",
         "string",
         null
        ],
        [
         "calendar_quarter",
         "int",
         null
        ],
        [
         "calendar_year",
         "int",
         null
        ],
        [
         "calendar_year_month",
         "string",
         null
        ],
        [
         "calendar_year_qtr",
         "string",
         null
        ],
        [
         "fiscal_month_of_year",
         "int",
         null
        ],
        [
         "fiscal_quarter",
         "int",
         null
        ],
        [
         "fiscal_year",
         "int",
         null
        ],
        [
         "fiscal_year_month",
         "string",
         null
        ],
        [
         "fiscal_year_qtr",
         "string",
         null
        ],
        [
         "",
         "",
         ""
        ],
        [
         "# Detailed Table Information",
         "",
         ""
        ],
        [
         "Catalog",
         "spark_catalog",
         ""
        ],
        [
         "Database",
         "northwind_dlh",
         ""
        ],
        [
         "Table",
         "dim_date",
         ""
        ],
        [
         "Type",
         "EXTERNAL",
         ""
        ],
        [
         "Comment",
         "Date Dimension Table",
         ""
        ],
        [
         "Location",
         "dbfs:/FileStore/ds2002-lab06/northwind_dlh/dim_date",
         ""
        ],
        [
         "Provider",
         "delta",
         ""
        ],
        [
         "Owner",
         "root",
         ""
        ],
        [
         "Table Properties",
         "[delta.minReaderVersion=1,delta.minWriterVersion=2]",
         ""
        ]
       ],
       "datasetInfos": [],
       "dbfsResultPath": null,
       "isJsonSchema": true,
       "metadata": {},
       "overflow": false,
       "plotOptions": {
        "customPlotOptions": {},
        "displayType": "table",
        "pivotAggregation": null,
        "pivotColumns": null,
        "xColumns": null,
        "yColumns": null
       },
       "removedWidgets": [],
       "schema": [
        {
         "metadata": "{\"comment\":\"name of the column\"}",
         "name": "col_name",
         "type": "\"string\""
        },
        {
         "metadata": "{\"comment\":\"data type of the column\"}",
         "name": "data_type",
         "type": "\"string\""
        },
        {
         "metadata": "{\"comment\":\"comment of the column\"}",
         "name": "comment",
         "type": "\"string\""
        }
       ],
       "type": "table"
      }
     },
     "output_type": "display_data"
    }
   ],
   "source": [
    "%sql\n",
    "DESCRIBE EXTENDED northwind_dlh.dim_date;"
   ]
  },
  {
   "cell_type": "code",
   "execution_count": 0,
   "metadata": {
    "application/vnd.databricks.v1+cell": {
     "cellMetadata": {
      "byteLimit": 2048000,
      "implicitDf": true,
      "rowLimit": 10000
     },
     "inputWidgets": {},
     "nuid": "7f395402-1acd-49e7-85e7-a47ff0439522",
     "showTitle": false,
     "title": ""
    }
   },
   "outputs": [
    {
     "output_type": "display_data",
     "data": {
      "text/html": [
       "<style scoped>\n",
       "  .table-result-container {\n",
       "    max-height: 300px;\n",
       "    overflow: auto;\n",
       "  }\n",
       "  table, th, td {\n",
       "    border: 1px solid black;\n",
       "    border-collapse: collapse;\n",
       "  }\n",
       "  th, td {\n",
       "    padding: 5px;\n",
       "  }\n",
       "  th {\n",
       "    text-align: left;\n",
       "  }\n",
       "</style><div class='table-result-container'><table class='table-result'><thead style='background-color: white'><tr><th>date_key</th><th>full_date</th><th>date_name</th><th>date_name_us</th><th>date_name_eu</th><th>day_of_week</th><th>day_name_of_week</th><th>day_of_month</th><th>day_of_year</th><th>weekday_weekend</th><th>week_of_year</th><th>month_name</th><th>month_of_year</th><th>is_last_day_of_month</th><th>calendar_quarter</th><th>calendar_year</th><th>calendar_year_month</th><th>calendar_year_qtr</th><th>fiscal_month_of_year</th><th>fiscal_quarter</th><th>fiscal_year</th><th>fiscal_year_month</th><th>fiscal_year_qtr</th></tr></thead><tbody><tr><td>20000101</td><td>2000-01-01</td><td>2000/01/01</td><td>01/01/2000</td><td>01/01/2000</td><td>7</td><td>Saturday</td><td>1</td><td>1</td><td>Weekend</td><td>52</td><td>January</td><td>1</td><td>N</td><td>1</td><td>2000</td><td>2000-01</td><td>2000Q1</td><td>7</td><td>3</td><td>2000</td><td>2000-07</td><td>2000Q3</td></tr><tr><td>20000102</td><td>2000-01-02</td><td>2000/01/02</td><td>01/02/2000</td><td>02/01/2000</td><td>1</td><td>Sunday</td><td>2</td><td>2</td><td>Weekend</td><td>52</td><td>January</td><td>1</td><td>N</td><td>1</td><td>2000</td><td>2000-01</td><td>2000Q1</td><td>7</td><td>3</td><td>2000</td><td>2000-07</td><td>2000Q3</td></tr><tr><td>20000103</td><td>2000-01-03</td><td>2000/01/03</td><td>01/03/2000</td><td>03/01/2000</td><td>2</td><td>Monday</td><td>3</td><td>3</td><td>Weekday</td><td>1</td><td>January</td><td>1</td><td>N</td><td>1</td><td>2000</td><td>2000-01</td><td>2000Q1</td><td>7</td><td>3</td><td>2000</td><td>2000-07</td><td>2000Q3</td></tr><tr><td>20000104</td><td>2000-01-04</td><td>2000/01/04</td><td>01/04/2000</td><td>04/01/2000</td><td>3</td><td>Tuesday</td><td>4</td><td>4</td><td>Weekday</td><td>1</td><td>January</td><td>1</td><td>N</td><td>1</td><td>2000</td><td>2000-01</td><td>2000Q1</td><td>7</td><td>3</td><td>2000</td><td>2000-07</td><td>2000Q3</td></tr><tr><td>20000105</td><td>2000-01-05</td><td>2000/01/05</td><td>01/05/2000</td><td>05/01/2000</td><td>4</td><td>Wednesday</td><td>5</td><td>5</td><td>Weekday</td><td>1</td><td>January</td><td>1</td><td>N</td><td>1</td><td>2000</td><td>2000-01</td><td>2000Q1</td><td>7</td><td>3</td><td>2000</td><td>2000-07</td><td>2000Q3</td></tr></tbody></table></div>"
      ]
     },
     "metadata": {
      "application/vnd.databricks.v1+output": {
       "addedWidgets": {},
       "aggData": [],
       "aggError": "",
       "aggOverflow": false,
       "aggSchema": [],
       "aggSeriesLimitReached": false,
       "aggType": "",
       "arguments": {},
       "columnCustomDisplayInfos": {},
       "data": [
        [
         20000101,
         "2000-01-01",
         "2000/01/01",
         "01/01/2000",
         "01/01/2000",
         7,
         "Saturday",
         1,
         1,
         "Weekend",
         52,
         "January",
         1,
         "N",
         1,
         2000,
         "2000-01",
         "2000Q1",
         7,
         3,
         2000,
         "2000-07",
         "2000Q3"
        ],
        [
         20000102,
         "2000-01-02",
         "2000/01/02",
         "01/02/2000",
         "02/01/2000",
         1,
         "Sunday",
         2,
         2,
         "Weekend",
         52,
         "January",
         1,
         "N",
         1,
         2000,
         "2000-01",
         "2000Q1",
         7,
         3,
         2000,
         "2000-07",
         "2000Q3"
        ],
        [
         20000103,
         "2000-01-03",
         "2000/01/03",
         "01/03/2000",
         "03/01/2000",
         2,
         "Monday",
         3,
         3,
         "Weekday",
         1,
         "January",
         1,
         "N",
         1,
         2000,
         "2000-01",
         "2000Q1",
         7,
         3,
         2000,
         "2000-07",
         "2000Q3"
        ],
        [
         20000104,
         "2000-01-04",
         "2000/01/04",
         "01/04/2000",
         "04/01/2000",
         3,
         "Tuesday",
         4,
         4,
         "Weekday",
         1,
         "January",
         1,
         "N",
         1,
         2000,
         "2000-01",
         "2000Q1",
         7,
         3,
         2000,
         "2000-07",
         "2000Q3"
        ],
        [
         20000105,
         "2000-01-05",
         "2000/01/05",
         "01/05/2000",
         "05/01/2000",
         4,
         "Wednesday",
         5,
         5,
         "Weekday",
         1,
         "January",
         1,
         "N",
         1,
         2000,
         "2000-01",
         "2000Q1",
         7,
         3,
         2000,
         "2000-07",
         "2000Q3"
        ]
       ],
       "datasetInfos": [],
       "dbfsResultPath": null,
       "isJsonSchema": true,
       "metadata": {},
       "overflow": false,
       "plotOptions": {
        "customPlotOptions": {},
        "displayType": "table",
        "pivotAggregation": null,
        "pivotColumns": null,
        "xColumns": null,
        "yColumns": null
       },
       "removedWidgets": [],
       "schema": [
        {
         "metadata": "{\"scale\":0}",
         "name": "date_key",
         "type": "\"integer\""
        },
        {
         "metadata": "{\"scale\":0}",
         "name": "full_date",
         "type": "\"date\""
        },
        {
         "metadata": "{\"scale\":0}",
         "name": "date_name",
         "type": "\"string\""
        },
        {
         "metadata": "{\"scale\":0}",
         "name": "date_name_us",
         "type": "\"string\""
        },
        {
         "metadata": "{\"scale\":0}",
         "name": "date_name_eu",
         "type": "\"string\""
        },
        {
         "metadata": "{\"scale\":0}",
         "name": "day_of_week",
         "type": "\"integer\""
        },
        {
         "metadata": "{\"scale\":0}",
         "name": "day_name_of_week",
         "type": "\"string\""
        },
        {
         "metadata": "{\"scale\":0}",
         "name": "day_of_month",
         "type": "\"integer\""
        },
        {
         "metadata": "{\"scale\":0}",
         "name": "day_of_year",
         "type": "\"integer\""
        },
        {
         "metadata": "{\"scale\":0}",
         "name": "weekday_weekend",
         "type": "\"string\""
        },
        {
         "metadata": "{\"scale\":0}",
         "name": "week_of_year",
         "type": "\"integer\""
        },
        {
         "metadata": "{\"scale\":0}",
         "name": "month_name",
         "type": "\"string\""
        },
        {
         "metadata": "{\"scale\":0}",
         "name": "month_of_year",
         "type": "\"integer\""
        },
        {
         "metadata": "{\"scale\":0}",
         "name": "is_last_day_of_month",
         "type": "\"string\""
        },
        {
         "metadata": "{\"scale\":0}",
         "name": "calendar_quarter",
         "type": "\"integer\""
        },
        {
         "metadata": "{\"scale\":0}",
         "name": "calendar_year",
         "type": "\"integer\""
        },
        {
         "metadata": "{\"scale\":0}",
         "name": "calendar_year_month",
         "type": "\"string\""
        },
        {
         "metadata": "{\"scale\":0}",
         "name": "calendar_year_qtr",
         "type": "\"string\""
        },
        {
         "metadata": "{\"scale\":0}",
         "name": "fiscal_month_of_year",
         "type": "\"integer\""
        },
        {
         "metadata": "{\"scale\":0}",
         "name": "fiscal_quarter",
         "type": "\"integer\""
        },
        {
         "metadata": "{\"scale\":0}",
         "name": "fiscal_year",
         "type": "\"integer\""
        },
        {
         "metadata": "{\"scale\":0}",
         "name": "fiscal_year_month",
         "type": "\"string\""
        },
        {
         "metadata": "{\"scale\":0}",
         "name": "fiscal_year_qtr",
         "type": "\"string\""
        }
       ],
       "type": "table"
      }
     },
     "output_type": "display_data"
    }
   ],
   "source": [
    "%sql\n",
    "SELECT * FROM northwind_dlh.dim_date LIMIT 5"
   ]
  },
  {
   "cell_type": "markdown",
   "metadata": {
    "application/vnd.databricks.v1+cell": {
     "cellMetadata": {
      "byteLimit": 2048000,
      "rowLimit": 10000
     },
     "inputWidgets": {},
     "nuid": "c15f580a-989b-4a6a-bf5c-e50d3a8d3885",
     "showTitle": false,
     "title": ""
    }
   },
   "source": [
    "##### 1.3. Create a New Table that Sources Product Dimension Data from an Azure MySQL database."
   ]
  },
  {
   "cell_type": "code",
   "execution_count": 0,
   "metadata": {
    "application/vnd.databricks.v1+cell": {
     "cellMetadata": {
      "byteLimit": 2048000,
      "implicitDf": true,
      "rowLimit": 10000
     },
     "inputWidgets": {},
     "nuid": "7bb46df0-4476-4cda-86a1-f4cf614113fa",
     "showTitle": false,
     "title": ""
    }
   },
   "outputs": [
    {
     "output_type": "display_data",
     "data": {
      "text/html": [
       "<style scoped>\n",
       "  .table-result-container {\n",
       "    max-height: 300px;\n",
       "    overflow: auto;\n",
       "  }\n",
       "  table, th, td {\n",
       "    border: 1px solid black;\n",
       "    border-collapse: collapse;\n",
       "  }\n",
       "  th, td {\n",
       "    padding: 5px;\n",
       "  }\n",
       "  th {\n",
       "    text-align: left;\n",
       "  }\n",
       "</style><div class='table-result-container'><table class='table-result'><thead style='background-color: white'><tr></tr></thead><tbody></tbody></table></div>"
      ]
     },
     "metadata": {
      "application/vnd.databricks.v1+output": {
       "addedWidgets": {},
       "aggData": [],
       "aggError": "",
       "aggOverflow": false,
       "aggSchema": [],
       "aggSeriesLimitReached": false,
       "aggType": "",
       "arguments": {},
       "columnCustomDisplayInfos": {},
       "data": [],
       "datasetInfos": [],
       "dbfsResultPath": null,
       "isJsonSchema": true,
       "metadata": {},
       "overflow": false,
       "plotOptions": {
        "customPlotOptions": {},
        "displayType": "table",
        "pivotAggregation": null,
        "pivotColumns": null,
        "xColumns": null,
        "yColumns": null
       },
       "removedWidgets": [],
       "schema": [],
       "type": "table"
      }
     },
     "output_type": "display_data"
    }
   ],
   "source": [
    "%sql\n",
    "-- Create a Temporary View named \"view_product\" that extracts data from your MySQL Northwind database.\n",
    "CREATE OR REPLACE TEMPORARY VIEW view_product\n",
    "USING org.apache.spark.sql.jdbc\n",
    "OPTIONS (\n",
    "  url \"jdbc:mysql://yvf7ua-mysql.mysql.database.azure.com:3306/northwind_dw2\",\n",
    "  dbtable \"dim_products\",\n",
    "  user \"yvf7ua\",\n",
    "  password \"Passw0rd123\"\n",
    ")"
   ]
  },
  {
   "cell_type": "code",
   "execution_count": 0,
   "metadata": {
    "application/vnd.databricks.v1+cell": {
     "cellMetadata": {
      "byteLimit": 2048000,
      "implicitDf": true,
      "rowLimit": 10000
     },
     "inputWidgets": {},
     "nuid": "23d0585b-87f4-4f85-affa-3637c5e073f5",
     "showTitle": false,
     "title": ""
    }
   },
   "outputs": [
    {
     "output_type": "display_data",
     "data": {
      "text/html": [
       "<style scoped>\n",
       "  .table-result-container {\n",
       "    max-height: 300px;\n",
       "    overflow: auto;\n",
       "  }\n",
       "  table, th, td {\n",
       "    border: 1px solid black;\n",
       "    border-collapse: collapse;\n",
       "  }\n",
       "  th, td {\n",
       "    padding: 5px;\n",
       "  }\n",
       "  th {\n",
       "    text-align: left;\n",
       "  }\n",
       "</style><div class='table-result-container'><table class='table-result'><thead style='background-color: white'><tr><th>num_affected_rows</th><th>num_inserted_rows</th></tr></thead><tbody></tbody></table></div>"
      ]
     },
     "metadata": {
      "application/vnd.databricks.v1+output": {
       "addedWidgets": {},
       "aggData": [],
       "aggError": "",
       "aggOverflow": false,
       "aggSchema": [],
       "aggSeriesLimitReached": false,
       "aggType": "",
       "arguments": {},
       "columnCustomDisplayInfos": {},
       "data": [],
       "datasetInfos": [],
       "dbfsResultPath": null,
       "isJsonSchema": true,
       "metadata": {},
       "overflow": false,
       "plotOptions": {
        "customPlotOptions": {},
        "displayType": "table",
        "pivotAggregation": null,
        "pivotColumns": null,
        "xColumns": null,
        "yColumns": null
       },
       "removedWidgets": [],
       "schema": [
        {
         "metadata": "{}",
         "name": "num_affected_rows",
         "type": "\"long\""
        },
        {
         "metadata": "{}",
         "name": "num_inserted_rows",
         "type": "\"long\""
        }
       ],
       "type": "table"
      }
     },
     "output_type": "display_data"
    }
   ],
   "source": [
    "%sql\n",
    "USE DATABASE northwind_dlh;\n",
    "-- Create a new table named \"northwind_dlh.dim_product\" using data from the view named \"view_product\"\n",
    "CREATE OR REPLACE TABLE northwind_dlh.dim_product\n",
    "COMMENT \"Product Dimension Table\"\n",
    "LOCATION \"dbfs:/FileStore/ds2002-lab06/northwind_dlh/dim_products\"\n",
    "AS SELECT * FROM view_product"
   ]
  },
  {
   "cell_type": "code",
   "execution_count": 0,
   "metadata": {
    "application/vnd.databricks.v1+cell": {
     "cellMetadata": {
      "byteLimit": 2048000,
      "implicitDf": true,
      "rowLimit": 10000
     },
     "inputWidgets": {},
     "nuid": "f6acafaa-98f3-4b1d-9e14-3466c82c1e6a",
     "showTitle": false,
     "title": ""
    }
   },
   "outputs": [
    {
     "output_type": "display_data",
     "data": {
      "text/html": [
       "<style scoped>\n",
       "  .table-result-container {\n",
       "    max-height: 300px;\n",
       "    overflow: auto;\n",
       "  }\n",
       "  table, th, td {\n",
       "    border: 1px solid black;\n",
       "    border-collapse: collapse;\n",
       "  }\n",
       "  th, td {\n",
       "    padding: 5px;\n",
       "  }\n",
       "  th {\n",
       "    text-align: left;\n",
       "  }\n",
       "</style><div class='table-result-container'><table class='table-result'><thead style='background-color: white'><tr><th>col_name</th><th>data_type</th><th>comment</th></tr></thead><tbody><tr><td>product_key</td><td>int</td><td>null</td></tr><tr><td>product_code</td><td>string</td><td>null</td></tr><tr><td>product_name</td><td>string</td><td>null</td></tr><tr><td>standard_cost</td><td>decimal(19,4)</td><td>null</td></tr><tr><td>list_price</td><td>decimal(19,4)</td><td>null</td></tr><tr><td>reorder_level</td><td>int</td><td>null</td></tr><tr><td>target_level</td><td>int</td><td>null</td></tr><tr><td>quantity_per_unit</td><td>string</td><td>null</td></tr><tr><td>discontinued</td><td>boolean</td><td>null</td></tr><tr><td>minimum_reorder_quantity</td><td>int</td><td>null</td></tr><tr><td>category</td><td>string</td><td>null</td></tr><tr><td></td><td></td><td></td></tr><tr><td># Detailed Table Information</td><td></td><td></td></tr><tr><td>Catalog</td><td>spark_catalog</td><td></td></tr><tr><td>Database</td><td>northwind_dlh</td><td></td></tr><tr><td>Table</td><td>dim_product</td><td></td></tr><tr><td>Type</td><td>EXTERNAL</td><td></td></tr><tr><td>Comment</td><td>Product Dimension Table</td><td></td></tr><tr><td>Location</td><td>dbfs:/FileStore/ds2002-lab06/northwind_dlh/dim_products</td><td></td></tr><tr><td>Provider</td><td>delta</td><td></td></tr><tr><td>Owner</td><td>root</td><td></td></tr><tr><td>Table Properties</td><td>[delta.minReaderVersion=1,delta.minWriterVersion=2]</td><td></td></tr></tbody></table></div>"
      ]
     },
     "metadata": {
      "application/vnd.databricks.v1+output": {
       "addedWidgets": {},
       "aggData": [],
       "aggError": "",
       "aggOverflow": false,
       "aggSchema": [],
       "aggSeriesLimitReached": false,
       "aggType": "",
       "arguments": {},
       "columnCustomDisplayInfos": {},
       "data": [
        [
         "product_key",
         "int",
         null
        ],
        [
         "product_code",
         "string",
         null
        ],
        [
         "product_name",
         "string",
         null
        ],
        [
         "standard_cost",
         "decimal(19,4)",
         null
        ],
        [
         "list_price",
         "decimal(19,4)",
         null
        ],
        [
         "reorder_level",
         "int",
         null
        ],
        [
         "target_level",
         "int",
         null
        ],
        [
         "quantity_per_unit",
         "string",
         null
        ],
        [
         "discontinued",
         "boolean",
         null
        ],
        [
         "minimum_reorder_quantity",
         "int",
         null
        ],
        [
         "category",
         "string",
         null
        ],
        [
         "",
         "",
         ""
        ],
        [
         "# Detailed Table Information",
         "",
         ""
        ],
        [
         "Catalog",
         "spark_catalog",
         ""
        ],
        [
         "Database",
         "northwind_dlh",
         ""
        ],
        [
         "Table",
         "dim_product",
         ""
        ],
        [
         "Type",
         "EXTERNAL",
         ""
        ],
        [
         "Comment",
         "Product Dimension Table",
         ""
        ],
        [
         "Location",
         "dbfs:/FileStore/ds2002-lab06/northwind_dlh/dim_products",
         ""
        ],
        [
         "Provider",
         "delta",
         ""
        ],
        [
         "Owner",
         "root",
         ""
        ],
        [
         "Table Properties",
         "[delta.minReaderVersion=1,delta.minWriterVersion=2]",
         ""
        ]
       ],
       "datasetInfos": [],
       "dbfsResultPath": null,
       "isJsonSchema": true,
       "metadata": {},
       "overflow": false,
       "plotOptions": {
        "customPlotOptions": {},
        "displayType": "table",
        "pivotAggregation": null,
        "pivotColumns": null,
        "xColumns": null,
        "yColumns": null
       },
       "removedWidgets": [],
       "schema": [
        {
         "metadata": "{\"comment\":\"name of the column\"}",
         "name": "col_name",
         "type": "\"string\""
        },
        {
         "metadata": "{\"comment\":\"data type of the column\"}",
         "name": "data_type",
         "type": "\"string\""
        },
        {
         "metadata": "{\"comment\":\"comment of the column\"}",
         "name": "comment",
         "type": "\"string\""
        }
       ],
       "type": "table"
      }
     },
     "output_type": "display_data"
    }
   ],
   "source": [
    "%sql\n",
    "DESCRIBE EXTENDED northwind_dlh.dim_product;"
   ]
  },
  {
   "cell_type": "code",
   "execution_count": 0,
   "metadata": {
    "application/vnd.databricks.v1+cell": {
     "cellMetadata": {
      "byteLimit": 2048000,
      "implicitDf": true,
      "rowLimit": 10000
     },
     "inputWidgets": {},
     "nuid": "fc516608-0ca2-4c2f-b390-e56aca76b87d",
     "showTitle": false,
     "title": ""
    }
   },
   "outputs": [
    {
     "output_type": "display_data",
     "data": {
      "text/html": [
       "<style scoped>\n",
       "  .table-result-container {\n",
       "    max-height: 300px;\n",
       "    overflow: auto;\n",
       "  }\n",
       "  table, th, td {\n",
       "    border: 1px solid black;\n",
       "    border-collapse: collapse;\n",
       "  }\n",
       "  th, td {\n",
       "    padding: 5px;\n",
       "  }\n",
       "  th {\n",
       "    text-align: left;\n",
       "  }\n",
       "</style><div class='table-result-container'><table class='table-result'><thead style='background-color: white'><tr><th>product_key</th><th>product_code</th><th>product_name</th><th>standard_cost</th><th>list_price</th><th>reorder_level</th><th>target_level</th><th>quantity_per_unit</th><th>discontinued</th><th>minimum_reorder_quantity</th><th>category</th></tr></thead><tbody><tr><td>1</td><td>NWTB-1</td><td>Northwind Traders Chai</td><td>13.5000</td><td>18.0000</td><td>10</td><td>40</td><td>10 boxes x 20 bags</td><td>false</td><td>10</td><td>Beverages</td></tr><tr><td>3</td><td>NWTCO-3</td><td>Northwind Traders Syrup</td><td>7.5000</td><td>10.0000</td><td>25</td><td>100</td><td>12 - 550 ml bottles</td><td>false</td><td>25</td><td>Condiments</td></tr><tr><td>4</td><td>NWTCO-4</td><td>Northwind Traders Cajun Seasoning</td><td>16.5000</td><td>22.0000</td><td>10</td><td>40</td><td>48 - 6 oz jars</td><td>false</td><td>10</td><td>Condiments</td></tr><tr><td>5</td><td>NWTO-5</td><td>Northwind Traders Olive Oil</td><td>16.0125</td><td>21.3500</td><td>10</td><td>40</td><td>36 boxes</td><td>false</td><td>10</td><td>Oil</td></tr><tr><td>6</td><td>NWTJP-6</td><td>Northwind Traders Boysenberry Spread</td><td>18.7500</td><td>25.0000</td><td>25</td><td>100</td><td>12 - 8 oz jars</td><td>false</td><td>25</td><td>Jams, Preserves</td></tr></tbody></table></div>"
      ]
     },
     "metadata": {
      "application/vnd.databricks.v1+output": {
       "addedWidgets": {},
       "aggData": [],
       "aggError": "",
       "aggOverflow": false,
       "aggSchema": [],
       "aggSeriesLimitReached": false,
       "aggType": "",
       "arguments": {},
       "columnCustomDisplayInfos": {},
       "data": [
        [
         1,
         "NWTB-1",
         "Northwind Traders Chai",
         "13.5000",
         "18.0000",
         10,
         40,
         "10 boxes x 20 bags",
         false,
         10,
         "Beverages"
        ],
        [
         3,
         "NWTCO-3",
         "Northwind Traders Syrup",
         "7.5000",
         "10.0000",
         25,
         100,
         "12 - 550 ml bottles",
         false,
         25,
         "Condiments"
        ],
        [
         4,
         "NWTCO-4",
         "Northwind Traders Cajun Seasoning",
         "16.5000",
         "22.0000",
         10,
         40,
         "48 - 6 oz jars",
         false,
         10,
         "Condiments"
        ],
        [
         5,
         "NWTO-5",
         "Northwind Traders Olive Oil",
         "16.0125",
         "21.3500",
         10,
         40,
         "36 boxes",
         false,
         10,
         "Oil"
        ],
        [
         6,
         "NWTJP-6",
         "Northwind Traders Boysenberry Spread",
         "18.7500",
         "25.0000",
         25,
         100,
         "12 - 8 oz jars",
         false,
         25,
         "Jams, Preserves"
        ]
       ],
       "datasetInfos": [],
       "dbfsResultPath": null,
       "isJsonSchema": true,
       "metadata": {},
       "overflow": false,
       "plotOptions": {
        "customPlotOptions": {},
        "displayType": "table",
        "pivotAggregation": null,
        "pivotColumns": null,
        "xColumns": null,
        "yColumns": null
       },
       "removedWidgets": [],
       "schema": [
        {
         "metadata": "{\"scale\":0}",
         "name": "product_key",
         "type": "\"integer\""
        },
        {
         "metadata": "{\"scale\":0}",
         "name": "product_code",
         "type": "\"string\""
        },
        {
         "metadata": "{\"scale\":0}",
         "name": "product_name",
         "type": "\"string\""
        },
        {
         "metadata": "{\"scale\":4}",
         "name": "standard_cost",
         "type": "\"decimal(19,4)\""
        },
        {
         "metadata": "{\"scale\":4}",
         "name": "list_price",
         "type": "\"decimal(19,4)\""
        },
        {
         "metadata": "{\"scale\":0}",
         "name": "reorder_level",
         "type": "\"integer\""
        },
        {
         "metadata": "{\"scale\":0}",
         "name": "target_level",
         "type": "\"integer\""
        },
        {
         "metadata": "{\"scale\":0}",
         "name": "quantity_per_unit",
         "type": "\"string\""
        },
        {
         "metadata": "{\"scale\":0}",
         "name": "discontinued",
         "type": "\"boolean\""
        },
        {
         "metadata": "{\"scale\":0}",
         "name": "minimum_reorder_quantity",
         "type": "\"integer\""
        },
        {
         "metadata": "{\"scale\":0}",
         "name": "category",
         "type": "\"string\""
        }
       ],
       "type": "table"
      }
     },
     "output_type": "display_data"
    }
   ],
   "source": [
    "%sql\n",
    "SELECT * FROM northwind_dlh.dim_product LIMIT 5"
   ]
  },
  {
   "cell_type": "markdown",
   "metadata": {
    "application/vnd.databricks.v1+cell": {
     "cellMetadata": {
      "byteLimit": 2048000,
      "rowLimit": 10000
     },
     "inputWidgets": {},
     "nuid": "5763da8c-b2df-4cfa-83e6-0e05503ddce0",
     "showTitle": false,
     "title": ""
    }
   },
   "source": [
    "#### 2.0. Fetch Reference Data from a MongoDB Atlas Database\n",
    "##### 2.1. View the Data Files on the Databricks File System"
   ]
  },
  {
   "cell_type": "code",
   "execution_count": 0,
   "metadata": {
    "application/vnd.databricks.v1+cell": {
     "cellMetadata": {
      "byteLimit": 2048000,
      "rowLimit": 10000
     },
     "inputWidgets": {},
     "nuid": "fcd0ce73-5fc9-48b1-9ee8-0ffaf402407f",
     "showTitle": false,
     "title": ""
    }
   },
   "outputs": [
    {
     "output_type": "display_data",
     "data": {
      "text/html": [
       "<style scoped>\n",
       "  .table-result-container {\n",
       "    max-height: 300px;\n",
       "    overflow: auto;\n",
       "  }\n",
       "  table, th, td {\n",
       "    border: 1px solid black;\n",
       "    border-collapse: collapse;\n",
       "  }\n",
       "  th, td {\n",
       "    padding: 5px;\n",
       "  }\n",
       "  th {\n",
       "    text-align: left;\n",
       "  }\n",
       "</style><div class='table-result-container'><table class='table-result'><thead style='background-color: white'><tr><th>path</th><th>name</th><th>size</th><th>modificationTime</th></tr></thead><tbody><tr><td>dbfs:/FileStore/ds2002-lab06/source_data/batch/Northwind_DimCustomers.json</td><td>Northwind_DimCustomers.json</td><td>10476</td><td>1682297044000</td></tr><tr><td>dbfs:/FileStore/ds2002-lab06/source_data/batch/Northwind_DimEmployees.csv</td><td>Northwind_DimEmployees.csv</td><td>2164</td><td>1682297043000</td></tr><tr><td>dbfs:/FileStore/ds2002-lab06/source_data/batch/Northwind_DimInvoices.json</td><td>Northwind_DimInvoices.json</td><td>6263</td><td>1682297043000</td></tr><tr><td>dbfs:/FileStore/ds2002-lab06/source_data/batch/Northwind_DimShippers.csv</td><td>Northwind_DimShippers.csv</td><td>262</td><td>1682297044000</td></tr><tr><td>dbfs:/FileStore/ds2002-lab06/source_data/batch/Northwind_DimSuppliers.json</td><td>Northwind_DimSuppliers.json</td><td>1480</td><td>1682297043000</td></tr></tbody></table></div>"
      ]
     },
     "metadata": {
      "application/vnd.databricks.v1+output": {
       "addedWidgets": {},
       "aggData": [],
       "aggError": "",
       "aggOverflow": false,
       "aggSchema": [],
       "aggSeriesLimitReached": false,
       "aggType": "",
       "arguments": {},
       "columnCustomDisplayInfos": {},
       "data": [
        [
         "dbfs:/FileStore/ds2002-lab06/source_data/batch/Northwind_DimCustomers.json",
         "Northwind_DimCustomers.json",
         10476,
         1682297044000
        ],
        [
         "dbfs:/FileStore/ds2002-lab06/source_data/batch/Northwind_DimEmployees.csv",
         "Northwind_DimEmployees.csv",
         2164,
         1682297043000
        ],
        [
         "dbfs:/FileStore/ds2002-lab06/source_data/batch/Northwind_DimInvoices.json",
         "Northwind_DimInvoices.json",
         6263,
         1682297043000
        ],
        [
         "dbfs:/FileStore/ds2002-lab06/source_data/batch/Northwind_DimShippers.csv",
         "Northwind_DimShippers.csv",
         262,
         1682297044000
        ],
        [
         "dbfs:/FileStore/ds2002-lab06/source_data/batch/Northwind_DimSuppliers.json",
         "Northwind_DimSuppliers.json",
         1480,
         1682297043000
        ]
       ],
       "datasetInfos": [],
       "dbfsResultPath": null,
       "isJsonSchema": true,
       "metadata": {},
       "overflow": false,
       "plotOptions": {
        "customPlotOptions": {},
        "displayType": "table",
        "pivotAggregation": null,
        "pivotColumns": null,
        "xColumns": null,
        "yColumns": null
       },
       "removedWidgets": [],
       "schema": [
        {
         "metadata": "{}",
         "name": "path",
         "type": "\"string\""
        },
        {
         "metadata": "{}",
         "name": "name",
         "type": "\"string\""
        },
        {
         "metadata": "{}",
         "name": "size",
         "type": "\"long\""
        },
        {
         "metadata": "{}",
         "name": "modificationTime",
         "type": "\"long\""
        }
       ],
       "type": "table"
      }
     },
     "output_type": "display_data"
    }
   ],
   "source": [
    "display(dbutils.fs.ls(batch_dir))"
   ]
  },
  {
   "cell_type": "markdown",
   "metadata": {
    "application/vnd.databricks.v1+cell": {
     "cellMetadata": {
      "byteLimit": 2048000,
      "rowLimit": 10000
     },
     "inputWidgets": {},
     "nuid": "0e943953-1c04-43a3-b117-01980bfefbf9",
     "showTitle": false,
     "title": ""
    }
   },
   "source": [
    "##### 2.2. Create a New MongoDB Database, and Load JSON Data Into a New MongoDB Collection\n",
    "**NOTE:** The following cell **can** be run more than once because the **set_mongo_collection()** function **is** idempotent."
   ]
  },
  {
   "cell_type": "code",
   "execution_count": 0,
   "metadata": {
    "application/vnd.databricks.v1+cell": {
     "cellMetadata": {
      "byteLimit": 2048000,
      "rowLimit": 10000
     },
     "inputWidgets": {},
     "nuid": "12764988-6562-4070-af68-697ca403bfe3",
     "showTitle": false,
     "title": ""
    }
   },
   "outputs": [
    {
     "output_type": "stream",
     "name": "stdout",
     "output_type": "stream",
     "text": [
      "Out[15]: <pymongo.results.InsertManyResult at 0x7f0db87d6440>"
     ]
    }
   ],
   "source": [
    "source_dir = '/dbfs/FileStore/ds2002-lab06/source_data/batch'\n",
    "json_files = {\"customers\" : 'Northwind_DimCustomers.json', \"suppliers\" : 'Northwind_DimSuppliers.json', \"invoices\" : 'Northwind_DimInvoices.json'}\n",
    "\n",
    "set_mongo_collection(atlas_user_name, atlas_password, atlas_cluster_name, atlas_database_name, source_dir, json_files) "
   ]
  },
  {
   "cell_type": "markdown",
   "metadata": {
    "application/vnd.databricks.v1+cell": {
     "cellMetadata": {
      "byteLimit": 2048000,
      "rowLimit": 10000
     },
     "inputWidgets": {},
     "nuid": "675d2e83-b51d-48ef-937d-f8beacb86fb6",
     "showTitle": false,
     "title": ""
    }
   },
   "source": [
    "##### 2.3.1. Fetch Customer Dimension Data from the New MongoDB Collection"
   ]
  },
  {
   "cell_type": "code",
   "execution_count": 0,
   "metadata": {
    "application/vnd.databricks.v1+cell": {
     "cellMetadata": {
      "byteLimit": 2048000,
      "rowLimit": 10000
     },
     "inputWidgets": {},
     "nuid": "c5029015-be65-49ed-b2e7-eb60d22013ca",
     "showTitle": false,
     "title": ""
    }
   },
   "outputs": [
    {
     "output_type": "display_data",
     "data": {
      "text/html": [
       "<style scoped>\n",
       "  .table-result-container {\n",
       "    max-height: 300px;\n",
       "    overflow: auto;\n",
       "  }\n",
       "  table, th, td {\n",
       "    border: 1px solid black;\n",
       "    border-collapse: collapse;\n",
       "  }\n",
       "  th, td {\n",
       "    padding: 5px;\n",
       "  }\n",
       "  th {\n",
       "    text-align: left;\n",
       "  }\n",
       "</style><div class='table-result-container'><table class='table-result'><thead style='background-color: white'><tr><th>customer_key</th><th>company</th><th>last_name</th><th>first_name</th><th>job_title</th><th>business_phone</th><th>fax_number</th><th>address</th><th>city</th><th>state_province</th><th>zip_postal_code</th><th>country_region</th></tr></thead><tbody><tr><td>1</td><td>Company A</td><td>Bedecs</td><td>Anna</td><td>Owner</td><td>(123)555-0100</td><td>(123)555-0101</td><td>123 1st Street</td><td>Seattle</td><td>WA</td><td>99999</td><td>USA</td></tr><tr><td>2</td><td>Company B</td><td>Gratacos Solsona</td><td>Antonio</td><td>Owner</td><td>(123)555-0100</td><td>(123)555-0101</td><td>123 2nd Street</td><td>Boston</td><td>MA</td><td>99999</td><td>USA</td></tr><tr><td>3</td><td>Company C</td><td>Axen</td><td>Thomas</td><td>Purchasing Representative</td><td>(123)555-0100</td><td>(123)555-0101</td><td>123 3rd Street</td><td>Los Angelas</td><td>CA</td><td>99999</td><td>USA</td></tr><tr><td>4</td><td>Company D</td><td>Lee</td><td>Christina</td><td>Purchasing Manager</td><td>(123)555-0100</td><td>(123)555-0101</td><td>123 4th Street</td><td>New York</td><td>NY</td><td>99999</td><td>USA</td></tr><tr><td>5</td><td>Company E</td><td>O’Donnell</td><td>Martin</td><td>Owner</td><td>(123)555-0100</td><td>(123)555-0101</td><td>123 5th Street</td><td>Minneapolis</td><td>MN</td><td>99999</td><td>USA</td></tr><tr><td>6</td><td>Company F</td><td>Pérez-Olaeta</td><td>Francisco</td><td>Purchasing Manager</td><td>(123)555-0100</td><td>(123)555-0101</td><td>123 6th Street</td><td>Milwaukee</td><td>WI</td><td>99999</td><td>USA</td></tr><tr><td>7</td><td>Company G</td><td>Xie</td><td>Ming-Yang</td><td>Owner</td><td>(123)555-0100</td><td>(123)555-0101</td><td>123 7th Street</td><td>Boise</td><td>ID</td><td>99999</td><td>USA</td></tr><tr><td>8</td><td>Company H</td><td>Andersen</td><td>Elizabeth</td><td>Purchasing Representative</td><td>(123)555-0100</td><td>(123)555-0101</td><td>123 8th Street</td><td>Portland</td><td>OR</td><td>99999</td><td>USA</td></tr><tr><td>9</td><td>Company I</td><td>Mortensen</td><td>Sven</td><td>Purchasing Manager</td><td>(123)555-0100</td><td>(123)555-0101</td><td>123 9th Street</td><td>Salt Lake City</td><td>UT</td><td>99999</td><td>USA</td></tr><tr><td>10</td><td>Company J</td><td>Wacker</td><td>Roland</td><td>Purchasing Manager</td><td>(123)555-0100</td><td>(123)555-0101</td><td>123 10th Street</td><td>Chicago</td><td>IL</td><td>99999</td><td>USA</td></tr><tr><td>11</td><td>Company K</td><td>Krschne</td><td>Peter</td><td>Purchasing Manager</td><td>(123)555-0100</td><td>(123)555-0101</td><td>123 11th Street</td><td>Miami</td><td>FL</td><td>99999</td><td>USA</td></tr><tr><td>12</td><td>Company L</td><td>Edwards</td><td>John</td><td>Purchasing Manager</td><td>(123)555-0100</td><td>(123)555-0101</td><td>123 12th Street</td><td>Las Vegas</td><td>NV</td><td>99999</td><td>USA</td></tr><tr><td>13</td><td>Company M</td><td>Ludick</td><td>Andre</td><td>Purchasing Representative</td><td>(123)555-0100</td><td>(123)555-0101</td><td>456 13th Street</td><td>Memphis</td><td>TN</td><td>99999</td><td>USA</td></tr><tr><td>14</td><td>Company N</td><td>Grilo</td><td>Carlos</td><td>Purchasing Representative</td><td>(123)555-0100</td><td>(123)555-0101</td><td>456 14th Street</td><td>Denver</td><td>CO</td><td>99999</td><td>USA</td></tr><tr><td>15</td><td>Company O</td><td>Kupkova</td><td>Helena</td><td>Purchasing Manager</td><td>(123)555-0100</td><td>(123)555-0101</td><td>456 15th Street</td><td>Honolulu</td><td>HI</td><td>99999</td><td>USA</td></tr><tr><td>16</td><td>Company P</td><td>Goldschmidt</td><td>Daniel</td><td>Purchasing Representative</td><td>(123)555-0100</td><td>(123)555-0101</td><td>456 16th Street</td><td>San Francisco</td><td>CA</td><td>99999</td><td>USA</td></tr><tr><td>17</td><td>Company Q</td><td>Bagel</td><td>Jean Philippe</td><td>Owner</td><td>(123)555-0100</td><td>(123)555-0101</td><td>456 17th Street</td><td>Seattle</td><td>WA</td><td>99999</td><td>USA</td></tr><tr><td>18</td><td>Company R</td><td>Autier Miconi</td><td>Catherine</td><td>Purchasing Representative</td><td>(123)555-0100</td><td>(123)555-0101</td><td>456 18th Street</td><td>Boston</td><td>MA</td><td>99999</td><td>USA</td></tr><tr><td>19</td><td>Company S</td><td>Eggerer</td><td>Alexander</td><td>Accounting Assistant</td><td>(123)555-0100</td><td>(123)555-0101</td><td>789 19th Street</td><td>Los Angelas</td><td>CA</td><td>99999</td><td>USA</td></tr><tr><td>20</td><td>Company T</td><td>Li</td><td>George</td><td>Purchasing Manager</td><td>(123)555-0100</td><td>(123)555-0101</td><td>789 20th Street</td><td>New York</td><td>NY</td><td>99999</td><td>USA</td></tr><tr><td>21</td><td>Company U</td><td>Tham</td><td>Bernard</td><td>Accounting Manager</td><td>(123)555-0100</td><td>(123)555-0101</td><td>789 21th Street</td><td>Minneapolis</td><td>MN</td><td>99999</td><td>USA</td></tr><tr><td>22</td><td>Company V</td><td>Ramos</td><td>Luciana</td><td>Purchasing Assistant</td><td>(123)555-0100</td><td>(123)555-0101</td><td>789 22th Street</td><td>Milwaukee</td><td>WI</td><td>99999</td><td>USA</td></tr><tr><td>23</td><td>Company W</td><td>Entin</td><td>Michael</td><td>Purchasing Manager</td><td>(123)555-0100</td><td>(123)555-0101</td><td>789 23th Street</td><td>Portland</td><td>OR</td><td>99999</td><td>USA</td></tr><tr><td>24</td><td>Company X</td><td>Hasselberg</td><td>Jonas</td><td>Owner</td><td>(123)555-0100</td><td>(123)555-0101</td><td>789 24th Street</td><td>Salt Lake City</td><td>UT</td><td>99999</td><td>USA</td></tr><tr><td>25</td><td>Company Y</td><td>Rodman</td><td>John</td><td>Purchasing Manager</td><td>(123)555-0100</td><td>(123)555-0101</td><td>789 25th Street</td><td>Chicago</td><td>IL</td><td>99999</td><td>USA</td></tr><tr><td>26</td><td>Company Z</td><td>Liu</td><td>Run</td><td>Accounting Assistant</td><td>(123)555-0100</td><td>(123)555-0101</td><td>789 26th Street</td><td>Miami</td><td>FL</td><td>99999</td><td>USA</td></tr><tr><td>27</td><td>Company AA</td><td>Toh</td><td>Karen</td><td>Purchasing Manager</td><td>(123)555-0100</td><td>(123)555-0101</td><td>789 27th Street</td><td>Las Vegas</td><td>NV</td><td>99999</td><td>USA</td></tr><tr><td>28</td><td>Company BB</td><td>Raghav</td><td>Amritansh</td><td>Purchasing Manager</td><td>(123)555-0100</td><td>(123)555-0101</td><td>789 28th Street</td><td>Memphis</td><td>TN</td><td>99999</td><td>USA</td></tr><tr><td>29</td><td>Company CC</td><td>Lee</td><td>Soo Jung</td><td>Purchasing Manager</td><td>(123)555-0100</td><td>(123)555-0101</td><td>789 29th Street</td><td>Denver</td><td>CO</td><td>99999</td><td>USA</td></tr></tbody></table></div>"
      ]
     },
     "metadata": {
      "application/vnd.databricks.v1+output": {
       "addedWidgets": {},
       "aggData": [],
       "aggError": "",
       "aggOverflow": false,
       "aggSchema": [],
       "aggSeriesLimitReached": false,
       "aggType": "",
       "arguments": {},
       "columnCustomDisplayInfos": {},
       "data": [
        [
         1,
         "Company A",
         "Bedecs",
         "Anna",
         "Owner",
         "(123)555-0100",
         "(123)555-0101",
         "123 1st Street",
         "Seattle",
         "WA",
         "99999",
         "USA"
        ],
        [
         2,
         "Company B",
         "Gratacos Solsona",
         "Antonio",
         "Owner",
         "(123)555-0100",
         "(123)555-0101",
         "123 2nd Street",
         "Boston",
         "MA",
         "99999",
         "USA"
        ],
        [
         3,
         "Company C",
         "Axen",
         "Thomas",
         "Purchasing Representative",
         "(123)555-0100",
         "(123)555-0101",
         "123 3rd Street",
         "Los Angelas",
         "CA",
         "99999",
         "USA"
        ],
        [
         4,
         "Company D",
         "Lee",
         "Christina",
         "Purchasing Manager",
         "(123)555-0100",
         "(123)555-0101",
         "123 4th Street",
         "New York",
         "NY",
         "99999",
         "USA"
        ],
        [
         5,
         "Company E",
         "O’Donnell",
         "Martin",
         "Owner",
         "(123)555-0100",
         "(123)555-0101",
         "123 5th Street",
         "Minneapolis",
         "MN",
         "99999",
         "USA"
        ],
        [
         6,
         "Company F",
         "Pérez-Olaeta",
         "Francisco",
         "Purchasing Manager",
         "(123)555-0100",
         "(123)555-0101",
         "123 6th Street",
         "Milwaukee",
         "WI",
         "99999",
         "USA"
        ],
        [
         7,
         "Company G",
         "Xie",
         "Ming-Yang",
         "Owner",
         "(123)555-0100",
         "(123)555-0101",
         "123 7th Street",
         "Boise",
         "ID",
         "99999",
         "USA"
        ],
        [
         8,
         "Company H",
         "Andersen",
         "Elizabeth",
         "Purchasing Representative",
         "(123)555-0100",
         "(123)555-0101",
         "123 8th Street",
         "Portland",
         "OR",
         "99999",
         "USA"
        ],
        [
         9,
         "Company I",
         "Mortensen",
         "Sven",
         "Purchasing Manager",
         "(123)555-0100",
         "(123)555-0101",
         "123 9th Street",
         "Salt Lake City",
         "UT",
         "99999",
         "USA"
        ],
        [
         10,
         "Company J",
         "Wacker",
         "Roland",
         "Purchasing Manager",
         "(123)555-0100",
         "(123)555-0101",
         "123 10th Street",
         "Chicago",
         "IL",
         "99999",
         "USA"
        ],
        [
         11,
         "Company K",
         "Krschne",
         "Peter",
         "Purchasing Manager",
         "(123)555-0100",
         "(123)555-0101",
         "123 11th Street",
         "Miami",
         "FL",
         "99999",
         "USA"
        ],
        [
         12,
         "Company L",
         "Edwards",
         "John",
         "Purchasing Manager",
         "(123)555-0100",
         "(123)555-0101",
         "123 12th Street",
         "Las Vegas",
         "NV",
         "99999",
         "USA"
        ],
        [
         13,
         "Company M",
         "Ludick",
         "Andre",
         "Purchasing Representative",
         "(123)555-0100",
         "(123)555-0101",
         "456 13th Street",
         "Memphis",
         "TN",
         "99999",
         "USA"
        ],
        [
         14,
         "Company N",
         "Grilo",
         "Carlos",
         "Purchasing Representative",
         "(123)555-0100",
         "(123)555-0101",
         "456 14th Street",
         "Denver",
         "CO",
         "99999",
         "USA"
        ],
        [
         15,
         "Company O",
         "Kupkova",
         "Helena",
         "Purchasing Manager",
         "(123)555-0100",
         "(123)555-0101",
         "456 15th Street",
         "Honolulu",
         "HI",
         "99999",
         "USA"
        ],
        [
         16,
         "Company P",
         "Goldschmidt",
         "Daniel",
         "Purchasing Representative",
         "(123)555-0100",
         "(123)555-0101",
         "456 16th Street",
         "San Francisco",
         "CA",
         "99999",
         "USA"
        ],
        [
         17,
         "Company Q",
         "Bagel",
         "Jean Philippe",
         "Owner",
         "(123)555-0100",
         "(123)555-0101",
         "456 17th Street",
         "Seattle",
         "WA",
         "99999",
         "USA"
        ],
        [
         18,
         "Company R",
         "Autier Miconi",
         "Catherine",
         "Purchasing Representative",
         "(123)555-0100",
         "(123)555-0101",
         "456 18th Street",
         "Boston",
         "MA",
         "99999",
         "USA"
        ],
        [
         19,
         "Company S",
         "Eggerer",
         "Alexander",
         "Accounting Assistant",
         "(123)555-0100",
         "(123)555-0101",
         "789 19th Street",
         "Los Angelas",
         "CA",
         "99999",
         "USA"
        ],
        [
         20,
         "Company T",
         "Li",
         "George",
         "Purchasing Manager",
         "(123)555-0100",
         "(123)555-0101",
         "789 20th Street",
         "New York",
         "NY",
         "99999",
         "USA"
        ],
        [
         21,
         "Company U",
         "Tham",
         "Bernard",
         "Accounting Manager",
         "(123)555-0100",
         "(123)555-0101",
         "789 21th Street",
         "Minneapolis",
         "MN",
         "99999",
         "USA"
        ],
        [
         22,
         "Company V",
         "Ramos",
         "Luciana",
         "Purchasing Assistant",
         "(123)555-0100",
         "(123)555-0101",
         "789 22th Street",
         "Milwaukee",
         "WI",
         "99999",
         "USA"
        ],
        [
         23,
         "Company W",
         "Entin",
         "Michael",
         "Purchasing Manager",
         "(123)555-0100",
         "(123)555-0101",
         "789 23th Street",
         "Portland",
         "OR",
         "99999",
         "USA"
        ],
        [
         24,
         "Company X",
         "Hasselberg",
         "Jonas",
         "Owner",
         "(123)555-0100",
         "(123)555-0101",
         "789 24th Street",
         "Salt Lake City",
         "UT",
         "99999",
         "USA"
        ],
        [
         25,
         "Company Y",
         "Rodman",
         "John",
         "Purchasing Manager",
         "(123)555-0100",
         "(123)555-0101",
         "789 25th Street",
         "Chicago",
         "IL",
         "99999",
         "USA"
        ],
        [
         26,
         "Company Z",
         "Liu",
         "Run",
         "Accounting Assistant",
         "(123)555-0100",
         "(123)555-0101",
         "789 26th Street",
         "Miami",
         "FL",
         "99999",
         "USA"
        ],
        [
         27,
         "Company AA",
         "Toh",
         "Karen",
         "Purchasing Manager",
         "(123)555-0100",
         "(123)555-0101",
         "789 27th Street",
         "Las Vegas",
         "NV",
         "99999",
         "USA"
        ],
        [
         28,
         "Company BB",
         "Raghav",
         "Amritansh",
         "Purchasing Manager",
         "(123)555-0100",
         "(123)555-0101",
         "789 28th Street",
         "Memphis",
         "TN",
         "99999",
         "USA"
        ],
        [
         29,
         "Company CC",
         "Lee",
         "Soo Jung",
         "Purchasing Manager",
         "(123)555-0100",
         "(123)555-0101",
         "789 29th Street",
         "Denver",
         "CO",
         "99999",
         "USA"
        ]
       ],
       "datasetInfos": [
        {
         "name": "df_customer",
         "schema": {
          "fields": [
           {
            "metadata": {},
            "name": "customer_key",
            "nullable": true,
            "type": "integer"
           },
           {
            "metadata": {},
            "name": "company",
            "nullable": true,
            "type": "string"
           },
           {
            "metadata": {},
            "name": "last_name",
            "nullable": true,
            "type": "string"
           },
           {
            "metadata": {},
            "name": "first_name",
            "nullable": true,
            "type": "string"
           },
           {
            "metadata": {},
            "name": "job_title",
            "nullable": true,
            "type": "string"
           },
           {
            "metadata": {},
            "name": "business_phone",
            "nullable": true,
            "type": "string"
           },
           {
            "metadata": {},
            "name": "fax_number",
            "nullable": true,
            "type": "string"
           },
           {
            "metadata": {},
            "name": "address",
            "nullable": true,
            "type": "string"
           },
           {
            "metadata": {},
            "name": "city",
            "nullable": true,
            "type": "string"
           },
           {
            "metadata": {},
            "name": "state_province",
            "nullable": true,
            "type": "string"
           },
           {
            "metadata": {},
            "name": "zip_postal_code",
            "nullable": true,
            "type": "string"
           },
           {
            "metadata": {},
            "name": "country_region",
            "nullable": true,
            "type": "string"
           }
          ],
          "type": "struct"
         },
         "tableIdentifier": null,
         "typeStr": "org.apache.spark.sql.DataFrame"
        }
       ],
       "dbfsResultPath": null,
       "isJsonSchema": true,
       "metadata": {
        "isDbfsCommandResult": false
       },
       "overflow": false,
       "plotOptions": {
        "customPlotOptions": {},
        "displayType": "table",
        "pivotAggregation": null,
        "pivotColumns": null,
        "xColumns": null,
        "yColumns": null
       },
       "removedWidgets": [],
       "schema": [
        {
         "metadata": "{}",
         "name": "customer_key",
         "type": "\"integer\""
        },
        {
         "metadata": "{}",
         "name": "company",
         "type": "\"string\""
        },
        {
         "metadata": "{}",
         "name": "last_name",
         "type": "\"string\""
        },
        {
         "metadata": "{}",
         "name": "first_name",
         "type": "\"string\""
        },
        {
         "metadata": "{}",
         "name": "job_title",
         "type": "\"string\""
        },
        {
         "metadata": "{}",
         "name": "business_phone",
         "type": "\"string\""
        },
        {
         "metadata": "{}",
         "name": "fax_number",
         "type": "\"string\""
        },
        {
         "metadata": "{}",
         "name": "address",
         "type": "\"string\""
        },
        {
         "metadata": "{}",
         "name": "city",
         "type": "\"string\""
        },
        {
         "metadata": "{}",
         "name": "state_province",
         "type": "\"string\""
        },
        {
         "metadata": "{}",
         "name": "zip_postal_code",
         "type": "\"string\""
        },
        {
         "metadata": "{}",
         "name": "country_region",
         "type": "\"string\""
        }
       ],
       "type": "table"
      }
     },
     "output_type": "display_data"
    }
   ],
   "source": [
    "%scala\n",
    "import com.mongodb.spark._\n",
    "\n",
    "val df_customer = spark.read.format(\"com.mongodb.spark.sql.DefaultSource\")\n",
    ".option(\"database\", \"northwind_dw2\").option(\"collection\", \"customers\").load()\n",
    ".select(\"customer_key\",\"company\",\"last_name\",\"first_name\",\"job_title\",\"business_phone\",\"fax_number\",\"address\",\"city\",\"state_province\",\"zip_postal_code\",\"country_region\")\n",
    "\n",
    "display(df_customer)"
   ]
  },
  {
   "cell_type": "code",
   "execution_count": 0,
   "metadata": {
    "application/vnd.databricks.v1+cell": {
     "cellMetadata": {
      "byteLimit": 2048000,
      "rowLimit": 10000
     },
     "inputWidgets": {},
     "nuid": "4d62a4b0-3071-400f-8bbb-5a89f3c91d5c",
     "showTitle": false,
     "title": ""
    }
   },
   "outputs": [
    {
     "output_type": "display_data",
     "data": {
      "text/html": [
       "<style scoped>\n",
       "  .ansiout {\n",
       "    display: block;\n",
       "    unicode-bidi: embed;\n",
       "    white-space: pre-wrap;\n",
       "    word-wrap: break-word;\n",
       "    word-break: break-all;\n",
       "    font-family: \"Source Code Pro\", \"Menlo\", monospace;;\n",
       "    font-size: 13px;\n",
       "    color: #555;\n",
       "    margin-left: 4px;\n",
       "    line-height: 19px;\n",
       "  }\n",
       "</style>\n",
       "<div class=\"ansiout\">root\n",
       "-- customer_key: integer (nullable = true)\n",
       "-- company: string (nullable = true)\n",
       "-- last_name: string (nullable = true)\n",
       "-- first_name: string (nullable = true)\n",
       "-- job_title: string (nullable = true)\n",
       "-- business_phone: string (nullable = true)\n",
       "-- fax_number: string (nullable = true)\n",
       "-- address: string (nullable = true)\n",
       "-- city: string (nullable = true)\n",
       "-- state_province: string (nullable = true)\n",
       "-- zip_postal_code: string (nullable = true)\n",
       "-- country_region: string (nullable = true)\n",
       "\n",
       "</div>"
      ]
     },
     "metadata": {
      "application/vnd.databricks.v1+output": {
       "addedWidgets": {},
       "arguments": {},
       "data": "<div class=\"ansiout\">root\n |-- customer_key: integer (nullable = true)\n |-- company: string (nullable = true)\n |-- last_name: string (nullable = true)\n |-- first_name: string (nullable = true)\n |-- job_title: string (nullable = true)\n |-- business_phone: string (nullable = true)\n |-- fax_number: string (nullable = true)\n |-- address: string (nullable = true)\n |-- city: string (nullable = true)\n |-- state_province: string (nullable = true)\n |-- zip_postal_code: string (nullable = true)\n |-- country_region: string (nullable = true)\n\n</div>",
       "datasetInfos": [],
       "metadata": {
        "isDbfsCommandResult": false
       },
       "removedWidgets": [],
       "type": "html"
      }
     },
     "output_type": "display_data"
    }
   ],
   "source": [
    "%scala\n",
    "df_customer.printSchema()"
   ]
  },
  {
   "cell_type": "markdown",
   "metadata": {
    "application/vnd.databricks.v1+cell": {
     "cellMetadata": {
      "byteLimit": 2048000,
      "rowLimit": 10000
     },
     "inputWidgets": {},
     "nuid": "179f0875-98bd-4988-bfa5-af82d0181eb6",
     "showTitle": false,
     "title": ""
    }
   },
   "source": [
    "##### 2.3.2. Use the Spark DataFrame to Create a New Customer Dimension Table in the Databricks Metadata Database (northwind_dlh)"
   ]
  },
  {
   "cell_type": "code",
   "execution_count": 0,
   "metadata": {
    "application/vnd.databricks.v1+cell": {
     "cellMetadata": {
      "byteLimit": 2048000,
      "rowLimit": 10000
     },
     "inputWidgets": {},
     "nuid": "2de15218-dfa0-4ec1-ab3f-243d650b86b4",
     "showTitle": false,
     "title": ""
    }
   },
   "outputs": [
    {
     "output_type": "display_data",
     "data": {
      "text/html": [
       "<style scoped>\n",
       "  .ansiout {\n",
       "    display: block;\n",
       "    unicode-bidi: embed;\n",
       "    white-space: pre-wrap;\n",
       "    word-wrap: break-word;\n",
       "    word-break: break-all;\n",
       "    font-family: \"Source Code Pro\", \"Menlo\", monospace;;\n",
       "    font-size: 13px;\n",
       "    color: #555;\n",
       "    margin-left: 4px;\n",
       "    line-height: 19px;\n",
       "  }\n",
       "</style>\n",
       "<div class=\"ansiout\"></div>"
      ]
     },
     "metadata": {
      "application/vnd.databricks.v1+output": {
       "addedWidgets": {},
       "arguments": {},
       "data": "<div class=\"ansiout\"></div>",
       "datasetInfos": [],
       "metadata": {
        "isDbfsCommandResult": false
       },
       "removedWidgets": [],
       "type": "html"
      }
     },
     "output_type": "display_data"
    }
   ],
   "source": [
    "%scala\n",
    "df_customer.write.format(\"delta\").mode(\"overwrite\").saveAsTable(\"northwind_dlh.dim_customer\")"
   ]
  },
  {
   "cell_type": "code",
   "execution_count": 0,
   "metadata": {
    "application/vnd.databricks.v1+cell": {
     "cellMetadata": {
      "byteLimit": 2048000,
      "implicitDf": true,
      "rowLimit": 10000
     },
     "inputWidgets": {},
     "nuid": "62999814-4e3e-4bb1-aac1-7ef79266c22d",
     "showTitle": false,
     "title": ""
    }
   },
   "outputs": [
    {
     "output_type": "display_data",
     "data": {
      "text/html": [
       "<style scoped>\n",
       "  .table-result-container {\n",
       "    max-height: 300px;\n",
       "    overflow: auto;\n",
       "  }\n",
       "  table, th, td {\n",
       "    border: 1px solid black;\n",
       "    border-collapse: collapse;\n",
       "  }\n",
       "  th, td {\n",
       "    padding: 5px;\n",
       "  }\n",
       "  th {\n",
       "    text-align: left;\n",
       "  }\n",
       "</style><div class='table-result-container'><table class='table-result'><thead style='background-color: white'><tr><th>col_name</th><th>data_type</th><th>comment</th></tr></thead><tbody><tr><td>customer_key</td><td>int</td><td>null</td></tr><tr><td>company</td><td>string</td><td>null</td></tr><tr><td>last_name</td><td>string</td><td>null</td></tr><tr><td>first_name</td><td>string</td><td>null</td></tr><tr><td>job_title</td><td>string</td><td>null</td></tr><tr><td>business_phone</td><td>string</td><td>null</td></tr><tr><td>fax_number</td><td>string</td><td>null</td></tr><tr><td>address</td><td>string</td><td>null</td></tr><tr><td>city</td><td>string</td><td>null</td></tr><tr><td>state_province</td><td>string</td><td>null</td></tr><tr><td>zip_postal_code</td><td>string</td><td>null</td></tr><tr><td>country_region</td><td>string</td><td>null</td></tr><tr><td></td><td></td><td></td></tr><tr><td># Detailed Table Information</td><td></td><td></td></tr><tr><td>Catalog</td><td>spark_catalog</td><td></td></tr><tr><td>Database</td><td>northwind_dlh</td><td></td></tr><tr><td>Table</td><td>dim_customer</td><td></td></tr><tr><td>Type</td><td>MANAGED</td><td></td></tr><tr><td>Location</td><td>dbfs:/FileStore/ds2002-lab06/northwind_dlh/dim_customer</td><td></td></tr><tr><td>Provider</td><td>delta</td><td></td></tr><tr><td>Owner</td><td>root</td><td></td></tr><tr><td>Is_managed_location</td><td>true</td><td></td></tr><tr><td>Table Properties</td><td>[delta.minReaderVersion=1,delta.minWriterVersion=2]</td><td></td></tr></tbody></table></div>"
      ]
     },
     "metadata": {
      "application/vnd.databricks.v1+output": {
       "addedWidgets": {},
       "aggData": [],
       "aggError": "",
       "aggOverflow": false,
       "aggSchema": [],
       "aggSeriesLimitReached": false,
       "aggType": "",
       "arguments": {},
       "columnCustomDisplayInfos": {},
       "data": [
        [
         "customer_key",
         "int",
         null
        ],
        [
         "company",
         "string",
         null
        ],
        [
         "last_name",
         "string",
         null
        ],
        [
         "first_name",
         "string",
         null
        ],
        [
         "job_title",
         "string",
         null
        ],
        [
         "business_phone",
         "string",
         null
        ],
        [
         "fax_number",
         "string",
         null
        ],
        [
         "address",
         "string",
         null
        ],
        [
         "city",
         "string",
         null
        ],
        [
         "state_province",
         "string",
         null
        ],
        [
         "zip_postal_code",
         "string",
         null
        ],
        [
         "country_region",
         "string",
         null
        ],
        [
         "",
         "",
         ""
        ],
        [
         "# Detailed Table Information",
         "",
         ""
        ],
        [
         "Catalog",
         "spark_catalog",
         ""
        ],
        [
         "Database",
         "northwind_dlh",
         ""
        ],
        [
         "Table",
         "dim_customer",
         ""
        ],
        [
         "Type",
         "MANAGED",
         ""
        ],
        [
         "Location",
         "dbfs:/FileStore/ds2002-lab06/northwind_dlh/dim_customer",
         ""
        ],
        [
         "Provider",
         "delta",
         ""
        ],
        [
         "Owner",
         "root",
         ""
        ],
        [
         "Is_managed_location",
         "true",
         ""
        ],
        [
         "Table Properties",
         "[delta.minReaderVersion=1,delta.minWriterVersion=2]",
         ""
        ]
       ],
       "datasetInfos": [],
       "dbfsResultPath": null,
       "isJsonSchema": true,
       "metadata": {},
       "overflow": false,
       "plotOptions": {
        "customPlotOptions": {},
        "displayType": "table",
        "pivotAggregation": null,
        "pivotColumns": null,
        "xColumns": null,
        "yColumns": null
       },
       "removedWidgets": [],
       "schema": [
        {
         "metadata": "{\"comment\":\"name of the column\"}",
         "name": "col_name",
         "type": "\"string\""
        },
        {
         "metadata": "{\"comment\":\"data type of the column\"}",
         "name": "data_type",
         "type": "\"string\""
        },
        {
         "metadata": "{\"comment\":\"comment of the column\"}",
         "name": "comment",
         "type": "\"string\""
        }
       ],
       "type": "table"
      }
     },
     "output_type": "display_data"
    }
   ],
   "source": [
    "%sql\n",
    "DESCRIBE EXTENDED northwind_dlh.dim_customer"
   ]
  },
  {
   "cell_type": "code",
   "execution_count": 0,
   "metadata": {
    "application/vnd.databricks.v1+cell": {
     "cellMetadata": {
      "byteLimit": 2048000,
      "implicitDf": true,
      "rowLimit": 10000
     },
     "inputWidgets": {},
     "nuid": "d4924a30-ad66-424c-b511-19cbfaefe93e",
     "showTitle": false,
     "title": ""
    }
   },
   "outputs": [
    {
     "output_type": "display_data",
     "data": {
      "text/html": [
       "<style scoped>\n",
       "  .table-result-container {\n",
       "    max-height: 300px;\n",
       "    overflow: auto;\n",
       "  }\n",
       "  table, th, td {\n",
       "    border: 1px solid black;\n",
       "    border-collapse: collapse;\n",
       "  }\n",
       "  th, td {\n",
       "    padding: 5px;\n",
       "  }\n",
       "  th {\n",
       "    text-align: left;\n",
       "  }\n",
       "</style><div class='table-result-container'><table class='table-result'><thead style='background-color: white'><tr><th>customer_key</th><th>company</th><th>last_name</th><th>first_name</th><th>job_title</th><th>business_phone</th><th>fax_number</th><th>address</th><th>city</th><th>state_province</th><th>zip_postal_code</th><th>country_region</th></tr></thead><tbody><tr><td>1</td><td>Company A</td><td>Bedecs</td><td>Anna</td><td>Owner</td><td>(123)555-0100</td><td>(123)555-0101</td><td>123 1st Street</td><td>Seattle</td><td>WA</td><td>99999</td><td>USA</td></tr><tr><td>2</td><td>Company B</td><td>Gratacos Solsona</td><td>Antonio</td><td>Owner</td><td>(123)555-0100</td><td>(123)555-0101</td><td>123 2nd Street</td><td>Boston</td><td>MA</td><td>99999</td><td>USA</td></tr><tr><td>3</td><td>Company C</td><td>Axen</td><td>Thomas</td><td>Purchasing Representative</td><td>(123)555-0100</td><td>(123)555-0101</td><td>123 3rd Street</td><td>Los Angelas</td><td>CA</td><td>99999</td><td>USA</td></tr><tr><td>4</td><td>Company D</td><td>Lee</td><td>Christina</td><td>Purchasing Manager</td><td>(123)555-0100</td><td>(123)555-0101</td><td>123 4th Street</td><td>New York</td><td>NY</td><td>99999</td><td>USA</td></tr><tr><td>5</td><td>Company E</td><td>O’Donnell</td><td>Martin</td><td>Owner</td><td>(123)555-0100</td><td>(123)555-0101</td><td>123 5th Street</td><td>Minneapolis</td><td>MN</td><td>99999</td><td>USA</td></tr></tbody></table></div>"
      ]
     },
     "metadata": {
      "application/vnd.databricks.v1+output": {
       "addedWidgets": {},
       "aggData": [],
       "aggError": "",
       "aggOverflow": false,
       "aggSchema": [],
       "aggSeriesLimitReached": false,
       "aggType": "",
       "arguments": {},
       "columnCustomDisplayInfos": {},
       "data": [
        [
         1,
         "Company A",
         "Bedecs",
         "Anna",
         "Owner",
         "(123)555-0100",
         "(123)555-0101",
         "123 1st Street",
         "Seattle",
         "WA",
         "99999",
         "USA"
        ],
        [
         2,
         "Company B",
         "Gratacos Solsona",
         "Antonio",
         "Owner",
         "(123)555-0100",
         "(123)555-0101",
         "123 2nd Street",
         "Boston",
         "MA",
         "99999",
         "USA"
        ],
        [
         3,
         "Company C",
         "Axen",
         "Thomas",
         "Purchasing Representative",
         "(123)555-0100",
         "(123)555-0101",
         "123 3rd Street",
         "Los Angelas",
         "CA",
         "99999",
         "USA"
        ],
        [
         4,
         "Company D",
         "Lee",
         "Christina",
         "Purchasing Manager",
         "(123)555-0100",
         "(123)555-0101",
         "123 4th Street",
         "New York",
         "NY",
         "99999",
         "USA"
        ],
        [
         5,
         "Company E",
         "O’Donnell",
         "Martin",
         "Owner",
         "(123)555-0100",
         "(123)555-0101",
         "123 5th Street",
         "Minneapolis",
         "MN",
         "99999",
         "USA"
        ]
       ],
       "datasetInfos": [],
       "dbfsResultPath": null,
       "isJsonSchema": true,
       "metadata": {},
       "overflow": false,
       "plotOptions": {
        "customPlotOptions": {},
        "displayType": "table",
        "pivotAggregation": null,
        "pivotColumns": null,
        "xColumns": null,
        "yColumns": null
       },
       "removedWidgets": [],
       "schema": [
        {
         "metadata": "{}",
         "name": "customer_key",
         "type": "\"integer\""
        },
        {
         "metadata": "{}",
         "name": "company",
         "type": "\"string\""
        },
        {
         "metadata": "{}",
         "name": "last_name",
         "type": "\"string\""
        },
        {
         "metadata": "{}",
         "name": "first_name",
         "type": "\"string\""
        },
        {
         "metadata": "{}",
         "name": "job_title",
         "type": "\"string\""
        },
        {
         "metadata": "{}",
         "name": "business_phone",
         "type": "\"string\""
        },
        {
         "metadata": "{}",
         "name": "fax_number",
         "type": "\"string\""
        },
        {
         "metadata": "{}",
         "name": "address",
         "type": "\"string\""
        },
        {
         "metadata": "{}",
         "name": "city",
         "type": "\"string\""
        },
        {
         "metadata": "{}",
         "name": "state_province",
         "type": "\"string\""
        },
        {
         "metadata": "{}",
         "name": "zip_postal_code",
         "type": "\"string\""
        },
        {
         "metadata": "{}",
         "name": "country_region",
         "type": "\"string\""
        }
       ],
       "type": "table"
      }
     },
     "output_type": "display_data"
    }
   ],
   "source": [
    "%sql\n",
    "SELECT * FROM northwind_dlh.dim_customer LIMIT 5"
   ]
  },
  {
   "cell_type": "markdown",
   "metadata": {
    "application/vnd.databricks.v1+cell": {
     "cellMetadata": {
      "byteLimit": 2048000,
      "rowLimit": 10000
     },
     "inputWidgets": {},
     "nuid": "8b52ecae-78cd-4dce-a974-f052dbe9b9bf",
     "showTitle": false,
     "title": ""
    }
   },
   "source": [
    "##### 2.4.1 Fetch Supplier Dimension Data from the New MongoDB Collection"
   ]
  },
  {
   "cell_type": "code",
   "execution_count": 0,
   "metadata": {
    "application/vnd.databricks.v1+cell": {
     "cellMetadata": {
      "byteLimit": 2048000,
      "rowLimit": 10000
     },
     "inputWidgets": {},
     "nuid": "73350185-ce36-49ed-86e0-041f2d12d289",
     "showTitle": false,
     "title": ""
    }
   },
   "outputs": [
    {
     "output_type": "display_data",
     "data": {
      "text/html": [
       "<style scoped>\n",
       "  .table-result-container {\n",
       "    max-height: 300px;\n",
       "    overflow: auto;\n",
       "  }\n",
       "  table, th, td {\n",
       "    border: 1px solid black;\n",
       "    border-collapse: collapse;\n",
       "  }\n",
       "  th, td {\n",
       "    padding: 5px;\n",
       "  }\n",
       "  th {\n",
       "    text-align: left;\n",
       "  }\n",
       "</style><div class='table-result-container'><table class='table-result'><thead style='background-color: white'><tr><th>supplier_key</th><th>company</th><th>last_name</th><th>first_name</th><th>job_title</th></tr></thead><tbody><tr><td>1</td><td>Supplier A</td><td>Andersen</td><td>Elizabeth A.</td><td>Sales Manager</td></tr><tr><td>2</td><td>Supplier B</td><td>Weiler</td><td>Cornelia</td><td>Sales Manager</td></tr><tr><td>3</td><td>Supplier C</td><td>Kelley</td><td>Madeleine</td><td>Sales Representative</td></tr><tr><td>4</td><td>Supplier D</td><td>Sato</td><td>Naoki</td><td>Marketing Manager</td></tr><tr><td>5</td><td>Supplier E</td><td>Hernandez-Echevarria</td><td>Amaya</td><td>Sales Manager</td></tr><tr><td>6</td><td>Supplier F</td><td>Hayakawa</td><td>Satomi</td><td>Marketing Assistant</td></tr><tr><td>7</td><td>Supplier G</td><td>Glasson</td><td>Stuart</td><td>Marketing Manager</td></tr><tr><td>8</td><td>Supplier H</td><td>Dunton</td><td>Bryn Paul</td><td>Sales Representative</td></tr><tr><td>9</td><td>Supplier I</td><td>Sandberg</td><td>Mikael</td><td>Sales Manager</td></tr><tr><td>10</td><td>Supplier J</td><td>Sousa</td><td>Luis</td><td>Sales Manager</td></tr></tbody></table></div>"
      ]
     },
     "metadata": {
      "application/vnd.databricks.v1+output": {
       "addedWidgets": {},
       "aggData": [],
       "aggError": "",
       "aggOverflow": false,
       "aggSchema": [],
       "aggSeriesLimitReached": false,
       "aggType": "",
       "arguments": {},
       "columnCustomDisplayInfos": {},
       "data": [
        [
         1,
         "Supplier A",
         "Andersen",
         "Elizabeth A.",
         "Sales Manager"
        ],
        [
         2,
         "Supplier B",
         "Weiler",
         "Cornelia",
         "Sales Manager"
        ],
        [
         3,
         "Supplier C",
         "Kelley",
         "Madeleine",
         "Sales Representative"
        ],
        [
         4,
         "Supplier D",
         "Sato",
         "Naoki",
         "Marketing Manager"
        ],
        [
         5,
         "Supplier E",
         "Hernandez-Echevarria",
         "Amaya",
         "Sales Manager"
        ],
        [
         6,
         "Supplier F",
         "Hayakawa",
         "Satomi",
         "Marketing Assistant"
        ],
        [
         7,
         "Supplier G",
         "Glasson",
         "Stuart",
         "Marketing Manager"
        ],
        [
         8,
         "Supplier H",
         "Dunton",
         "Bryn Paul",
         "Sales Representative"
        ],
        [
         9,
         "Supplier I",
         "Sandberg",
         "Mikael",
         "Sales Manager"
        ],
        [
         10,
         "Supplier J",
         "Sousa",
         "Luis",
         "Sales Manager"
        ]
       ],
       "datasetInfos": [
        {
         "name": "df_supplier",
         "schema": {
          "fields": [
           {
            "metadata": {},
            "name": "supplier_key",
            "nullable": true,
            "type": "integer"
           },
           {
            "metadata": {},
            "name": "company",
            "nullable": true,
            "type": "string"
           },
           {
            "metadata": {},
            "name": "last_name",
            "nullable": true,
            "type": "string"
           },
           {
            "metadata": {},
            "name": "first_name",
            "nullable": true,
            "type": "string"
           },
           {
            "metadata": {},
            "name": "job_title",
            "nullable": true,
            "type": "string"
           }
          ],
          "type": "struct"
         },
         "tableIdentifier": null,
         "typeStr": "org.apache.spark.sql.DataFrame"
        }
       ],
       "dbfsResultPath": null,
       "isJsonSchema": true,
       "metadata": {
        "isDbfsCommandResult": false
       },
       "overflow": false,
       "plotOptions": {
        "customPlotOptions": {},
        "displayType": "table",
        "pivotAggregation": null,
        "pivotColumns": null,
        "xColumns": null,
        "yColumns": null
       },
       "removedWidgets": [],
       "schema": [
        {
         "metadata": "{}",
         "name": "supplier_key",
         "type": "\"integer\""
        },
        {
         "metadata": "{}",
         "name": "company",
         "type": "\"string\""
        },
        {
         "metadata": "{}",
         "name": "last_name",
         "type": "\"string\""
        },
        {
         "metadata": "{}",
         "name": "first_name",
         "type": "\"string\""
        },
        {
         "metadata": "{}",
         "name": "job_title",
         "type": "\"string\""
        }
       ],
       "type": "table"
      }
     },
     "output_type": "display_data"
    }
   ],
   "source": [
    "%scala\n",
    "val df_supplier = spark.read.format(\"com.mongodb.spark.sql.DefaultSource\")\n",
    ".option(\"database\", \"northwind_dw2\").option(\"collection\", \"suppliers\").load()\n",
    ".select(\"supplier_key\",\"company\",\"last_name\",\"first_name\",\"job_title\")\n",
    "\n",
    "display(df_supplier)"
   ]
  },
  {
   "cell_type": "code",
   "execution_count": 0,
   "metadata": {
    "application/vnd.databricks.v1+cell": {
     "cellMetadata": {
      "byteLimit": 2048000,
      "rowLimit": 10000
     },
     "inputWidgets": {},
     "nuid": "a37d21b2-511b-4553-837a-b957094d9db8",
     "showTitle": false,
     "title": ""
    }
   },
   "outputs": [
    {
     "output_type": "display_data",
     "data": {
      "text/html": [
       "<style scoped>\n",
       "  .ansiout {\n",
       "    display: block;\n",
       "    unicode-bidi: embed;\n",
       "    white-space: pre-wrap;\n",
       "    word-wrap: break-word;\n",
       "    word-break: break-all;\n",
       "    font-family: \"Source Code Pro\", \"Menlo\", monospace;;\n",
       "    font-size: 13px;\n",
       "    color: #555;\n",
       "    margin-left: 4px;\n",
       "    line-height: 19px;\n",
       "  }\n",
       "</style>\n",
       "<div class=\"ansiout\">root\n",
       "-- supplier_key: integer (nullable = true)\n",
       "-- company: string (nullable = true)\n",
       "-- last_name: string (nullable = true)\n",
       "-- first_name: string (nullable = true)\n",
       "-- job_title: string (nullable = true)\n",
       "\n",
       "</div>"
      ]
     },
     "metadata": {
      "application/vnd.databricks.v1+output": {
       "addedWidgets": {},
       "arguments": {},
       "data": "<div class=\"ansiout\">root\n |-- supplier_key: integer (nullable = true)\n |-- company: string (nullable = true)\n |-- last_name: string (nullable = true)\n |-- first_name: string (nullable = true)\n |-- job_title: string (nullable = true)\n\n</div>",
       "datasetInfos": [],
       "metadata": {
        "isDbfsCommandResult": false
       },
       "removedWidgets": [],
       "type": "html"
      }
     },
     "output_type": "display_data"
    }
   ],
   "source": [
    "%scala\n",
    "df_supplier.printSchema()"
   ]
  },
  {
   "cell_type": "markdown",
   "metadata": {
    "application/vnd.databricks.v1+cell": {
     "cellMetadata": {
      "byteLimit": 2048000,
      "rowLimit": 10000
     },
     "inputWidgets": {},
     "nuid": "ca79d2c6-6a92-460d-b163-cdbe81c555a9",
     "showTitle": false,
     "title": ""
    }
   },
   "source": [
    "##### 2.4.2. Use the Spark DataFrame to Create a New Suppliers Dimension Table in the Databricks Metadata Database (northwind_dlh)"
   ]
  },
  {
   "cell_type": "code",
   "execution_count": 0,
   "metadata": {
    "application/vnd.databricks.v1+cell": {
     "cellMetadata": {
      "byteLimit": 2048000,
      "rowLimit": 10000
     },
     "inputWidgets": {},
     "nuid": "0766bc0c-2e6c-4d3e-8879-b9b4fae5f3d8",
     "showTitle": false,
     "title": ""
    }
   },
   "outputs": [
    {
     "output_type": "display_data",
     "data": {
      "text/html": [
       "<style scoped>\n",
       "  .ansiout {\n",
       "    display: block;\n",
       "    unicode-bidi: embed;\n",
       "    white-space: pre-wrap;\n",
       "    word-wrap: break-word;\n",
       "    word-break: break-all;\n",
       "    font-family: \"Source Code Pro\", \"Menlo\", monospace;;\n",
       "    font-size: 13px;\n",
       "    color: #555;\n",
       "    margin-left: 4px;\n",
       "    line-height: 19px;\n",
       "  }\n",
       "</style>\n",
       "<div class=\"ansiout\"></div>"
      ]
     },
     "metadata": {
      "application/vnd.databricks.v1+output": {
       "addedWidgets": {},
       "arguments": {},
       "data": "<div class=\"ansiout\"></div>",
       "datasetInfos": [],
       "metadata": {
        "isDbfsCommandResult": false
       },
       "removedWidgets": [],
       "type": "html"
      }
     },
     "output_type": "display_data"
    }
   ],
   "source": [
    "%scala\n",
    "df_supplier.write.format(\"delta\").mode(\"overwrite\").saveAsTable(\"northwind_dlh.dim_supplier\")"
   ]
  },
  {
   "cell_type": "code",
   "execution_count": 0,
   "metadata": {
    "application/vnd.databricks.v1+cell": {
     "cellMetadata": {
      "byteLimit": 2048000,
      "implicitDf": true,
      "rowLimit": 10000
     },
     "inputWidgets": {},
     "nuid": "bfbe73eb-d32b-4685-aa6a-ecce737d8b63",
     "showTitle": false,
     "title": ""
    }
   },
   "outputs": [
    {
     "output_type": "display_data",
     "data": {
      "text/html": [
       "<style scoped>\n",
       "  .table-result-container {\n",
       "    max-height: 300px;\n",
       "    overflow: auto;\n",
       "  }\n",
       "  table, th, td {\n",
       "    border: 1px solid black;\n",
       "    border-collapse: collapse;\n",
       "  }\n",
       "  th, td {\n",
       "    padding: 5px;\n",
       "  }\n",
       "  th {\n",
       "    text-align: left;\n",
       "  }\n",
       "</style><div class='table-result-container'><table class='table-result'><thead style='background-color: white'><tr><th>col_name</th><th>data_type</th><th>comment</th></tr></thead><tbody><tr><td>supplier_key</td><td>int</td><td>null</td></tr><tr><td>company</td><td>string</td><td>null</td></tr><tr><td>last_name</td><td>string</td><td>null</td></tr><tr><td>first_name</td><td>string</td><td>null</td></tr><tr><td>job_title</td><td>string</td><td>null</td></tr><tr><td></td><td></td><td></td></tr><tr><td># Detailed Table Information</td><td></td><td></td></tr><tr><td>Catalog</td><td>spark_catalog</td><td></td></tr><tr><td>Database</td><td>northwind_dlh</td><td></td></tr><tr><td>Table</td><td>dim_supplier</td><td></td></tr><tr><td>Type</td><td>MANAGED</td><td></td></tr><tr><td>Location</td><td>dbfs:/FileStore/ds2002-lab06/northwind_dlh/dim_supplier</td><td></td></tr><tr><td>Provider</td><td>delta</td><td></td></tr><tr><td>Owner</td><td>root</td><td></td></tr><tr><td>Is_managed_location</td><td>true</td><td></td></tr><tr><td>Table Properties</td><td>[delta.minReaderVersion=1,delta.minWriterVersion=2]</td><td></td></tr></tbody></table></div>"
      ]
     },
     "metadata": {
      "application/vnd.databricks.v1+output": {
       "addedWidgets": {},
       "aggData": [],
       "aggError": "",
       "aggOverflow": false,
       "aggSchema": [],
       "aggSeriesLimitReached": false,
       "aggType": "",
       "arguments": {},
       "columnCustomDisplayInfos": {},
       "data": [
        [
         "supplier_key",
         "int",
         null
        ],
        [
         "company",
         "string",
         null
        ],
        [
         "last_name",
         "string",
         null
        ],
        [
         "first_name",
         "string",
         null
        ],
        [
         "job_title",
         "string",
         null
        ],
        [
         "",
         "",
         ""
        ],
        [
         "# Detailed Table Information",
         "",
         ""
        ],
        [
         "Catalog",
         "spark_catalog",
         ""
        ],
        [
         "Database",
         "northwind_dlh",
         ""
        ],
        [
         "Table",
         "dim_supplier",
         ""
        ],
        [
         "Type",
         "MANAGED",
         ""
        ],
        [
         "Location",
         "dbfs:/FileStore/ds2002-lab06/northwind_dlh/dim_supplier",
         ""
        ],
        [
         "Provider",
         "delta",
         ""
        ],
        [
         "Owner",
         "root",
         ""
        ],
        [
         "Is_managed_location",
         "true",
         ""
        ],
        [
         "Table Properties",
         "[delta.minReaderVersion=1,delta.minWriterVersion=2]",
         ""
        ]
       ],
       "datasetInfos": [],
       "dbfsResultPath": null,
       "isJsonSchema": true,
       "metadata": {},
       "overflow": false,
       "plotOptions": {
        "customPlotOptions": {},
        "displayType": "table",
        "pivotAggregation": null,
        "pivotColumns": null,
        "xColumns": null,
        "yColumns": null
       },
       "removedWidgets": [],
       "schema": [
        {
         "metadata": "{\"comment\":\"name of the column\"}",
         "name": "col_name",
         "type": "\"string\""
        },
        {
         "metadata": "{\"comment\":\"data type of the column\"}",
         "name": "data_type",
         "type": "\"string\""
        },
        {
         "metadata": "{\"comment\":\"comment of the column\"}",
         "name": "comment",
         "type": "\"string\""
        }
       ],
       "type": "table"
      }
     },
     "output_type": "display_data"
    }
   ],
   "source": [
    "%sql\n",
    "DESCRIBE EXTENDED northwind_dlh.dim_supplier"
   ]
  },
  {
   "cell_type": "code",
   "execution_count": 0,
   "metadata": {
    "application/vnd.databricks.v1+cell": {
     "cellMetadata": {
      "byteLimit": 2048000,
      "implicitDf": true,
      "rowLimit": 10000
     },
     "inputWidgets": {},
     "nuid": "7c3d611c-95e5-406d-b8da-dd17e797a018",
     "showTitle": false,
     "title": ""
    }
   },
   "outputs": [
    {
     "output_type": "display_data",
     "data": {
      "text/html": [
       "<style scoped>\n",
       "  .table-result-container {\n",
       "    max-height: 300px;\n",
       "    overflow: auto;\n",
       "  }\n",
       "  table, th, td {\n",
       "    border: 1px solid black;\n",
       "    border-collapse: collapse;\n",
       "  }\n",
       "  th, td {\n",
       "    padding: 5px;\n",
       "  }\n",
       "  th {\n",
       "    text-align: left;\n",
       "  }\n",
       "</style><div class='table-result-container'><table class='table-result'><thead style='background-color: white'><tr><th>supplier_key</th><th>company</th><th>last_name</th><th>first_name</th><th>job_title</th></tr></thead><tbody><tr><td>1</td><td>Supplier A</td><td>Andersen</td><td>Elizabeth A.</td><td>Sales Manager</td></tr><tr><td>2</td><td>Supplier B</td><td>Weiler</td><td>Cornelia</td><td>Sales Manager</td></tr><tr><td>3</td><td>Supplier C</td><td>Kelley</td><td>Madeleine</td><td>Sales Representative</td></tr><tr><td>4</td><td>Supplier D</td><td>Sato</td><td>Naoki</td><td>Marketing Manager</td></tr><tr><td>5</td><td>Supplier E</td><td>Hernandez-Echevarria</td><td>Amaya</td><td>Sales Manager</td></tr></tbody></table></div>"
      ]
     },
     "metadata": {
      "application/vnd.databricks.v1+output": {
       "addedWidgets": {},
       "aggData": [],
       "aggError": "",
       "aggOverflow": false,
       "aggSchema": [],
       "aggSeriesLimitReached": false,
       "aggType": "",
       "arguments": {},
       "columnCustomDisplayInfos": {},
       "data": [
        [
         1,
         "Supplier A",
         "Andersen",
         "Elizabeth A.",
         "Sales Manager"
        ],
        [
         2,
         "Supplier B",
         "Weiler",
         "Cornelia",
         "Sales Manager"
        ],
        [
         3,
         "Supplier C",
         "Kelley",
         "Madeleine",
         "Sales Representative"
        ],
        [
         4,
         "Supplier D",
         "Sato",
         "Naoki",
         "Marketing Manager"
        ],
        [
         5,
         "Supplier E",
         "Hernandez-Echevarria",
         "Amaya",
         "Sales Manager"
        ]
       ],
       "datasetInfos": [],
       "dbfsResultPath": null,
       "isJsonSchema": true,
       "metadata": {},
       "overflow": false,
       "plotOptions": {
        "customPlotOptions": {},
        "displayType": "table",
        "pivotAggregation": null,
        "pivotColumns": null,
        "xColumns": null,
        "yColumns": null
       },
       "removedWidgets": [],
       "schema": [
        {
         "metadata": "{}",
         "name": "supplier_key",
         "type": "\"integer\""
        },
        {
         "metadata": "{}",
         "name": "company",
         "type": "\"string\""
        },
        {
         "metadata": "{}",
         "name": "last_name",
         "type": "\"string\""
        },
        {
         "metadata": "{}",
         "name": "first_name",
         "type": "\"string\""
        },
        {
         "metadata": "{}",
         "name": "job_title",
         "type": "\"string\""
        }
       ],
       "type": "table"
      }
     },
     "output_type": "display_data"
    }
   ],
   "source": [
    "%sql\n",
    "SELECT * FROM northwind_dlh.dim_supplier LIMIT 5"
   ]
  },
  {
   "cell_type": "markdown",
   "metadata": {
    "application/vnd.databricks.v1+cell": {
     "cellMetadata": {
      "byteLimit": 2048000,
      "rowLimit": 10000
     },
     "inputWidgets": {},
     "nuid": "5dca49d6-6644-4968-b821-492ad3bd3003",
     "showTitle": false,
     "title": ""
    }
   },
   "source": [
    "##### 2.5.1 Fetch Invoice Dimension Data from teh New MongoDB Collection"
   ]
  },
  {
   "cell_type": "code",
   "execution_count": 0,
   "metadata": {
    "application/vnd.databricks.v1+cell": {
     "cellMetadata": {
      "byteLimit": 2048000,
      "rowLimit": 10000
     },
     "inputWidgets": {},
     "nuid": "b9caebb6-5c7f-4cc7-998b-0044bdcfa8b2",
     "showTitle": false,
     "title": ""
    }
   },
   "outputs": [
    {
     "output_type": "display_data",
     "data": {
      "text/html": [
       "<style scoped>\n",
       "  .table-result-container {\n",
       "    max-height: 300px;\n",
       "    overflow: auto;\n",
       "  }\n",
       "  table, th, td {\n",
       "    border: 1px solid black;\n",
       "    border-collapse: collapse;\n",
       "  }\n",
       "  th, td {\n",
       "    padding: 5px;\n",
       "  }\n",
       "  th {\n",
       "    text-align: left;\n",
       "  }\n",
       "</style><div class='table-result-container'><table class='table-result'><thead style='background-color: white'><tr><th>invoice_key</th><th>order_key</th><th>invoice_date</th><th>due_date</th><th>tax</th><th>shipping</th><th>amount_due</th></tr></thead><tbody><tr><td>5</td><td>31</td><td>2006-03-22 16:08:59</td><td>2006-04-04 11:43:08</td><td>0</td><td>0</td><td>0</td></tr><tr><td>6</td><td>32</td><td>2006-03-22 16:10:27</td><td>2006-04-04 11:43:08</td><td>0</td><td>0</td><td>0</td></tr><tr><td>7</td><td>40</td><td>2006-03-24 10:41:41</td><td>2006-04-04 11:43:08</td><td>0</td><td>0</td><td>0</td></tr><tr><td>8</td><td>39</td><td>2006-03-24 10:55:46</td><td>2006-04-04 11:43:08</td><td>0</td><td>0</td><td>0</td></tr><tr><td>9</td><td>38</td><td>2006-03-24 10:56:57</td><td>2006-04-04 11:43:08</td><td>0</td><td>0</td><td>0</td></tr><tr><td>10</td><td>37</td><td>2006-03-24 10:57:38</td><td>2006-04-04 11:43:08</td><td>0</td><td>0</td><td>0</td></tr><tr><td>11</td><td>36</td><td>2006-03-24 10:58:40</td><td>2006-04-04 11:43:08</td><td>0</td><td>0</td><td>0</td></tr><tr><td>12</td><td>35</td><td>2006-03-24 10:59:41</td><td>2006-04-04 11:43:08</td><td>0</td><td>0</td><td>0</td></tr><tr><td>13</td><td>34</td><td>2006-03-24 11:00:55</td><td>2006-04-04 11:43:08</td><td>0</td><td>0</td><td>0</td></tr><tr><td>14</td><td>33</td><td>2006-03-24 11:02:02</td><td>2006-04-04 11:43:08</td><td>0</td><td>0</td><td>0</td></tr><tr><td>15</td><td>30</td><td>2006-03-24 11:03:00</td><td>2006-04-04 11:43:08</td><td>0</td><td>0</td><td>0</td></tr><tr><td>16</td><td>56</td><td>2006-04-03 13:50:15</td><td>2006-04-04 11:43:08</td><td>0</td><td>0</td><td>0</td></tr><tr><td>17</td><td>55</td><td>2006-04-04 11:05:04</td><td>2006-04-04 11:43:08</td><td>0</td><td>0</td><td>0</td></tr><tr><td>18</td><td>51</td><td>2006-04-04 11:06:13</td><td>2006-04-04 11:43:08</td><td>0</td><td>0</td><td>0</td></tr><tr><td>19</td><td>50</td><td>2006-04-04 11:06:56</td><td>2006-04-04 11:43:08</td><td>0</td><td>0</td><td>0</td></tr><tr><td>20</td><td>48</td><td>2006-04-04 11:07:37</td><td>2006-04-04 11:43:08</td><td>0</td><td>0</td><td>0</td></tr><tr><td>21</td><td>47</td><td>2006-04-04 11:08:14</td><td>2006-04-04 11:43:08</td><td>0</td><td>0</td><td>0</td></tr><tr><td>22</td><td>46</td><td>2006-04-04 11:08:49</td><td>2006-04-04 11:43:08</td><td>0</td><td>0</td><td>0</td></tr><tr><td>23</td><td>45</td><td>2006-04-04 11:09:24</td><td>2006-04-04 11:43:08</td><td>0</td><td>0</td><td>0</td></tr><tr><td>24</td><td>79</td><td>2006-04-04 11:35:54</td><td>2006-04-04 11:43:08</td><td>0</td><td>0</td><td>0</td></tr><tr><td>25</td><td>78</td><td>2006-04-04 11:36:21</td><td>2006-04-04 11:43:08</td><td>0</td><td>0</td><td>0</td></tr><tr><td>26</td><td>77</td><td>2006-04-04 11:36:47</td><td>2006-04-04 11:43:08</td><td>0</td><td>0</td><td>0</td></tr><tr><td>27</td><td>76</td><td>2006-04-04 11:37:09</td><td>2006-04-04 11:43:08</td><td>0</td><td>0</td><td>0</td></tr><tr><td>28</td><td>75</td><td>2006-04-04 11:37:49</td><td>2006-04-04 11:43:08</td><td>0</td><td>0</td><td>0</td></tr><tr><td>29</td><td>74</td><td>2006-04-04 11:38:11</td><td>2006-04-04 11:43:08</td><td>0</td><td>0</td><td>0</td></tr><tr><td>30</td><td>73</td><td>2006-04-04 11:38:32</td><td>2006-04-04 11:43:08</td><td>0</td><td>0</td><td>0</td></tr><tr><td>31</td><td>72</td><td>2006-04-04 11:38:53</td><td>2006-04-04 11:43:08</td><td>0</td><td>0</td><td>0</td></tr><tr><td>32</td><td>71</td><td>2006-04-04 11:39:29</td><td>2006-04-04 11:43:08</td><td>0</td><td>0</td><td>0</td></tr><tr><td>33</td><td>70</td><td>2006-04-04 11:39:53</td><td>2006-04-04 11:43:08</td><td>0</td><td>0</td><td>0</td></tr><tr><td>34</td><td>69</td><td>2006-04-04 11:40:16</td><td>2006-04-04 11:43:08</td><td>0</td><td>0</td><td>0</td></tr><tr><td>35</td><td>67</td><td>2006-04-04 11:40:38</td><td>2006-04-04 11:43:08</td><td>0</td><td>0</td><td>0</td></tr><tr><td>36</td><td>42</td><td>2006-04-04 11:41:14</td><td>2006-04-04 11:43:08</td><td>0</td><td>0</td><td>0</td></tr><tr><td>37</td><td>60</td><td>2006-04-04 11:41:45</td><td>2006-04-04 11:43:08</td><td>0</td><td>0</td><td>0</td></tr><tr><td>38</td><td>63</td><td>2006-04-04 11:42:26</td><td>2006-04-04 11:43:08</td><td>0</td><td>0</td><td>0</td></tr><tr><td>39</td><td>58</td><td>2006-04-04 11:43:08</td><td>2006-04-04 11:43:08</td><td>0</td><td>0</td><td>0</td></tr></tbody></table></div>"
      ]
     },
     "metadata": {
      "application/vnd.databricks.v1+output": {
       "addedWidgets": {},
       "aggData": [],
       "aggError": "",
       "aggOverflow": false,
       "aggSchema": [],
       "aggSeriesLimitReached": false,
       "aggType": "",
       "arguments": {},
       "columnCustomDisplayInfos": {},
       "data": [
        [
         5,
         31,
         "2006-03-22 16:08:59",
         "2006-04-04 11:43:08",
         0,
         0,
         0
        ],
        [
         6,
         32,
         "2006-03-22 16:10:27",
         "2006-04-04 11:43:08",
         0,
         0,
         0
        ],
        [
         7,
         40,
         "2006-03-24 10:41:41",
         "2006-04-04 11:43:08",
         0,
         0,
         0
        ],
        [
         8,
         39,
         "2006-03-24 10:55:46",
         "2006-04-04 11:43:08",
         0,
         0,
         0
        ],
        [
         9,
         38,
         "2006-03-24 10:56:57",
         "2006-04-04 11:43:08",
         0,
         0,
         0
        ],
        [
         10,
         37,
         "2006-03-24 10:57:38",
         "2006-04-04 11:43:08",
         0,
         0,
         0
        ],
        [
         11,
         36,
         "2006-03-24 10:58:40",
         "2006-04-04 11:43:08",
         0,
         0,
         0
        ],
        [
         12,
         35,
         "2006-03-24 10:59:41",
         "2006-04-04 11:43:08",
         0,
         0,
         0
        ],
        [
         13,
         34,
         "2006-03-24 11:00:55",
         "2006-04-04 11:43:08",
         0,
         0,
         0
        ],
        [
         14,
         33,
         "2006-03-24 11:02:02",
         "2006-04-04 11:43:08",
         0,
         0,
         0
        ],
        [
         15,
         30,
         "2006-03-24 11:03:00",
         "2006-04-04 11:43:08",
         0,
         0,
         0
        ],
        [
         16,
         56,
         "2006-04-03 13:50:15",
         "2006-04-04 11:43:08",
         0,
         0,
         0
        ],
        [
         17,
         55,
         "2006-04-04 11:05:04",
         "2006-04-04 11:43:08",
         0,
         0,
         0
        ],
        [
         18,
         51,
         "2006-04-04 11:06:13",
         "2006-04-04 11:43:08",
         0,
         0,
         0
        ],
        [
         19,
         50,
         "2006-04-04 11:06:56",
         "2006-04-04 11:43:08",
         0,
         0,
         0
        ],
        [
         20,
         48,
         "2006-04-04 11:07:37",
         "2006-04-04 11:43:08",
         0,
         0,
         0
        ],
        [
         21,
         47,
         "2006-04-04 11:08:14",
         "2006-04-04 11:43:08",
         0,
         0,
         0
        ],
        [
         22,
         46,
         "2006-04-04 11:08:49",
         "2006-04-04 11:43:08",
         0,
         0,
         0
        ],
        [
         23,
         45,
         "2006-04-04 11:09:24",
         "2006-04-04 11:43:08",
         0,
         0,
         0
        ],
        [
         24,
         79,
         "2006-04-04 11:35:54",
         "2006-04-04 11:43:08",
         0,
         0,
         0
        ],
        [
         25,
         78,
         "2006-04-04 11:36:21",
         "2006-04-04 11:43:08",
         0,
         0,
         0
        ],
        [
         26,
         77,
         "2006-04-04 11:36:47",
         "2006-04-04 11:43:08",
         0,
         0,
         0
        ],
        [
         27,
         76,
         "2006-04-04 11:37:09",
         "2006-04-04 11:43:08",
         0,
         0,
         0
        ],
        [
         28,
         75,
         "2006-04-04 11:37:49",
         "2006-04-04 11:43:08",
         0,
         0,
         0
        ],
        [
         29,
         74,
         "2006-04-04 11:38:11",
         "2006-04-04 11:43:08",
         0,
         0,
         0
        ],
        [
         30,
         73,
         "2006-04-04 11:38:32",
         "2006-04-04 11:43:08",
         0,
         0,
         0
        ],
        [
         31,
         72,
         "2006-04-04 11:38:53",
         "2006-04-04 11:43:08",
         0,
         0,
         0
        ],
        [
         32,
         71,
         "2006-04-04 11:39:29",
         "2006-04-04 11:43:08",
         0,
         0,
         0
        ],
        [
         33,
         70,
         "2006-04-04 11:39:53",
         "2006-04-04 11:43:08",
         0,
         0,
         0
        ],
        [
         34,
         69,
         "2006-04-04 11:40:16",
         "2006-04-04 11:43:08",
         0,
         0,
         0
        ],
        [
         35,
         67,
         "2006-04-04 11:40:38",
         "2006-04-04 11:43:08",
         0,
         0,
         0
        ],
        [
         36,
         42,
         "2006-04-04 11:41:14",
         "2006-04-04 11:43:08",
         0,
         0,
         0
        ],
        [
         37,
         60,
         "2006-04-04 11:41:45",
         "2006-04-04 11:43:08",
         0,
         0,
         0
        ],
        [
         38,
         63,
         "2006-04-04 11:42:26",
         "2006-04-04 11:43:08",
         0,
         0,
         0
        ],
        [
         39,
         58,
         "2006-04-04 11:43:08",
         "2006-04-04 11:43:08",
         0,
         0,
         0
        ]
       ],
       "datasetInfos": [
        {
         "name": "df_invoice",
         "schema": {
          "fields": [
           {
            "metadata": {},
            "name": "invoice_key",
            "nullable": true,
            "type": "integer"
           },
           {
            "metadata": {},
            "name": "order_key",
            "nullable": true,
            "type": "integer"
           },
           {
            "metadata": {},
            "name": "invoice_date",
            "nullable": true,
            "type": "string"
           },
           {
            "metadata": {},
            "name": "due_date",
            "nullable": true,
            "type": "string"
           },
           {
            "metadata": {},
            "name": "tax",
            "nullable": true,
            "type": "integer"
           },
           {
            "metadata": {},
            "name": "shipping",
            "nullable": true,
            "type": "integer"
           },
           {
            "metadata": {},
            "name": "amount_due",
            "nullable": true,
            "type": "integer"
           }
          ],
          "type": "struct"
         },
         "tableIdentifier": null,
         "typeStr": "org.apache.spark.sql.DataFrame"
        }
       ],
       "dbfsResultPath": null,
       "isJsonSchema": true,
       "metadata": {
        "isDbfsCommandResult": false
       },
       "overflow": false,
       "plotOptions": {
        "customPlotOptions": {},
        "displayType": "table",
        "pivotAggregation": null,
        "pivotColumns": null,
        "xColumns": null,
        "yColumns": null
       },
       "removedWidgets": [],
       "schema": [
        {
         "metadata": "{}",
         "name": "invoice_key",
         "type": "\"integer\""
        },
        {
         "metadata": "{}",
         "name": "order_key",
         "type": "\"integer\""
        },
        {
         "metadata": "{}",
         "name": "invoice_date",
         "type": "\"string\""
        },
        {
         "metadata": "{}",
         "name": "due_date",
         "type": "\"string\""
        },
        {
         "metadata": "{}",
         "name": "tax",
         "type": "\"integer\""
        },
        {
         "metadata": "{}",
         "name": "shipping",
         "type": "\"integer\""
        },
        {
         "metadata": "{}",
         "name": "amount_due",
         "type": "\"integer\""
        }
       ],
       "type": "table"
      }
     },
     "output_type": "display_data"
    }
   ],
   "source": [
    "%scala\n",
    "val df_invoice = spark.read.format(\"com.mongodb.spark.sql.DefaultSource\")\n",
    ".option(\"database\", \"northwind_dw2\").option(\"collection\", \"invoices\").load()\n",
    ".select(\"invoice_key\",\"order_key\", \"invoice_date\", \"due_date\", \"tax\", \"shipping\", \"amount_due\")\n",
    "\n",
    "display(df_invoice)"
   ]
  },
  {
   "cell_type": "code",
   "execution_count": 0,
   "metadata": {
    "application/vnd.databricks.v1+cell": {
     "cellMetadata": {
      "byteLimit": 2048000,
      "rowLimit": 10000
     },
     "inputWidgets": {},
     "nuid": "cb0cce12-7995-4ad6-9e3f-0148260c3244",
     "showTitle": false,
     "title": ""
    }
   },
   "outputs": [
    {
     "output_type": "display_data",
     "data": {
      "text/html": [
       "<style scoped>\n",
       "  .ansiout {\n",
       "    display: block;\n",
       "    unicode-bidi: embed;\n",
       "    white-space: pre-wrap;\n",
       "    word-wrap: break-word;\n",
       "    word-break: break-all;\n",
       "    font-family: \"Source Code Pro\", \"Menlo\", monospace;;\n",
       "    font-size: 13px;\n",
       "    color: #555;\n",
       "    margin-left: 4px;\n",
       "    line-height: 19px;\n",
       "  }\n",
       "</style>\n",
       "<div class=\"ansiout\">root\n",
       "-- invoice_key: integer (nullable = true)\n",
       "-- order_key: integer (nullable = true)\n",
       "-- invoice_date: string (nullable = true)\n",
       "-- due_date: string (nullable = true)\n",
       "-- tax: integer (nullable = true)\n",
       "-- shipping: integer (nullable = true)\n",
       "-- amount_due: integer (nullable = true)\n",
       "\n",
       "</div>"
      ]
     },
     "metadata": {
      "application/vnd.databricks.v1+output": {
       "addedWidgets": {},
       "arguments": {},
       "data": "<div class=\"ansiout\">root\n |-- invoice_key: integer (nullable = true)\n |-- order_key: integer (nullable = true)\n |-- invoice_date: string (nullable = true)\n |-- due_date: string (nullable = true)\n |-- tax: integer (nullable = true)\n |-- shipping: integer (nullable = true)\n |-- amount_due: integer (nullable = true)\n\n</div>",
       "datasetInfos": [],
       "metadata": {
        "isDbfsCommandResult": false
       },
       "removedWidgets": [],
       "type": "html"
      }
     },
     "output_type": "display_data"
    }
   ],
   "source": [
    "%scala\n",
    "df_invoice.printSchema()"
   ]
  },
  {
   "cell_type": "markdown",
   "metadata": {
    "application/vnd.databricks.v1+cell": {
     "cellMetadata": {
      "byteLimit": 2048000,
      "rowLimit": 10000
     },
     "inputWidgets": {},
     "nuid": "728760ad-f138-4e2f-bba1-80b79eccb257",
     "showTitle": false,
     "title": ""
    }
   },
   "source": [
    "##### 2.5.2. Use the Spark DataFrame to Create a New Invoices Dimension Table in the Databricks Metadata Database (northwind_dlh)"
   ]
  },
  {
   "cell_type": "code",
   "execution_count": 0,
   "metadata": {
    "application/vnd.databricks.v1+cell": {
     "cellMetadata": {
      "byteLimit": 2048000,
      "rowLimit": 10000
     },
     "inputWidgets": {},
     "nuid": "736a6a8d-19b8-43a0-ab42-1e5a49bfea8a",
     "showTitle": false,
     "title": ""
    }
   },
   "outputs": [
    {
     "output_type": "display_data",
     "data": {
      "text/html": [
       "<style scoped>\n",
       "  .ansiout {\n",
       "    display: block;\n",
       "    unicode-bidi: embed;\n",
       "    white-space: pre-wrap;\n",
       "    word-wrap: break-word;\n",
       "    word-break: break-all;\n",
       "    font-family: \"Source Code Pro\", \"Menlo\", monospace;;\n",
       "    font-size: 13px;\n",
       "    color: #555;\n",
       "    margin-left: 4px;\n",
       "    line-height: 19px;\n",
       "  }\n",
       "</style>\n",
       "<div class=\"ansiout\"></div>"
      ]
     },
     "metadata": {
      "application/vnd.databricks.v1+output": {
       "addedWidgets": {},
       "arguments": {},
       "data": "<div class=\"ansiout\"></div>",
       "datasetInfos": [],
       "metadata": {
        "isDbfsCommandResult": false
       },
       "removedWidgets": [],
       "type": "html"
      }
     },
     "output_type": "display_data"
    }
   ],
   "source": [
    "%scala\n",
    "df_invoice.write.format(\"delta\").mode(\"overwrite\").saveAsTable(\"northwind_dlh.dim_invoice\")"
   ]
  },
  {
   "cell_type": "code",
   "execution_count": 0,
   "metadata": {
    "application/vnd.databricks.v1+cell": {
     "cellMetadata": {
      "byteLimit": 2048000,
      "implicitDf": true,
      "rowLimit": 10000
     },
     "inputWidgets": {},
     "nuid": "5a260fd6-e930-4e66-872d-6dda13c9283e",
     "showTitle": false,
     "title": ""
    }
   },
   "outputs": [
    {
     "output_type": "display_data",
     "data": {
      "text/html": [
       "<style scoped>\n",
       "  .table-result-container {\n",
       "    max-height: 300px;\n",
       "    overflow: auto;\n",
       "  }\n",
       "  table, th, td {\n",
       "    border: 1px solid black;\n",
       "    border-collapse: collapse;\n",
       "  }\n",
       "  th, td {\n",
       "    padding: 5px;\n",
       "  }\n",
       "  th {\n",
       "    text-align: left;\n",
       "  }\n",
       "</style><div class='table-result-container'><table class='table-result'><thead style='background-color: white'><tr><th>col_name</th><th>data_type</th><th>comment</th></tr></thead><tbody><tr><td>invoice_key</td><td>int</td><td>null</td></tr><tr><td>order_key</td><td>int</td><td>null</td></tr><tr><td>invoice_date</td><td>string</td><td>null</td></tr><tr><td>due_date</td><td>string</td><td>null</td></tr><tr><td>tax</td><td>int</td><td>null</td></tr><tr><td>shipping</td><td>int</td><td>null</td></tr><tr><td>amount_due</td><td>int</td><td>null</td></tr><tr><td></td><td></td><td></td></tr><tr><td># Detailed Table Information</td><td></td><td></td></tr><tr><td>Catalog</td><td>spark_catalog</td><td></td></tr><tr><td>Database</td><td>northwind_dlh</td><td></td></tr><tr><td>Table</td><td>dim_invoice</td><td></td></tr><tr><td>Type</td><td>MANAGED</td><td></td></tr><tr><td>Location</td><td>dbfs:/FileStore/ds2002-lab06/northwind_dlh/dim_invoice</td><td></td></tr><tr><td>Provider</td><td>delta</td><td></td></tr><tr><td>Owner</td><td>root</td><td></td></tr><tr><td>Is_managed_location</td><td>true</td><td></td></tr><tr><td>Table Properties</td><td>[delta.minReaderVersion=1,delta.minWriterVersion=2]</td><td></td></tr></tbody></table></div>"
      ]
     },
     "metadata": {
      "application/vnd.databricks.v1+output": {
       "addedWidgets": {},
       "aggData": [],
       "aggError": "",
       "aggOverflow": false,
       "aggSchema": [],
       "aggSeriesLimitReached": false,
       "aggType": "",
       "arguments": {},
       "columnCustomDisplayInfos": {},
       "data": [
        [
         "invoice_key",
         "int",
         null
        ],
        [
         "order_key",
         "int",
         null
        ],
        [
         "invoice_date",
         "string",
         null
        ],
        [
         "due_date",
         "string",
         null
        ],
        [
         "tax",
         "int",
         null
        ],
        [
         "shipping",
         "int",
         null
        ],
        [
         "amount_due",
         "int",
         null
        ],
        [
         "",
         "",
         ""
        ],
        [
         "# Detailed Table Information",
         "",
         ""
        ],
        [
         "Catalog",
         "spark_catalog",
         ""
        ],
        [
         "Database",
         "northwind_dlh",
         ""
        ],
        [
         "Table",
         "dim_invoice",
         ""
        ],
        [
         "Type",
         "MANAGED",
         ""
        ],
        [
         "Location",
         "dbfs:/FileStore/ds2002-lab06/northwind_dlh/dim_invoice",
         ""
        ],
        [
         "Provider",
         "delta",
         ""
        ],
        [
         "Owner",
         "root",
         ""
        ],
        [
         "Is_managed_location",
         "true",
         ""
        ],
        [
         "Table Properties",
         "[delta.minReaderVersion=1,delta.minWriterVersion=2]",
         ""
        ]
       ],
       "datasetInfos": [],
       "dbfsResultPath": null,
       "isJsonSchema": true,
       "metadata": {},
       "overflow": false,
       "plotOptions": {
        "customPlotOptions": {},
        "displayType": "table",
        "pivotAggregation": null,
        "pivotColumns": null,
        "xColumns": null,
        "yColumns": null
       },
       "removedWidgets": [],
       "schema": [
        {
         "metadata": "{\"comment\":\"name of the column\"}",
         "name": "col_name",
         "type": "\"string\""
        },
        {
         "metadata": "{\"comment\":\"data type of the column\"}",
         "name": "data_type",
         "type": "\"string\""
        },
        {
         "metadata": "{\"comment\":\"comment of the column\"}",
         "name": "comment",
         "type": "\"string\""
        }
       ],
       "type": "table"
      }
     },
     "output_type": "display_data"
    }
   ],
   "source": [
    "%sql\n",
    "DESCRIBE EXTENDED northwind_dlh.dim_invoice"
   ]
  },
  {
   "cell_type": "code",
   "execution_count": 0,
   "metadata": {
    "application/vnd.databricks.v1+cell": {
     "cellMetadata": {
      "byteLimit": 2048000,
      "implicitDf": true,
      "rowLimit": 10000
     },
     "inputWidgets": {},
     "nuid": "030bba66-4265-493e-93c9-b6449d29ee16",
     "showTitle": false,
     "title": ""
    }
   },
   "outputs": [
    {
     "output_type": "display_data",
     "data": {
      "text/html": [
       "<style scoped>\n",
       "  .table-result-container {\n",
       "    max-height: 300px;\n",
       "    overflow: auto;\n",
       "  }\n",
       "  table, th, td {\n",
       "    border: 1px solid black;\n",
       "    border-collapse: collapse;\n",
       "  }\n",
       "  th, td {\n",
       "    padding: 5px;\n",
       "  }\n",
       "  th {\n",
       "    text-align: left;\n",
       "  }\n",
       "</style><div class='table-result-container'><table class='table-result'><thead style='background-color: white'><tr><th>invoice_key</th><th>order_key</th><th>invoice_date</th><th>due_date</th><th>tax</th><th>shipping</th><th>amount_due</th></tr></thead><tbody><tr><td>5</td><td>31</td><td>2006-03-22 16:08:59</td><td>2006-04-04 11:43:08</td><td>0</td><td>0</td><td>0</td></tr><tr><td>6</td><td>32</td><td>2006-03-22 16:10:27</td><td>2006-04-04 11:43:08</td><td>0</td><td>0</td><td>0</td></tr><tr><td>7</td><td>40</td><td>2006-03-24 10:41:41</td><td>2006-04-04 11:43:08</td><td>0</td><td>0</td><td>0</td></tr><tr><td>8</td><td>39</td><td>2006-03-24 10:55:46</td><td>2006-04-04 11:43:08</td><td>0</td><td>0</td><td>0</td></tr><tr><td>9</td><td>38</td><td>2006-03-24 10:56:57</td><td>2006-04-04 11:43:08</td><td>0</td><td>0</td><td>0</td></tr></tbody></table></div>"
      ]
     },
     "metadata": {
      "application/vnd.databricks.v1+output": {
       "addedWidgets": {},
       "aggData": [],
       "aggError": "",
       "aggOverflow": false,
       "aggSchema": [],
       "aggSeriesLimitReached": false,
       "aggType": "",
       "arguments": {},
       "columnCustomDisplayInfos": {},
       "data": [
        [
         5,
         31,
         "2006-03-22 16:08:59",
         "2006-04-04 11:43:08",
         0,
         0,
         0
        ],
        [
         6,
         32,
         "2006-03-22 16:10:27",
         "2006-04-04 11:43:08",
         0,
         0,
         0
        ],
        [
         7,
         40,
         "2006-03-24 10:41:41",
         "2006-04-04 11:43:08",
         0,
         0,
         0
        ],
        [
         8,
         39,
         "2006-03-24 10:55:46",
         "2006-04-04 11:43:08",
         0,
         0,
         0
        ],
        [
         9,
         38,
         "2006-03-24 10:56:57",
         "2006-04-04 11:43:08",
         0,
         0,
         0
        ]
       ],
       "datasetInfos": [],
       "dbfsResultPath": null,
       "isJsonSchema": true,
       "metadata": {},
       "overflow": false,
       "plotOptions": {
        "customPlotOptions": {},
        "displayType": "table",
        "pivotAggregation": null,
        "pivotColumns": null,
        "xColumns": null,
        "yColumns": null
       },
       "removedWidgets": [],
       "schema": [
        {
         "metadata": "{}",
         "name": "invoice_key",
         "type": "\"integer\""
        },
        {
         "metadata": "{}",
         "name": "order_key",
         "type": "\"integer\""
        },
        {
         "metadata": "{}",
         "name": "invoice_date",
         "type": "\"string\""
        },
        {
         "metadata": "{}",
         "name": "due_date",
         "type": "\"string\""
        },
        {
         "metadata": "{}",
         "name": "tax",
         "type": "\"integer\""
        },
        {
         "metadata": "{}",
         "name": "shipping",
         "type": "\"integer\""
        },
        {
         "metadata": "{}",
         "name": "amount_due",
         "type": "\"integer\""
        }
       ],
       "type": "table"
      }
     },
     "output_type": "display_data"
    }
   ],
   "source": [
    "%sql\n",
    "SELECT * FROM northwind_dlh.dim_invoice LIMIT 5"
   ]
  },
  {
   "cell_type": "markdown",
   "metadata": {
    "application/vnd.databricks.v1+cell": {
     "cellMetadata": {
      "byteLimit": 2048000,
      "rowLimit": 10000
     },
     "inputWidgets": {},
     "nuid": "9936b98e-53e2-4f75-9db5-9bbefad735fe",
     "showTitle": false,
     "title": ""
    }
   },
   "source": [
    "#### 3.0. Fetch Data from a File System\n",
    "##### 3.1. Use PySpark to Read From a CSV File"
   ]
  },
  {
   "cell_type": "code",
   "execution_count": 0,
   "metadata": {
    "application/vnd.databricks.v1+cell": {
     "cellMetadata": {
      "byteLimit": 2048000,
      "rowLimit": 10000
     },
     "inputWidgets": {},
     "nuid": "b47c7ad8-a57b-46ca-a734-9bbf271cf0bf",
     "showTitle": false,
     "title": ""
    }
   },
   "outputs": [
    {
     "output_type": "display_data",
     "data": {
      "text/html": [
       "<style scoped>\n",
       "  .table-result-container {\n",
       "    max-height: 300px;\n",
       "    overflow: auto;\n",
       "  }\n",
       "  table, th, td {\n",
       "    border: 1px solid black;\n",
       "    border-collapse: collapse;\n",
       "  }\n",
       "  th, td {\n",
       "    padding: 5px;\n",
       "  }\n",
       "  th {\n",
       "    text-align: left;\n",
       "  }\n",
       "</style><div class='table-result-container'><table class='table-result'><thead style='background-color: white'><tr><th>employee_key</th><th>company</th><th>last_name</th><th>first_name</th><th>email_address</th><th>job_title</th><th>business_phone</th><th>home_phone</th><th>fax_number</th><th>address</th><th>city</th><th>state_province</th><th>zip_postal_code</th><th>country_region</th><th>web_page</th></tr></thead><tbody><tr><td>1</td><td>Northwind Traders</td><td>Freehafer</td><td>Nancy</td><td>nancy@northwindtraders.com</td><td>Sales Representative</td><td>(123)555-0100</td><td>(123)555-0102</td><td>(123)555-0103</td><td>123 1st Avenue</td><td>Seattle</td><td>WA</td><td>99999</td><td>USA</td><td>#http://northwindtraders.com#</td></tr><tr><td>2</td><td>Northwind Traders</td><td>Cencini</td><td>Andrew</td><td>andrew@northwindtraders.com</td><td>Vice President, Sales</td><td>(123)555-0100</td><td>(123)555-0102</td><td>(123)555-0103</td><td>123 2nd Avenue</td><td>Bellevue</td><td>WA</td><td>99999</td><td>USA</td><td>http://northwindtraders.com#http://northwindtraders.com/#</td></tr><tr><td>3</td><td>Northwind Traders</td><td>Kotas</td><td>Jan</td><td>jan@northwindtraders.com</td><td>Sales Representative</td><td>(123)555-0100</td><td>(123)555-0102</td><td>(123)555-0103</td><td>123 3rd Avenue</td><td>Redmond</td><td>WA</td><td>99999</td><td>USA</td><td>http://northwindtraders.com#http://northwindtraders.com/#</td></tr><tr><td>4</td><td>Northwind Traders</td><td>Sergienko</td><td>Mariya</td><td>mariya@northwindtraders.com</td><td>Sales Representative</td><td>(123)555-0100</td><td>(123)555-0102</td><td>(123)555-0103</td><td>123 4th Avenue</td><td>Kirkland</td><td>WA</td><td>99999</td><td>USA</td><td>http://northwindtraders.com#http://northwindtraders.com/#</td></tr><tr><td>5</td><td>Northwind Traders</td><td>Thorpe</td><td>Steven</td><td>steven@northwindtraders.com</td><td>Sales Manager</td><td>(123)555-0100</td><td>(123)555-0102</td><td>(123)555-0103</td><td>123 5th Avenue</td><td>Seattle</td><td>WA</td><td>99999</td><td>USA</td><td>http://northwindtraders.com#http://northwindtraders.com/#</td></tr><tr><td>6</td><td>Northwind Traders</td><td>Neipper</td><td>Michael</td><td>michael@northwindtraders.com</td><td>Sales Representative</td><td>(123)555-0100</td><td>(123)555-0102</td><td>(123)555-0103</td><td>123 6th Avenue</td><td>Redmond</td><td>WA</td><td>99999</td><td>USA</td><td>http://northwindtraders.com#http://northwindtraders.com/#</td></tr><tr><td>7</td><td>Northwind Traders</td><td>Zare</td><td>Robert</td><td>robert@northwindtraders.com</td><td>Sales Representative</td><td>(123)555-0100</td><td>(123)555-0102</td><td>(123)555-0103</td><td>123 7th Avenue</td><td>Seattle</td><td>WA</td><td>99999</td><td>USA</td><td>http://northwindtraders.com#http://northwindtraders.com/#</td></tr><tr><td>8</td><td>Northwind Traders</td><td>Giussani</td><td>Laura</td><td>laura@northwindtraders.com</td><td>Sales Coordinator</td><td>(123)555-0100</td><td>(123)555-0102</td><td>(123)555-0103</td><td>123 8th Avenue</td><td>Redmond</td><td>WA</td><td>99999</td><td>USA</td><td>http://northwindtraders.com#http://northwindtraders.com/#</td></tr><tr><td>9</td><td>Northwind Traders</td><td>Hellung-Larsen</td><td>Anne</td><td>anne@northwindtraders.com</td><td>Sales Representative</td><td>(123)555-0100</td><td>(123)555-0102</td><td>(123)555-0103</td><td>123 9th Avenue</td><td>Seattle</td><td>WA</td><td>99999</td><td>USA</td><td>http://northwindtraders.com#http://northwindtraders.com/#</td></tr></tbody></table></div>"
      ]
     },
     "metadata": {
      "application/vnd.databricks.v1+output": {
       "addedWidgets": {},
       "aggData": [],
       "aggError": "",
       "aggOverflow": false,
       "aggSchema": [],
       "aggSeriesLimitReached": false,
       "aggType": "",
       "arguments": {},
       "columnCustomDisplayInfos": {},
       "data": [
        [
         1,
         "Northwind Traders",
         "Freehafer",
         "Nancy",
         "nancy@northwindtraders.com",
         "Sales Representative",
         "(123)555-0100",
         "(123)555-0102",
         "(123)555-0103",
         "123 1st Avenue",
         "Seattle",
         "WA",
         99999,
         "USA",
         "#http://northwindtraders.com#"
        ],
        [
         2,
         "Northwind Traders",
         "Cencini",
         "Andrew",
         "andrew@northwindtraders.com",
         "Vice President, Sales",
         "(123)555-0100",
         "(123)555-0102",
         "(123)555-0103",
         "123 2nd Avenue",
         "Bellevue",
         "WA",
         99999,
         "USA",
         "http://northwindtraders.com#http://northwindtraders.com/#"
        ],
        [
         3,
         "Northwind Traders",
         "Kotas",
         "Jan",
         "jan@northwindtraders.com",
         "Sales Representative",
         "(123)555-0100",
         "(123)555-0102",
         "(123)555-0103",
         "123 3rd Avenue",
         "Redmond",
         "WA",
         99999,
         "USA",
         "http://northwindtraders.com#http://northwindtraders.com/#"
        ],
        [
         4,
         "Northwind Traders",
         "Sergienko",
         "Mariya",
         "mariya@northwindtraders.com",
         "Sales Representative",
         "(123)555-0100",
         "(123)555-0102",
         "(123)555-0103",
         "123 4th Avenue",
         "Kirkland",
         "WA",
         99999,
         "USA",
         "http://northwindtraders.com#http://northwindtraders.com/#"
        ],
        [
         5,
         "Northwind Traders",
         "Thorpe",
         "Steven",
         "steven@northwindtraders.com",
         "Sales Manager",
         "(123)555-0100",
         "(123)555-0102",
         "(123)555-0103",
         "123 5th Avenue",
         "Seattle",
         "WA",
         99999,
         "USA",
         "http://northwindtraders.com#http://northwindtraders.com/#"
        ],
        [
         6,
         "Northwind Traders",
         "Neipper",
         "Michael",
         "michael@northwindtraders.com",
         "Sales Representative",
         "(123)555-0100",
         "(123)555-0102",
         "(123)555-0103",
         "123 6th Avenue",
         "Redmond",
         "WA",
         99999,
         "USA",
         "http://northwindtraders.com#http://northwindtraders.com/#"
        ],
        [
         7,
         "Northwind Traders",
         "Zare",
         "Robert",
         "robert@northwindtraders.com",
         "Sales Representative",
         "(123)555-0100",
         "(123)555-0102",
         "(123)555-0103",
         "123 7th Avenue",
         "Seattle",
         "WA",
         99999,
         "USA",
         "http://northwindtraders.com#http://northwindtraders.com/#"
        ],
        [
         8,
         "Northwind Traders",
         "Giussani",
         "Laura",
         "laura@northwindtraders.com",
         "Sales Coordinator",
         "(123)555-0100",
         "(123)555-0102",
         "(123)555-0103",
         "123 8th Avenue",
         "Redmond",
         "WA",
         99999,
         "USA",
         "http://northwindtraders.com#http://northwindtraders.com/#"
        ],
        [
         9,
         "Northwind Traders",
         "Hellung-Larsen",
         "Anne",
         "anne@northwindtraders.com",
         "Sales Representative",
         "(123)555-0100",
         "(123)555-0102",
         "(123)555-0103",
         "123 9th Avenue",
         "Seattle",
         "WA",
         99999,
         "USA",
         "http://northwindtraders.com#http://northwindtraders.com/#"
        ]
       ],
       "datasetInfos": [],
       "dbfsResultPath": null,
       "isJsonSchema": true,
       "metadata": {},
       "overflow": false,
       "plotOptions": {
        "customPlotOptions": {},
        "displayType": "table",
        "pivotAggregation": null,
        "pivotColumns": null,
        "xColumns": null,
        "yColumns": null
       },
       "removedWidgets": [],
       "schema": [
        {
         "metadata": "{}",
         "name": "employee_key",
         "type": "\"integer\""
        },
        {
         "metadata": "{}",
         "name": "company",
         "type": "\"string\""
        },
        {
         "metadata": "{}",
         "name": "last_name",
         "type": "\"string\""
        },
        {
         "metadata": "{}",
         "name": "first_name",
         "type": "\"string\""
        },
        {
         "metadata": "{}",
         "name": "email_address",
         "type": "\"string\""
        },
        {
         "metadata": "{}",
         "name": "job_title",
         "type": "\"string\""
        },
        {
         "metadata": "{}",
         "name": "business_phone",
         "type": "\"string\""
        },
        {
         "metadata": "{}",
         "name": "home_phone",
         "type": "\"string\""
        },
        {
         "metadata": "{}",
         "name": "fax_number",
         "type": "\"string\""
        },
        {
         "metadata": "{}",
         "name": "address",
         "type": "\"string\""
        },
        {
         "metadata": "{}",
         "name": "city",
         "type": "\"string\""
        },
        {
         "metadata": "{}",
         "name": "state_province",
         "type": "\"string\""
        },
        {
         "metadata": "{}",
         "name": "zip_postal_code",
         "type": "\"integer\""
        },
        {
         "metadata": "{}",
         "name": "country_region",
         "type": "\"string\""
        },
        {
         "metadata": "{}",
         "name": "web_page",
         "type": "\"string\""
        }
       ],
       "type": "table"
      }
     },
     "output_type": "display_data"
    }
   ],
   "source": [
    "employee_csv = f\"{batch_dir}/Northwind_DimEmployees.csv\"\n",
    "\n",
    "df_employee = spark.read.format('csv').options(header='true', inferSchema='true').load(employee_csv)\n",
    "display(df_employee)"
   ]
  },
  {
   "cell_type": "code",
   "execution_count": 0,
   "metadata": {
    "application/vnd.databricks.v1+cell": {
     "cellMetadata": {
      "byteLimit": 2048000,
      "rowLimit": 10000
     },
     "inputWidgets": {},
     "nuid": "12852bc5-3ebd-4ef8-a96b-8b25516ccbea",
     "showTitle": false,
     "title": ""
    }
   },
   "outputs": [
    {
     "output_type": "stream",
     "name": "stdout",
     "output_type": "stream",
     "text": [
      "root\n |-- employee_key: integer (nullable = true)\n |-- company: string (nullable = true)\n |-- last_name: string (nullable = true)\n |-- first_name: string (nullable = true)\n |-- email_address: string (nullable = true)\n |-- job_title: string (nullable = true)\n |-- business_phone: string (nullable = true)\n |-- home_phone: string (nullable = true)\n |-- fax_number: string (nullable = true)\n |-- address: string (nullable = true)\n |-- city: string (nullable = true)\n |-- state_province: string (nullable = true)\n |-- zip_postal_code: integer (nullable = true)\n |-- country_region: string (nullable = true)\n |-- web_page: string (nullable = true)\n\n"
     ]
    }
   ],
   "source": [
    "df_employee.printSchema()"
   ]
  },
  {
   "cell_type": "code",
   "execution_count": 0,
   "metadata": {
    "application/vnd.databricks.v1+cell": {
     "cellMetadata": {
      "byteLimit": 2048000,
      "rowLimit": 10000
     },
     "inputWidgets": {},
     "nuid": "199f4806-101a-41bf-ac54-b8ec2b8c4935",
     "showTitle": false,
     "title": ""
    }
   },
   "outputs": [],
   "source": [
    "df_employee.write.format(\"delta\").mode(\"overwrite\").saveAsTable(\"northwind_dlh.dim_employee\")"
   ]
  },
  {
   "cell_type": "code",
   "execution_count": 0,
   "metadata": {
    "application/vnd.databricks.v1+cell": {
     "cellMetadata": {
      "byteLimit": 2048000,
      "implicitDf": true,
      "rowLimit": 10000
     },
     "inputWidgets": {},
     "nuid": "cb7e6ae7-5c04-4c46-a49f-bbdaa975ccc6",
     "showTitle": false,
     "title": ""
    }
   },
   "outputs": [
    {
     "output_type": "display_data",
     "data": {
      "text/html": [
       "<style scoped>\n",
       "  .table-result-container {\n",
       "    max-height: 300px;\n",
       "    overflow: auto;\n",
       "  }\n",
       "  table, th, td {\n",
       "    border: 1px solid black;\n",
       "    border-collapse: collapse;\n",
       "  }\n",
       "  th, td {\n",
       "    padding: 5px;\n",
       "  }\n",
       "  th {\n",
       "    text-align: left;\n",
       "  }\n",
       "</style><div class='table-result-container'><table class='table-result'><thead style='background-color: white'><tr><th>col_name</th><th>data_type</th><th>comment</th></tr></thead><tbody><tr><td>employee_key</td><td>int</td><td>null</td></tr><tr><td>company</td><td>string</td><td>null</td></tr><tr><td>last_name</td><td>string</td><td>null</td></tr><tr><td>first_name</td><td>string</td><td>null</td></tr><tr><td>email_address</td><td>string</td><td>null</td></tr><tr><td>job_title</td><td>string</td><td>null</td></tr><tr><td>business_phone</td><td>string</td><td>null</td></tr><tr><td>home_phone</td><td>string</td><td>null</td></tr><tr><td>fax_number</td><td>string</td><td>null</td></tr><tr><td>address</td><td>string</td><td>null</td></tr><tr><td>city</td><td>string</td><td>null</td></tr><tr><td>state_province</td><td>string</td><td>null</td></tr><tr><td>zip_postal_code</td><td>int</td><td>null</td></tr><tr><td>country_region</td><td>string</td><td>null</td></tr><tr><td>web_page</td><td>string</td><td>null</td></tr><tr><td></td><td></td><td></td></tr><tr><td># Detailed Table Information</td><td></td><td></td></tr><tr><td>Catalog</td><td>spark_catalog</td><td></td></tr><tr><td>Database</td><td>northwind_dlh</td><td></td></tr><tr><td>Table</td><td>dim_employee</td><td></td></tr><tr><td>Type</td><td>MANAGED</td><td></td></tr><tr><td>Location</td><td>dbfs:/FileStore/ds2002-lab06/northwind_dlh/dim_employee</td><td></td></tr><tr><td>Provider</td><td>delta</td><td></td></tr><tr><td>Owner</td><td>root</td><td></td></tr><tr><td>Is_managed_location</td><td>true</td><td></td></tr><tr><td>Table Properties</td><td>[delta.minReaderVersion=1,delta.minWriterVersion=2]</td><td></td></tr></tbody></table></div>"
      ]
     },
     "metadata": {
      "application/vnd.databricks.v1+output": {
       "addedWidgets": {},
       "aggData": [],
       "aggError": "",
       "aggOverflow": false,
       "aggSchema": [],
       "aggSeriesLimitReached": false,
       "aggType": "",
       "arguments": {},
       "columnCustomDisplayInfos": {},
       "data": [
        [
         "employee_key",
         "int",
         null
        ],
        [
         "company",
         "string",
         null
        ],
        [
         "last_name",
         "string",
         null
        ],
        [
         "first_name",
         "string",
         null
        ],
        [
         "email_address",
         "string",
         null
        ],
        [
         "job_title",
         "string",
         null
        ],
        [
         "business_phone",
         "string",
         null
        ],
        [
         "home_phone",
         "string",
         null
        ],
        [
         "fax_number",
         "string",
         null
        ],
        [
         "address",
         "string",
         null
        ],
        [
         "city",
         "string",
         null
        ],
        [
         "state_province",
         "string",
         null
        ],
        [
         "zip_postal_code",
         "int",
         null
        ],
        [
         "country_region",
         "string",
         null
        ],
        [
         "web_page",
         "string",
         null
        ],
        [
         "",
         "",
         ""
        ],
        [
         "# Detailed Table Information",
         "",
         ""
        ],
        [
         "Catalog",
         "spark_catalog",
         ""
        ],
        [
         "Database",
         "northwind_dlh",
         ""
        ],
        [
         "Table",
         "dim_employee",
         ""
        ],
        [
         "Type",
         "MANAGED",
         ""
        ],
        [
         "Location",
         "dbfs:/FileStore/ds2002-lab06/northwind_dlh/dim_employee",
         ""
        ],
        [
         "Provider",
         "delta",
         ""
        ],
        [
         "Owner",
         "root",
         ""
        ],
        [
         "Is_managed_location",
         "true",
         ""
        ],
        [
         "Table Properties",
         "[delta.minReaderVersion=1,delta.minWriterVersion=2]",
         ""
        ]
       ],
       "datasetInfos": [],
       "dbfsResultPath": null,
       "isJsonSchema": true,
       "metadata": {},
       "overflow": false,
       "plotOptions": {
        "customPlotOptions": {},
        "displayType": "table",
        "pivotAggregation": null,
        "pivotColumns": null,
        "xColumns": null,
        "yColumns": null
       },
       "removedWidgets": [],
       "schema": [
        {
         "metadata": "{\"comment\":\"name of the column\"}",
         "name": "col_name",
         "type": "\"string\""
        },
        {
         "metadata": "{\"comment\":\"data type of the column\"}",
         "name": "data_type",
         "type": "\"string\""
        },
        {
         "metadata": "{\"comment\":\"comment of the column\"}",
         "name": "comment",
         "type": "\"string\""
        }
       ],
       "type": "table"
      }
     },
     "output_type": "display_data"
    }
   ],
   "source": [
    "%sql\n",
    "DESCRIBE EXTENDED northwind_dlh.dim_employee;"
   ]
  },
  {
   "cell_type": "code",
   "execution_count": 0,
   "metadata": {
    "application/vnd.databricks.v1+cell": {
     "cellMetadata": {
      "byteLimit": 2048000,
      "implicitDf": true,
      "rowLimit": 10000
     },
     "inputWidgets": {},
     "nuid": "c0e93baa-868a-4ea0-b168-df44c2527f17",
     "showTitle": false,
     "title": ""
    }
   },
   "outputs": [
    {
     "output_type": "display_data",
     "data": {
      "text/html": [
       "<style scoped>\n",
       "  .table-result-container {\n",
       "    max-height: 300px;\n",
       "    overflow: auto;\n",
       "  }\n",
       "  table, th, td {\n",
       "    border: 1px solid black;\n",
       "    border-collapse: collapse;\n",
       "  }\n",
       "  th, td {\n",
       "    padding: 5px;\n",
       "  }\n",
       "  th {\n",
       "    text-align: left;\n",
       "  }\n",
       "</style><div class='table-result-container'><table class='table-result'><thead style='background-color: white'><tr><th>employee_key</th><th>company</th><th>last_name</th><th>first_name</th><th>email_address</th><th>job_title</th><th>business_phone</th><th>home_phone</th><th>fax_number</th><th>address</th><th>city</th><th>state_province</th><th>zip_postal_code</th><th>country_region</th><th>web_page</th></tr></thead><tbody><tr><td>1</td><td>Northwind Traders</td><td>Freehafer</td><td>Nancy</td><td>nancy@northwindtraders.com</td><td>Sales Representative</td><td>(123)555-0100</td><td>(123)555-0102</td><td>(123)555-0103</td><td>123 1st Avenue</td><td>Seattle</td><td>WA</td><td>99999</td><td>USA</td><td>#http://northwindtraders.com#</td></tr><tr><td>2</td><td>Northwind Traders</td><td>Cencini</td><td>Andrew</td><td>andrew@northwindtraders.com</td><td>Vice President, Sales</td><td>(123)555-0100</td><td>(123)555-0102</td><td>(123)555-0103</td><td>123 2nd Avenue</td><td>Bellevue</td><td>WA</td><td>99999</td><td>USA</td><td>http://northwindtraders.com#http://northwindtraders.com/#</td></tr><tr><td>3</td><td>Northwind Traders</td><td>Kotas</td><td>Jan</td><td>jan@northwindtraders.com</td><td>Sales Representative</td><td>(123)555-0100</td><td>(123)555-0102</td><td>(123)555-0103</td><td>123 3rd Avenue</td><td>Redmond</td><td>WA</td><td>99999</td><td>USA</td><td>http://northwindtraders.com#http://northwindtraders.com/#</td></tr><tr><td>4</td><td>Northwind Traders</td><td>Sergienko</td><td>Mariya</td><td>mariya@northwindtraders.com</td><td>Sales Representative</td><td>(123)555-0100</td><td>(123)555-0102</td><td>(123)555-0103</td><td>123 4th Avenue</td><td>Kirkland</td><td>WA</td><td>99999</td><td>USA</td><td>http://northwindtraders.com#http://northwindtraders.com/#</td></tr><tr><td>5</td><td>Northwind Traders</td><td>Thorpe</td><td>Steven</td><td>steven@northwindtraders.com</td><td>Sales Manager</td><td>(123)555-0100</td><td>(123)555-0102</td><td>(123)555-0103</td><td>123 5th Avenue</td><td>Seattle</td><td>WA</td><td>99999</td><td>USA</td><td>http://northwindtraders.com#http://northwindtraders.com/#</td></tr></tbody></table></div>"
      ]
     },
     "metadata": {
      "application/vnd.databricks.v1+output": {
       "addedWidgets": {},
       "aggData": [],
       "aggError": "",
       "aggOverflow": false,
       "aggSchema": [],
       "aggSeriesLimitReached": false,
       "aggType": "",
       "arguments": {},
       "columnCustomDisplayInfos": {},
       "data": [
        [
         1,
         "Northwind Traders",
         "Freehafer",
         "Nancy",
         "nancy@northwindtraders.com",
         "Sales Representative",
         "(123)555-0100",
         "(123)555-0102",
         "(123)555-0103",
         "123 1st Avenue",
         "Seattle",
         "WA",
         99999,
         "USA",
         "#http://northwindtraders.com#"
        ],
        [
         2,
         "Northwind Traders",
         "Cencini",
         "Andrew",
         "andrew@northwindtraders.com",
         "Vice President, Sales",
         "(123)555-0100",
         "(123)555-0102",
         "(123)555-0103",
         "123 2nd Avenue",
         "Bellevue",
         "WA",
         99999,
         "USA",
         "http://northwindtraders.com#http://northwindtraders.com/#"
        ],
        [
         3,
         "Northwind Traders",
         "Kotas",
         "Jan",
         "jan@northwindtraders.com",
         "Sales Representative",
         "(123)555-0100",
         "(123)555-0102",
         "(123)555-0103",
         "123 3rd Avenue",
         "Redmond",
         "WA",
         99999,
         "USA",
         "http://northwindtraders.com#http://northwindtraders.com/#"
        ],
        [
         4,
         "Northwind Traders",
         "Sergienko",
         "Mariya",
         "mariya@northwindtraders.com",
         "Sales Representative",
         "(123)555-0100",
         "(123)555-0102",
         "(123)555-0103",
         "123 4th Avenue",
         "Kirkland",
         "WA",
         99999,
         "USA",
         "http://northwindtraders.com#http://northwindtraders.com/#"
        ],
        [
         5,
         "Northwind Traders",
         "Thorpe",
         "Steven",
         "steven@northwindtraders.com",
         "Sales Manager",
         "(123)555-0100",
         "(123)555-0102",
         "(123)555-0103",
         "123 5th Avenue",
         "Seattle",
         "WA",
         99999,
         "USA",
         "http://northwindtraders.com#http://northwindtraders.com/#"
        ]
       ],
       "datasetInfos": [],
       "dbfsResultPath": null,
       "isJsonSchema": true,
       "metadata": {},
       "overflow": false,
       "plotOptions": {
        "customPlotOptions": {},
        "displayType": "table",
        "pivotAggregation": null,
        "pivotColumns": null,
        "xColumns": null,
        "yColumns": null
       },
       "removedWidgets": [],
       "schema": [
        {
         "metadata": "{}",
         "name": "employee_key",
         "type": "\"integer\""
        },
        {
         "metadata": "{}",
         "name": "company",
         "type": "\"string\""
        },
        {
         "metadata": "{}",
         "name": "last_name",
         "type": "\"string\""
        },
        {
         "metadata": "{}",
         "name": "first_name",
         "type": "\"string\""
        },
        {
         "metadata": "{}",
         "name": "email_address",
         "type": "\"string\""
        },
        {
         "metadata": "{}",
         "name": "job_title",
         "type": "\"string\""
        },
        {
         "metadata": "{}",
         "name": "business_phone",
         "type": "\"string\""
        },
        {
         "metadata": "{}",
         "name": "home_phone",
         "type": "\"string\""
        },
        {
         "metadata": "{}",
         "name": "fax_number",
         "type": "\"string\""
        },
        {
         "metadata": "{}",
         "name": "address",
         "type": "\"string\""
        },
        {
         "metadata": "{}",
         "name": "city",
         "type": "\"string\""
        },
        {
         "metadata": "{}",
         "name": "state_province",
         "type": "\"string\""
        },
        {
         "metadata": "{}",
         "name": "zip_postal_code",
         "type": "\"integer\""
        },
        {
         "metadata": "{}",
         "name": "country_region",
         "type": "\"string\""
        },
        {
         "metadata": "{}",
         "name": "web_page",
         "type": "\"string\""
        }
       ],
       "type": "table"
      }
     },
     "output_type": "display_data"
    }
   ],
   "source": [
    "%sql\n",
    "SELECT * FROM northwind_dlh.dim_employee LIMIT 5;"
   ]
  },
  {
   "cell_type": "markdown",
   "metadata": {
    "application/vnd.databricks.v1+cell": {
     "cellMetadata": {
      "byteLimit": 2048000,
      "rowLimit": 10000
     },
     "inputWidgets": {},
     "nuid": "4f16bed2-735a-4fb4-a8e3-14952976a618",
     "showTitle": false,
     "title": ""
    }
   },
   "source": [
    "##### 3.2 Use PySpark to Read Shipper Dimension Data from CSV File"
   ]
  },
  {
   "cell_type": "code",
   "execution_count": 0,
   "metadata": {
    "application/vnd.databricks.v1+cell": {
     "cellMetadata": {
      "byteLimit": 2048000,
      "rowLimit": 10000
     },
     "inputWidgets": {},
     "nuid": "75129b67-0db6-48cb-8e3b-0323cc4a429a",
     "showTitle": false,
     "title": ""
    }
   },
   "outputs": [
    {
     "output_type": "display_data",
     "data": {
      "text/html": [
       "<style scoped>\n",
       "  .table-result-container {\n",
       "    max-height: 300px;\n",
       "    overflow: auto;\n",
       "  }\n",
       "  table, th, td {\n",
       "    border: 1px solid black;\n",
       "    border-collapse: collapse;\n",
       "  }\n",
       "  th, td {\n",
       "    padding: 5px;\n",
       "  }\n",
       "  th {\n",
       "    text-align: left;\n",
       "  }\n",
       "</style><div class='table-result-container'><table class='table-result'><thead style='background-color: white'><tr><th>shipper_key</th><th>company</th><th>address</th><th>city</th><th>state_province</th><th>zip_postal_code</th><th>country_region</th></tr></thead><tbody><tr><td>1</td><td>Shipping Company A</td><td>123 Any Street</td><td>Memphis</td><td>TN</td><td>99999</td><td>USA</td></tr><tr><td>2</td><td>Shipping Company B</td><td>123 Any Street</td><td>Memphis</td><td>TN</td><td>99999</td><td>USA</td></tr><tr><td>3</td><td>Shipping Company C</td><td>123 Any Street</td><td>Memphis</td><td>TN</td><td>99999</td><td>USA</td></tr></tbody></table></div>"
      ]
     },
     "metadata": {
      "application/vnd.databricks.v1+output": {
       "addedWidgets": {},
       "aggData": [],
       "aggError": "",
       "aggOverflow": false,
       "aggSchema": [],
       "aggSeriesLimitReached": false,
       "aggType": "",
       "arguments": {},
       "columnCustomDisplayInfos": {},
       "data": [
        [
         1,
         "Shipping Company A",
         "123 Any Street",
         "Memphis",
         "TN",
         99999,
         "USA"
        ],
        [
         2,
         "Shipping Company B",
         "123 Any Street",
         "Memphis",
         "TN",
         99999,
         "USA"
        ],
        [
         3,
         "Shipping Company C",
         "123 Any Street",
         "Memphis",
         "TN",
         99999,
         "USA"
        ]
       ],
       "datasetInfos": [],
       "dbfsResultPath": null,
       "isJsonSchema": true,
       "metadata": {},
       "overflow": false,
       "plotOptions": {
        "customPlotOptions": {},
        "displayType": "table",
        "pivotAggregation": null,
        "pivotColumns": null,
        "xColumns": null,
        "yColumns": null
       },
       "removedWidgets": [],
       "schema": [
        {
         "metadata": "{}",
         "name": "shipper_key",
         "type": "\"integer\""
        },
        {
         "metadata": "{}",
         "name": "company",
         "type": "\"string\""
        },
        {
         "metadata": "{}",
         "name": "address",
         "type": "\"string\""
        },
        {
         "metadata": "{}",
         "name": "city",
         "type": "\"string\""
        },
        {
         "metadata": "{}",
         "name": "state_province",
         "type": "\"string\""
        },
        {
         "metadata": "{}",
         "name": "zip_postal_code",
         "type": "\"integer\""
        },
        {
         "metadata": "{}",
         "name": "country_region",
         "type": "\"string\""
        }
       ],
       "type": "table"
      }
     },
     "output_type": "display_data"
    }
   ],
   "source": [
    "shipper_csv = f\"{batch_dir}/Northwind_DimShippers.csv\"\n",
    "\n",
    "df_shipper = spark.read.format('csv').options(header='true', inferSchema='true').load(shipper_csv)\n",
    "display(df_shipper)"
   ]
  },
  {
   "cell_type": "code",
   "execution_count": 0,
   "metadata": {
    "application/vnd.databricks.v1+cell": {
     "cellMetadata": {
      "byteLimit": 2048000,
      "rowLimit": 10000
     },
     "inputWidgets": {},
     "nuid": "a2a25d2a-481e-4022-acbb-425460b5b8cc",
     "showTitle": false,
     "title": ""
    }
   },
   "outputs": [
    {
     "output_type": "stream",
     "name": "stdout",
     "output_type": "stream",
     "text": [
      "root\n |-- shipper_key: integer (nullable = true)\n |-- company: string (nullable = true)\n |-- address: string (nullable = true)\n |-- city: string (nullable = true)\n |-- state_province: string (nullable = true)\n |-- zip_postal_code: integer (nullable = true)\n |-- country_region: string (nullable = true)\n\n"
     ]
    }
   ],
   "source": [
    "df_shipper.printSchema()"
   ]
  },
  {
   "cell_type": "code",
   "execution_count": 0,
   "metadata": {
    "application/vnd.databricks.v1+cell": {
     "cellMetadata": {
      "byteLimit": 2048000,
      "rowLimit": 10000
     },
     "inputWidgets": {},
     "nuid": "36999c8d-4ce0-47f8-b6bc-d40817d135dd",
     "showTitle": false,
     "title": ""
    }
   },
   "outputs": [],
   "source": [
    "df_shipper.write.format(\"delta\").mode(\"overwrite\").saveAsTable(\"northwind_dlh.dim_shipper\")"
   ]
  },
  {
   "cell_type": "code",
   "execution_count": 0,
   "metadata": {
    "application/vnd.databricks.v1+cell": {
     "cellMetadata": {
      "byteLimit": 2048000,
      "implicitDf": true,
      "rowLimit": 10000
     },
     "inputWidgets": {},
     "nuid": "e3f857ae-fedf-4984-ae51-a5006fe774d7",
     "showTitle": false,
     "title": ""
    }
   },
   "outputs": [
    {
     "output_type": "display_data",
     "data": {
      "text/html": [
       "<style scoped>\n",
       "  .table-result-container {\n",
       "    max-height: 300px;\n",
       "    overflow: auto;\n",
       "  }\n",
       "  table, th, td {\n",
       "    border: 1px solid black;\n",
       "    border-collapse: collapse;\n",
       "  }\n",
       "  th, td {\n",
       "    padding: 5px;\n",
       "  }\n",
       "  th {\n",
       "    text-align: left;\n",
       "  }\n",
       "</style><div class='table-result-container'><table class='table-result'><thead style='background-color: white'><tr><th>col_name</th><th>data_type</th><th>comment</th></tr></thead><tbody><tr><td>shipper_key</td><td>int</td><td>null</td></tr><tr><td>company</td><td>string</td><td>null</td></tr><tr><td>address</td><td>string</td><td>null</td></tr><tr><td>city</td><td>string</td><td>null</td></tr><tr><td>state_province</td><td>string</td><td>null</td></tr><tr><td>zip_postal_code</td><td>int</td><td>null</td></tr><tr><td>country_region</td><td>string</td><td>null</td></tr><tr><td></td><td></td><td></td></tr><tr><td># Detailed Table Information</td><td></td><td></td></tr><tr><td>Catalog</td><td>spark_catalog</td><td></td></tr><tr><td>Database</td><td>northwind_dlh</td><td></td></tr><tr><td>Table</td><td>dim_shipper</td><td></td></tr><tr><td>Type</td><td>MANAGED</td><td></td></tr><tr><td>Location</td><td>dbfs:/FileStore/ds2002-lab06/northwind_dlh/dim_shipper</td><td></td></tr><tr><td>Provider</td><td>delta</td><td></td></tr><tr><td>Owner</td><td>root</td><td></td></tr><tr><td>Is_managed_location</td><td>true</td><td></td></tr><tr><td>Table Properties</td><td>[delta.minReaderVersion=1,delta.minWriterVersion=2]</td><td></td></tr></tbody></table></div>"
      ]
     },
     "metadata": {
      "application/vnd.databricks.v1+output": {
       "addedWidgets": {},
       "aggData": [],
       "aggError": "",
       "aggOverflow": false,
       "aggSchema": [],
       "aggSeriesLimitReached": false,
       "aggType": "",
       "arguments": {},
       "columnCustomDisplayInfos": {},
       "data": [
        [
         "shipper_key",
         "int",
         null
        ],
        [
         "company",
         "string",
         null
        ],
        [
         "address",
         "string",
         null
        ],
        [
         "city",
         "string",
         null
        ],
        [
         "state_province",
         "string",
         null
        ],
        [
         "zip_postal_code",
         "int",
         null
        ],
        [
         "country_region",
         "string",
         null
        ],
        [
         "",
         "",
         ""
        ],
        [
         "# Detailed Table Information",
         "",
         ""
        ],
        [
         "Catalog",
         "spark_catalog",
         ""
        ],
        [
         "Database",
         "northwind_dlh",
         ""
        ],
        [
         "Table",
         "dim_shipper",
         ""
        ],
        [
         "Type",
         "MANAGED",
         ""
        ],
        [
         "Location",
         "dbfs:/FileStore/ds2002-lab06/northwind_dlh/dim_shipper",
         ""
        ],
        [
         "Provider",
         "delta",
         ""
        ],
        [
         "Owner",
         "root",
         ""
        ],
        [
         "Is_managed_location",
         "true",
         ""
        ],
        [
         "Table Properties",
         "[delta.minReaderVersion=1,delta.minWriterVersion=2]",
         ""
        ]
       ],
       "datasetInfos": [],
       "dbfsResultPath": null,
       "isJsonSchema": true,
       "metadata": {},
       "overflow": false,
       "plotOptions": {
        "customPlotOptions": {},
        "displayType": "table",
        "pivotAggregation": null,
        "pivotColumns": null,
        "xColumns": null,
        "yColumns": null
       },
       "removedWidgets": [],
       "schema": [
        {
         "metadata": "{\"comment\":\"name of the column\"}",
         "name": "col_name",
         "type": "\"string\""
        },
        {
         "metadata": "{\"comment\":\"data type of the column\"}",
         "name": "data_type",
         "type": "\"string\""
        },
        {
         "metadata": "{\"comment\":\"comment of the column\"}",
         "name": "comment",
         "type": "\"string\""
        }
       ],
       "type": "table"
      }
     },
     "output_type": "display_data"
    }
   ],
   "source": [
    "%sql\n",
    "DESCRIBE EXTENDED northwind_dlh.dim_shipper;"
   ]
  },
  {
   "cell_type": "code",
   "execution_count": 0,
   "metadata": {
    "application/vnd.databricks.v1+cell": {
     "cellMetadata": {
      "byteLimit": 2048000,
      "implicitDf": true,
      "rowLimit": 10000
     },
     "inputWidgets": {},
     "nuid": "da35ad65-400d-45f1-928f-dfeccfccf359",
     "showTitle": false,
     "title": ""
    }
   },
   "outputs": [
    {
     "output_type": "display_data",
     "data": {
      "text/html": [
       "<style scoped>\n",
       "  .table-result-container {\n",
       "    max-height: 300px;\n",
       "    overflow: auto;\n",
       "  }\n",
       "  table, th, td {\n",
       "    border: 1px solid black;\n",
       "    border-collapse: collapse;\n",
       "  }\n",
       "  th, td {\n",
       "    padding: 5px;\n",
       "  }\n",
       "  th {\n",
       "    text-align: left;\n",
       "  }\n",
       "</style><div class='table-result-container'><table class='table-result'><thead style='background-color: white'><tr><th>shipper_key</th><th>company</th><th>address</th><th>city</th><th>state_province</th><th>zip_postal_code</th><th>country_region</th></tr></thead><tbody><tr><td>1</td><td>Shipping Company A</td><td>123 Any Street</td><td>Memphis</td><td>TN</td><td>99999</td><td>USA</td></tr><tr><td>2</td><td>Shipping Company B</td><td>123 Any Street</td><td>Memphis</td><td>TN</td><td>99999</td><td>USA</td></tr><tr><td>3</td><td>Shipping Company C</td><td>123 Any Street</td><td>Memphis</td><td>TN</td><td>99999</td><td>USA</td></tr></tbody></table></div>"
      ]
     },
     "metadata": {
      "application/vnd.databricks.v1+output": {
       "addedWidgets": {},
       "aggData": [],
       "aggError": "",
       "aggOverflow": false,
       "aggSchema": [],
       "aggSeriesLimitReached": false,
       "aggType": "",
       "arguments": {},
       "columnCustomDisplayInfos": {},
       "data": [
        [
         1,
         "Shipping Company A",
         "123 Any Street",
         "Memphis",
         "TN",
         99999,
         "USA"
        ],
        [
         2,
         "Shipping Company B",
         "123 Any Street",
         "Memphis",
         "TN",
         99999,
         "USA"
        ],
        [
         3,
         "Shipping Company C",
         "123 Any Street",
         "Memphis",
         "TN",
         99999,
         "USA"
        ]
       ],
       "datasetInfos": [],
       "dbfsResultPath": null,
       "isJsonSchema": true,
       "metadata": {},
       "overflow": false,
       "plotOptions": {
        "customPlotOptions": {},
        "displayType": "table",
        "pivotAggregation": null,
        "pivotColumns": null,
        "xColumns": null,
        "yColumns": null
       },
       "removedWidgets": [],
       "schema": [
        {
         "metadata": "{}",
         "name": "shipper_key",
         "type": "\"integer\""
        },
        {
         "metadata": "{}",
         "name": "company",
         "type": "\"string\""
        },
        {
         "metadata": "{}",
         "name": "address",
         "type": "\"string\""
        },
        {
         "metadata": "{}",
         "name": "city",
         "type": "\"string\""
        },
        {
         "metadata": "{}",
         "name": "state_province",
         "type": "\"string\""
        },
        {
         "metadata": "{}",
         "name": "zip_postal_code",
         "type": "\"integer\""
        },
        {
         "metadata": "{}",
         "name": "country_region",
         "type": "\"string\""
        }
       ],
       "type": "table"
      }
     },
     "output_type": "display_data"
    }
   ],
   "source": [
    "%sql\n",
    "SELECT * FROM northwind_dlh.dim_shipper LIMIT 5;"
   ]
  },
  {
   "cell_type": "markdown",
   "metadata": {
    "application/vnd.databricks.v1+cell": {
     "cellMetadata": {
      "byteLimit": 2048000,
      "rowLimit": 10000
     },
     "inputWidgets": {},
     "nuid": "10b2930e-732d-409a-9853-28738802fac4",
     "showTitle": false,
     "title": ""
    }
   },
   "source": [
    "##### Verify Dimension Tables"
   ]
  },
  {
   "cell_type": "code",
   "execution_count": 0,
   "metadata": {
    "application/vnd.databricks.v1+cell": {
     "cellMetadata": {
      "byteLimit": 2048000,
      "implicitDf": true,
      "rowLimit": 10000
     },
     "inputWidgets": {},
     "nuid": "0da830d5-ecdd-4b6f-bc43-7c7559e9d34e",
     "showTitle": false,
     "title": ""
    }
   },
   "outputs": [
    {
     "output_type": "display_data",
     "data": {
      "text/html": [
       "<style scoped>\n",
       "  .table-result-container {\n",
       "    max-height: 300px;\n",
       "    overflow: auto;\n",
       "  }\n",
       "  table, th, td {\n",
       "    border: 1px solid black;\n",
       "    border-collapse: collapse;\n",
       "  }\n",
       "  th, td {\n",
       "    padding: 5px;\n",
       "  }\n",
       "  th {\n",
       "    text-align: left;\n",
       "  }\n",
       "</style><div class='table-result-container'><table class='table-result'><thead style='background-color: white'><tr><th>database</th><th>tableName</th><th>isTemporary</th></tr></thead><tbody><tr><td>northwind_dlh</td><td>dim_customer</td><td>false</td></tr><tr><td>northwind_dlh</td><td>dim_date</td><td>false</td></tr><tr><td>northwind_dlh</td><td>dim_employee</td><td>false</td></tr><tr><td>northwind_dlh</td><td>dim_invoice</td><td>false</td></tr><tr><td>northwind_dlh</td><td>dim_product</td><td>false</td></tr><tr><td>northwind_dlh</td><td>dim_shipper</td><td>false</td></tr><tr><td>northwind_dlh</td><td>dim_supplier</td><td>false</td></tr><tr><td></td><td>view_date</td><td>true</td></tr><tr><td></td><td>view_product</td><td>true</td></tr></tbody></table></div>"
      ]
     },
     "metadata": {
      "application/vnd.databricks.v1+output": {
       "addedWidgets": {},
       "aggData": [],
       "aggError": "",
       "aggOverflow": false,
       "aggSchema": [],
       "aggSeriesLimitReached": false,
       "aggType": "",
       "arguments": {},
       "columnCustomDisplayInfos": {},
       "data": [
        [
         "northwind_dlh",
         "dim_customer",
         false
        ],
        [
         "northwind_dlh",
         "dim_date",
         false
        ],
        [
         "northwind_dlh",
         "dim_employee",
         false
        ],
        [
         "northwind_dlh",
         "dim_invoice",
         false
        ],
        [
         "northwind_dlh",
         "dim_product",
         false
        ],
        [
         "northwind_dlh",
         "dim_shipper",
         false
        ],
        [
         "northwind_dlh",
         "dim_supplier",
         false
        ],
        [
         "",
         "view_date",
         true
        ],
        [
         "",
         "view_product",
         true
        ]
       ],
       "datasetInfos": [],
       "dbfsResultPath": null,
       "isJsonSchema": true,
       "metadata": {},
       "overflow": false,
       "plotOptions": {
        "customPlotOptions": {},
        "displayType": "table",
        "pivotAggregation": null,
        "pivotColumns": null,
        "xColumns": null,
        "yColumns": null
       },
       "removedWidgets": [],
       "schema": [
        {
         "metadata": "{}",
         "name": "database",
         "type": "\"string\""
        },
        {
         "metadata": "{}",
         "name": "tableName",
         "type": "\"string\""
        },
        {
         "metadata": "{}",
         "name": "isTemporary",
         "type": "\"boolean\""
        }
       ],
       "type": "table"
      }
     },
     "output_type": "display_data"
    }
   ],
   "source": [
    "%sql\n",
    "USE northwind_dlh;\n",
    "SHOW TABLES"
   ]
  },
  {
   "cell_type": "markdown",
   "metadata": {
    "application/vnd.databricks.v1+cell": {
     "cellMetadata": {
      "byteLimit": 2048000,
      "rowLimit": 10000
     },
     "inputWidgets": {},
     "nuid": "7cd1e0df-ee40-4631-95f2-fecd438276d8",
     "showTitle": false,
     "title": ""
    }
   },
   "source": [
    "### Section III: Integrate Reference Data with Real-Time Data\n",
    "#### 6.0. Use AutoLoader to Process Streaming (Hot Path) Orders Fact Data \n",
    "##### 6.1. Bronze Table: Process 'Raw' JSON Data"
   ]
  },
  {
   "cell_type": "code",
   "execution_count": 0,
   "metadata": {
    "application/vnd.databricks.v1+cell": {
     "cellMetadata": {
      "byteLimit": 2048000,
      "rowLimit": 10000
     },
     "inputWidgets": {},
     "nuid": "34000bc1-7f1b-4d21-bfd2-10e2bf9ee979",
     "showTitle": false,
     "title": ""
    }
   },
   "outputs": [],
   "source": [
    "(spark.readStream\n",
    " .format(\"cloudFiles\")\n",
    " .option(\"cloudFiles.format\", \"json\")\n",
    " .option(\"cloudFiles.schemaHints\", \"fact_order_key BIGINT\")\n",
    " .option(\"cloudFiles.schemaHints\", \"order_key BIGINT\")\n",
    " .option(\"cloudFiles.schemaHints\", \"employee_key BIGINT\")\n",
    " .option(\"cloudFiles.schemaHints\", \"customer_key BIGINT\") \n",
    " .option(\"cloudFiles.schemaHints\", \"product_key BIGINT\")\n",
    " .option(\"cloudFiles.schemaHints\", \"shipper_key DECIMAL\")\n",
    " .option(\"cloudFiles.schemaHints\", \"order_date_key DECIMAL\")\n",
    " .option(\"cloudFiles.schemaHints\", \"paid_date_key DECIMAL\")\n",
    " .option(\"cloudFiles.schemaHints\", \"shipped_date_key DECIMAL\") \n",
    " .option(\"cloudFiles.schemaHints\", \"quantity DECIMAL\")\n",
    " .option(\"cloudFiles.schemaHints\", \"unit_price DECIMAL\")\n",
    " .option(\"cloudFiles.schemaHints\", \"discount DECIMAL\")\n",
    " .option(\"cloudFiles.schemaHints\", \"shipping_fee DECIMAL\")\n",
    " .option(\"cloudFiles.schemaHints\", \"taxes DECIMAL\")\n",
    " .option(\"cloudFiles.schemaHints\", \"tax_rate DECIMAL\")\n",
    " .option(\"cloudFiles.schemaHints\", \"payment_type STRING\")\n",
    " .option(\"cloudFiles.schemaHints\", \"order_status STRING\")\n",
    " .option(\"cloudFiles.schemaHints\", \"order_details_status STRING\")\n",
    " .option(\"cloudFiles.schemaLocation\", orders_output_bronze)\n",
    " .option(\"cloudFiles.inferColumnTypes\", \"true\")\n",
    " .option(\"multiLine\", \"true\")\n",
    " .load(orders_stream_dir)\n",
    " .createOrReplaceTempView(\"orders_raw_tempview\"))"
   ]
  },
  {
   "cell_type": "code",
   "execution_count": 0,
   "metadata": {
    "application/vnd.databricks.v1+cell": {
     "cellMetadata": {
      "byteLimit": 2048000,
      "implicitDf": true,
      "rowLimit": 10000
     },
     "inputWidgets": {},
     "nuid": "acf1fa4c-6860-4a4b-9046-bd79a738891b",
     "showTitle": false,
     "title": ""
    }
   },
   "outputs": [
    {
     "output_type": "display_data",
     "data": {
      "text/html": [
       "<style scoped>\n",
       "  .table-result-container {\n",
       "    max-height: 300px;\n",
       "    overflow: auto;\n",
       "  }\n",
       "  table, th, td {\n",
       "    border: 1px solid black;\n",
       "    border-collapse: collapse;\n",
       "  }\n",
       "  th, td {\n",
       "    padding: 5px;\n",
       "  }\n",
       "  th {\n",
       "    text-align: left;\n",
       "  }\n",
       "</style><div class='table-result-container'><table class='table-result'><thead style='background-color: white'><tr></tr></thead><tbody></tbody></table></div>"
      ]
     },
     "metadata": {
      "application/vnd.databricks.v1+output": {
       "addedWidgets": {},
       "aggData": [],
       "aggError": "",
       "aggOverflow": false,
       "aggSchema": [],
       "aggSeriesLimitReached": false,
       "aggType": "",
       "arguments": {},
       "columnCustomDisplayInfos": {},
       "data": [],
       "datasetInfos": [],
       "dbfsResultPath": null,
       "isJsonSchema": true,
       "metadata": {},
       "overflow": false,
       "plotOptions": {
        "customPlotOptions": {},
        "displayType": "table",
        "pivotAggregation": null,
        "pivotColumns": null,
        "xColumns": null,
        "yColumns": null
       },
       "removedWidgets": [],
       "schema": [],
       "type": "table"
      }
     },
     "output_type": "display_data"
    }
   ],
   "source": [
    "%sql\n",
    "/* Add Metadata for Traceability */\n",
    "CREATE OR REPLACE TEMPORARY VIEW orders_bronze_tempview AS (\n",
    "  SELECT *, current_timestamp() receipt_time, input_file_name() source_file\n",
    "  FROM orders_raw_tempview\n",
    ")"
   ]
  },
  {
   "cell_type": "code",
   "execution_count": 0,
   "metadata": {
    "application/vnd.databricks.v1+cell": {
     "cellMetadata": {
      "byteLimit": 2048000,
      "implicitDf": true,
      "rowLimit": 10000
     },
     "inputWidgets": {},
     "nuid": "93ecede6-693c-4949-8aba-b2344680af03",
     "showTitle": false,
     "title": ""
    }
   },
   "outputs": [
    {
     "output_type": "display_data",
     "data": {
      "text/html": [
       "<style scoped>\n",
       "  .table-result-container {\n",
       "    max-height: 300px;\n",
       "    overflow: auto;\n",
       "  }\n",
       "  table, th, td {\n",
       "    border: 1px solid black;\n",
       "    border-collapse: collapse;\n",
       "  }\n",
       "  th, td {\n",
       "    padding: 5px;\n",
       "  }\n",
       "  th {\n",
       "    text-align: left;\n",
       "  }\n",
       "</style><div class='table-result-container'><table class='table-result'><thead style='background-color: white'><tr><th>customer_key</th><th>discount</th><th>employee_key</th><th>fact_order_key</th><th>order_date_key</th><th>order_details_status</th><th>order_key</th><th>order_status</th><th>paid_date_key</th><th>payment_type</th><th>product_key</th><th>quantity</th><th>shipped_date_key</th><th>shipper_key</th><th>shipping_fee</th><th>tax_rate</th><th>taxes</th><th>unit_price</th><th>_rescued_data</th><th>receipt_time</th><th>source_file</th></tr></thead><tbody><tr><td>9</td><td>0</td><td>7</td><td>39</td><td>20060605</td><td>Invoiced</td><td>73</td><td>Closed</td><td>20060605</td><td>Check</td><td>41</td><td>10</td><td>20060605</td><td>1</td><td>100</td><td>0</td><td>0</td><td>9.65</td><td>null</td><td>2023-04-24T18:13:04.507+0000</td><td>dbfs:/FileStore/ds2002-lab06/source_data/stream/orders/Northwind_FactOrders03.json</td></tr><tr><td>28</td><td>0</td><td>1</td><td>40</td><td>20060607</td><td>Invoiced</td><td>72</td><td>Closed</td><td>20060607</td><td>Credit Card</td><td>43</td><td>5</td><td>20060607</td><td>3</td><td>40</td><td>0</td><td>0</td><td>46.0</td><td>null</td><td>2023-04-24T18:13:04.507+0000</td><td>dbfs:/FileStore/ds2002-lab06/source_data/stream/orders/Northwind_FactOrders03.json</td></tr><tr><td>1</td><td>0</td><td>1</td><td>41</td><td>20060524</td><td>Invoiced</td><td>71</td><td>New</td><td>null</td><td>null</td><td>40</td><td>40</td><td>null</td><td>3</td><td>0</td><td>0</td><td>0</td><td>18.4</td><td>null</td><td>2023-04-24T18:13:04.507+0000</td><td>dbfs:/FileStore/ds2002-lab06/source_data/stream/orders/Northwind_FactOrders03.json</td></tr><tr><td>11</td><td>0</td><td>1</td><td>42</td><td>20060524</td><td>Invoiced</td><td>70</td><td>New</td><td>null</td><td>null</td><td>8</td><td>20</td><td>null</td><td>3</td><td>0</td><td>0</td><td>0</td><td>40.0</td><td>null</td><td>2023-04-24T18:13:04.507+0000</td><td>dbfs:/FileStore/ds2002-lab06/source_data/stream/orders/Northwind_FactOrders03.json</td></tr><tr><td>10</td><td>0</td><td>1</td><td>43</td><td>20060524</td><td>Invoiced</td><td>69</td><td>New</td><td>null</td><td>null</td><td>80</td><td>15</td><td>null</td><td>1</td><td>0</td><td>0</td><td>0</td><td>3.5</td><td>null</td><td>2023-04-24T18:13:04.507+0000</td><td>dbfs:/FileStore/ds2002-lab06/source_data/stream/orders/Northwind_FactOrders03.json</td></tr><tr><td>10</td><td>0</td><td>4</td><td>44</td><td>20060524</td><td>Invoiced</td><td>67</td><td>Closed</td><td>20060524</td><td>Credit Card</td><td>74</td><td>20</td><td>20060524</td><td>2</td><td>9</td><td>0</td><td>0</td><td>10.0</td><td>null</td><td>2023-04-24T18:13:04.507+0000</td><td>dbfs:/FileStore/ds2002-lab06/source_data/stream/orders/Northwind_FactOrders03.json</td></tr><tr><td>8</td><td>0</td><td>6</td><td>45</td><td>20060430</td><td>Invoiced</td><td>60</td><td>Closed</td><td>20060430</td><td>Credit Card</td><td>72</td><td>40</td><td>20060430</td><td>3</td><td>50</td><td>0</td><td>0</td><td>34.8</td><td>null</td><td>2023-04-24T18:13:04.507+0000</td><td>dbfs:/FileStore/ds2002-lab06/source_data/stream/orders/Northwind_FactOrders03.json</td></tr><tr><td>3</td><td>0</td><td>4</td><td>46</td><td>20060425</td><td>Invoiced</td><td>63</td><td>Closed</td><td>20060425</td><td>Cash</td><td>3</td><td>50</td><td>20060425</td><td>2</td><td>7</td><td>0</td><td>0</td><td>10.0</td><td>null</td><td>2023-04-24T18:13:04.507+0000</td><td>dbfs:/FileStore/ds2002-lab06/source_data/stream/orders/Northwind_FactOrders03.json</td></tr><tr><td>3</td><td>0</td><td>4</td><td>47</td><td>20060425</td><td>Invoiced</td><td>63</td><td>Closed</td><td>20060425</td><td>Cash</td><td>8</td><td>3</td><td>20060425</td><td>2</td><td>7</td><td>0</td><td>0</td><td>40.0</td><td>null</td><td>2023-04-24T18:13:04.507+0000</td><td>dbfs:/FileStore/ds2002-lab06/source_data/stream/orders/Northwind_FactOrders03.json</td></tr><tr><td>4</td><td>0</td><td>3</td><td>48</td><td>20060422</td><td>Invoiced</td><td>58</td><td>Closed</td><td>20060422</td><td>Credit Card</td><td>20</td><td>40</td><td>20060422</td><td>1</td><td>5</td><td>0</td><td>0</td><td>81.0</td><td>null</td><td>2023-04-24T18:13:04.507+0000</td><td>dbfs:/FileStore/ds2002-lab06/source_data/stream/orders/Northwind_FactOrders03.json</td></tr><tr><td>4</td><td>0</td><td>3</td><td>49</td><td>20060422</td><td>Invoiced</td><td>58</td><td>Closed</td><td>20060422</td><td>Credit Card</td><td>52</td><td>40</td><td>20060422</td><td>1</td><td>5</td><td>0</td><td>0</td><td>7.0</td><td>null</td><td>2023-04-24T18:13:04.507+0000</td><td>dbfs:/FileStore/ds2002-lab06/source_data/stream/orders/Northwind_FactOrders03.json</td></tr><tr><td>7</td><td>0</td><td>1</td><td>50</td><td>20060324</td><td>Allocated</td><td>41</td><td>New</td><td>null</td><td>null</td><td>43</td><td>300</td><td>null</td><td>null</td><td>0</td><td>0</td><td>0</td><td>46.0</td><td>null</td><td>2023-04-24T18:13:04.507+0000</td><td>dbfs:/FileStore/ds2002-lab06/source_data/stream/orders/Northwind_FactOrders03.json</td></tr><tr><td>11</td><td>0</td><td>1</td><td>51</td><td>20060324</td><td>Allocated</td><td>43</td><td>New</td><td>null</td><td>null</td><td>80</td><td>20</td><td>null</td><td>3</td><td>0</td><td>0</td><td>0</td><td>3.5</td><td>null</td><td>2023-04-24T18:13:04.507+0000</td><td>dbfs:/FileStore/ds2002-lab06/source_data/stream/orders/Northwind_FactOrders03.json</td></tr><tr><td>11</td><td>0</td><td>1</td><td>52</td><td>20060324</td><td>Allocated</td><td>43</td><td>New</td><td>null</td><td>null</td><td>81</td><td>50</td><td>null</td><td>3</td><td>0</td><td>0</td><td>0</td><td>2.99</td><td>null</td><td>2023-04-24T18:13:04.507+0000</td><td>dbfs:/FileStore/ds2002-lab06/source_data/stream/orders/Northwind_FactOrders03.json</td></tr><tr><td>1</td><td>0</td><td>1</td><td>53</td><td>20060324</td><td>Allocated</td><td>44</td><td>New</td><td>null</td><td>null</td><td>1</td><td>25</td><td>null</td><td>null</td><td>0</td><td>0</td><td>0</td><td>18.0</td><td>null</td><td>2023-04-24T18:13:04.507+0000</td><td>dbfs:/FileStore/ds2002-lab06/source_data/stream/orders/Northwind_FactOrders03.json</td></tr><tr><td>1</td><td>0</td><td>1</td><td>54</td><td>20060324</td><td>Allocated</td><td>44</td><td>New</td><td>null</td><td>null</td><td>43</td><td>25</td><td>null</td><td>null</td><td>0</td><td>0</td><td>0</td><td>46.0</td><td>null</td><td>2023-04-24T18:13:04.507+0000</td><td>dbfs:/FileStore/ds2002-lab06/source_data/stream/orders/Northwind_FactOrders03.json</td></tr><tr><td>1</td><td>0</td><td>1</td><td>55</td><td>20060324</td><td>Allocated</td><td>44</td><td>New</td><td>null</td><td>null</td><td>81</td><td>25</td><td>null</td><td>null</td><td>0</td><td>0</td><td>0</td><td>2.99</td><td>null</td><td>2023-04-24T18:13:04.507+0000</td><td>dbfs:/FileStore/ds2002-lab06/source_data/stream/orders/Northwind_FactOrders03.json</td></tr><tr><td>4</td><td>0</td><td>2</td><td>56</td><td>null</td><td>Allocated</td><td>80</td><td>New</td><td>null</td><td>null</td><td>56</td><td>10</td><td>null</td><td>null</td><td>0</td><td>0</td><td>0</td><td>38.0</td><td>null</td><td>2023-04-24T18:13:04.507+0000</td><td>dbfs:/FileStore/ds2002-lab06/source_data/stream/orders/Northwind_FactOrders03.json</td></tr><tr><td>3</td><td>0</td><td>2</td><td>57</td><td>null</td><td>No Stock</td><td>81</td><td>New</td><td>null</td><td>null</td><td>81</td><td>0</td><td>null</td><td>null</td><td>0</td><td>0</td><td>0</td><td>2.99</td><td>null</td><td>2023-04-24T18:13:04.507+0000</td><td>dbfs:/FileStore/ds2002-lab06/source_data/stream/orders/Northwind_FactOrders03.json</td></tr><tr><td>3</td><td>0</td><td>2</td><td>58</td><td>null</td><td>None</td><td>81</td><td>New</td><td>null</td><td>null</td><td>56</td><td>0</td><td>null</td><td>null</td><td>0</td><td>0</td><td>0</td><td>38.0</td><td>null</td><td>2023-04-24T18:13:04.507+0000</td><td>dbfs:/FileStore/ds2002-lab06/source_data/stream/orders/Northwind_FactOrders03.json</td></tr><tr><td>28</td><td>0</td><td>1</td><td>20</td><td>20060407</td><td>Invoiced</td><td>45</td><td>Closed</td><td>20060407</td><td>Credit Card</td><td>40</td><td>50</td><td>20060407</td><td>3</td><td>40</td><td>0</td><td>0</td><td>18.4</td><td>null</td><td>2023-04-24T18:13:04.507+0000</td><td>dbfs:/FileStore/ds2002-lab06/source_data/stream/orders/Northwind_FactOrders02.json</td></tr><tr><td>9</td><td>0</td><td>7</td><td>21</td><td>20060405</td><td>Invoiced</td><td>46</td><td>Closed</td><td>20060405</td><td>Check</td><td>57</td><td>100</td><td>20060405</td><td>1</td><td>100</td><td>0</td><td>0</td><td>19.5</td><td>null</td><td>2023-04-24T18:13:04.507+0000</td><td>dbfs:/FileStore/ds2002-lab06/source_data/stream/orders/Northwind_FactOrders02.json</td></tr><tr><td>9</td><td>0</td><td>7</td><td>22</td><td>20060405</td><td>Invoiced</td><td>46</td><td>Closed</td><td>20060405</td><td>Check</td><td>72</td><td>50</td><td>20060405</td><td>1</td><td>100</td><td>0</td><td>0</td><td>34.8</td><td>null</td><td>2023-04-24T18:13:04.507+0000</td><td>dbfs:/FileStore/ds2002-lab06/source_data/stream/orders/Northwind_FactOrders02.json</td></tr><tr><td>6</td><td>0</td><td>6</td><td>23</td><td>20060408</td><td>Invoiced</td><td>47</td><td>Closed</td><td>20060408</td><td>Credit Card</td><td>34</td><td>300</td><td>20060408</td><td>2</td><td>300</td><td>0</td><td>0</td><td>14.0</td><td>null</td><td>2023-04-24T18:13:04.507+0000</td><td>dbfs:/FileStore/ds2002-lab06/source_data/stream/orders/Northwind_FactOrders02.json</td></tr><tr><td>8</td><td>0</td><td>4</td><td>24</td><td>20060405</td><td>Invoiced</td><td>48</td><td>Closed</td><td>20060405</td><td>Check</td><td>8</td><td>25</td><td>20060405</td><td>2</td><td>50</td><td>0</td><td>0</td><td>40.0</td><td>null</td><td>2023-04-24T18:13:04.507+0000</td><td>dbfs:/FileStore/ds2002-lab06/source_data/stream/orders/Northwind_FactOrders02.json</td></tr><tr><td>8</td><td>0</td><td>4</td><td>25</td><td>20060405</td><td>Invoiced</td><td>48</td><td>Closed</td><td>20060405</td><td>Check</td><td>19</td><td>25</td><td>20060405</td><td>2</td><td>50</td><td>0</td><td>0</td><td>9.2</td><td>null</td><td>2023-04-24T18:13:04.507+0000</td><td>dbfs:/FileStore/ds2002-lab06/source_data/stream/orders/Northwind_FactOrders02.json</td></tr><tr><td>25</td><td>0</td><td>9</td><td>26</td><td>20060405</td><td>Invoiced</td><td>50</td><td>Closed</td><td>20060405</td><td>Cash</td><td>21</td><td>20</td><td>20060405</td><td>1</td><td>5</td><td>0</td><td>0</td><td>10.0</td><td>null</td><td>2023-04-24T18:13:04.507+0000</td><td>dbfs:/FileStore/ds2002-lab06/source_data/stream/orders/Northwind_FactOrders02.json</td></tr><tr><td>26</td><td>0</td><td>9</td><td>27</td><td>20060405</td><td>Invoiced</td><td>51</td><td>Closed</td><td>20060405</td><td>Credit Card</td><td>5</td><td>25</td><td>20060405</td><td>3</td><td>60</td><td>0</td><td>0</td><td>21.35</td><td>null</td><td>2023-04-24T18:13:04.507+0000</td><td>dbfs:/FileStore/ds2002-lab06/source_data/stream/orders/Northwind_FactOrders02.json</td></tr><tr><td>26</td><td>0</td><td>9</td><td>28</td><td>20060405</td><td>Invoiced</td><td>51</td><td>Closed</td><td>20060405</td><td>Credit Card</td><td>41</td><td>30</td><td>20060405</td><td>3</td><td>60</td><td>0</td><td>0</td><td>9.65</td><td>null</td><td>2023-04-24T18:13:04.507+0000</td><td>dbfs:/FileStore/ds2002-lab06/source_data/stream/orders/Northwind_FactOrders02.json</td></tr><tr><td>26</td><td>0</td><td>9</td><td>29</td><td>20060405</td><td>Invoiced</td><td>51</td><td>Closed</td><td>20060405</td><td>Credit Card</td><td>40</td><td>30</td><td>20060405</td><td>3</td><td>60</td><td>0</td><td>0</td><td>18.4</td><td>null</td><td>2023-04-24T18:13:04.507+0000</td><td>dbfs:/FileStore/ds2002-lab06/source_data/stream/orders/Northwind_FactOrders02.json</td></tr><tr><td>6</td><td>0</td><td>2</td><td>30</td><td>20060403</td><td>Invoiced</td><td>56</td><td>Closed</td><td>20060403</td><td>Check</td><td>48</td><td>10</td><td>20060403</td><td>3</td><td>0</td><td>0</td><td>0</td><td>12.75</td><td>null</td><td>2023-04-24T18:13:04.507+0000</td><td>dbfs:/FileStore/ds2002-lab06/source_data/stream/orders/Northwind_FactOrders02.json</td></tr><tr><td>29</td><td>0</td><td>1</td><td>31</td><td>20060405</td><td>Invoiced</td><td>55</td><td>Closed</td><td>20060405</td><td>Check</td><td>34</td><td>87</td><td>20060405</td><td>2</td><td>200</td><td>0</td><td>0</td><td>14.0</td><td>null</td><td>2023-04-24T18:13:04.507+0000</td><td>dbfs:/FileStore/ds2002-lab06/source_data/stream/orders/Northwind_FactOrders02.json</td></tr><tr><td>6</td><td>0</td><td>2</td><td>32</td><td>20060623</td><td>Invoiced</td><td>79</td><td>Closed</td><td>20060623</td><td>Check</td><td>7</td><td>30</td><td>20060623</td><td>3</td><td>0</td><td>0</td><td>0</td><td>30.0</td><td>null</td><td>2023-04-24T18:13:04.507+0000</td><td>dbfs:/FileStore/ds2002-lab06/source_data/stream/orders/Northwind_FactOrders02.json</td></tr><tr><td>6</td><td>0</td><td>2</td><td>33</td><td>20060623</td><td>Invoiced</td><td>79</td><td>Closed</td><td>20060623</td><td>Check</td><td>51</td><td>30</td><td>20060623</td><td>3</td><td>0</td><td>0</td><td>0</td><td>53.0</td><td>null</td><td>2023-04-24T18:13:04.507+0000</td><td>dbfs:/FileStore/ds2002-lab06/source_data/stream/orders/Northwind_FactOrders02.json</td></tr><tr><td>29</td><td>0</td><td>1</td><td>34</td><td>20060605</td><td>Invoiced</td><td>78</td><td>Closed</td><td>20060605</td><td>Check</td><td>17</td><td>40</td><td>20060605</td><td>2</td><td>200</td><td>0</td><td>0</td><td>39.0</td><td>null</td><td>2023-04-24T18:13:04.507+0000</td><td>dbfs:/FileStore/ds2002-lab06/source_data/stream/orders/Northwind_FactOrders02.json</td></tr><tr><td>26</td><td>0</td><td>9</td><td>35</td><td>20060605</td><td>Invoiced</td><td>77</td><td>Closed</td><td>20060605</td><td>Credit Card</td><td>6</td><td>90</td><td>20060605</td><td>3</td><td>60</td><td>0</td><td>0</td><td>25.0</td><td>null</td><td>2023-04-24T18:13:04.507+0000</td><td>dbfs:/FileStore/ds2002-lab06/source_data/stream/orders/Northwind_FactOrders02.json</td></tr><tr><td>25</td><td>0</td><td>9</td><td>36</td><td>20060605</td><td>Invoiced</td><td>76</td><td>Closed</td><td>20060605</td><td>Cash</td><td>4</td><td>30</td><td>20060605</td><td>1</td><td>5</td><td>0</td><td>0</td><td>22.0</td><td>null</td><td>2023-04-24T18:13:04.507+0000</td><td>dbfs:/FileStore/ds2002-lab06/source_data/stream/orders/Northwind_FactOrders02.json</td></tr><tr><td>8</td><td>0</td><td>4</td><td>37</td><td>20060605</td><td>Invoiced</td><td>75</td><td>Closed</td><td>20060605</td><td>Check</td><td>48</td><td>40</td><td>20060605</td><td>2</td><td>50</td><td>0</td><td>0</td><td>12.75</td><td>null</td><td>2023-04-24T18:13:04.507+0000</td><td>dbfs:/FileStore/ds2002-lab06/source_data/stream/orders/Northwind_FactOrders02.json</td></tr><tr><td>6</td><td>0</td><td>6</td><td>38</td><td>20060608</td><td>Invoiced</td><td>74</td><td>Closed</td><td>20060608</td><td>Credit Card</td><td>48</td><td>40</td><td>20060608</td><td>2</td><td>300</td><td>0</td><td>0</td><td>12.75</td><td>null</td><td>2023-04-24T18:13:04.507+0000</td><td>dbfs:/FileStore/ds2002-lab06/source_data/stream/orders/Northwind_FactOrders02.json</td></tr><tr><td>null</td><td>null</td><td>null</td><td>null</td><td>null</td><td>null</td><td>null</td><td>null</td><td>null</td><td>null</td><td>null</td><td>null</td><td>null</td><td>null</td><td>null</td><td>null</td><td>null</td><td>null</td><td>null</td><td>2023-04-24T18:13:04.507+0000</td><td>dbfs:/FileStore/ds2002-lab06/source_data/stream/orders/Northwind_FactOrders01.json</td></tr></tbody></table></div>"
      ]
     },
     "metadata": {
      "application/vnd.databricks.v1+output": {
       "addedWidgets": {},
       "aggData": [],
       "aggError": "",
       "aggOverflow": false,
       "aggSchema": [],
       "aggSeriesLimitReached": false,
       "aggType": "",
       "arguments": {},
       "columnCustomDisplayInfos": {},
       "data": [
        [
         9,
         0,
         7,
         39,
         20060605,
         "Invoiced",
         73,
         "Closed",
         20060605,
         "Check",
         41,
         10,
         20060605,
         1,
         100,
         0,
         0,
         9.65,
         null,
         "2023-04-24T18:13:04.507+0000",
         "dbfs:/FileStore/ds2002-lab06/source_data/stream/orders/Northwind_FactOrders03.json"
        ],
        [
         28,
         0,
         1,
         40,
         20060607,
         "Invoiced",
         72,
         "Closed",
         20060607,
         "Credit Card",
         43,
         5,
         20060607,
         3,
         40,
         0,
         0,
         46.0,
         null,
         "2023-04-24T18:13:04.507+0000",
         "dbfs:/FileStore/ds2002-lab06/source_data/stream/orders/Northwind_FactOrders03.json"
        ],
        [
         1,
         0,
         1,
         41,
         20060524,
         "Invoiced",
         71,
         "New",
         null,
         null,
         40,
         40,
         null,
         3,
         0,
         0,
         0,
         18.4,
         null,
         "2023-04-24T18:13:04.507+0000",
         "dbfs:/FileStore/ds2002-lab06/source_data/stream/orders/Northwind_FactOrders03.json"
        ],
        [
         11,
         0,
         1,
         42,
         20060524,
         "Invoiced",
         70,
         "New",
         null,
         null,
         8,
         20,
         null,
         3,
         0,
         0,
         0,
         40.0,
         null,
         "2023-04-24T18:13:04.507+0000",
         "dbfs:/FileStore/ds2002-lab06/source_data/stream/orders/Northwind_FactOrders03.json"
        ],
        [
         10,
         0,
         1,
         43,
         20060524,
         "Invoiced",
         69,
         "New",
         null,
         null,
         80,
         15,
         null,
         1,
         0,
         0,
         0,
         3.5,
         null,
         "2023-04-24T18:13:04.507+0000",
         "dbfs:/FileStore/ds2002-lab06/source_data/stream/orders/Northwind_FactOrders03.json"
        ],
        [
         10,
         0,
         4,
         44,
         20060524,
         "Invoiced",
         67,
         "Closed",
         20060524,
         "Credit Card",
         74,
         20,
         20060524,
         2,
         9,
         0,
         0,
         10.0,
         null,
         "2023-04-24T18:13:04.507+0000",
         "dbfs:/FileStore/ds2002-lab06/source_data/stream/orders/Northwind_FactOrders03.json"
        ],
        [
         8,
         0,
         6,
         45,
         20060430,
         "Invoiced",
         60,
         "Closed",
         20060430,
         "Credit Card",
         72,
         40,
         20060430,
         3,
         50,
         0,
         0,
         34.8,
         null,
         "2023-04-24T18:13:04.507+0000",
         "dbfs:/FileStore/ds2002-lab06/source_data/stream/orders/Northwind_FactOrders03.json"
        ],
        [
         3,
         0,
         4,
         46,
         20060425,
         "Invoiced",
         63,
         "Closed",
         20060425,
         "Cash",
         3,
         50,
         20060425,
         2,
         7,
         0,
         0,
         10.0,
         null,
         "2023-04-24T18:13:04.507+0000",
         "dbfs:/FileStore/ds2002-lab06/source_data/stream/orders/Northwind_FactOrders03.json"
        ],
        [
         3,
         0,
         4,
         47,
         20060425,
         "Invoiced",
         63,
         "Closed",
         20060425,
         "Cash",
         8,
         3,
         20060425,
         2,
         7,
         0,
         0,
         40.0,
         null,
         "2023-04-24T18:13:04.507+0000",
         "dbfs:/FileStore/ds2002-lab06/source_data/stream/orders/Northwind_FactOrders03.json"
        ],
        [
         4,
         0,
         3,
         48,
         20060422,
         "Invoiced",
         58,
         "Closed",
         20060422,
         "Credit Card",
         20,
         40,
         20060422,
         1,
         5,
         0,
         0,
         81.0,
         null,
         "2023-04-24T18:13:04.507+0000",
         "dbfs:/FileStore/ds2002-lab06/source_data/stream/orders/Northwind_FactOrders03.json"
        ],
        [
         4,
         0,
         3,
         49,
         20060422,
         "Invoiced",
         58,
         "Closed",
         20060422,
         "Credit Card",
         52,
         40,
         20060422,
         1,
         5,
         0,
         0,
         7.0,
         null,
         "2023-04-24T18:13:04.507+0000",
         "dbfs:/FileStore/ds2002-lab06/source_data/stream/orders/Northwind_FactOrders03.json"
        ],
        [
         7,
         0,
         1,
         50,
         20060324,
         "Allocated",
         41,
         "New",
         null,
         null,
         43,
         300,
         null,
         null,
         0,
         0,
         0,
         46.0,
         null,
         "2023-04-24T18:13:04.507+0000",
         "dbfs:/FileStore/ds2002-lab06/source_data/stream/orders/Northwind_FactOrders03.json"
        ],
        [
         11,
         0,
         1,
         51,
         20060324,
         "Allocated",
         43,
         "New",
         null,
         null,
         80,
         20,
         null,
         3,
         0,
         0,
         0,
         3.5,
         null,
         "2023-04-24T18:13:04.507+0000",
         "dbfs:/FileStore/ds2002-lab06/source_data/stream/orders/Northwind_FactOrders03.json"
        ],
        [
         11,
         0,
         1,
         52,
         20060324,
         "Allocated",
         43,
         "New",
         null,
         null,
         81,
         50,
         null,
         3,
         0,
         0,
         0,
         2.99,
         null,
         "2023-04-24T18:13:04.507+0000",
         "dbfs:/FileStore/ds2002-lab06/source_data/stream/orders/Northwind_FactOrders03.json"
        ],
        [
         1,
         0,
         1,
         53,
         20060324,
         "Allocated",
         44,
         "New",
         null,
         null,
         1,
         25,
         null,
         null,
         0,
         0,
         0,
         18.0,
         null,
         "2023-04-24T18:13:04.507+0000",
         "dbfs:/FileStore/ds2002-lab06/source_data/stream/orders/Northwind_FactOrders03.json"
        ],
        [
         1,
         0,
         1,
         54,
         20060324,
         "Allocated",
         44,
         "New",
         null,
         null,
         43,
         25,
         null,
         null,
         0,
         0,
         0,
         46.0,
         null,
         "2023-04-24T18:13:04.507+0000",
         "dbfs:/FileStore/ds2002-lab06/source_data/stream/orders/Northwind_FactOrders03.json"
        ],
        [
         1,
         0,
         1,
         55,
         20060324,
         "Allocated",
         44,
         "New",
         null,
         null,
         81,
         25,
         null,
         null,
         0,
         0,
         0,
         2.99,
         null,
         "2023-04-24T18:13:04.507+0000",
         "dbfs:/FileStore/ds2002-lab06/source_data/stream/orders/Northwind_FactOrders03.json"
        ],
        [
         4,
         0,
         2,
         56,
         null,
         "Allocated",
         80,
         "New",
         null,
         null,
         56,
         10,
         null,
         null,
         0,
         0,
         0,
         38.0,
         null,
         "2023-04-24T18:13:04.507+0000",
         "dbfs:/FileStore/ds2002-lab06/source_data/stream/orders/Northwind_FactOrders03.json"
        ],
        [
         3,
         0,
         2,
         57,
         null,
         "No Stock",
         81,
         "New",
         null,
         null,
         81,
         0,
         null,
         null,
         0,
         0,
         0,
         2.99,
         null,
         "2023-04-24T18:13:04.507+0000",
         "dbfs:/FileStore/ds2002-lab06/source_data/stream/orders/Northwind_FactOrders03.json"
        ],
        [
         3,
         0,
         2,
         58,
         null,
         "None",
         81,
         "New",
         null,
         null,
         56,
         0,
         null,
         null,
         0,
         0,
         0,
         38.0,
         null,
         "2023-04-24T18:13:04.507+0000",
         "dbfs:/FileStore/ds2002-lab06/source_data/stream/orders/Northwind_FactOrders03.json"
        ],
        [
         28,
         0,
         1,
         20,
         20060407,
         "Invoiced",
         45,
         "Closed",
         20060407,
         "Credit Card",
         40,
         50,
         20060407,
         3,
         40,
         0,
         0,
         18.4,
         null,
         "2023-04-24T18:13:04.507+0000",
         "dbfs:/FileStore/ds2002-lab06/source_data/stream/orders/Northwind_FactOrders02.json"
        ],
        [
         9,
         0,
         7,
         21,
         20060405,
         "Invoiced",
         46,
         "Closed",
         20060405,
         "Check",
         57,
         100,
         20060405,
         1,
         100,
         0,
         0,
         19.5,
         null,
         "2023-04-24T18:13:04.507+0000",
         "dbfs:/FileStore/ds2002-lab06/source_data/stream/orders/Northwind_FactOrders02.json"
        ],
        [
         9,
         0,
         7,
         22,
         20060405,
         "Invoiced",
         46,
         "Closed",
         20060405,
         "Check",
         72,
         50,
         20060405,
         1,
         100,
         0,
         0,
         34.8,
         null,
         "2023-04-24T18:13:04.507+0000",
         "dbfs:/FileStore/ds2002-lab06/source_data/stream/orders/Northwind_FactOrders02.json"
        ],
        [
         6,
         0,
         6,
         23,
         20060408,
         "Invoiced",
         47,
         "Closed",
         20060408,
         "Credit Card",
         34,
         300,
         20060408,
         2,
         300,
         0,
         0,
         14.0,
         null,
         "2023-04-24T18:13:04.507+0000",
         "dbfs:/FileStore/ds2002-lab06/source_data/stream/orders/Northwind_FactOrders02.json"
        ],
        [
         8,
         0,
         4,
         24,
         20060405,
         "Invoiced",
         48,
         "Closed",
         20060405,
         "Check",
         8,
         25,
         20060405,
         2,
         50,
         0,
         0,
         40.0,
         null,
         "2023-04-24T18:13:04.507+0000",
         "dbfs:/FileStore/ds2002-lab06/source_data/stream/orders/Northwind_FactOrders02.json"
        ],
        [
         8,
         0,
         4,
         25,
         20060405,
         "Invoiced",
         48,
         "Closed",
         20060405,
         "Check",
         19,
         25,
         20060405,
         2,
         50,
         0,
         0,
         9.2,
         null,
         "2023-04-24T18:13:04.507+0000",
         "dbfs:/FileStore/ds2002-lab06/source_data/stream/orders/Northwind_FactOrders02.json"
        ],
        [
         25,
         0,
         9,
         26,
         20060405,
         "Invoiced",
         50,
         "Closed",
         20060405,
         "Cash",
         21,
         20,
         20060405,
         1,
         5,
         0,
         0,
         10.0,
         null,
         "2023-04-24T18:13:04.507+0000",
         "dbfs:/FileStore/ds2002-lab06/source_data/stream/orders/Northwind_FactOrders02.json"
        ],
        [
         26,
         0,
         9,
         27,
         20060405,
         "Invoiced",
         51,
         "Closed",
         20060405,
         "Credit Card",
         5,
         25,
         20060405,
         3,
         60,
         0,
         0,
         21.35,
         null,
         "2023-04-24T18:13:04.507+0000",
         "dbfs:/FileStore/ds2002-lab06/source_data/stream/orders/Northwind_FactOrders02.json"
        ],
        [
         26,
         0,
         9,
         28,
         20060405,
         "Invoiced",
         51,
         "Closed",
         20060405,
         "Credit Card",
         41,
         30,
         20060405,
         3,
         60,
         0,
         0,
         9.65,
         null,
         "2023-04-24T18:13:04.507+0000",
         "dbfs:/FileStore/ds2002-lab06/source_data/stream/orders/Northwind_FactOrders02.json"
        ],
        [
         26,
         0,
         9,
         29,
         20060405,
         "Invoiced",
         51,
         "Closed",
         20060405,
         "Credit Card",
         40,
         30,
         20060405,
         3,
         60,
         0,
         0,
         18.4,
         null,
         "2023-04-24T18:13:04.507+0000",
         "dbfs:/FileStore/ds2002-lab06/source_data/stream/orders/Northwind_FactOrders02.json"
        ],
        [
         6,
         0,
         2,
         30,
         20060403,
         "Invoiced",
         56,
         "Closed",
         20060403,
         "Check",
         48,
         10,
         20060403,
         3,
         0,
         0,
         0,
         12.75,
         null,
         "2023-04-24T18:13:04.507+0000",
         "dbfs:/FileStore/ds2002-lab06/source_data/stream/orders/Northwind_FactOrders02.json"
        ],
        [
         29,
         0,
         1,
         31,
         20060405,
         "Invoiced",
         55,
         "Closed",
         20060405,
         "Check",
         34,
         87,
         20060405,
         2,
         200,
         0,
         0,
         14.0,
         null,
         "2023-04-24T18:13:04.507+0000",
         "dbfs:/FileStore/ds2002-lab06/source_data/stream/orders/Northwind_FactOrders02.json"
        ],
        [
         6,
         0,
         2,
         32,
         20060623,
         "Invoiced",
         79,
         "Closed",
         20060623,
         "Check",
         7,
         30,
         20060623,
         3,
         0,
         0,
         0,
         30.0,
         null,
         "2023-04-24T18:13:04.507+0000",
         "dbfs:/FileStore/ds2002-lab06/source_data/stream/orders/Northwind_FactOrders02.json"
        ],
        [
         6,
         0,
         2,
         33,
         20060623,
         "Invoiced",
         79,
         "Closed",
         20060623,
         "Check",
         51,
         30,
         20060623,
         3,
         0,
         0,
         0,
         53.0,
         null,
         "2023-04-24T18:13:04.507+0000",
         "dbfs:/FileStore/ds2002-lab06/source_data/stream/orders/Northwind_FactOrders02.json"
        ],
        [
         29,
         0,
         1,
         34,
         20060605,
         "Invoiced",
         78,
         "Closed",
         20060605,
         "Check",
         17,
         40,
         20060605,
         2,
         200,
         0,
         0,
         39.0,
         null,
         "2023-04-24T18:13:04.507+0000",
         "dbfs:/FileStore/ds2002-lab06/source_data/stream/orders/Northwind_FactOrders02.json"
        ],
        [
         26,
         0,
         9,
         35,
         20060605,
         "Invoiced",
         77,
         "Closed",
         20060605,
         "Credit Card",
         6,
         90,
         20060605,
         3,
         60,
         0,
         0,
         25.0,
         null,
         "2023-04-24T18:13:04.507+0000",
         "dbfs:/FileStore/ds2002-lab06/source_data/stream/orders/Northwind_FactOrders02.json"
        ],
        [
         25,
         0,
         9,
         36,
         20060605,
         "Invoiced",
         76,
         "Closed",
         20060605,
         "Cash",
         4,
         30,
         20060605,
         1,
         5,
         0,
         0,
         22.0,
         null,
         "2023-04-24T18:13:04.507+0000",
         "dbfs:/FileStore/ds2002-lab06/source_data/stream/orders/Northwind_FactOrders02.json"
        ],
        [
         8,
         0,
         4,
         37,
         20060605,
         "Invoiced",
         75,
         "Closed",
         20060605,
         "Check",
         48,
         40,
         20060605,
         2,
         50,
         0,
         0,
         12.75,
         null,
         "2023-04-24T18:13:04.507+0000",
         "dbfs:/FileStore/ds2002-lab06/source_data/stream/orders/Northwind_FactOrders02.json"
        ],
        [
         6,
         0,
         6,
         38,
         20060608,
         "Invoiced",
         74,
         "Closed",
         20060608,
         "Credit Card",
         48,
         40,
         20060608,
         2,
         300,
         0,
         0,
         12.75,
         null,
         "2023-04-24T18:13:04.507+0000",
         "dbfs:/FileStore/ds2002-lab06/source_data/stream/orders/Northwind_FactOrders02.json"
        ],
        [
         null,
         null,
         null,
         null,
         null,
         null,
         null,
         null,
         null,
         null,
         null,
         null,
         null,
         null,
         null,
         null,
         null,
         null,
         null,
         "2023-04-24T18:13:04.507+0000",
         "dbfs:/FileStore/ds2002-lab06/source_data/stream/orders/Northwind_FactOrders01.json"
        ]
       ],
       "datasetInfos": [],
       "dbfsResultPath": null,
       "isJsonSchema": true,
       "metadata": {
        "isDbfsCommandResult": false
       },
       "overflow": false,
       "plotOptions": {
        "customPlotOptions": {},
        "displayType": "table",
        "pivotAggregation": null,
        "pivotColumns": null,
        "xColumns": null,
        "yColumns": null
       },
       "removedWidgets": [],
       "schema": [
        {
         "metadata": "{}",
         "name": "customer_key",
         "type": "\"long\""
        },
        {
         "metadata": "{}",
         "name": "discount",
         "type": "\"long\""
        },
        {
         "metadata": "{}",
         "name": "employee_key",
         "type": "\"long\""
        },
        {
         "metadata": "{}",
         "name": "fact_order_key",
         "type": "\"long\""
        },
        {
         "metadata": "{}",
         "name": "order_date_key",
         "type": "\"long\""
        },
        {
         "metadata": "{}",
         "name": "order_details_status",
         "type": "\"string\""
        },
        {
         "metadata": "{}",
         "name": "order_key",
         "type": "\"long\""
        },
        {
         "metadata": "{}",
         "name": "order_status",
         "type": "\"string\""
        },
        {
         "metadata": "{}",
         "name": "paid_date_key",
         "type": "\"long\""
        },
        {
         "metadata": "{}",
         "name": "payment_type",
         "type": "\"string\""
        },
        {
         "metadata": "{}",
         "name": "product_key",
         "type": "\"long\""
        },
        {
         "metadata": "{}",
         "name": "quantity",
         "type": "\"long\""
        },
        {
         "metadata": "{}",
         "name": "shipped_date_key",
         "type": "\"long\""
        },
        {
         "metadata": "{}",
         "name": "shipper_key",
         "type": "\"long\""
        },
        {
         "metadata": "{}",
         "name": "shipping_fee",
         "type": "\"long\""
        },
        {
         "metadata": "{}",
         "name": "tax_rate",
         "type": "\"long\""
        },
        {
         "metadata": "{}",
         "name": "taxes",
         "type": "\"long\""
        },
        {
         "metadata": "{}",
         "name": "unit_price",
         "type": "\"double\""
        },
        {
         "metadata": "{}",
         "name": "_rescued_data",
         "type": "\"string\""
        },
        {
         "metadata": "{}",
         "name": "receipt_time",
         "type": "\"timestamp\""
        },
        {
         "metadata": "{}",
         "name": "source_file",
         "type": "\"string\""
        }
       ],
       "type": "table"
      }
     },
     "output_type": "display_data"
    }
   ],
   "source": [
    "%sql\n",
    "SELECT * FROM orders_bronze_tempview"
   ]
  },
  {
   "cell_type": "code",
   "execution_count": 0,
   "metadata": {
    "application/vnd.databricks.v1+cell": {
     "cellMetadata": {
      "byteLimit": 2048000,
      "rowLimit": 10000
     },
     "inputWidgets": {},
     "nuid": "e89a9e0c-69da-452a-92d5-724fb81529ed",
     "showTitle": false,
     "title": ""
    }
   },
   "outputs": [
    {
     "output_type": "stream",
     "name": "stdout",
     "output_type": "stream",
     "text": [
      "Out[36]: <pyspark.sql.streaming.query.StreamingQuery at 0x7f0dc0151f40>"
     ]
    }
   ],
   "source": [
    "(spark.table(\"orders_bronze_tempview\")\n",
    "      .writeStream\n",
    "      .format(\"delta\")\n",
    "      .option(\"checkpointLocation\", f\"{orders_output_bronze}/_checkpoint\")\n",
    "      .outputMode(\"append\")\n",
    "      .table(\"fact_orders_bronze\"))"
   ]
  },
  {
   "cell_type": "markdown",
   "metadata": {
    "application/vnd.databricks.v1+cell": {
     "cellMetadata": {
      "byteLimit": 2048000,
      "rowLimit": 10000
     },
     "inputWidgets": {},
     "nuid": "030a8ad8-1937-4708-91e2-2975eb731862",
     "showTitle": false,
     "title": ""
    }
   },
   "source": [
    "##### 6.2. Silver Table: Include Reference Data"
   ]
  },
  {
   "cell_type": "code",
   "execution_count": 0,
   "metadata": {
    "application/vnd.databricks.v1+cell": {
     "cellMetadata": {
      "byteLimit": 2048000,
      "rowLimit": 10000
     },
     "inputWidgets": {},
     "nuid": "4998a27c-4486-4d7c-bb79-f29d7cdeae01",
     "showTitle": false,
     "title": ""
    }
   },
   "outputs": [],
   "source": [
    "(spark.readStream\n",
    "  .table(\"fact_orders_bronze\")\n",
    "  .createOrReplaceTempView(\"orders_silver_tempview\"))"
   ]
  },
  {
   "cell_type": "code",
   "execution_count": 0,
   "metadata": {
    "application/vnd.databricks.v1+cell": {
     "cellMetadata": {
      "byteLimit": 2048000,
      "implicitDf": true,
      "rowLimit": 10000
     },
     "inputWidgets": {},
     "nuid": "b160aaaf-2edc-46eb-8514-765d55695ad5",
     "showTitle": false,
     "title": ""
    }
   },
   "outputs": [
    {
     "output_type": "display_data",
     "data": {
      "text/html": [
       "<style scoped>\n",
       "  .table-result-container {\n",
       "    max-height: 300px;\n",
       "    overflow: auto;\n",
       "  }\n",
       "  table, th, td {\n",
       "    border: 1px solid black;\n",
       "    border-collapse: collapse;\n",
       "  }\n",
       "  th, td {\n",
       "    padding: 5px;\n",
       "  }\n",
       "  th {\n",
       "    text-align: left;\n",
       "  }\n",
       "</style><div class='table-result-container'><table class='table-result'><thead style='background-color: white'><tr><th>customer_key</th><th>discount</th><th>employee_key</th><th>fact_order_key</th><th>order_date_key</th><th>order_details_status</th><th>order_key</th><th>order_status</th><th>paid_date_key</th><th>payment_type</th><th>product_key</th><th>quantity</th><th>shipped_date_key</th><th>shipper_key</th><th>shipping_fee</th><th>tax_rate</th><th>taxes</th><th>unit_price</th><th>_rescued_data</th><th>receipt_time</th><th>source_file</th></tr></thead><tbody><tr><td>28</td><td>0</td><td>1</td><td>20</td><td>20060407</td><td>Invoiced</td><td>45</td><td>Closed</td><td>20060407</td><td>Credit Card</td><td>40</td><td>50</td><td>20060407</td><td>3</td><td>40</td><td>0</td><td>0</td><td>18.4</td><td>null</td><td>2023-04-24T18:13:07.360+0000</td><td>dbfs:/FileStore/ds2002-lab06/source_data/stream/orders/Northwind_FactOrders02.json</td></tr><tr><td>9</td><td>0</td><td>7</td><td>21</td><td>20060405</td><td>Invoiced</td><td>46</td><td>Closed</td><td>20060405</td><td>Check</td><td>57</td><td>100</td><td>20060405</td><td>1</td><td>100</td><td>0</td><td>0</td><td>19.5</td><td>null</td><td>2023-04-24T18:13:07.360+0000</td><td>dbfs:/FileStore/ds2002-lab06/source_data/stream/orders/Northwind_FactOrders02.json</td></tr><tr><td>9</td><td>0</td><td>7</td><td>22</td><td>20060405</td><td>Invoiced</td><td>46</td><td>Closed</td><td>20060405</td><td>Check</td><td>72</td><td>50</td><td>20060405</td><td>1</td><td>100</td><td>0</td><td>0</td><td>34.8</td><td>null</td><td>2023-04-24T18:13:07.360+0000</td><td>dbfs:/FileStore/ds2002-lab06/source_data/stream/orders/Northwind_FactOrders02.json</td></tr><tr><td>6</td><td>0</td><td>6</td><td>23</td><td>20060408</td><td>Invoiced</td><td>47</td><td>Closed</td><td>20060408</td><td>Credit Card</td><td>34</td><td>300</td><td>20060408</td><td>2</td><td>300</td><td>0</td><td>0</td><td>14.0</td><td>null</td><td>2023-04-24T18:13:07.360+0000</td><td>dbfs:/FileStore/ds2002-lab06/source_data/stream/orders/Northwind_FactOrders02.json</td></tr><tr><td>8</td><td>0</td><td>4</td><td>24</td><td>20060405</td><td>Invoiced</td><td>48</td><td>Closed</td><td>20060405</td><td>Check</td><td>8</td><td>25</td><td>20060405</td><td>2</td><td>50</td><td>0</td><td>0</td><td>40.0</td><td>null</td><td>2023-04-24T18:13:07.360+0000</td><td>dbfs:/FileStore/ds2002-lab06/source_data/stream/orders/Northwind_FactOrders02.json</td></tr><tr><td>8</td><td>0</td><td>4</td><td>25</td><td>20060405</td><td>Invoiced</td><td>48</td><td>Closed</td><td>20060405</td><td>Check</td><td>19</td><td>25</td><td>20060405</td><td>2</td><td>50</td><td>0</td><td>0</td><td>9.2</td><td>null</td><td>2023-04-24T18:13:07.360+0000</td><td>dbfs:/FileStore/ds2002-lab06/source_data/stream/orders/Northwind_FactOrders02.json</td></tr><tr><td>25</td><td>0</td><td>9</td><td>26</td><td>20060405</td><td>Invoiced</td><td>50</td><td>Closed</td><td>20060405</td><td>Cash</td><td>21</td><td>20</td><td>20060405</td><td>1</td><td>5</td><td>0</td><td>0</td><td>10.0</td><td>null</td><td>2023-04-24T18:13:07.360+0000</td><td>dbfs:/FileStore/ds2002-lab06/source_data/stream/orders/Northwind_FactOrders02.json</td></tr><tr><td>26</td><td>0</td><td>9</td><td>27</td><td>20060405</td><td>Invoiced</td><td>51</td><td>Closed</td><td>20060405</td><td>Credit Card</td><td>5</td><td>25</td><td>20060405</td><td>3</td><td>60</td><td>0</td><td>0</td><td>21.35</td><td>null</td><td>2023-04-24T18:13:07.360+0000</td><td>dbfs:/FileStore/ds2002-lab06/source_data/stream/orders/Northwind_FactOrders02.json</td></tr><tr><td>26</td><td>0</td><td>9</td><td>28</td><td>20060405</td><td>Invoiced</td><td>51</td><td>Closed</td><td>20060405</td><td>Credit Card</td><td>41</td><td>30</td><td>20060405</td><td>3</td><td>60</td><td>0</td><td>0</td><td>9.65</td><td>null</td><td>2023-04-24T18:13:07.360+0000</td><td>dbfs:/FileStore/ds2002-lab06/source_data/stream/orders/Northwind_FactOrders02.json</td></tr><tr><td>26</td><td>0</td><td>9</td><td>29</td><td>20060405</td><td>Invoiced</td><td>51</td><td>Closed</td><td>20060405</td><td>Credit Card</td><td>40</td><td>30</td><td>20060405</td><td>3</td><td>60</td><td>0</td><td>0</td><td>18.4</td><td>null</td><td>2023-04-24T18:13:07.360+0000</td><td>dbfs:/FileStore/ds2002-lab06/source_data/stream/orders/Northwind_FactOrders02.json</td></tr><tr><td>6</td><td>0</td><td>2</td><td>30</td><td>20060403</td><td>Invoiced</td><td>56</td><td>Closed</td><td>20060403</td><td>Check</td><td>48</td><td>10</td><td>20060403</td><td>3</td><td>0</td><td>0</td><td>0</td><td>12.75</td><td>null</td><td>2023-04-24T18:13:07.360+0000</td><td>dbfs:/FileStore/ds2002-lab06/source_data/stream/orders/Northwind_FactOrders02.json</td></tr><tr><td>29</td><td>0</td><td>1</td><td>31</td><td>20060405</td><td>Invoiced</td><td>55</td><td>Closed</td><td>20060405</td><td>Check</td><td>34</td><td>87</td><td>20060405</td><td>2</td><td>200</td><td>0</td><td>0</td><td>14.0</td><td>null</td><td>2023-04-24T18:13:07.360+0000</td><td>dbfs:/FileStore/ds2002-lab06/source_data/stream/orders/Northwind_FactOrders02.json</td></tr><tr><td>6</td><td>0</td><td>2</td><td>32</td><td>20060623</td><td>Invoiced</td><td>79</td><td>Closed</td><td>20060623</td><td>Check</td><td>7</td><td>30</td><td>20060623</td><td>3</td><td>0</td><td>0</td><td>0</td><td>30.0</td><td>null</td><td>2023-04-24T18:13:07.360+0000</td><td>dbfs:/FileStore/ds2002-lab06/source_data/stream/orders/Northwind_FactOrders02.json</td></tr><tr><td>6</td><td>0</td><td>2</td><td>33</td><td>20060623</td><td>Invoiced</td><td>79</td><td>Closed</td><td>20060623</td><td>Check</td><td>51</td><td>30</td><td>20060623</td><td>3</td><td>0</td><td>0</td><td>0</td><td>53.0</td><td>null</td><td>2023-04-24T18:13:07.360+0000</td><td>dbfs:/FileStore/ds2002-lab06/source_data/stream/orders/Northwind_FactOrders02.json</td></tr><tr><td>29</td><td>0</td><td>1</td><td>34</td><td>20060605</td><td>Invoiced</td><td>78</td><td>Closed</td><td>20060605</td><td>Check</td><td>17</td><td>40</td><td>20060605</td><td>2</td><td>200</td><td>0</td><td>0</td><td>39.0</td><td>null</td><td>2023-04-24T18:13:07.360+0000</td><td>dbfs:/FileStore/ds2002-lab06/source_data/stream/orders/Northwind_FactOrders02.json</td></tr><tr><td>26</td><td>0</td><td>9</td><td>35</td><td>20060605</td><td>Invoiced</td><td>77</td><td>Closed</td><td>20060605</td><td>Credit Card</td><td>6</td><td>90</td><td>20060605</td><td>3</td><td>60</td><td>0</td><td>0</td><td>25.0</td><td>null</td><td>2023-04-24T18:13:07.360+0000</td><td>dbfs:/FileStore/ds2002-lab06/source_data/stream/orders/Northwind_FactOrders02.json</td></tr><tr><td>25</td><td>0</td><td>9</td><td>36</td><td>20060605</td><td>Invoiced</td><td>76</td><td>Closed</td><td>20060605</td><td>Cash</td><td>4</td><td>30</td><td>20060605</td><td>1</td><td>5</td><td>0</td><td>0</td><td>22.0</td><td>null</td><td>2023-04-24T18:13:07.360+0000</td><td>dbfs:/FileStore/ds2002-lab06/source_data/stream/orders/Northwind_FactOrders02.json</td></tr><tr><td>8</td><td>0</td><td>4</td><td>37</td><td>20060605</td><td>Invoiced</td><td>75</td><td>Closed</td><td>20060605</td><td>Check</td><td>48</td><td>40</td><td>20060605</td><td>2</td><td>50</td><td>0</td><td>0</td><td>12.75</td><td>null</td><td>2023-04-24T18:13:07.360+0000</td><td>dbfs:/FileStore/ds2002-lab06/source_data/stream/orders/Northwind_FactOrders02.json</td></tr><tr><td>6</td><td>0</td><td>6</td><td>38</td><td>20060608</td><td>Invoiced</td><td>74</td><td>Closed</td><td>20060608</td><td>Credit Card</td><td>48</td><td>40</td><td>20060608</td><td>2</td><td>300</td><td>0</td><td>0</td><td>12.75</td><td>null</td><td>2023-04-24T18:13:07.360+0000</td><td>dbfs:/FileStore/ds2002-lab06/source_data/stream/orders/Northwind_FactOrders02.json</td></tr><tr><td>9</td><td>0</td><td>7</td><td>39</td><td>20060605</td><td>Invoiced</td><td>73</td><td>Closed</td><td>20060605</td><td>Check</td><td>41</td><td>10</td><td>20060605</td><td>1</td><td>100</td><td>0</td><td>0</td><td>9.65</td><td>null</td><td>2023-04-24T18:13:07.360+0000</td><td>dbfs:/FileStore/ds2002-lab06/source_data/stream/orders/Northwind_FactOrders03.json</td></tr><tr><td>28</td><td>0</td><td>1</td><td>40</td><td>20060607</td><td>Invoiced</td><td>72</td><td>Closed</td><td>20060607</td><td>Credit Card</td><td>43</td><td>5</td><td>20060607</td><td>3</td><td>40</td><td>0</td><td>0</td><td>46.0</td><td>null</td><td>2023-04-24T18:13:07.360+0000</td><td>dbfs:/FileStore/ds2002-lab06/source_data/stream/orders/Northwind_FactOrders03.json</td></tr><tr><td>1</td><td>0</td><td>1</td><td>41</td><td>20060524</td><td>Invoiced</td><td>71</td><td>New</td><td>null</td><td>null</td><td>40</td><td>40</td><td>null</td><td>3</td><td>0</td><td>0</td><td>0</td><td>18.4</td><td>null</td><td>2023-04-24T18:13:07.360+0000</td><td>dbfs:/FileStore/ds2002-lab06/source_data/stream/orders/Northwind_FactOrders03.json</td></tr><tr><td>11</td><td>0</td><td>1</td><td>42</td><td>20060524</td><td>Invoiced</td><td>70</td><td>New</td><td>null</td><td>null</td><td>8</td><td>20</td><td>null</td><td>3</td><td>0</td><td>0</td><td>0</td><td>40.0</td><td>null</td><td>2023-04-24T18:13:07.360+0000</td><td>dbfs:/FileStore/ds2002-lab06/source_data/stream/orders/Northwind_FactOrders03.json</td></tr><tr><td>10</td><td>0</td><td>1</td><td>43</td><td>20060524</td><td>Invoiced</td><td>69</td><td>New</td><td>null</td><td>null</td><td>80</td><td>15</td><td>null</td><td>1</td><td>0</td><td>0</td><td>0</td><td>3.5</td><td>null</td><td>2023-04-24T18:13:07.360+0000</td><td>dbfs:/FileStore/ds2002-lab06/source_data/stream/orders/Northwind_FactOrders03.json</td></tr><tr><td>10</td><td>0</td><td>4</td><td>44</td><td>20060524</td><td>Invoiced</td><td>67</td><td>Closed</td><td>20060524</td><td>Credit Card</td><td>74</td><td>20</td><td>20060524</td><td>2</td><td>9</td><td>0</td><td>0</td><td>10.0</td><td>null</td><td>2023-04-24T18:13:07.360+0000</td><td>dbfs:/FileStore/ds2002-lab06/source_data/stream/orders/Northwind_FactOrders03.json</td></tr><tr><td>8</td><td>0</td><td>6</td><td>45</td><td>20060430</td><td>Invoiced</td><td>60</td><td>Closed</td><td>20060430</td><td>Credit Card</td><td>72</td><td>40</td><td>20060430</td><td>3</td><td>50</td><td>0</td><td>0</td><td>34.8</td><td>null</td><td>2023-04-24T18:13:07.360+0000</td><td>dbfs:/FileStore/ds2002-lab06/source_data/stream/orders/Northwind_FactOrders03.json</td></tr><tr><td>3</td><td>0</td><td>4</td><td>46</td><td>20060425</td><td>Invoiced</td><td>63</td><td>Closed</td><td>20060425</td><td>Cash</td><td>3</td><td>50</td><td>20060425</td><td>2</td><td>7</td><td>0</td><td>0</td><td>10.0</td><td>null</td><td>2023-04-24T18:13:07.360+0000</td><td>dbfs:/FileStore/ds2002-lab06/source_data/stream/orders/Northwind_FactOrders03.json</td></tr><tr><td>3</td><td>0</td><td>4</td><td>47</td><td>20060425</td><td>Invoiced</td><td>63</td><td>Closed</td><td>20060425</td><td>Cash</td><td>8</td><td>3</td><td>20060425</td><td>2</td><td>7</td><td>0</td><td>0</td><td>40.0</td><td>null</td><td>2023-04-24T18:13:07.360+0000</td><td>dbfs:/FileStore/ds2002-lab06/source_data/stream/orders/Northwind_FactOrders03.json</td></tr><tr><td>4</td><td>0</td><td>3</td><td>48</td><td>20060422</td><td>Invoiced</td><td>58</td><td>Closed</td><td>20060422</td><td>Credit Card</td><td>20</td><td>40</td><td>20060422</td><td>1</td><td>5</td><td>0</td><td>0</td><td>81.0</td><td>null</td><td>2023-04-24T18:13:07.360+0000</td><td>dbfs:/FileStore/ds2002-lab06/source_data/stream/orders/Northwind_FactOrders03.json</td></tr><tr><td>4</td><td>0</td><td>3</td><td>49</td><td>20060422</td><td>Invoiced</td><td>58</td><td>Closed</td><td>20060422</td><td>Credit Card</td><td>52</td><td>40</td><td>20060422</td><td>1</td><td>5</td><td>0</td><td>0</td><td>7.0</td><td>null</td><td>2023-04-24T18:13:07.360+0000</td><td>dbfs:/FileStore/ds2002-lab06/source_data/stream/orders/Northwind_FactOrders03.json</td></tr><tr><td>7</td><td>0</td><td>1</td><td>50</td><td>20060324</td><td>Allocated</td><td>41</td><td>New</td><td>null</td><td>null</td><td>43</td><td>300</td><td>null</td><td>null</td><td>0</td><td>0</td><td>0</td><td>46.0</td><td>null</td><td>2023-04-24T18:13:07.360+0000</td><td>dbfs:/FileStore/ds2002-lab06/source_data/stream/orders/Northwind_FactOrders03.json</td></tr><tr><td>11</td><td>0</td><td>1</td><td>51</td><td>20060324</td><td>Allocated</td><td>43</td><td>New</td><td>null</td><td>null</td><td>80</td><td>20</td><td>null</td><td>3</td><td>0</td><td>0</td><td>0</td><td>3.5</td><td>null</td><td>2023-04-24T18:13:07.360+0000</td><td>dbfs:/FileStore/ds2002-lab06/source_data/stream/orders/Northwind_FactOrders03.json</td></tr><tr><td>11</td><td>0</td><td>1</td><td>52</td><td>20060324</td><td>Allocated</td><td>43</td><td>New</td><td>null</td><td>null</td><td>81</td><td>50</td><td>null</td><td>3</td><td>0</td><td>0</td><td>0</td><td>2.99</td><td>null</td><td>2023-04-24T18:13:07.360+0000</td><td>dbfs:/FileStore/ds2002-lab06/source_data/stream/orders/Northwind_FactOrders03.json</td></tr><tr><td>1</td><td>0</td><td>1</td><td>53</td><td>20060324</td><td>Allocated</td><td>44</td><td>New</td><td>null</td><td>null</td><td>1</td><td>25</td><td>null</td><td>null</td><td>0</td><td>0</td><td>0</td><td>18.0</td><td>null</td><td>2023-04-24T18:13:07.360+0000</td><td>dbfs:/FileStore/ds2002-lab06/source_data/stream/orders/Northwind_FactOrders03.json</td></tr><tr><td>1</td><td>0</td><td>1</td><td>54</td><td>20060324</td><td>Allocated</td><td>44</td><td>New</td><td>null</td><td>null</td><td>43</td><td>25</td><td>null</td><td>null</td><td>0</td><td>0</td><td>0</td><td>46.0</td><td>null</td><td>2023-04-24T18:13:07.360+0000</td><td>dbfs:/FileStore/ds2002-lab06/source_data/stream/orders/Northwind_FactOrders03.json</td></tr><tr><td>1</td><td>0</td><td>1</td><td>55</td><td>20060324</td><td>Allocated</td><td>44</td><td>New</td><td>null</td><td>null</td><td>81</td><td>25</td><td>null</td><td>null</td><td>0</td><td>0</td><td>0</td><td>2.99</td><td>null</td><td>2023-04-24T18:13:07.360+0000</td><td>dbfs:/FileStore/ds2002-lab06/source_data/stream/orders/Northwind_FactOrders03.json</td></tr><tr><td>4</td><td>0</td><td>2</td><td>56</td><td>null</td><td>Allocated</td><td>80</td><td>New</td><td>null</td><td>null</td><td>56</td><td>10</td><td>null</td><td>null</td><td>0</td><td>0</td><td>0</td><td>38.0</td><td>null</td><td>2023-04-24T18:13:07.360+0000</td><td>dbfs:/FileStore/ds2002-lab06/source_data/stream/orders/Northwind_FactOrders03.json</td></tr><tr><td>3</td><td>0</td><td>2</td><td>57</td><td>null</td><td>No Stock</td><td>81</td><td>New</td><td>null</td><td>null</td><td>81</td><td>0</td><td>null</td><td>null</td><td>0</td><td>0</td><td>0</td><td>2.99</td><td>null</td><td>2023-04-24T18:13:07.360+0000</td><td>dbfs:/FileStore/ds2002-lab06/source_data/stream/orders/Northwind_FactOrders03.json</td></tr><tr><td>3</td><td>0</td><td>2</td><td>58</td><td>null</td><td>None</td><td>81</td><td>New</td><td>null</td><td>null</td><td>56</td><td>0</td><td>null</td><td>null</td><td>0</td><td>0</td><td>0</td><td>38.0</td><td>null</td><td>2023-04-24T18:13:07.360+0000</td><td>dbfs:/FileStore/ds2002-lab06/source_data/stream/orders/Northwind_FactOrders03.json</td></tr><tr><td>null</td><td>null</td><td>null</td><td>null</td><td>null</td><td>null</td><td>null</td><td>null</td><td>null</td><td>null</td><td>null</td><td>null</td><td>null</td><td>null</td><td>null</td><td>null</td><td>null</td><td>null</td><td>null</td><td>2023-04-24T18:13:07.360+0000</td><td>dbfs:/FileStore/ds2002-lab06/source_data/stream/orders/Northwind_FactOrders01.json</td></tr></tbody></table></div>"
      ]
     },
     "metadata": {
      "application/vnd.databricks.v1+output": {
       "addedWidgets": {},
       "aggData": [],
       "aggError": "",
       "aggOverflow": false,
       "aggSchema": [],
       "aggSeriesLimitReached": false,
       "aggType": "",
       "arguments": {},
       "columnCustomDisplayInfos": {},
       "data": [
        [
         28,
         0,
         1,
         20,
         20060407,
         "Invoiced",
         45,
         "Closed",
         20060407,
         "Credit Card",
         40,
         50,
         20060407,
         3,
         40,
         0,
         0,
         18.4,
         null,
         "2023-04-24T18:13:07.360+0000",
         "dbfs:/FileStore/ds2002-lab06/source_data/stream/orders/Northwind_FactOrders02.json"
        ],
        [
         9,
         0,
         7,
         21,
         20060405,
         "Invoiced",
         46,
         "Closed",
         20060405,
         "Check",
         57,
         100,
         20060405,
         1,
         100,
         0,
         0,
         19.5,
         null,
         "2023-04-24T18:13:07.360+0000",
         "dbfs:/FileStore/ds2002-lab06/source_data/stream/orders/Northwind_FactOrders02.json"
        ],
        [
         9,
         0,
         7,
         22,
         20060405,
         "Invoiced",
         46,
         "Closed",
         20060405,
         "Check",
         72,
         50,
         20060405,
         1,
         100,
         0,
         0,
         34.8,
         null,
         "2023-04-24T18:13:07.360+0000",
         "dbfs:/FileStore/ds2002-lab06/source_data/stream/orders/Northwind_FactOrders02.json"
        ],
        [
         6,
         0,
         6,
         23,
         20060408,
         "Invoiced",
         47,
         "Closed",
         20060408,
         "Credit Card",
         34,
         300,
         20060408,
         2,
         300,
         0,
         0,
         14.0,
         null,
         "2023-04-24T18:13:07.360+0000",
         "dbfs:/FileStore/ds2002-lab06/source_data/stream/orders/Northwind_FactOrders02.json"
        ],
        [
         8,
         0,
         4,
         24,
         20060405,
         "Invoiced",
         48,
         "Closed",
         20060405,
         "Check",
         8,
         25,
         20060405,
         2,
         50,
         0,
         0,
         40.0,
         null,
         "2023-04-24T18:13:07.360+0000",
         "dbfs:/FileStore/ds2002-lab06/source_data/stream/orders/Northwind_FactOrders02.json"
        ],
        [
         8,
         0,
         4,
         25,
         20060405,
         "Invoiced",
         48,
         "Closed",
         20060405,
         "Check",
         19,
         25,
         20060405,
         2,
         50,
         0,
         0,
         9.2,
         null,
         "2023-04-24T18:13:07.360+0000",
         "dbfs:/FileStore/ds2002-lab06/source_data/stream/orders/Northwind_FactOrders02.json"
        ],
        [
         25,
         0,
         9,
         26,
         20060405,
         "Invoiced",
         50,
         "Closed",
         20060405,
         "Cash",
         21,
         20,
         20060405,
         1,
         5,
         0,
         0,
         10.0,
         null,
         "2023-04-24T18:13:07.360+0000",
         "dbfs:/FileStore/ds2002-lab06/source_data/stream/orders/Northwind_FactOrders02.json"
        ],
        [
         26,
         0,
         9,
         27,
         20060405,
         "Invoiced",
         51,
         "Closed",
         20060405,
         "Credit Card",
         5,
         25,
         20060405,
         3,
         60,
         0,
         0,
         21.35,
         null,
         "2023-04-24T18:13:07.360+0000",
         "dbfs:/FileStore/ds2002-lab06/source_data/stream/orders/Northwind_FactOrders02.json"
        ],
        [
         26,
         0,
         9,
         28,
         20060405,
         "Invoiced",
         51,
         "Closed",
         20060405,
         "Credit Card",
         41,
         30,
         20060405,
         3,
         60,
         0,
         0,
         9.65,
         null,
         "2023-04-24T18:13:07.360+0000",
         "dbfs:/FileStore/ds2002-lab06/source_data/stream/orders/Northwind_FactOrders02.json"
        ],
        [
         26,
         0,
         9,
         29,
         20060405,
         "Invoiced",
         51,
         "Closed",
         20060405,
         "Credit Card",
         40,
         30,
         20060405,
         3,
         60,
         0,
         0,
         18.4,
         null,
         "2023-04-24T18:13:07.360+0000",
         "dbfs:/FileStore/ds2002-lab06/source_data/stream/orders/Northwind_FactOrders02.json"
        ],
        [
         6,
         0,
         2,
         30,
         20060403,
         "Invoiced",
         56,
         "Closed",
         20060403,
         "Check",
         48,
         10,
         20060403,
         3,
         0,
         0,
         0,
         12.75,
         null,
         "2023-04-24T18:13:07.360+0000",
         "dbfs:/FileStore/ds2002-lab06/source_data/stream/orders/Northwind_FactOrders02.json"
        ],
        [
         29,
         0,
         1,
         31,
         20060405,
         "Invoiced",
         55,
         "Closed",
         20060405,
         "Check",
         34,
         87,
         20060405,
         2,
         200,
         0,
         0,
         14.0,
         null,
         "2023-04-24T18:13:07.360+0000",
         "dbfs:/FileStore/ds2002-lab06/source_data/stream/orders/Northwind_FactOrders02.json"
        ],
        [
         6,
         0,
         2,
         32,
         20060623,
         "Invoiced",
         79,
         "Closed",
         20060623,
         "Check",
         7,
         30,
         20060623,
         3,
         0,
         0,
         0,
         30.0,
         null,
         "2023-04-24T18:13:07.360+0000",
         "dbfs:/FileStore/ds2002-lab06/source_data/stream/orders/Northwind_FactOrders02.json"
        ],
        [
         6,
         0,
         2,
         33,
         20060623,
         "Invoiced",
         79,
         "Closed",
         20060623,
         "Check",
         51,
         30,
         20060623,
         3,
         0,
         0,
         0,
         53.0,
         null,
         "2023-04-24T18:13:07.360+0000",
         "dbfs:/FileStore/ds2002-lab06/source_data/stream/orders/Northwind_FactOrders02.json"
        ],
        [
         29,
         0,
         1,
         34,
         20060605,
         "Invoiced",
         78,
         "Closed",
         20060605,
         "Check",
         17,
         40,
         20060605,
         2,
         200,
         0,
         0,
         39.0,
         null,
         "2023-04-24T18:13:07.360+0000",
         "dbfs:/FileStore/ds2002-lab06/source_data/stream/orders/Northwind_FactOrders02.json"
        ],
        [
         26,
         0,
         9,
         35,
         20060605,
         "Invoiced",
         77,
         "Closed",
         20060605,
         "Credit Card",
         6,
         90,
         20060605,
         3,
         60,
         0,
         0,
         25.0,
         null,
         "2023-04-24T18:13:07.360+0000",
         "dbfs:/FileStore/ds2002-lab06/source_data/stream/orders/Northwind_FactOrders02.json"
        ],
        [
         25,
         0,
         9,
         36,
         20060605,
         "Invoiced",
         76,
         "Closed",
         20060605,
         "Cash",
         4,
         30,
         20060605,
         1,
         5,
         0,
         0,
         22.0,
         null,
         "2023-04-24T18:13:07.360+0000",
         "dbfs:/FileStore/ds2002-lab06/source_data/stream/orders/Northwind_FactOrders02.json"
        ],
        [
         8,
         0,
         4,
         37,
         20060605,
         "Invoiced",
         75,
         "Closed",
         20060605,
         "Check",
         48,
         40,
         20060605,
         2,
         50,
         0,
         0,
         12.75,
         null,
         "2023-04-24T18:13:07.360+0000",
         "dbfs:/FileStore/ds2002-lab06/source_data/stream/orders/Northwind_FactOrders02.json"
        ],
        [
         6,
         0,
         6,
         38,
         20060608,
         "Invoiced",
         74,
         "Closed",
         20060608,
         "Credit Card",
         48,
         40,
         20060608,
         2,
         300,
         0,
         0,
         12.75,
         null,
         "2023-04-24T18:13:07.360+0000",
         "dbfs:/FileStore/ds2002-lab06/source_data/stream/orders/Northwind_FactOrders02.json"
        ],
        [
         9,
         0,
         7,
         39,
         20060605,
         "Invoiced",
         73,
         "Closed",
         20060605,
         "Check",
         41,
         10,
         20060605,
         1,
         100,
         0,
         0,
         9.65,
         null,
         "2023-04-24T18:13:07.360+0000",
         "dbfs:/FileStore/ds2002-lab06/source_data/stream/orders/Northwind_FactOrders03.json"
        ],
        [
         28,
         0,
         1,
         40,
         20060607,
         "Invoiced",
         72,
         "Closed",
         20060607,
         "Credit Card",
         43,
         5,
         20060607,
         3,
         40,
         0,
         0,
         46.0,
         null,
         "2023-04-24T18:13:07.360+0000",
         "dbfs:/FileStore/ds2002-lab06/source_data/stream/orders/Northwind_FactOrders03.json"
        ],
        [
         1,
         0,
         1,
         41,
         20060524,
         "Invoiced",
         71,
         "New",
         null,
         null,
         40,
         40,
         null,
         3,
         0,
         0,
         0,
         18.4,
         null,
         "2023-04-24T18:13:07.360+0000",
         "dbfs:/FileStore/ds2002-lab06/source_data/stream/orders/Northwind_FactOrders03.json"
        ],
        [
         11,
         0,
         1,
         42,
         20060524,
         "Invoiced",
         70,
         "New",
         null,
         null,
         8,
         20,
         null,
         3,
         0,
         0,
         0,
         40.0,
         null,
         "2023-04-24T18:13:07.360+0000",
         "dbfs:/FileStore/ds2002-lab06/source_data/stream/orders/Northwind_FactOrders03.json"
        ],
        [
         10,
         0,
         1,
         43,
         20060524,
         "Invoiced",
         69,
         "New",
         null,
         null,
         80,
         15,
         null,
         1,
         0,
         0,
         0,
         3.5,
         null,
         "2023-04-24T18:13:07.360+0000",
         "dbfs:/FileStore/ds2002-lab06/source_data/stream/orders/Northwind_FactOrders03.json"
        ],
        [
         10,
         0,
         4,
         44,
         20060524,
         "Invoiced",
         67,
         "Closed",
         20060524,
         "Credit Card",
         74,
         20,
         20060524,
         2,
         9,
         0,
         0,
         10.0,
         null,
         "2023-04-24T18:13:07.360+0000",
         "dbfs:/FileStore/ds2002-lab06/source_data/stream/orders/Northwind_FactOrders03.json"
        ],
        [
         8,
         0,
         6,
         45,
         20060430,
         "Invoiced",
         60,
         "Closed",
         20060430,
         "Credit Card",
         72,
         40,
         20060430,
         3,
         50,
         0,
         0,
         34.8,
         null,
         "2023-04-24T18:13:07.360+0000",
         "dbfs:/FileStore/ds2002-lab06/source_data/stream/orders/Northwind_FactOrders03.json"
        ],
        [
         3,
         0,
         4,
         46,
         20060425,
         "Invoiced",
         63,
         "Closed",
         20060425,
         "Cash",
         3,
         50,
         20060425,
         2,
         7,
         0,
         0,
         10.0,
         null,
         "2023-04-24T18:13:07.360+0000",
         "dbfs:/FileStore/ds2002-lab06/source_data/stream/orders/Northwind_FactOrders03.json"
        ],
        [
         3,
         0,
         4,
         47,
         20060425,
         "Invoiced",
         63,
         "Closed",
         20060425,
         "Cash",
         8,
         3,
         20060425,
         2,
         7,
         0,
         0,
         40.0,
         null,
         "2023-04-24T18:13:07.360+0000",
         "dbfs:/FileStore/ds2002-lab06/source_data/stream/orders/Northwind_FactOrders03.json"
        ],
        [
         4,
         0,
         3,
         48,
         20060422,
         "Invoiced",
         58,
         "Closed",
         20060422,
         "Credit Card",
         20,
         40,
         20060422,
         1,
         5,
         0,
         0,
         81.0,
         null,
         "2023-04-24T18:13:07.360+0000",
         "dbfs:/FileStore/ds2002-lab06/source_data/stream/orders/Northwind_FactOrders03.json"
        ],
        [
         4,
         0,
         3,
         49,
         20060422,
         "Invoiced",
         58,
         "Closed",
         20060422,
         "Credit Card",
         52,
         40,
         20060422,
         1,
         5,
         0,
         0,
         7.0,
         null,
         "2023-04-24T18:13:07.360+0000",
         "dbfs:/FileStore/ds2002-lab06/source_data/stream/orders/Northwind_FactOrders03.json"
        ],
        [
         7,
         0,
         1,
         50,
         20060324,
         "Allocated",
         41,
         "New",
         null,
         null,
         43,
         300,
         null,
         null,
         0,
         0,
         0,
         46.0,
         null,
         "2023-04-24T18:13:07.360+0000",
         "dbfs:/FileStore/ds2002-lab06/source_data/stream/orders/Northwind_FactOrders03.json"
        ],
        [
         11,
         0,
         1,
         51,
         20060324,
         "Allocated",
         43,
         "New",
         null,
         null,
         80,
         20,
         null,
         3,
         0,
         0,
         0,
         3.5,
         null,
         "2023-04-24T18:13:07.360+0000",
         "dbfs:/FileStore/ds2002-lab06/source_data/stream/orders/Northwind_FactOrders03.json"
        ],
        [
         11,
         0,
         1,
         52,
         20060324,
         "Allocated",
         43,
         "New",
         null,
         null,
         81,
         50,
         null,
         3,
         0,
         0,
         0,
         2.99,
         null,
         "2023-04-24T18:13:07.360+0000",
         "dbfs:/FileStore/ds2002-lab06/source_data/stream/orders/Northwind_FactOrders03.json"
        ],
        [
         1,
         0,
         1,
         53,
         20060324,
         "Allocated",
         44,
         "New",
         null,
         null,
         1,
         25,
         null,
         null,
         0,
         0,
         0,
         18.0,
         null,
         "2023-04-24T18:13:07.360+0000",
         "dbfs:/FileStore/ds2002-lab06/source_data/stream/orders/Northwind_FactOrders03.json"
        ],
        [
         1,
         0,
         1,
         54,
         20060324,
         "Allocated",
         44,
         "New",
         null,
         null,
         43,
         25,
         null,
         null,
         0,
         0,
         0,
         46.0,
         null,
         "2023-04-24T18:13:07.360+0000",
         "dbfs:/FileStore/ds2002-lab06/source_data/stream/orders/Northwind_FactOrders03.json"
        ],
        [
         1,
         0,
         1,
         55,
         20060324,
         "Allocated",
         44,
         "New",
         null,
         null,
         81,
         25,
         null,
         null,
         0,
         0,
         0,
         2.99,
         null,
         "2023-04-24T18:13:07.360+0000",
         "dbfs:/FileStore/ds2002-lab06/source_data/stream/orders/Northwind_FactOrders03.json"
        ],
        [
         4,
         0,
         2,
         56,
         null,
         "Allocated",
         80,
         "New",
         null,
         null,
         56,
         10,
         null,
         null,
         0,
         0,
         0,
         38.0,
         null,
         "2023-04-24T18:13:07.360+0000",
         "dbfs:/FileStore/ds2002-lab06/source_data/stream/orders/Northwind_FactOrders03.json"
        ],
        [
         3,
         0,
         2,
         57,
         null,
         "No Stock",
         81,
         "New",
         null,
         null,
         81,
         0,
         null,
         null,
         0,
         0,
         0,
         2.99,
         null,
         "2023-04-24T18:13:07.360+0000",
         "dbfs:/FileStore/ds2002-lab06/source_data/stream/orders/Northwind_FactOrders03.json"
        ],
        [
         3,
         0,
         2,
         58,
         null,
         "None",
         81,
         "New",
         null,
         null,
         56,
         0,
         null,
         null,
         0,
         0,
         0,
         38.0,
         null,
         "2023-04-24T18:13:07.360+0000",
         "dbfs:/FileStore/ds2002-lab06/source_data/stream/orders/Northwind_FactOrders03.json"
        ],
        [
         null,
         null,
         null,
         null,
         null,
         null,
         null,
         null,
         null,
         null,
         null,
         null,
         null,
         null,
         null,
         null,
         null,
         null,
         null,
         "2023-04-24T18:13:07.360+0000",
         "dbfs:/FileStore/ds2002-lab06/source_data/stream/orders/Northwind_FactOrders01.json"
        ]
       ],
       "datasetInfos": [],
       "dbfsResultPath": null,
       "isJsonSchema": true,
       "metadata": {
        "isDbfsCommandResult": false
       },
       "overflow": false,
       "plotOptions": {
        "customPlotOptions": {},
        "displayType": "table",
        "pivotAggregation": null,
        "pivotColumns": null,
        "xColumns": null,
        "yColumns": null
       },
       "removedWidgets": [],
       "schema": [
        {
         "metadata": "{}",
         "name": "customer_key",
         "type": "\"long\""
        },
        {
         "metadata": "{}",
         "name": "discount",
         "type": "\"long\""
        },
        {
         "metadata": "{}",
         "name": "employee_key",
         "type": "\"long\""
        },
        {
         "metadata": "{}",
         "name": "fact_order_key",
         "type": "\"long\""
        },
        {
         "metadata": "{}",
         "name": "order_date_key",
         "type": "\"long\""
        },
        {
         "metadata": "{}",
         "name": "order_details_status",
         "type": "\"string\""
        },
        {
         "metadata": "{}",
         "name": "order_key",
         "type": "\"long\""
        },
        {
         "metadata": "{}",
         "name": "order_status",
         "type": "\"string\""
        },
        {
         "metadata": "{}",
         "name": "paid_date_key",
         "type": "\"long\""
        },
        {
         "metadata": "{}",
         "name": "payment_type",
         "type": "\"string\""
        },
        {
         "metadata": "{}",
         "name": "product_key",
         "type": "\"long\""
        },
        {
         "metadata": "{}",
         "name": "quantity",
         "type": "\"long\""
        },
        {
         "metadata": "{}",
         "name": "shipped_date_key",
         "type": "\"long\""
        },
        {
         "metadata": "{}",
         "name": "shipper_key",
         "type": "\"long\""
        },
        {
         "metadata": "{}",
         "name": "shipping_fee",
         "type": "\"long\""
        },
        {
         "metadata": "{}",
         "name": "tax_rate",
         "type": "\"long\""
        },
        {
         "metadata": "{}",
         "name": "taxes",
         "type": "\"long\""
        },
        {
         "metadata": "{}",
         "name": "unit_price",
         "type": "\"double\""
        },
        {
         "metadata": "{}",
         "name": "_rescued_data",
         "type": "\"string\""
        },
        {
         "metadata": "{}",
         "name": "receipt_time",
         "type": "\"timestamp\""
        },
        {
         "metadata": "{}",
         "name": "source_file",
         "type": "\"string\""
        }
       ],
       "type": "table"
      }
     },
     "output_type": "display_data"
    }
   ],
   "source": [
    "%sql\n",
    "SELECT * FROM orders_silver_tempview"
   ]
  },
  {
   "cell_type": "code",
   "execution_count": 0,
   "metadata": {
    "application/vnd.databricks.v1+cell": {
     "cellMetadata": {
      "byteLimit": 2048000,
      "implicitDf": true,
      "rowLimit": 10000
     },
     "inputWidgets": {},
     "nuid": "27e95e9e-62c2-4c85-a66b-7d6e145a4193",
     "showTitle": false,
     "title": ""
    }
   },
   "outputs": [
    {
     "output_type": "display_data",
     "data": {
      "text/html": [
       "<style scoped>\n",
       "  .table-result-container {\n",
       "    max-height: 300px;\n",
       "    overflow: auto;\n",
       "  }\n",
       "  table, th, td {\n",
       "    border: 1px solid black;\n",
       "    border-collapse: collapse;\n",
       "  }\n",
       "  th, td {\n",
       "    padding: 5px;\n",
       "  }\n",
       "  th {\n",
       "    text-align: left;\n",
       "  }\n",
       "</style><div class='table-result-container'><table class='table-result'><thead style='background-color: white'><tr><th>col_name</th><th>data_type</th><th>comment</th></tr></thead><tbody><tr><td>customer_key</td><td>bigint</td><td>null</td></tr><tr><td>discount</td><td>bigint</td><td>null</td></tr><tr><td>employee_key</td><td>bigint</td><td>null</td></tr><tr><td>fact_order_key</td><td>bigint</td><td>null</td></tr><tr><td>order_date_key</td><td>bigint</td><td>null</td></tr><tr><td>order_details_status</td><td>string</td><td>null</td></tr><tr><td>order_key</td><td>bigint</td><td>null</td></tr><tr><td>order_status</td><td>string</td><td>null</td></tr><tr><td>paid_date_key</td><td>bigint</td><td>null</td></tr><tr><td>payment_type</td><td>string</td><td>null</td></tr><tr><td>product_key</td><td>bigint</td><td>null</td></tr><tr><td>quantity</td><td>bigint</td><td>null</td></tr><tr><td>shipped_date_key</td><td>bigint</td><td>null</td></tr><tr><td>shipper_key</td><td>bigint</td><td>null</td></tr><tr><td>shipping_fee</td><td>bigint</td><td>null</td></tr><tr><td>tax_rate</td><td>bigint</td><td>null</td></tr><tr><td>taxes</td><td>bigint</td><td>null</td></tr><tr><td>unit_price</td><td>double</td><td>null</td></tr><tr><td>_rescued_data</td><td>string</td><td>null</td></tr><tr><td>receipt_time</td><td>timestamp</td><td>null</td></tr><tr><td>source_file</td><td>string</td><td>null</td></tr></tbody></table></div>"
      ]
     },
     "metadata": {
      "application/vnd.databricks.v1+output": {
       "addedWidgets": {},
       "aggData": [],
       "aggError": "",
       "aggOverflow": false,
       "aggSchema": [],
       "aggSeriesLimitReached": false,
       "aggType": "",
       "arguments": {},
       "columnCustomDisplayInfos": {},
       "data": [
        [
         "customer_key",
         "bigint",
         null
        ],
        [
         "discount",
         "bigint",
         null
        ],
        [
         "employee_key",
         "bigint",
         null
        ],
        [
         "fact_order_key",
         "bigint",
         null
        ],
        [
         "order_date_key",
         "bigint",
         null
        ],
        [
         "order_details_status",
         "string",
         null
        ],
        [
         "order_key",
         "bigint",
         null
        ],
        [
         "order_status",
         "string",
         null
        ],
        [
         "paid_date_key",
         "bigint",
         null
        ],
        [
         "payment_type",
         "string",
         null
        ],
        [
         "product_key",
         "bigint",
         null
        ],
        [
         "quantity",
         "bigint",
         null
        ],
        [
         "shipped_date_key",
         "bigint",
         null
        ],
        [
         "shipper_key",
         "bigint",
         null
        ],
        [
         "shipping_fee",
         "bigint",
         null
        ],
        [
         "tax_rate",
         "bigint",
         null
        ],
        [
         "taxes",
         "bigint",
         null
        ],
        [
         "unit_price",
         "double",
         null
        ],
        [
         "_rescued_data",
         "string",
         null
        ],
        [
         "receipt_time",
         "timestamp",
         null
        ],
        [
         "source_file",
         "string",
         null
        ]
       ],
       "datasetInfos": [],
       "dbfsResultPath": null,
       "isJsonSchema": true,
       "metadata": {},
       "overflow": false,
       "plotOptions": {
        "customPlotOptions": {},
        "displayType": "table",
        "pivotAggregation": null,
        "pivotColumns": null,
        "xColumns": null,
        "yColumns": null
       },
       "removedWidgets": [],
       "schema": [
        {
         "metadata": "{\"comment\":\"name of the column\"}",
         "name": "col_name",
         "type": "\"string\""
        },
        {
         "metadata": "{\"comment\":\"data type of the column\"}",
         "name": "data_type",
         "type": "\"string\""
        },
        {
         "metadata": "{\"comment\":\"comment of the column\"}",
         "name": "comment",
         "type": "\"string\""
        }
       ],
       "type": "table"
      }
     },
     "output_type": "display_data"
    }
   ],
   "source": [
    "%sql\n",
    "DESCRIBE EXTENDED orders_silver_tempview"
   ]
  },
  {
   "cell_type": "code",
   "execution_count": 0,
   "metadata": {
    "application/vnd.databricks.v1+cell": {
     "cellMetadata": {
      "byteLimit": 2048000,
      "implicitDf": true,
      "rowLimit": 10000
     },
     "inputWidgets": {},
     "nuid": "710c49bc-c34a-4db5-9cea-ab801ffe9688",
     "showTitle": false,
     "title": ""
    }
   },
   "outputs": [
    {
     "output_type": "display_data",
     "data": {
      "text/html": [
       "<style scoped>\n",
       "  .table-result-container {\n",
       "    max-height: 300px;\n",
       "    overflow: auto;\n",
       "  }\n",
       "  table, th, td {\n",
       "    border: 1px solid black;\n",
       "    border-collapse: collapse;\n",
       "  }\n",
       "  th, td {\n",
       "    padding: 5px;\n",
       "  }\n",
       "  th {\n",
       "    text-align: left;\n",
       "  }\n",
       "</style><div class='table-result-container'><table class='table-result'><thead style='background-color: white'><tr></tr></thead><tbody></tbody></table></div>"
      ]
     },
     "metadata": {
      "application/vnd.databricks.v1+output": {
       "addedWidgets": {},
       "aggData": [],
       "aggError": "",
       "aggOverflow": false,
       "aggSchema": [],
       "aggSeriesLimitReached": false,
       "aggType": "",
       "arguments": {},
       "columnCustomDisplayInfos": {},
       "data": [],
       "datasetInfos": [],
       "dbfsResultPath": null,
       "isJsonSchema": true,
       "metadata": {},
       "overflow": false,
       "plotOptions": {
        "customPlotOptions": {},
        "displayType": "table",
        "pivotAggregation": null,
        "pivotColumns": null,
        "xColumns": null,
        "yColumns": null
       },
       "removedWidgets": [],
       "schema": [],
       "type": "table"
      }
     },
     "output_type": "display_data"
    }
   ],
   "source": [
    "%sql\n",
    "CREATE OR REPLACE TEMPORARY VIEW fact_orders_silver_tempview AS (\n",
    "  SELECT o.fact_order_key,\n",
    "      o.order_key,\n",
    "      o.employee_key,\n",
    "      e.last_name AS employee_last_name,\n",
    "      e.first_name AS employee_first_name,\n",
    "      e.job_title AS employee_job_title,\n",
    "      e.company AS employee_company,\n",
    "      o.customer_key,\n",
    "      c.last_name AS customer_last_name,\n",
    "      c.first_name AS customer_first_name,\n",
    "      o.product_key,\n",
    "      p.product_code,\n",
    "      p.product_name,\n",
    "      p.standard_cost AS product_standard_cost,\n",
    "      p.list_price AS product_list_price,\n",
    "      p.category AS product_category,\n",
    "      o.shipper_key,\n",
    "      s.company AS shipper_company,\n",
    "      s.state_province AS shipper_state_province,\n",
    "      s.country_region AS shipper_country_region,\n",
    "      o.order_date_key,\n",
    "      od.day_name_of_week AS order_day_name_of_week,\n",
    "      od.day_of_month AS order_day_of_month,\n",
    "      od.weekday_weekend AS order_weekday_weekend,\n",
    "      od.month_name AS order_month_name,\n",
    "      od.calendar_quarter AS order_quarter,\n",
    "      od.calendar_year AS order_year,\n",
    "      o.paid_date_key,\n",
    "      pd.day_name_of_week AS paid_day_name_of_week,\n",
    "      pd.day_of_month AS paid_day_of_month,\n",
    "      pd.weekday_weekend AS paid_weekday_weekend,\n",
    "      pd.month_name AS paid_month_name,\n",
    "      pd.calendar_quarter AS paid_calendar_quarter,\n",
    "      pd.calendar_year AS paid_calendar_year,\n",
    "      o.shipped_date_key,\n",
    "      sd.day_name_of_week AS shipped_day_name_of_week,\n",
    "      sd.day_of_month AS shipped_day_of_month,\n",
    "      sd.weekday_weekend AS shipped_weekday_weekend,\n",
    "      sd.month_name AS shipped_month_name,\n",
    "      sd.calendar_quarter AS shipped_calendar_quarter,\n",
    "      sd.calendar_year AS shipped_calendar_year,\n",
    "      o.quantity,\n",
    "      o.unit_price,\n",
    "      o.discount,\n",
    "      o.shipping_fee,\n",
    "      o.taxes,\n",
    "      o.tax_rate,\n",
    "      o.payment_type,\n",
    "      o.order_status,\n",
    "      o.order_details_status\n",
    "  FROM orders_silver_tempview AS o\n",
    "  INNER JOIN northwind_dlh.dim_employee AS e\n",
    "  ON e.employee_key = o.employee_key\n",
    "  INNER JOIN northwind_dlh.dim_customer AS c\n",
    "  ON c.customer_key = o.customer_key\n",
    "  INNER JOIN northwind_dlh.dim_product AS p\n",
    "  ON p.product_key = o.product_key\n",
    "  INNER JOIN northwind_dlh.dim_shipper AS s\n",
    "  ON s.shipper_key = o.shipper_key\n",
    "  LEFT OUTER JOIN northwind_dlh.dim_date AS od\n",
    "  ON od.date_key = o.order_date_key\n",
    "  LEFT OUTER JOIN northwind_dlh.dim_date AS pd\n",
    "  ON pd.date_key = o.paid_date_key\n",
    "  LEFT OUTER JOIN northwind_dlh.dim_date AS sd\n",
    "  ON sd.date_key = o.shipped_date_key\n",
    ")"
   ]
  },
  {
   "cell_type": "code",
   "execution_count": 0,
   "metadata": {
    "application/vnd.databricks.v1+cell": {
     "cellMetadata": {
      "byteLimit": 2048000,
      "rowLimit": 10000
     },
     "inputWidgets": {},
     "nuid": "240d8a94-0801-4e89-966d-a08f843efb6b",
     "showTitle": false,
     "title": ""
    }
   },
   "outputs": [
    {
     "output_type": "stream",
     "name": "stdout",
     "output_type": "stream",
     "text": [
      "Out[41]: <pyspark.sql.streaming.query.StreamingQuery at 0x7f0db8787f70>"
     ]
    }
   ],
   "source": [
    "(spark.table(\"fact_orders_silver_tempview\")\n",
    "      .writeStream\n",
    "      .format(\"delta\")\n",
    "      .option(\"checkpointLocation\", f\"{orders_output_silver}/_checkpoint\")\n",
    "      .outputMode(\"append\")\n",
    "      .table(\"fact_orders_silver\"))"
   ]
  },
  {
   "cell_type": "code",
   "execution_count": 0,
   "metadata": {
    "application/vnd.databricks.v1+cell": {
     "cellMetadata": {
      "byteLimit": 2048000,
      "implicitDf": true,
      "rowLimit": 10000
     },
     "inputWidgets": {},
     "nuid": "e0405389-1528-48ba-96cc-90a9c67f1c34",
     "showTitle": false,
     "title": ""
    }
   },
   "outputs": [
    {
     "output_type": "display_data",
     "data": {
      "text/html": [
       "<style scoped>\n",
       "  .table-result-container {\n",
       "    max-height: 300px;\n",
       "    overflow: auto;\n",
       "  }\n",
       "  table, th, td {\n",
       "    border: 1px solid black;\n",
       "    border-collapse: collapse;\n",
       "  }\n",
       "  th, td {\n",
       "    padding: 5px;\n",
       "  }\n",
       "  th {\n",
       "    text-align: left;\n",
       "  }\n",
       "</style><div class='table-result-container'><table class='table-result'><thead style='background-color: white'><tr><th>fact_order_key</th><th>order_key</th><th>employee_key</th><th>employee_last_name</th><th>employee_first_name</th><th>employee_job_title</th><th>employee_company</th><th>customer_key</th><th>customer_last_name</th><th>customer_first_name</th><th>product_key</th><th>product_code</th><th>product_name</th><th>product_standard_cost</th><th>product_list_price</th><th>product_category</th><th>shipper_key</th><th>shipper_company</th><th>shipper_state_province</th><th>shipper_country_region</th><th>order_date_key</th><th>order_day_name_of_week</th><th>order_day_of_month</th><th>order_weekday_weekend</th><th>order_month_name</th><th>order_quarter</th><th>order_year</th><th>paid_date_key</th><th>paid_day_name_of_week</th><th>paid_day_of_month</th><th>paid_weekday_weekend</th><th>paid_month_name</th><th>paid_calendar_quarter</th><th>paid_calendar_year</th><th>shipped_date_key</th><th>shipped_day_name_of_week</th><th>shipped_day_of_month</th><th>shipped_weekday_weekend</th><th>shipped_month_name</th><th>shipped_calendar_quarter</th><th>shipped_calendar_year</th><th>quantity</th><th>unit_price</th><th>discount</th><th>shipping_fee</th><th>taxes</th><th>tax_rate</th><th>payment_type</th><th>order_status</th><th>order_details_status</th></tr></thead><tbody></tbody></table></div>"
      ]
     },
     "metadata": {
      "application/vnd.databricks.v1+output": {
       "addedWidgets": {},
       "aggData": [],
       "aggError": "",
       "aggOverflow": false,
       "aggSchema": [],
       "aggSeriesLimitReached": false,
       "aggType": "",
       "arguments": {},
       "columnCustomDisplayInfos": {},
       "data": [],
       "datasetInfos": [],
       "dbfsResultPath": null,
       "isJsonSchema": true,
       "metadata": {},
       "overflow": false,
       "plotOptions": {
        "customPlotOptions": {},
        "displayType": "table",
        "pivotAggregation": null,
        "pivotColumns": null,
        "xColumns": null,
        "yColumns": null
       },
       "removedWidgets": [],
       "schema": [
        {
         "metadata": "{}",
         "name": "fact_order_key",
         "type": "\"long\""
        },
        {
         "metadata": "{}",
         "name": "order_key",
         "type": "\"long\""
        },
        {
         "metadata": "{}",
         "name": "employee_key",
         "type": "\"long\""
        },
        {
         "metadata": "{}",
         "name": "employee_last_name",
         "type": "\"string\""
        },
        {
         "metadata": "{}",
         "name": "employee_first_name",
         "type": "\"string\""
        },
        {
         "metadata": "{}",
         "name": "employee_job_title",
         "type": "\"string\""
        },
        {
         "metadata": "{}",
         "name": "employee_company",
         "type": "\"string\""
        },
        {
         "metadata": "{}",
         "name": "customer_key",
         "type": "\"long\""
        },
        {
         "metadata": "{}",
         "name": "customer_last_name",
         "type": "\"string\""
        },
        {
         "metadata": "{}",
         "name": "customer_first_name",
         "type": "\"string\""
        },
        {
         "metadata": "{}",
         "name": "product_key",
         "type": "\"long\""
        },
        {
         "metadata": "{\"scale\":0}",
         "name": "product_code",
         "type": "\"string\""
        },
        {
         "metadata": "{\"scale\":0}",
         "name": "product_name",
         "type": "\"string\""
        },
        {
         "metadata": "{\"scale\":4}",
         "name": "product_standard_cost",
         "type": "\"decimal(19,4)\""
        },
        {
         "metadata": "{\"scale\":4}",
         "name": "product_list_price",
         "type": "\"decimal(19,4)\""
        },
        {
         "metadata": "{\"scale\":0}",
         "name": "product_category",
         "type": "\"string\""
        },
        {
         "metadata": "{}",
         "name": "shipper_key",
         "type": "\"long\""
        },
        {
         "metadata": "{}",
         "name": "shipper_company",
         "type": "\"string\""
        },
        {
         "metadata": "{}",
         "name": "shipper_state_province",
         "type": "\"string\""
        },
        {
         "metadata": "{}",
         "name": "shipper_country_region",
         "type": "\"string\""
        },
        {
         "metadata": "{}",
         "name": "order_date_key",
         "type": "\"long\""
        },
        {
         "metadata": "{\"scale\":0}",
         "name": "order_day_name_of_week",
         "type": "\"string\""
        },
        {
         "metadata": "{\"scale\":0}",
         "name": "order_day_of_month",
         "type": "\"integer\""
        },
        {
         "metadata": "{\"scale\":0}",
         "name": "order_weekday_weekend",
         "type": "\"string\""
        },
        {
         "metadata": "{\"scale\":0}",
         "name": "order_month_name",
         "type": "\"string\""
        },
        {
         "metadata": "{\"scale\":0}",
         "name": "order_quarter",
         "type": "\"integer\""
        },
        {
         "metadata": "{\"scale\":0}",
         "name": "order_year",
         "type": "\"integer\""
        },
        {
         "metadata": "{}",
         "name": "paid_date_key",
         "type": "\"long\""
        },
        {
         "metadata": "{\"scale\":0}",
         "name": "paid_day_name_of_week",
         "type": "\"string\""
        },
        {
         "metadata": "{\"scale\":0}",
         "name": "paid_day_of_month",
         "type": "\"integer\""
        },
        {
         "metadata": "{\"scale\":0}",
         "name": "paid_weekday_weekend",
         "type": "\"string\""
        },
        {
         "metadata": "{\"scale\":0}",
         "name": "paid_month_name",
         "type": "\"string\""
        },
        {
         "metadata": "{\"scale\":0}",
         "name": "paid_calendar_quarter",
         "type": "\"integer\""
        },
        {
         "metadata": "{\"scale\":0}",
         "name": "paid_calendar_year",
         "type": "\"integer\""
        },
        {
         "metadata": "{}",
         "name": "shipped_date_key",
         "type": "\"long\""
        },
        {
         "metadata": "{\"scale\":0}",
         "name": "shipped_day_name_of_week",
         "type": "\"string\""
        },
        {
         "metadata": "{\"scale\":0}",
         "name": "shipped_day_of_month",
         "type": "\"integer\""
        },
        {
         "metadata": "{\"scale\":0}",
         "name": "shipped_weekday_weekend",
         "type": "\"string\""
        },
        {
         "metadata": "{\"scale\":0}",
         "name": "shipped_month_name",
         "type": "\"string\""
        },
        {
         "metadata": "{\"scale\":0}",
         "name": "shipped_calendar_quarter",
         "type": "\"integer\""
        },
        {
         "metadata": "{\"scale\":0}",
         "name": "shipped_calendar_year",
         "type": "\"integer\""
        },
        {
         "metadata": "{}",
         "name": "quantity",
         "type": "\"long\""
        },
        {
         "metadata": "{}",
         "name": "unit_price",
         "type": "\"double\""
        },
        {
         "metadata": "{}",
         "name": "discount",
         "type": "\"long\""
        },
        {
         "metadata": "{}",
         "name": "shipping_fee",
         "type": "\"long\""
        },
        {
         "metadata": "{}",
         "name": "taxes",
         "type": "\"long\""
        },
        {
         "metadata": "{}",
         "name": "tax_rate",
         "type": "\"long\""
        },
        {
         "metadata": "{}",
         "name": "payment_type",
         "type": "\"string\""
        },
        {
         "metadata": "{}",
         "name": "order_status",
         "type": "\"string\""
        },
        {
         "metadata": "{}",
         "name": "order_details_status",
         "type": "\"string\""
        }
       ],
       "type": "table"
      }
     },
     "output_type": "display_data"
    }
   ],
   "source": [
    "%sql\n",
    "SELECT * FROM fact_orders_silver"
   ]
  },
  {
   "cell_type": "code",
   "execution_count": 0,
   "metadata": {
    "application/vnd.databricks.v1+cell": {
     "cellMetadata": {
      "byteLimit": 2048000,
      "implicitDf": true,
      "rowLimit": 10000
     },
     "inputWidgets": {},
     "nuid": "f89680de-3ae9-4a27-9c0c-a8e4eef7667a",
     "showTitle": false,
     "title": ""
    }
   },
   "outputs": [
    {
     "output_type": "display_data",
     "data": {
      "text/html": [
       "<style scoped>\n",
       "  .table-result-container {\n",
       "    max-height: 300px;\n",
       "    overflow: auto;\n",
       "  }\n",
       "  table, th, td {\n",
       "    border: 1px solid black;\n",
       "    border-collapse: collapse;\n",
       "  }\n",
       "  th, td {\n",
       "    padding: 5px;\n",
       "  }\n",
       "  th {\n",
       "    text-align: left;\n",
       "  }\n",
       "</style><div class='table-result-container'><table class='table-result'><thead style='background-color: white'><tr><th>col_name</th><th>data_type</th><th>comment</th></tr></thead><tbody><tr><td>fact_order_key</td><td>bigint</td><td>null</td></tr><tr><td>order_key</td><td>bigint</td><td>null</td></tr><tr><td>employee_key</td><td>bigint</td><td>null</td></tr><tr><td>employee_last_name</td><td>string</td><td>null</td></tr><tr><td>employee_first_name</td><td>string</td><td>null</td></tr><tr><td>employee_job_title</td><td>string</td><td>null</td></tr><tr><td>employee_company</td><td>string</td><td>null</td></tr><tr><td>customer_key</td><td>bigint</td><td>null</td></tr><tr><td>customer_last_name</td><td>string</td><td>null</td></tr><tr><td>customer_first_name</td><td>string</td><td>null</td></tr><tr><td>product_key</td><td>bigint</td><td>null</td></tr><tr><td>product_code</td><td>string</td><td>null</td></tr><tr><td>product_name</td><td>string</td><td>null</td></tr><tr><td>product_standard_cost</td><td>decimal(19,4)</td><td>null</td></tr><tr><td>product_list_price</td><td>decimal(19,4)</td><td>null</td></tr><tr><td>product_category</td><td>string</td><td>null</td></tr><tr><td>shipper_key</td><td>bigint</td><td>null</td></tr><tr><td>shipper_company</td><td>string</td><td>null</td></tr><tr><td>shipper_state_province</td><td>string</td><td>null</td></tr><tr><td>shipper_country_region</td><td>string</td><td>null</td></tr><tr><td>order_date_key</td><td>bigint</td><td>null</td></tr><tr><td>order_day_name_of_week</td><td>string</td><td>null</td></tr><tr><td>order_day_of_month</td><td>int</td><td>null</td></tr><tr><td>order_weekday_weekend</td><td>string</td><td>null</td></tr><tr><td>order_month_name</td><td>string</td><td>null</td></tr><tr><td>order_quarter</td><td>int</td><td>null</td></tr><tr><td>order_year</td><td>int</td><td>null</td></tr><tr><td>paid_date_key</td><td>bigint</td><td>null</td></tr><tr><td>paid_day_name_of_week</td><td>string</td><td>null</td></tr><tr><td>paid_day_of_month</td><td>int</td><td>null</td></tr><tr><td>paid_weekday_weekend</td><td>string</td><td>null</td></tr><tr><td>paid_month_name</td><td>string</td><td>null</td></tr><tr><td>paid_calendar_quarter</td><td>int</td><td>null</td></tr><tr><td>paid_calendar_year</td><td>int</td><td>null</td></tr><tr><td>shipped_date_key</td><td>bigint</td><td>null</td></tr><tr><td>shipped_day_name_of_week</td><td>string</td><td>null</td></tr><tr><td>shipped_day_of_month</td><td>int</td><td>null</td></tr><tr><td>shipped_weekday_weekend</td><td>string</td><td>null</td></tr><tr><td>shipped_month_name</td><td>string</td><td>null</td></tr><tr><td>shipped_calendar_quarter</td><td>int</td><td>null</td></tr><tr><td>shipped_calendar_year</td><td>int</td><td>null</td></tr><tr><td>quantity</td><td>bigint</td><td>null</td></tr><tr><td>unit_price</td><td>double</td><td>null</td></tr><tr><td>discount</td><td>bigint</td><td>null</td></tr><tr><td>shipping_fee</td><td>bigint</td><td>null</td></tr><tr><td>taxes</td><td>bigint</td><td>null</td></tr><tr><td>tax_rate</td><td>bigint</td><td>null</td></tr><tr><td>payment_type</td><td>string</td><td>null</td></tr><tr><td>order_status</td><td>string</td><td>null</td></tr><tr><td>order_details_status</td><td>string</td><td>null</td></tr><tr><td></td><td></td><td></td></tr><tr><td># Detailed Table Information</td><td></td><td></td></tr><tr><td>Catalog</td><td>spark_catalog</td><td></td></tr><tr><td>Database</td><td>northwind_dlh</td><td></td></tr><tr><td>Table</td><td>fact_orders_silver</td><td></td></tr><tr><td>Type</td><td>MANAGED</td><td></td></tr><tr><td>Location</td><td>dbfs:/FileStore/ds2002-lab06/northwind_dlh/fact_orders_silver</td><td></td></tr><tr><td>Provider</td><td>delta</td><td></td></tr><tr><td>Owner</td><td>root</td><td></td></tr><tr><td>Is_managed_location</td><td>true</td><td></td></tr><tr><td>Table Properties</td><td>[delta.minReaderVersion=1,delta.minWriterVersion=2]</td><td></td></tr></tbody></table></div>"
      ]
     },
     "metadata": {
      "application/vnd.databricks.v1+output": {
       "addedWidgets": {},
       "aggData": [],
       "aggError": "",
       "aggOverflow": false,
       "aggSchema": [],
       "aggSeriesLimitReached": false,
       "aggType": "",
       "arguments": {},
       "columnCustomDisplayInfos": {},
       "data": [
        [
         "fact_order_key",
         "bigint",
         null
        ],
        [
         "order_key",
         "bigint",
         null
        ],
        [
         "employee_key",
         "bigint",
         null
        ],
        [
         "employee_last_name",
         "string",
         null
        ],
        [
         "employee_first_name",
         "string",
         null
        ],
        [
         "employee_job_title",
         "string",
         null
        ],
        [
         "employee_company",
         "string",
         null
        ],
        [
         "customer_key",
         "bigint",
         null
        ],
        [
         "customer_last_name",
         "string",
         null
        ],
        [
         "customer_first_name",
         "string",
         null
        ],
        [
         "product_key",
         "bigint",
         null
        ],
        [
         "product_code",
         "string",
         null
        ],
        [
         "product_name",
         "string",
         null
        ],
        [
         "product_standard_cost",
         "decimal(19,4)",
         null
        ],
        [
         "product_list_price",
         "decimal(19,4)",
         null
        ],
        [
         "product_category",
         "string",
         null
        ],
        [
         "shipper_key",
         "bigint",
         null
        ],
        [
         "shipper_company",
         "string",
         null
        ],
        [
         "shipper_state_province",
         "string",
         null
        ],
        [
         "shipper_country_region",
         "string",
         null
        ],
        [
         "order_date_key",
         "bigint",
         null
        ],
        [
         "order_day_name_of_week",
         "string",
         null
        ],
        [
         "order_day_of_month",
         "int",
         null
        ],
        [
         "order_weekday_weekend",
         "string",
         null
        ],
        [
         "order_month_name",
         "string",
         null
        ],
        [
         "order_quarter",
         "int",
         null
        ],
        [
         "order_year",
         "int",
         null
        ],
        [
         "paid_date_key",
         "bigint",
         null
        ],
        [
         "paid_day_name_of_week",
         "string",
         null
        ],
        [
         "paid_day_of_month",
         "int",
         null
        ],
        [
         "paid_weekday_weekend",
         "string",
         null
        ],
        [
         "paid_month_name",
         "string",
         null
        ],
        [
         "paid_calendar_quarter",
         "int",
         null
        ],
        [
         "paid_calendar_year",
         "int",
         null
        ],
        [
         "shipped_date_key",
         "bigint",
         null
        ],
        [
         "shipped_day_name_of_week",
         "string",
         null
        ],
        [
         "shipped_day_of_month",
         "int",
         null
        ],
        [
         "shipped_weekday_weekend",
         "string",
         null
        ],
        [
         "shipped_month_name",
         "string",
         null
        ],
        [
         "shipped_calendar_quarter",
         "int",
         null
        ],
        [
         "shipped_calendar_year",
         "int",
         null
        ],
        [
         "quantity",
         "bigint",
         null
        ],
        [
         "unit_price",
         "double",
         null
        ],
        [
         "discount",
         "bigint",
         null
        ],
        [
         "shipping_fee",
         "bigint",
         null
        ],
        [
         "taxes",
         "bigint",
         null
        ],
        [
         "tax_rate",
         "bigint",
         null
        ],
        [
         "payment_type",
         "string",
         null
        ],
        [
         "order_status",
         "string",
         null
        ],
        [
         "order_details_status",
         "string",
         null
        ],
        [
         "",
         "",
         ""
        ],
        [
         "# Detailed Table Information",
         "",
         ""
        ],
        [
         "Catalog",
         "spark_catalog",
         ""
        ],
        [
         "Database",
         "northwind_dlh",
         ""
        ],
        [
         "Table",
         "fact_orders_silver",
         ""
        ],
        [
         "Type",
         "MANAGED",
         ""
        ],
        [
         "Location",
         "dbfs:/FileStore/ds2002-lab06/northwind_dlh/fact_orders_silver",
         ""
        ],
        [
         "Provider",
         "delta",
         ""
        ],
        [
         "Owner",
         "root",
         ""
        ],
        [
         "Is_managed_location",
         "true",
         ""
        ],
        [
         "Table Properties",
         "[delta.minReaderVersion=1,delta.minWriterVersion=2]",
         ""
        ]
       ],
       "datasetInfos": [],
       "dbfsResultPath": null,
       "isJsonSchema": true,
       "metadata": {},
       "overflow": false,
       "plotOptions": {
        "customPlotOptions": {},
        "displayType": "table",
        "pivotAggregation": null,
        "pivotColumns": null,
        "xColumns": null,
        "yColumns": null
       },
       "removedWidgets": [],
       "schema": [
        {
         "metadata": "{\"comment\":\"name of the column\"}",
         "name": "col_name",
         "type": "\"string\""
        },
        {
         "metadata": "{\"comment\":\"data type of the column\"}",
         "name": "data_type",
         "type": "\"string\""
        },
        {
         "metadata": "{\"comment\":\"comment of the column\"}",
         "name": "comment",
         "type": "\"string\""
        }
       ],
       "type": "table"
      }
     },
     "output_type": "display_data"
    }
   ],
   "source": [
    "%sql\n",
    "DESCRIBE EXTENDED northwind_dlh.fact_orders_silver"
   ]
  },
  {
   "cell_type": "markdown",
   "metadata": {
    "application/vnd.databricks.v1+cell": {
     "cellMetadata": {
      "byteLimit": 2048000,
      "rowLimit": 10000
     },
     "inputWidgets": {},
     "nuid": "6804eb9a-7c90-4c3c-a26e-29c9b91f1b1c",
     "showTitle": false,
     "title": ""
    }
   },
   "source": [
    "##### 6.3. Gold Table: Perform Aggregations"
   ]
  },
  {
   "cell_type": "code",
   "execution_count": 0,
   "metadata": {
    "application/vnd.databricks.v1+cell": {
     "cellMetadata": {
      "byteLimit": 2048000,
      "implicitDf": true,
      "rowLimit": 10000
     },
     "inputWidgets": {},
     "nuid": "255621fc-ae98-4723-917c-898eb3c0bf96",
     "showTitle": false,
     "title": ""
    }
   },
   "outputs": [
    {
     "output_type": "display_data",
     "data": {
      "text/html": [
       "<style scoped>\n",
       "  .table-result-container {\n",
       "    max-height: 300px;\n",
       "    overflow: auto;\n",
       "  }\n",
       "  table, th, td {\n",
       "    border: 1px solid black;\n",
       "    border-collapse: collapse;\n",
       "  }\n",
       "  th, td {\n",
       "    padding: 5px;\n",
       "  }\n",
       "  th {\n",
       "    text-align: left;\n",
       "  }\n",
       "</style><div class='table-result-container'><table class='table-result'><thead style='background-color: white'><tr><th>CustomerID</th><th>LastName</th><th>FirstName</th><th>OrderMonth</th><th>ProductCount</th></tr></thead><tbody><tr><td>26</td><td>Liu</td><td>Run</td><td>April</td><td>3</td></tr><tr><td>8</td><td>Andersen</td><td>Elizabeth</td><td>April</td><td>3</td></tr><tr><td>6</td><td>Pérez-Olaeta</td><td>Francisco</td><td>June</td><td>3</td></tr><tr><td>9</td><td>Mortensen</td><td>Sven</td><td>April</td><td>2</td></tr><tr><td>6</td><td>Pérez-Olaeta</td><td>Francisco</td><td>April</td><td>2</td></tr><tr><td>11</td><td>Krschne</td><td>Peter</td><td>March</td><td>2</td></tr><tr><td>4</td><td>Lee</td><td>Christina</td><td>April</td><td>2</td></tr><tr><td>3</td><td>Axen</td><td>Thomas</td><td>April</td><td>2</td></tr><tr><td>10</td><td>Wacker</td><td>Roland</td><td>May</td><td>2</td></tr><tr><td>29</td><td>Lee</td><td>Soo Jung</td><td>April</td><td>1</td></tr><tr><td>25</td><td>Rodman</td><td>John</td><td>April</td><td>1</td></tr><tr><td>8</td><td>Andersen</td><td>Elizabeth</td><td>June</td><td>1</td></tr><tr><td>26</td><td>Liu</td><td>Run</td><td>June</td><td>1</td></tr><tr><td>29</td><td>Lee</td><td>Soo Jung</td><td>June</td><td>1</td></tr><tr><td>28</td><td>Raghav</td><td>Amritansh</td><td>April</td><td>1</td></tr><tr><td>25</td><td>Rodman</td><td>John</td><td>June</td><td>1</td></tr><tr><td>9</td><td>Mortensen</td><td>Sven</td><td>June</td><td>1</td></tr><tr><td>1</td><td>Bedecs</td><td>Anna</td><td>May</td><td>1</td></tr><tr><td>11</td><td>Krschne</td><td>Peter</td><td>May</td><td>1</td></tr><tr><td>28</td><td>Raghav</td><td>Amritansh</td><td>June</td><td>1</td></tr></tbody></table></div>"
      ]
     },
     "metadata": {
      "application/vnd.databricks.v1+output": {
       "addedWidgets": {},
       "aggData": [],
       "aggError": "",
       "aggOverflow": false,
       "aggSchema": [],
       "aggSeriesLimitReached": false,
       "aggType": "",
       "arguments": {},
       "columnCustomDisplayInfos": {},
       "data": [
        [
         26,
         "Liu",
         "Run",
         "April",
         3
        ],
        [
         8,
         "Andersen",
         "Elizabeth",
         "April",
         3
        ],
        [
         6,
         "Pérez-Olaeta",
         "Francisco",
         "June",
         3
        ],
        [
         9,
         "Mortensen",
         "Sven",
         "April",
         2
        ],
        [
         6,
         "Pérez-Olaeta",
         "Francisco",
         "April",
         2
        ],
        [
         11,
         "Krschne",
         "Peter",
         "March",
         2
        ],
        [
         4,
         "Lee",
         "Christina",
         "April",
         2
        ],
        [
         3,
         "Axen",
         "Thomas",
         "April",
         2
        ],
        [
         10,
         "Wacker",
         "Roland",
         "May",
         2
        ],
        [
         29,
         "Lee",
         "Soo Jung",
         "April",
         1
        ],
        [
         25,
         "Rodman",
         "John",
         "April",
         1
        ],
        [
         8,
         "Andersen",
         "Elizabeth",
         "June",
         1
        ],
        [
         26,
         "Liu",
         "Run",
         "June",
         1
        ],
        [
         29,
         "Lee",
         "Soo Jung",
         "June",
         1
        ],
        [
         28,
         "Raghav",
         "Amritansh",
         "April",
         1
        ],
        [
         25,
         "Rodman",
         "John",
         "June",
         1
        ],
        [
         9,
         "Mortensen",
         "Sven",
         "June",
         1
        ],
        [
         1,
         "Bedecs",
         "Anna",
         "May",
         1
        ],
        [
         11,
         "Krschne",
         "Peter",
         "May",
         1
        ],
        [
         28,
         "Raghav",
         "Amritansh",
         "June",
         1
        ]
       ],
       "datasetInfos": [],
       "dbfsResultPath": null,
       "isJsonSchema": true,
       "metadata": {},
       "overflow": false,
       "plotOptions": {
        "customPlotOptions": {},
        "displayType": "table",
        "pivotAggregation": null,
        "pivotColumns": null,
        "xColumns": null,
        "yColumns": null
       },
       "removedWidgets": [],
       "schema": [
        {
         "metadata": "{}",
         "name": "CustomerID",
         "type": "\"long\""
        },
        {
         "metadata": "{}",
         "name": "LastName",
         "type": "\"string\""
        },
        {
         "metadata": "{}",
         "name": "FirstName",
         "type": "\"string\""
        },
        {
         "metadata": "{\"scale\":0}",
         "name": "OrderMonth",
         "type": "\"string\""
        },
        {
         "metadata": "{}",
         "name": "ProductCount",
         "type": "\"long\""
        }
       ],
       "type": "table"
      }
     },
     "output_type": "display_data"
    }
   ],
   "source": [
    "%sql\n",
    "SELECT customer_key AS CustomerID\n",
    "  , customer_last_name AS LastName\n",
    "  , customer_first_name AS FirstName\n",
    "  , order_month_name AS OrderMonth\n",
    "  , COUNT(product_key) AS ProductCount\n",
    "FROM northwind_dlh.fact_orders_silver\n",
    "GROUP BY CustomerID, LastName, FirstName, OrderMonth\n",
    "ORDER BY ProductCount DESC"
   ]
  },
  {
   "cell_type": "code",
   "execution_count": 0,
   "metadata": {
    "application/vnd.databricks.v1+cell": {
     "cellMetadata": {
      "byteLimit": 2048000,
      "implicitDf": true,
      "rowLimit": 10000
     },
     "inputWidgets": {},
     "nuid": "2ff0d151-e0d9-497d-b624-3c84dfbdb714",
     "showTitle": false,
     "title": ""
    }
   },
   "outputs": [
    {
     "output_type": "display_data",
     "data": {
      "text/html": [
       "<style scoped>\n",
       "  .table-result-container {\n",
       "    max-height: 300px;\n",
       "    overflow: auto;\n",
       "  }\n",
       "  table, th, td {\n",
       "    border: 1px solid black;\n",
       "    border-collapse: collapse;\n",
       "  }\n",
       "  th, td {\n",
       "    padding: 5px;\n",
       "  }\n",
       "  th {\n",
       "    text-align: left;\n",
       "  }\n",
       "</style><div class='table-result-container'><table class='table-result'><thead style='background-color: white'><tr><th>CustomerID</th><th>CustomerName</th><th>ProductNumber</th><th>ProductCount</th></tr></thead><tbody><tr><td>6</td><td>Pérez-Olaeta</td><td>34</td><td>5</td></tr><tr><td>6</td><td>Pérez-Olaeta</td><td>48</td><td>5</td></tr><tr><td>6</td><td>Pérez-Olaeta</td><td>7</td><td>5</td></tr><tr><td>6</td><td>Pérez-Olaeta</td><td>51</td><td>5</td></tr><tr><td>6</td><td>Pérez-Olaeta</td><td>48</td><td>5</td></tr><tr><td>8</td><td>Andersen</td><td>72</td><td>4</td></tr><tr><td>8</td><td>Andersen</td><td>8</td><td>4</td></tr><tr><td>8</td><td>Andersen</td><td>19</td><td>4</td></tr><tr><td>26</td><td>Liu</td><td>5</td><td>4</td></tr><tr><td>26</td><td>Liu</td><td>41</td><td>4</td></tr><tr><td>26</td><td>Liu</td><td>40</td><td>4</td></tr><tr><td>26</td><td>Liu</td><td>6</td><td>4</td></tr><tr><td>8</td><td>Andersen</td><td>48</td><td>4</td></tr><tr><td>9</td><td>Mortensen</td><td>41</td><td>3</td></tr><tr><td>9</td><td>Mortensen</td><td>57</td><td>3</td></tr><tr><td>11</td><td>Krschne</td><td>8</td><td>3</td></tr><tr><td>9</td><td>Mortensen</td><td>72</td><td>3</td></tr><tr><td>11</td><td>Krschne</td><td>80</td><td>3</td></tr><tr><td>11</td><td>Krschne</td><td>81</td><td>3</td></tr><tr><td>28</td><td>Raghav</td><td>40</td><td>2</td></tr><tr><td>28</td><td>Raghav</td><td>43</td><td>2</td></tr><tr><td>25</td><td>Rodman</td><td>21</td><td>2</td></tr><tr><td>10</td><td>Wacker</td><td>80</td><td>2</td></tr><tr><td>29</td><td>Lee</td><td>34</td><td>2</td></tr><tr><td>10</td><td>Wacker</td><td>74</td><td>2</td></tr><tr><td>29</td><td>Lee</td><td>17</td><td>2</td></tr><tr><td>3</td><td>Axen</td><td>3</td><td>2</td></tr><tr><td>25</td><td>Rodman</td><td>4</td><td>2</td></tr><tr><td>3</td><td>Axen</td><td>8</td><td>2</td></tr><tr><td>4</td><td>Lee</td><td>20</td><td>2</td></tr><tr><td>4</td><td>Lee</td><td>52</td><td>2</td></tr><tr><td>1</td><td>Bedecs</td><td>40</td><td>1</td></tr></tbody></table></div>"
      ]
     },
     "metadata": {
      "application/vnd.databricks.v1+output": {
       "addedWidgets": {},
       "aggData": [],
       "aggError": "",
       "aggOverflow": false,
       "aggSchema": [],
       "aggSeriesLimitReached": false,
       "aggType": "",
       "arguments": {},
       "columnCustomDisplayInfos": {},
       "data": [
        [
         6,
         "Pérez-Olaeta",
         34,
         5
        ],
        [
         6,
         "Pérez-Olaeta",
         48,
         5
        ],
        [
         6,
         "Pérez-Olaeta",
         7,
         5
        ],
        [
         6,
         "Pérez-Olaeta",
         51,
         5
        ],
        [
         6,
         "Pérez-Olaeta",
         48,
         5
        ],
        [
         8,
         "Andersen",
         72,
         4
        ],
        [
         8,
         "Andersen",
         8,
         4
        ],
        [
         8,
         "Andersen",
         19,
         4
        ],
        [
         26,
         "Liu",
         5,
         4
        ],
        [
         26,
         "Liu",
         41,
         4
        ],
        [
         26,
         "Liu",
         40,
         4
        ],
        [
         26,
         "Liu",
         6,
         4
        ],
        [
         8,
         "Andersen",
         48,
         4
        ],
        [
         9,
         "Mortensen",
         41,
         3
        ],
        [
         9,
         "Mortensen",
         57,
         3
        ],
        [
         11,
         "Krschne",
         8,
         3
        ],
        [
         9,
         "Mortensen",
         72,
         3
        ],
        [
         11,
         "Krschne",
         80,
         3
        ],
        [
         11,
         "Krschne",
         81,
         3
        ],
        [
         28,
         "Raghav",
         40,
         2
        ],
        [
         28,
         "Raghav",
         43,
         2
        ],
        [
         25,
         "Rodman",
         21,
         2
        ],
        [
         10,
         "Wacker",
         80,
         2
        ],
        [
         29,
         "Lee",
         34,
         2
        ],
        [
         10,
         "Wacker",
         74,
         2
        ],
        [
         29,
         "Lee",
         17,
         2
        ],
        [
         3,
         "Axen",
         3,
         2
        ],
        [
         25,
         "Rodman",
         4,
         2
        ],
        [
         3,
         "Axen",
         8,
         2
        ],
        [
         4,
         "Lee",
         20,
         2
        ],
        [
         4,
         "Lee",
         52,
         2
        ],
        [
         1,
         "Bedecs",
         40,
         1
        ]
       ],
       "datasetInfos": [],
       "dbfsResultPath": null,
       "isJsonSchema": true,
       "metadata": {},
       "overflow": false,
       "plotOptions": {
        "customPlotOptions": {},
        "displayType": "table",
        "pivotAggregation": null,
        "pivotColumns": null,
        "xColumns": null,
        "yColumns": null
       },
       "removedWidgets": [],
       "schema": [
        {
         "metadata": "{}",
         "name": "CustomerID",
         "type": "\"long\""
        },
        {
         "metadata": "{}",
         "name": "CustomerName",
         "type": "\"string\""
        },
        {
         "metadata": "{}",
         "name": "ProductNumber",
         "type": "\"long\""
        },
        {
         "metadata": "{}",
         "name": "ProductCount",
         "type": "\"long\""
        }
       ],
       "type": "table"
      }
     },
     "output_type": "display_data"
    }
   ],
   "source": [
    "%sql\n",
    "SELECT pc.CustomerID\n",
    "  , os.customer_last_name AS CustomerName\n",
    "  , os.product_key AS ProductNumber\n",
    "  , pc.ProductCount\n",
    "FROM northwind_dlh.fact_orders_silver AS os\n",
    "INNER JOIN (\n",
    "  SELECT customer_key AS CustomerID\n",
    "  , COUNT(product_key) AS ProductCount\n",
    "  FROM northwind_dlh.fact_orders_silver\n",
    "  GROUP BY customer_key\n",
    ") AS pc\n",
    "ON pc.CustomerID = os.customer_key\n",
    "ORDER BY ProductCount DESC"
   ]
  },
  {
   "cell_type": "markdown",
   "metadata": {
    "application/vnd.databricks.v1+cell": {
     "cellMetadata": {
      "byteLimit": 2048000,
      "rowLimit": 10000
     },
     "inputWidgets": {},
     "nuid": "bfc14913-6bc4-4460-8c2b-f41a9b72e4c0",
     "showTitle": false,
     "title": ""
    }
   },
   "source": [
    "#### 7.0. Use AutoLoader to Process Streaming (Hot Path) Purchase Orders Fact Data \n",
    "##### 7.1. Bronze Table: Process 'Raw' JSON Data"
   ]
  },
  {
   "cell_type": "code",
   "execution_count": 0,
   "metadata": {
    "application/vnd.databricks.v1+cell": {
     "cellMetadata": {
      "byteLimit": 2048000,
      "rowLimit": 10000
     },
     "inputWidgets": {},
     "nuid": "7e164c5f-4125-4d39-8e34-a9777ecc74a7",
     "showTitle": false,
     "title": ""
    }
   },
   "outputs": [],
   "source": [
    "# Use spark.readStream and the AutoLoader to read in the JSON files in the \"purchase_orders_stream_dir\"\n",
    "# directory and then create a TempView named \"purchase_orders_raw_tempview\".\n",
    "# Be sure to set the \"cloudFiles.schemaLocation\" Option using the \"purchase_orders_output_bronze\" directory\n",
    "(spark.readStream\n",
    " .format(\"cloudFiles\")\n",
    " .option(\"cloudFiles.format\", \"json\")\n",
    " .option(\"cloudFiles.schemaHints\", \"fact_purchase_order_key BIGINT\")\n",
    " .option(\"cloudFiles.schemaHints\", \"purchase_order_key BIGINT\")\n",
    " .option(\"cloudFiles.schemaHints\", \"supplier_key BIGINT\")\n",
    " .option(\"cloudFiles.schemaHints\", \"product_key BIGINT\")\n",
    " .option(\"cloudFiles.schemaHints\", \"inventory_key DECIMAL\")\n",
    " .option(\"cloudFiles.schemaHints\", \"created_by DECIMAL\")\n",
    " .option(\"cloudFiles.schemaHints\", \"purchase_order_status BIGINT\")\n",
    " .option(\"cloudFiles.schemaHints\", \"po_detail_posted_to_inventory BIGINT\")\n",
    " .option(\"cloudFiles.schemaHints\", \"po_detail_unit_cost BIGINT\")\n",
    " .option(\"cloudFiles.schemaHints\", \"po_detail_quantity BIGINT\")\n",
    " .option(\"cloudFiles.schemaHints\", \"shipping_fee BIGINT\")\n",
    " .option(\"cloudFiles.schemaHints\", \"taxes DECIMAL\")\n",
    " .option(\"cloudFiles.schemaHints\", \"payment_date BIGINT\")\n",
    " .option(\"cloudFiles.schemaHints\", \"payment_amount BIGINT\")\n",
    " .option(\"cloudFiles.schemaHints\", \"approved_by BIGINT\")\n",
    " .option(\"cloudFiles.schemaHints\", \"submitted_by BIGINT\")\n",
    " .option(\"cloudFiles.schemaHints\", \"submitted_date_key DECIMAL\")\n",
    " .option(\"cloudFiles.schemaHints\", \"creation_date_key DECIMAL\")\n",
    " .option(\"cloudFiles.schemaHints\", \"po_detail_date_received_key DECIMAL\")\n",
    " .option(\"cloudFiles.schemaHints\", \"approved_date_key DECIMAL\")\n",
    " .option(\"cloudFiles.schemaLocation\", purchase_orders_output_bronze)\n",
    " .option(\"cloudFiles.inferColumnTypes\", \"true\")\n",
    " .option(\"multiLine\", \"true\")\n",
    " .load(purchase_orders_stream_dir)\n",
    " .createOrReplaceTempView(\"purchase_orders_raw_tempview\"))"
   ]
  },
  {
   "cell_type": "code",
   "execution_count": 0,
   "metadata": {
    "application/vnd.databricks.v1+cell": {
     "cellMetadata": {
      "byteLimit": 2048000,
      "implicitDf": true,
      "rowLimit": 10000
     },
     "inputWidgets": {},
     "nuid": "38d11512-c082-420c-ba5f-9506bd6e048b",
     "showTitle": false,
     "title": ""
    }
   },
   "outputs": [
    {
     "output_type": "display_data",
     "data": {
      "text/html": [
       "<style scoped>\n",
       "  .table-result-container {\n",
       "    max-height: 300px;\n",
       "    overflow: auto;\n",
       "  }\n",
       "  table, th, td {\n",
       "    border: 1px solid black;\n",
       "    border-collapse: collapse;\n",
       "  }\n",
       "  th, td {\n",
       "    padding: 5px;\n",
       "  }\n",
       "  th {\n",
       "    text-align: left;\n",
       "  }\n",
       "</style><div class='table-result-container'><table class='table-result'><thead style='background-color: white'><tr></tr></thead><tbody></tbody></table></div>"
      ]
     },
     "metadata": {
      "application/vnd.databricks.v1+output": {
       "addedWidgets": {},
       "aggData": [],
       "aggError": "",
       "aggOverflow": false,
       "aggSchema": [],
       "aggSeriesLimitReached": false,
       "aggType": "",
       "arguments": {},
       "columnCustomDisplayInfos": {},
       "data": [],
       "datasetInfos": [],
       "dbfsResultPath": null,
       "isJsonSchema": true,
       "metadata": {},
       "overflow": false,
       "plotOptions": {
        "customPlotOptions": {},
        "displayType": "table",
        "pivotAggregation": null,
        "pivotColumns": null,
        "xColumns": null,
        "yColumns": null
       },
       "removedWidgets": [],
       "schema": [],
       "type": "table"
      }
     },
     "output_type": "display_data"
    }
   ],
   "source": [
    "%sql\n",
    "/* Add Metadata for Traceability */\n",
    "CREATE OR REPLACE TEMPORARY VIEW purchase_orders_bronze_tempview AS (\n",
    "  SELECT *, current_timestamp() receipt_time, input_file_name() source_file\n",
    "  FROM purchase_orders_raw_tempview\n",
    ")"
   ]
  },
  {
   "cell_type": "code",
   "execution_count": 0,
   "metadata": {
    "application/vnd.databricks.v1+cell": {
     "cellMetadata": {
      "byteLimit": 2048000,
      "implicitDf": true,
      "rowLimit": 10000
     },
     "inputWidgets": {},
     "nuid": "369910e4-19f7-4568-a23c-851436e6dd04",
     "showTitle": false,
     "title": ""
    }
   },
   "outputs": [
    {
     "output_type": "display_data",
     "data": {
      "text/html": [
       "<style scoped>\n",
       "  .table-result-container {\n",
       "    max-height: 300px;\n",
       "    overflow: auto;\n",
       "  }\n",
       "  table, th, td {\n",
       "    border: 1px solid black;\n",
       "    border-collapse: collapse;\n",
       "  }\n",
       "  th, td {\n",
       "    padding: 5px;\n",
       "  }\n",
       "  th {\n",
       "    text-align: left;\n",
       "  }\n",
       "</style><div class='table-result-container'><table class='table-result'><thead style='background-color: white'><tr><th>approved_by</th><th>approved_date_key</th><th>created_by</th><th>creation_date_key</th><th>fact_purchase_order_key</th><th>inventory_key</th><th>payment_amount</th><th>payment_date</th><th>po_detail_date_received_key</th><th>po_detail_posted_to_inventory</th><th>po_detail_quantity</th><th>po_detail_unit_cost</th><th>product_key</th><th>purchase_order_key</th><th>purchase_order_status</th><th>shipping_fee</th><th>submitted_by</th><th>submitted_date_key</th><th>supplier_key</th><th>taxes</th><th>_rescued_data</th><th>receipt_time</th><th>source_file</th></tr></thead><tbody><tr><td>2</td><td>20060122</td><td>9</td><td>20060122</td><td>37</td><td>74</td><td>0</td><td>null</td><td>20060122</td><td>1</td><td>100</td><td>10.0</td><td>48</td><td>100</td><td>Approved</td><td>0</td><td>9</td><td>20060114</td><td>2</td><td>0</td><td>null</td><td>2023-04-24T18:13:14.029+0000</td><td>dbfs:/FileStore/ds2002-lab06/source_data/stream/purchase_orders/Northwind_Fact_PurchaseOrders03.json</td></tr><tr><td>2</td><td>20060122</td><td>2</td><td>20060122</td><td>38</td><td>72</td><td>0</td><td>null</td><td>20060122</td><td>1</td><td>200</td><td>2.0</td><td>81</td><td>101</td><td>Approved</td><td>0</td><td>2</td><td>20060114</td><td>1</td><td>0</td><td>null</td><td>2023-04-24T18:13:14.029+0000</td><td>dbfs:/FileStore/ds2002-lab06/source_data/stream/purchase_orders/Northwind_Fact_PurchaseOrders03.json</td></tr><tr><td>2</td><td>20060404</td><td>1</td><td>20060324</td><td>39</td><td>null</td><td>0</td><td>null</td><td>null</td><td>0</td><td>300</td><td>34.0</td><td>43</td><td>102</td><td>Approved</td><td>0</td><td>1</td><td>20060324</td><td>1</td><td>0</td><td>null</td><td>2023-04-24T18:13:14.029+0000</td><td>dbfs:/FileStore/ds2002-lab06/source_data/stream/purchase_orders/Northwind_Fact_PurchaseOrders03.json</td></tr><tr><td>2</td><td>20060404</td><td>1</td><td>20060324</td><td>40</td><td>111</td><td>0</td><td>null</td><td>20060417</td><td>1</td><td>10</td><td>7.0</td><td>19</td><td>103</td><td>Approved</td><td>0</td><td>1</td><td>20060324</td><td>2</td><td>0</td><td>null</td><td>2023-04-24T18:13:14.029+0000</td><td>dbfs:/FileStore/ds2002-lab06/source_data/stream/purchase_orders/Northwind_Fact_PurchaseOrders03.json</td></tr><tr><td>2</td><td>20060404</td><td>1</td><td>20060324</td><td>41</td><td>115</td><td>0</td><td>null</td><td>20060406</td><td>1</td><td>50</td><td>7.0</td><td>41</td><td>104</td><td>Approved</td><td>0</td><td>1</td><td>20060324</td><td>2</td><td>0</td><td>null</td><td>2023-04-24T18:13:14.029+0000</td><td>dbfs:/FileStore/ds2002-lab06/source_data/stream/purchase_orders/Northwind_Fact_PurchaseOrders03.json</td></tr><tr><td>2</td><td>20060404</td><td>7</td><td>20060324</td><td>42</td><td>100</td><td>0</td><td>null</td><td>20060405</td><td>1</td><td>100</td><td>15.0</td><td>57</td><td>105</td><td>Approved</td><td>0</td><td>7</td><td>20060324</td><td>5</td><td>0</td><td>null</td><td>2023-04-24T18:13:14.029+0000</td><td>dbfs:/FileStore/ds2002-lab06/source_data/stream/purchase_orders/Northwind_Fact_PurchaseOrders03.json</td></tr><tr><td>2</td><td>20060404</td><td>7</td><td>20060324</td><td>43</td><td>113</td><td>0</td><td>null</td><td>20060405</td><td>1</td><td>50</td><td>26.0</td><td>72</td><td>106</td><td>Approved</td><td>0</td><td>7</td><td>20060324</td><td>6</td><td>0</td><td>null</td><td>2023-04-24T18:13:14.029+0000</td><td>dbfs:/FileStore/ds2002-lab06/source_data/stream/purchase_orders/Northwind_Fact_PurchaseOrders03.json</td></tr><tr><td>2</td><td>20060404</td><td>6</td><td>20060324</td><td>44</td><td>107</td><td>0</td><td>null</td><td>20060405</td><td>1</td><td>300</td><td>10.0</td><td>34</td><td>107</td><td>Approved</td><td>0</td><td>6</td><td>20060324</td><td>1</td><td>0</td><td>null</td><td>2023-04-24T18:13:14.029+0000</td><td>dbfs:/FileStore/ds2002-lab06/source_data/stream/purchase_orders/Northwind_Fact_PurchaseOrders03.json</td></tr><tr><td>2</td><td>20060404</td><td>4</td><td>20060324</td><td>45</td><td>105</td><td>0</td><td>null</td><td>20060405</td><td>1</td><td>25</td><td>30.0</td><td>8</td><td>108</td><td>Approved</td><td>0</td><td>4</td><td>20060324</td><td>2</td><td>0</td><td>null</td><td>2023-04-24T18:13:14.029+0000</td><td>dbfs:/FileStore/ds2002-lab06/source_data/stream/purchase_orders/Northwind_Fact_PurchaseOrders03.json</td></tr><tr><td>2</td><td>20060404</td><td>4</td><td>20060324</td><td>46</td><td>109</td><td>0</td><td>null</td><td>20060405</td><td>1</td><td>25</td><td>7.0</td><td>19</td><td>109</td><td>Approved</td><td>0</td><td>4</td><td>20060324</td><td>2</td><td>0</td><td>null</td><td>2023-04-24T18:13:14.029+0000</td><td>dbfs:/FileStore/ds2002-lab06/source_data/stream/purchase_orders/Northwind_Fact_PurchaseOrders03.json</td></tr><tr><td>2</td><td>20060404</td><td>3</td><td>20060324</td><td>47</td><td>103</td><td>0</td><td>null</td><td>20060410</td><td>1</td><td>250</td><td>34.0</td><td>43</td><td>110</td><td>Approved</td><td>0</td><td>3</td><td>20060324</td><td>1</td><td>0</td><td>null</td><td>2023-04-24T18:13:14.029+0000</td><td>dbfs:/FileStore/ds2002-lab06/source_data/stream/purchase_orders/Northwind_Fact_PurchaseOrders03.json</td></tr><tr><td>2</td><td>20060404</td><td>2</td><td>20060331</td><td>48</td><td>102</td><td>0</td><td>null</td><td>20060404</td><td>1</td><td>50</td><td>10.0</td><td>34</td><td>111</td><td>Approved</td><td>0</td><td>2</td><td>20060331</td><td>1</td><td>0</td><td>null</td><td>2023-04-24T18:13:14.029+0000</td><td>dbfs:/FileStore/ds2002-lab06/source_data/stream/purchase_orders/Northwind_Fact_PurchaseOrders03.json</td></tr><tr><td>2</td><td>null</td><td>null</td><td>null</td><td>49</td><td>null</td><td>0</td><td>null</td><td>null</td><td>0</td><td>10</td><td>9.0</td><td>85</td><td>140</td><td>Approved</td><td>0</td><td>2</td><td>20060425</td><td>6</td><td>0</td><td>null</td><td>2023-04-24T18:13:14.029+0000</td><td>dbfs:/FileStore/ds2002-lab06/source_data/stream/purchase_orders/Northwind_Fact_PurchaseOrders03.json</td></tr><tr><td>2</td><td>null</td><td>null</td><td>null</td><td>50</td><td>null</td><td>0</td><td>null</td><td>null</td><td>0</td><td>10</td><td>18.75</td><td>6</td><td>141</td><td>Approved</td><td>0</td><td>2</td><td>20060425</td><td>8</td><td>0</td><td>null</td><td>2023-04-24T18:13:14.029+0000</td><td>dbfs:/FileStore/ds2002-lab06/source_data/stream/purchase_orders/Northwind_Fact_PurchaseOrders03.json</td></tr><tr><td>2</td><td>null</td><td>null</td><td>null</td><td>51</td><td>null</td><td>0</td><td>null</td><td>null</td><td>0</td><td>1</td><td>13.5</td><td>1</td><td>142</td><td>Approved</td><td>0</td><td>2</td><td>20060425</td><td>8</td><td>0</td><td>null</td><td>2023-04-24T18:13:14.029+0000</td><td>dbfs:/FileStore/ds2002-lab06/source_data/stream/purchase_orders/Northwind_Fact_PurchaseOrders03.json</td></tr><tr><td>null</td><td>null</td><td>2</td><td>null</td><td>52</td><td>null</td><td>0</td><td>null</td><td>null</td><td>0</td><td>40</td><td>60.0</td><td>20</td><td>146</td><td>Submitted</td><td>0</td><td>2</td><td>null</td><td>2</td><td>0</td><td>null</td><td>2023-04-24T18:13:14.029+0000</td><td>dbfs:/FileStore/ds2002-lab06/source_data/stream/purchase_orders/Northwind_Fact_PurchaseOrders03.json</td></tr><tr><td>null</td><td>null</td><td>2</td><td>null</td><td>53</td><td>null</td><td>0</td><td>null</td><td>null</td><td>0</td><td>40</td><td>39.0</td><td>51</td><td>146</td><td>Submitted</td><td>0</td><td>2</td><td>null</td><td>2</td><td>0</td><td>null</td><td>2023-04-24T18:13:14.029+0000</td><td>dbfs:/FileStore/ds2002-lab06/source_data/stream/purchase_orders/Northwind_Fact_PurchaseOrders03.json</td></tr><tr><td>null</td><td>null</td><td>2</td><td>null</td><td>54</td><td>null</td><td>0</td><td>null</td><td>null</td><td>0</td><td>120</td><td>13.0</td><td>40</td><td>147</td><td>Submitted</td><td>0</td><td>2</td><td>null</td><td>7</td><td>0</td><td>null</td><td>2023-04-24T18:13:14.029+0000</td><td>dbfs:/FileStore/ds2002-lab06/source_data/stream/purchase_orders/Northwind_Fact_PurchaseOrders03.json</td></tr><tr><td>null</td><td>null</td><td>2</td><td>null</td><td>55</td><td>null</td><td>0</td><td>null</td><td>null</td><td>0</td><td>40</td><td>26.0</td><td>72</td><td>148</td><td>Submitted</td><td>0</td><td>2</td><td>null</td><td>5</td><td>0</td><td>null</td><td>2023-04-24T18:13:14.029+0000</td><td>dbfs:/FileStore/ds2002-lab06/source_data/stream/purchase_orders/Northwind_Fact_PurchaseOrders03.json</td></tr><tr><td>2</td><td>20060122</td><td>2</td><td>20060122</td><td>19</td><td>46</td><td>0</td><td>null</td><td>20060122</td><td>1</td><td>40</td><td>61.0</td><td>20</td><td>92</td><td>Approved</td><td>0</td><td>2</td><td>20060114</td><td>2</td><td>0</td><td>null</td><td>2023-04-24T18:13:14.029+0000</td><td>dbfs:/FileStore/ds2002-lab06/source_data/stream/purchase_orders/Northwind_Fact_PurchaseOrders02.json</td></tr><tr><td>2</td><td>20060122</td><td>2</td><td>20060122</td><td>20</td><td>47</td><td>0</td><td>null</td><td>20060122</td><td>1</td><td>20</td><td>8.0</td><td>21</td><td>92</td><td>Approved</td><td>0</td><td>2</td><td>20060114</td><td>2</td><td>0</td><td>null</td><td>2023-04-24T18:13:14.029+0000</td><td>dbfs:/FileStore/ds2002-lab06/source_data/stream/purchase_orders/Northwind_Fact_PurchaseOrders02.json</td></tr><tr><td>2</td><td>20060122</td><td>2</td><td>20060122</td><td>21</td><td>48</td><td>0</td><td>null</td><td>20060122</td><td>1</td><td>120</td><td>14.0</td><td>40</td><td>92</td><td>Approved</td><td>0</td><td>2</td><td>20060114</td><td>2</td><td>0</td><td>null</td><td>2023-04-24T18:13:14.029+0000</td><td>dbfs:/FileStore/ds2002-lab06/source_data/stream/purchase_orders/Northwind_Fact_PurchaseOrders02.json</td></tr><tr><td>2</td><td>20060122</td><td>2</td><td>20060122</td><td>22</td><td>49</td><td>0</td><td>null</td><td>20060122</td><td>1</td><td>40</td><td>7.0</td><td>41</td><td>92</td><td>Approved</td><td>0</td><td>2</td><td>20060114</td><td>2</td><td>0</td><td>null</td><td>2023-04-24T18:13:14.029+0000</td><td>dbfs:/FileStore/ds2002-lab06/source_data/stream/purchase_orders/Northwind_Fact_PurchaseOrders02.json</td></tr><tr><td>2</td><td>20060122</td><td>2</td><td>20060122</td><td>23</td><td>50</td><td>0</td><td>null</td><td>20060122</td><td>1</td><td>100</td><td>10.0</td><td>48</td><td>92</td><td>Approved</td><td>0</td><td>2</td><td>20060114</td><td>2</td><td>0</td><td>null</td><td>2023-04-24T18:13:14.029+0000</td><td>dbfs:/FileStore/ds2002-lab06/source_data/stream/purchase_orders/Northwind_Fact_PurchaseOrders02.json</td></tr><tr><td>2</td><td>20060122</td><td>2</td><td>20060122</td><td>24</td><td>51</td><td>0</td><td>null</td><td>20060122</td><td>1</td><td>40</td><td>40.0</td><td>51</td><td>92</td><td>Approved</td><td>0</td><td>2</td><td>20060114</td><td>2</td><td>0</td><td>null</td><td>2023-04-24T18:13:14.029+0000</td><td>dbfs:/FileStore/ds2002-lab06/source_data/stream/purchase_orders/Northwind_Fact_PurchaseOrders02.json</td></tr><tr><td>2</td><td>20060122</td><td>2</td><td>20060122</td><td>25</td><td>52</td><td>0</td><td>null</td><td>20060122</td><td>1</td><td>20</td><td>8.0</td><td>74</td><td>92</td><td>Approved</td><td>0</td><td>2</td><td>20060114</td><td>2</td><td>0</td><td>null</td><td>2023-04-24T18:13:14.029+0000</td><td>dbfs:/FileStore/ds2002-lab06/source_data/stream/purchase_orders/Northwind_Fact_PurchaseOrders02.json</td></tr><tr><td>2</td><td>20060122</td><td>2</td><td>20060122</td><td>26</td><td>53</td><td>0</td><td>null</td><td>20060122</td><td>1</td><td>60</td><td>10.0</td><td>77</td><td>92</td><td>Approved</td><td>0</td><td>2</td><td>20060114</td><td>2</td><td>0</td><td>null</td><td>2023-04-24T18:13:14.029+0000</td><td>dbfs:/FileStore/ds2002-lab06/source_data/stream/purchase_orders/Northwind_Fact_PurchaseOrders02.json</td></tr><tr><td>2</td><td>20060122</td><td>2</td><td>20060122</td><td>27</td><td>null</td><td>0</td><td>null</td><td>null</td><td>0</td><td>20</td><td>7.0</td><td>19</td><td>92</td><td>Approved</td><td>0</td><td>2</td><td>20060114</td><td>2</td><td>0</td><td>null</td><td>2023-04-24T18:13:14.029+0000</td><td>dbfs:/FileStore/ds2002-lab06/source_data/stream/purchase_orders/Northwind_Fact_PurchaseOrders02.json</td></tr><tr><td>2</td><td>20060122</td><td>2</td><td>20060122</td><td>28</td><td>37</td><td>0</td><td>null</td><td>20060122</td><td>1</td><td>100</td><td>5.0</td><td>52</td><td>93</td><td>Approved</td><td>0</td><td>2</td><td>20060114</td><td>5</td><td>0</td><td>null</td><td>2023-04-24T18:13:14.029+0000</td><td>dbfs:/FileStore/ds2002-lab06/source_data/stream/purchase_orders/Northwind_Fact_PurchaseOrders02.json</td></tr><tr><td>2</td><td>20060122</td><td>2</td><td>20060122</td><td>29</td><td>38</td><td>0</td><td>null</td><td>20060122</td><td>1</td><td>120</td><td>28.0</td><td>56</td><td>93</td><td>Approved</td><td>0</td><td>2</td><td>20060114</td><td>5</td><td>0</td><td>null</td><td>2023-04-24T18:13:14.029+0000</td><td>dbfs:/FileStore/ds2002-lab06/source_data/stream/purchase_orders/Northwind_Fact_PurchaseOrders02.json</td></tr><tr><td>2</td><td>20060122</td><td>2</td><td>20060122</td><td>30</td><td>39</td><td>0</td><td>null</td><td>20060122</td><td>1</td><td>80</td><td>15.0</td><td>57</td><td>93</td><td>Approved</td><td>0</td><td>2</td><td>20060114</td><td>5</td><td>0</td><td>null</td><td>2023-04-24T18:13:14.029+0000</td><td>dbfs:/FileStore/ds2002-lab06/source_data/stream/purchase_orders/Northwind_Fact_PurchaseOrders02.json</td></tr><tr><td>2</td><td>20060122</td><td>2</td><td>20060122</td><td>31</td><td>36</td><td>0</td><td>null</td><td>20060122</td><td>1</td><td>40</td><td>26.0</td><td>72</td><td>94</td><td>Approved</td><td>0</td><td>2</td><td>20060114</td><td>6</td><td>0</td><td>null</td><td>2023-04-24T18:13:14.029+0000</td><td>dbfs:/FileStore/ds2002-lab06/source_data/stream/purchase_orders/Northwind_Fact_PurchaseOrders02.json</td></tr><tr><td>2</td><td>20060122</td><td>2</td><td>20060122</td><td>32</td><td>35</td><td>0</td><td>null</td><td>20060122</td><td>1</td><td>75</td><td>3.0</td><td>80</td><td>95</td><td>Approved</td><td>0</td><td>2</td><td>20060114</td><td>4</td><td>0</td><td>null</td><td>2023-04-24T18:13:14.029+0000</td><td>dbfs:/FileStore/ds2002-lab06/source_data/stream/purchase_orders/Northwind_Fact_PurchaseOrders02.json</td></tr><tr><td>2</td><td>20060122</td><td>5</td><td>20060122</td><td>33</td><td>82</td><td>0</td><td>null</td><td>20060122</td><td>1</td><td>100</td><td>10.0</td><td>34</td><td>96</td><td>Approved</td><td>0</td><td>5</td><td>20060114</td><td>1</td><td>0</td><td>null</td><td>2023-04-24T18:13:14.029+0000</td><td>dbfs:/FileStore/ds2002-lab06/source_data/stream/purchase_orders/Northwind_Fact_PurchaseOrders02.json</td></tr><tr><td>2</td><td>20060122</td><td>7</td><td>20060122</td><td>34</td><td>80</td><td>0</td><td>null</td><td>20060122</td><td>1</td><td>30</td><td>7.0</td><td>19</td><td>97</td><td>Approved</td><td>0</td><td>7</td><td>20060114</td><td>2</td><td>0</td><td>null</td><td>2023-04-24T18:13:14.029+0000</td><td>dbfs:/FileStore/ds2002-lab06/source_data/stream/purchase_orders/Northwind_Fact_PurchaseOrders02.json</td></tr><tr><td>2</td><td>20060122</td><td>4</td><td>20060122</td><td>35</td><td>78</td><td>0</td><td>null</td><td>20060122</td><td>1</td><td>200</td><td>7.0</td><td>41</td><td>98</td><td>Approved</td><td>0</td><td>4</td><td>20060114</td><td>2</td><td>0</td><td>null</td><td>2023-04-24T18:13:14.029+0000</td><td>dbfs:/FileStore/ds2002-lab06/source_data/stream/purchase_orders/Northwind_Fact_PurchaseOrders02.json</td></tr><tr><td>2</td><td>20060122</td><td>3</td><td>20060122</td><td>36</td><td>76</td><td>0</td><td>null</td><td>20060122</td><td>1</td><td>300</td><td>34.0</td><td>43</td><td>99</td><td>Approved</td><td>0</td><td>3</td><td>20060114</td><td>1</td><td>0</td><td>null</td><td>2023-04-24T18:13:14.029+0000</td><td>dbfs:/FileStore/ds2002-lab06/source_data/stream/purchase_orders/Northwind_Fact_PurchaseOrders02.json</td></tr><tr><td>2</td><td>20060122</td><td>2</td><td>20060122</td><td>1</td><td>59</td><td>0</td><td>null</td><td>20060122</td><td>1</td><td>40</td><td>14.0</td><td>1</td><td>90</td><td>Approved</td><td>0</td><td>2</td><td>20060114</td><td>1</td><td>0</td><td>null</td><td>2023-04-24T18:13:14.029+0000</td><td>dbfs:/FileStore/ds2002-lab06/source_data/stream/purchase_orders/Northwind_Fact_PurchaseOrders01.json</td></tr><tr><td>2</td><td>20060122</td><td>2</td><td>20060122</td><td>2</td><td>60</td><td>0</td><td>null</td><td>20060122</td><td>1</td><td>60</td><td>10.0</td><td>34</td><td>90</td><td>Approved</td><td>0</td><td>2</td><td>20060114</td><td>1</td><td>0</td><td>null</td><td>2023-04-24T18:13:14.029+0000</td><td>dbfs:/FileStore/ds2002-lab06/source_data/stream/purchase_orders/Northwind_Fact_PurchaseOrders01.json</td></tr><tr><td>2</td><td>20060122</td><td>2</td><td>20060122</td><td>3</td><td>61</td><td>0</td><td>null</td><td>20060122</td><td>1</td><td>100</td><td>34.0</td><td>43</td><td>90</td><td>Approved</td><td>0</td><td>2</td><td>20060114</td><td>1</td><td>0</td><td>null</td><td>2023-04-24T18:13:14.029+0000</td><td>dbfs:/FileStore/ds2002-lab06/source_data/stream/purchase_orders/Northwind_Fact_PurchaseOrders01.json</td></tr><tr><td>2</td><td>20060122</td><td>2</td><td>20060122</td><td>4</td><td>62</td><td>0</td><td>null</td><td>20060122</td><td>1</td><td>125</td><td>2.0</td><td>81</td><td>90</td><td>Approved</td><td>0</td><td>2</td><td>20060114</td><td>1</td><td>0</td><td>null</td><td>2023-04-24T18:13:14.029+0000</td><td>dbfs:/FileStore/ds2002-lab06/source_data/stream/purchase_orders/Northwind_Fact_PurchaseOrders01.json</td></tr><tr><td>2</td><td>20060122</td><td>2</td><td>20060122</td><td>5</td><td>null</td><td>0</td><td>null</td><td>null</td><td>0</td><td>40</td><td>14.0</td><td>1</td><td>90</td><td>Approved</td><td>0</td><td>2</td><td>20060114</td><td>1</td><td>0</td><td>null</td><td>2023-04-24T18:13:14.029+0000</td><td>dbfs:/FileStore/ds2002-lab06/source_data/stream/purchase_orders/Northwind_Fact_PurchaseOrders01.json</td></tr><tr><td>2</td><td>20060122</td><td>2</td><td>20060122</td><td>6</td><td>54</td><td>0</td><td>null</td><td>20060122</td><td>1</td><td>100</td><td>8.0</td><td>3</td><td>91</td><td>Approved</td><td>0</td><td>2</td><td>20060114</td><td>3</td><td>0</td><td>null</td><td>2023-04-24T18:13:14.029+0000</td><td>dbfs:/FileStore/ds2002-lab06/source_data/stream/purchase_orders/Northwind_Fact_PurchaseOrders01.json</td></tr><tr><td>2</td><td>20060122</td><td>2</td><td>20060122</td><td>7</td><td>55</td><td>0</td><td>null</td><td>20060122</td><td>1</td><td>40</td><td>16.0</td><td>4</td><td>91</td><td>Approved</td><td>0</td><td>2</td><td>20060114</td><td>3</td><td>0</td><td>null</td><td>2023-04-24T18:13:14.029+0000</td><td>dbfs:/FileStore/ds2002-lab06/source_data/stream/purchase_orders/Northwind_Fact_PurchaseOrders01.json</td></tr><tr><td>2</td><td>20060122</td><td>2</td><td>20060122</td><td>8</td><td>56</td><td>0</td><td>null</td><td>20060122</td><td>1</td><td>40</td><td>16.0</td><td>5</td><td>91</td><td>Approved</td><td>0</td><td>2</td><td>20060114</td><td>3</td><td>0</td><td>null</td><td>2023-04-24T18:13:14.029+0000</td><td>dbfs:/FileStore/ds2002-lab06/source_data/stream/purchase_orders/Northwind_Fact_PurchaseOrders01.json</td></tr><tr><td>2</td><td>20060122</td><td>2</td><td>20060122</td><td>9</td><td>57</td><td>0</td><td>null</td><td>20060122</td><td>1</td><td>40</td><td>16.0</td><td>65</td><td>91</td><td>Approved</td><td>0</td><td>2</td><td>20060114</td><td>3</td><td>0</td><td>null</td><td>2023-04-24T18:13:14.029+0000</td><td>dbfs:/FileStore/ds2002-lab06/source_data/stream/purchase_orders/Northwind_Fact_PurchaseOrders01.json</td></tr><tr><td>2</td><td>20060122</td><td>2</td><td>20060122</td><td>10</td><td>58</td><td>0</td><td>null</td><td>20060122</td><td>1</td><td>80</td><td>13.0</td><td>66</td><td>91</td><td>Approved</td><td>0</td><td>2</td><td>20060114</td><td>3</td><td>0</td><td>null</td><td>2023-04-24T18:13:14.029+0000</td><td>dbfs:/FileStore/ds2002-lab06/source_data/stream/purchase_orders/Northwind_Fact_PurchaseOrders01.json</td></tr><tr><td>2</td><td>20060122</td><td>2</td><td>20060122</td><td>11</td><td>null</td><td>0</td><td>null</td><td>null</td><td>0</td><td>50</td><td>8.0</td><td>3</td><td>91</td><td>Approved</td><td>0</td><td>2</td><td>20060114</td><td>3</td><td>0</td><td>null</td><td>2023-04-24T18:13:14.029+0000</td><td>dbfs:/FileStore/ds2002-lab06/source_data/stream/purchase_orders/Northwind_Fact_PurchaseOrders01.json</td></tr><tr><td>2</td><td>20060122</td><td>2</td><td>20060122</td><td>12</td><td>null</td><td>0</td><td>null</td><td>null</td><td>0</td><td>40</td><td>16.0</td><td>4</td><td>91</td><td>Approved</td><td>0</td><td>2</td><td>20060114</td><td>3</td><td>0</td><td>null</td><td>2023-04-24T18:13:14.029+0000</td><td>dbfs:/FileStore/ds2002-lab06/source_data/stream/purchase_orders/Northwind_Fact_PurchaseOrders01.json</td></tr><tr><td>2</td><td>20060122</td><td>2</td><td>20060122</td><td>13</td><td>40</td><td>0</td><td>null</td><td>20060122</td><td>1</td><td>100</td><td>19.0</td><td>6</td><td>92</td><td>Approved</td><td>0</td><td>2</td><td>20060114</td><td>2</td><td>0</td><td>null</td><td>2023-04-24T18:13:14.029+0000</td><td>dbfs:/FileStore/ds2002-lab06/source_data/stream/purchase_orders/Northwind_Fact_PurchaseOrders01.json</td></tr><tr><td>2</td><td>20060122</td><td>2</td><td>20060122</td><td>14</td><td>41</td><td>0</td><td>null</td><td>20060122</td><td>1</td><td>40</td><td>22.0</td><td>7</td><td>92</td><td>Approved</td><td>0</td><td>2</td><td>20060114</td><td>2</td><td>0</td><td>null</td><td>2023-04-24T18:13:14.029+0000</td><td>dbfs:/FileStore/ds2002-lab06/source_data/stream/purchase_orders/Northwind_Fact_PurchaseOrders01.json</td></tr><tr><td>2</td><td>20060122</td><td>2</td><td>20060122</td><td>15</td><td>42</td><td>0</td><td>null</td><td>20060122</td><td>1</td><td>40</td><td>30.0</td><td>8</td><td>92</td><td>Approved</td><td>0</td><td>2</td><td>20060114</td><td>2</td><td>0</td><td>null</td><td>2023-04-24T18:13:14.029+0000</td><td>dbfs:/FileStore/ds2002-lab06/source_data/stream/purchase_orders/Northwind_Fact_PurchaseOrders01.json</td></tr><tr><td>2</td><td>20060122</td><td>2</td><td>20060122</td><td>16</td><td>43</td><td>0</td><td>null</td><td>20060122</td><td>1</td><td>40</td><td>17.0</td><td>14</td><td>92</td><td>Approved</td><td>0</td><td>2</td><td>20060114</td><td>2</td><td>0</td><td>null</td><td>2023-04-24T18:13:14.029+0000</td><td>dbfs:/FileStore/ds2002-lab06/source_data/stream/purchase_orders/Northwind_Fact_PurchaseOrders01.json</td></tr><tr><td>2</td><td>20060122</td><td>2</td><td>20060122</td><td>17</td><td>44</td><td>0</td><td>null</td><td>20060122</td><td>1</td><td>40</td><td>29.0</td><td>17</td><td>92</td><td>Approved</td><td>0</td><td>2</td><td>20060114</td><td>2</td><td>0</td><td>null</td><td>2023-04-24T18:13:14.029+0000</td><td>dbfs:/FileStore/ds2002-lab06/source_data/stream/purchase_orders/Northwind_Fact_PurchaseOrders01.json</td></tr><tr><td>2</td><td>20060122</td><td>2</td><td>20060122</td><td>18</td><td>45</td><td>0</td><td>null</td><td>20060122</td><td>1</td><td>20</td><td>7.0</td><td>19</td><td>92</td><td>Approved</td><td>0</td><td>2</td><td>20060114</td><td>2</td><td>0</td><td>null</td><td>2023-04-24T18:13:14.029+0000</td><td>dbfs:/FileStore/ds2002-lab06/source_data/stream/purchase_orders/Northwind_Fact_PurchaseOrders01.json</td></tr></tbody></table></div>"
      ]
     },
     "metadata": {
      "application/vnd.databricks.v1+output": {
       "addedWidgets": {},
       "aggData": [],
       "aggError": "",
       "aggOverflow": false,
       "aggSchema": [],
       "aggSeriesLimitReached": false,
       "aggType": "",
       "arguments": {},
       "columnCustomDisplayInfos": {},
       "data": [
        [
         2,
         "20060122",
         9,
         20060122,
         37,
         74,
         0,
         null,
         20060122,
         1,
         100,
         10.0,
         48,
         100,
         "Approved",
         0,
         9,
         20060114,
         2,
         0,
         null,
         "2023-04-24T18:13:14.029+0000",
         "dbfs:/FileStore/ds2002-lab06/source_data/stream/purchase_orders/Northwind_Fact_PurchaseOrders03.json"
        ],
        [
         2,
         "20060122",
         2,
         20060122,
         38,
         72,
         0,
         null,
         20060122,
         1,
         200,
         2.0,
         81,
         101,
         "Approved",
         0,
         2,
         20060114,
         1,
         0,
         null,
         "2023-04-24T18:13:14.029+0000",
         "dbfs:/FileStore/ds2002-lab06/source_data/stream/purchase_orders/Northwind_Fact_PurchaseOrders03.json"
        ],
        [
         2,
         "20060404",
         1,
         20060324,
         39,
         null,
         0,
         null,
         null,
         0,
         300,
         34.0,
         43,
         102,
         "Approved",
         0,
         1,
         20060324,
         1,
         0,
         null,
         "2023-04-24T18:13:14.029+0000",
         "dbfs:/FileStore/ds2002-lab06/source_data/stream/purchase_orders/Northwind_Fact_PurchaseOrders03.json"
        ],
        [
         2,
         "20060404",
         1,
         20060324,
         40,
         111,
         0,
         null,
         20060417,
         1,
         10,
         7.0,
         19,
         103,
         "Approved",
         0,
         1,
         20060324,
         2,
         0,
         null,
         "2023-04-24T18:13:14.029+0000",
         "dbfs:/FileStore/ds2002-lab06/source_data/stream/purchase_orders/Northwind_Fact_PurchaseOrders03.json"
        ],
        [
         2,
         "20060404",
         1,
         20060324,
         41,
         115,
         0,
         null,
         20060406,
         1,
         50,
         7.0,
         41,
         104,
         "Approved",
         0,
         1,
         20060324,
         2,
         0,
         null,
         "2023-04-24T18:13:14.029+0000",
         "dbfs:/FileStore/ds2002-lab06/source_data/stream/purchase_orders/Northwind_Fact_PurchaseOrders03.json"
        ],
        [
         2,
         "20060404",
         7,
         20060324,
         42,
         100,
         0,
         null,
         20060405,
         1,
         100,
         15.0,
         57,
         105,
         "Approved",
         0,
         7,
         20060324,
         5,
         0,
         null,
         "2023-04-24T18:13:14.029+0000",
         "dbfs:/FileStore/ds2002-lab06/source_data/stream/purchase_orders/Northwind_Fact_PurchaseOrders03.json"
        ],
        [
         2,
         "20060404",
         7,
         20060324,
         43,
         113,
         0,
         null,
         20060405,
         1,
         50,
         26.0,
         72,
         106,
         "Approved",
         0,
         7,
         20060324,
         6,
         0,
         null,
         "2023-04-24T18:13:14.029+0000",
         "dbfs:/FileStore/ds2002-lab06/source_data/stream/purchase_orders/Northwind_Fact_PurchaseOrders03.json"
        ],
        [
         2,
         "20060404",
         6,
         20060324,
         44,
         107,
         0,
         null,
         20060405,
         1,
         300,
         10.0,
         34,
         107,
         "Approved",
         0,
         6,
         20060324,
         1,
         0,
         null,
         "2023-04-24T18:13:14.029+0000",
         "dbfs:/FileStore/ds2002-lab06/source_data/stream/purchase_orders/Northwind_Fact_PurchaseOrders03.json"
        ],
        [
         2,
         "20060404",
         4,
         20060324,
         45,
         105,
         0,
         null,
         20060405,
         1,
         25,
         30.0,
         8,
         108,
         "Approved",
         0,
         4,
         20060324,
         2,
         0,
         null,
         "2023-04-24T18:13:14.029+0000",
         "dbfs:/FileStore/ds2002-lab06/source_data/stream/purchase_orders/Northwind_Fact_PurchaseOrders03.json"
        ],
        [
         2,
         "20060404",
         4,
         20060324,
         46,
         109,
         0,
         null,
         20060405,
         1,
         25,
         7.0,
         19,
         109,
         "Approved",
         0,
         4,
         20060324,
         2,
         0,
         null,
         "2023-04-24T18:13:14.029+0000",
         "dbfs:/FileStore/ds2002-lab06/source_data/stream/purchase_orders/Northwind_Fact_PurchaseOrders03.json"
        ],
        [
         2,
         "20060404",
         3,
         20060324,
         47,
         103,
         0,
         null,
         20060410,
         1,
         250,
         34.0,
         43,
         110,
         "Approved",
         0,
         3,
         20060324,
         1,
         0,
         null,
         "2023-04-24T18:13:14.029+0000",
         "dbfs:/FileStore/ds2002-lab06/source_data/stream/purchase_orders/Northwind_Fact_PurchaseOrders03.json"
        ],
        [
         2,
         "20060404",
         2,
         20060331,
         48,
         102,
         0,
         null,
         20060404,
         1,
         50,
         10.0,
         34,
         111,
         "Approved",
         0,
         2,
         20060331,
         1,
         0,
         null,
         "2023-04-24T18:13:14.029+0000",
         "dbfs:/FileStore/ds2002-lab06/source_data/stream/purchase_orders/Northwind_Fact_PurchaseOrders03.json"
        ],
        [
         2,
         null,
         null,
         null,
         49,
         null,
         0,
         null,
         null,
         0,
         10,
         9.0,
         85,
         140,
         "Approved",
         0,
         2,
         20060425,
         6,
         0,
         null,
         "2023-04-24T18:13:14.029+0000",
         "dbfs:/FileStore/ds2002-lab06/source_data/stream/purchase_orders/Northwind_Fact_PurchaseOrders03.json"
        ],
        [
         2,
         null,
         null,
         null,
         50,
         null,
         0,
         null,
         null,
         0,
         10,
         18.75,
         6,
         141,
         "Approved",
         0,
         2,
         20060425,
         8,
         0,
         null,
         "2023-04-24T18:13:14.029+0000",
         "dbfs:/FileStore/ds2002-lab06/source_data/stream/purchase_orders/Northwind_Fact_PurchaseOrders03.json"
        ],
        [
         2,
         null,
         null,
         null,
         51,
         null,
         0,
         null,
         null,
         0,
         1,
         13.5,
         1,
         142,
         "Approved",
         0,
         2,
         20060425,
         8,
         0,
         null,
         "2023-04-24T18:13:14.029+0000",
         "dbfs:/FileStore/ds2002-lab06/source_data/stream/purchase_orders/Northwind_Fact_PurchaseOrders03.json"
        ],
        [
         null,
         null,
         2,
         null,
         52,
         null,
         0,
         null,
         null,
         0,
         40,
         60.0,
         20,
         146,
         "Submitted",
         0,
         2,
         null,
         2,
         0,
         null,
         "2023-04-24T18:13:14.029+0000",
         "dbfs:/FileStore/ds2002-lab06/source_data/stream/purchase_orders/Northwind_Fact_PurchaseOrders03.json"
        ],
        [
         null,
         null,
         2,
         null,
         53,
         null,
         0,
         null,
         null,
         0,
         40,
         39.0,
         51,
         146,
         "Submitted",
         0,
         2,
         null,
         2,
         0,
         null,
         "2023-04-24T18:13:14.029+0000",
         "dbfs:/FileStore/ds2002-lab06/source_data/stream/purchase_orders/Northwind_Fact_PurchaseOrders03.json"
        ],
        [
         null,
         null,
         2,
         null,
         54,
         null,
         0,
         null,
         null,
         0,
         120,
         13.0,
         40,
         147,
         "Submitted",
         0,
         2,
         null,
         7,
         0,
         null,
         "2023-04-24T18:13:14.029+0000",
         "dbfs:/FileStore/ds2002-lab06/source_data/stream/purchase_orders/Northwind_Fact_PurchaseOrders03.json"
        ],
        [
         null,
         null,
         2,
         null,
         55,
         null,
         0,
         null,
         null,
         0,
         40,
         26.0,
         72,
         148,
         "Submitted",
         0,
         2,
         null,
         5,
         0,
         null,
         "2023-04-24T18:13:14.029+0000",
         "dbfs:/FileStore/ds2002-lab06/source_data/stream/purchase_orders/Northwind_Fact_PurchaseOrders03.json"
        ],
        [
         2,
         "20060122",
         2,
         20060122,
         19,
         46,
         0,
         null,
         20060122,
         1,
         40,
         61.0,
         20,
         92,
         "Approved",
         0,
         2,
         20060114,
         2,
         0,
         null,
         "2023-04-24T18:13:14.029+0000",
         "dbfs:/FileStore/ds2002-lab06/source_data/stream/purchase_orders/Northwind_Fact_PurchaseOrders02.json"
        ],
        [
         2,
         "20060122",
         2,
         20060122,
         20,
         47,
         0,
         null,
         20060122,
         1,
         20,
         8.0,
         21,
         92,
         "Approved",
         0,
         2,
         20060114,
         2,
         0,
         null,
         "2023-04-24T18:13:14.029+0000",
         "dbfs:/FileStore/ds2002-lab06/source_data/stream/purchase_orders/Northwind_Fact_PurchaseOrders02.json"
        ],
        [
         2,
         "20060122",
         2,
         20060122,
         21,
         48,
         0,
         null,
         20060122,
         1,
         120,
         14.0,
         40,
         92,
         "Approved",
         0,
         2,
         20060114,
         2,
         0,
         null,
         "2023-04-24T18:13:14.029+0000",
         "dbfs:/FileStore/ds2002-lab06/source_data/stream/purchase_orders/Northwind_Fact_PurchaseOrders02.json"
        ],
        [
         2,
         "20060122",
         2,
         20060122,
         22,
         49,
         0,
         null,
         20060122,
         1,
         40,
         7.0,
         41,
         92,
         "Approved",
         0,
         2,
         20060114,
         2,
         0,
         null,
         "2023-04-24T18:13:14.029+0000",
         "dbfs:/FileStore/ds2002-lab06/source_data/stream/purchase_orders/Northwind_Fact_PurchaseOrders02.json"
        ],
        [
         2,
         "20060122",
         2,
         20060122,
         23,
         50,
         0,
         null,
         20060122,
         1,
         100,
         10.0,
         48,
         92,
         "Approved",
         0,
         2,
         20060114,
         2,
         0,
         null,
         "2023-04-24T18:13:14.029+0000",
         "dbfs:/FileStore/ds2002-lab06/source_data/stream/purchase_orders/Northwind_Fact_PurchaseOrders02.json"
        ],
        [
         2,
         "20060122",
         2,
         20060122,
         24,
         51,
         0,
         null,
         20060122,
         1,
         40,
         40.0,
         51,
         92,
         "Approved",
         0,
         2,
         20060114,
         2,
         0,
         null,
         "2023-04-24T18:13:14.029+0000",
         "dbfs:/FileStore/ds2002-lab06/source_data/stream/purchase_orders/Northwind_Fact_PurchaseOrders02.json"
        ],
        [
         2,
         "20060122",
         2,
         20060122,
         25,
         52,
         0,
         null,
         20060122,
         1,
         20,
         8.0,
         74,
         92,
         "Approved",
         0,
         2,
         20060114,
         2,
         0,
         null,
         "2023-04-24T18:13:14.029+0000",
         "dbfs:/FileStore/ds2002-lab06/source_data/stream/purchase_orders/Northwind_Fact_PurchaseOrders02.json"
        ],
        [
         2,
         "20060122",
         2,
         20060122,
         26,
         53,
         0,
         null,
         20060122,
         1,
         60,
         10.0,
         77,
         92,
         "Approved",
         0,
         2,
         20060114,
         2,
         0,
         null,
         "2023-04-24T18:13:14.029+0000",
         "dbfs:/FileStore/ds2002-lab06/source_data/stream/purchase_orders/Northwind_Fact_PurchaseOrders02.json"
        ],
        [
         2,
         "20060122",
         2,
         20060122,
         27,
         null,
         0,
         null,
         null,
         0,
         20,
         7.0,
         19,
         92,
         "Approved",
         0,
         2,
         20060114,
         2,
         0,
         null,
         "2023-04-24T18:13:14.029+0000",
         "dbfs:/FileStore/ds2002-lab06/source_data/stream/purchase_orders/Northwind_Fact_PurchaseOrders02.json"
        ],
        [
         2,
         "20060122",
         2,
         20060122,
         28,
         37,
         0,
         null,
         20060122,
         1,
         100,
         5.0,
         52,
         93,
         "Approved",
         0,
         2,
         20060114,
         5,
         0,
         null,
         "2023-04-24T18:13:14.029+0000",
         "dbfs:/FileStore/ds2002-lab06/source_data/stream/purchase_orders/Northwind_Fact_PurchaseOrders02.json"
        ],
        [
         2,
         "20060122",
         2,
         20060122,
         29,
         38,
         0,
         null,
         20060122,
         1,
         120,
         28.0,
         56,
         93,
         "Approved",
         0,
         2,
         20060114,
         5,
         0,
         null,
         "2023-04-24T18:13:14.029+0000",
         "dbfs:/FileStore/ds2002-lab06/source_data/stream/purchase_orders/Northwind_Fact_PurchaseOrders02.json"
        ],
        [
         2,
         "20060122",
         2,
         20060122,
         30,
         39,
         0,
         null,
         20060122,
         1,
         80,
         15.0,
         57,
         93,
         "Approved",
         0,
         2,
         20060114,
         5,
         0,
         null,
         "2023-04-24T18:13:14.029+0000",
         "dbfs:/FileStore/ds2002-lab06/source_data/stream/purchase_orders/Northwind_Fact_PurchaseOrders02.json"
        ],
        [
         2,
         "20060122",
         2,
         20060122,
         31,
         36,
         0,
         null,
         20060122,
         1,
         40,
         26.0,
         72,
         94,
         "Approved",
         0,
         2,
         20060114,
         6,
         0,
         null,
         "2023-04-24T18:13:14.029+0000",
         "dbfs:/FileStore/ds2002-lab06/source_data/stream/purchase_orders/Northwind_Fact_PurchaseOrders02.json"
        ],
        [
         2,
         "20060122",
         2,
         20060122,
         32,
         35,
         0,
         null,
         20060122,
         1,
         75,
         3.0,
         80,
         95,
         "Approved",
         0,
         2,
         20060114,
         4,
         0,
         null,
         "2023-04-24T18:13:14.029+0000",
         "dbfs:/FileStore/ds2002-lab06/source_data/stream/purchase_orders/Northwind_Fact_PurchaseOrders02.json"
        ],
        [
         2,
         "20060122",
         5,
         20060122,
         33,
         82,
         0,
         null,
         20060122,
         1,
         100,
         10.0,
         34,
         96,
         "Approved",
         0,
         5,
         20060114,
         1,
         0,
         null,
         "2023-04-24T18:13:14.029+0000",
         "dbfs:/FileStore/ds2002-lab06/source_data/stream/purchase_orders/Northwind_Fact_PurchaseOrders02.json"
        ],
        [
         2,
         "20060122",
         7,
         20060122,
         34,
         80,
         0,
         null,
         20060122,
         1,
         30,
         7.0,
         19,
         97,
         "Approved",
         0,
         7,
         20060114,
         2,
         0,
         null,
         "2023-04-24T18:13:14.029+0000",
         "dbfs:/FileStore/ds2002-lab06/source_data/stream/purchase_orders/Northwind_Fact_PurchaseOrders02.json"
        ],
        [
         2,
         "20060122",
         4,
         20060122,
         35,
         78,
         0,
         null,
         20060122,
         1,
         200,
         7.0,
         41,
         98,
         "Approved",
         0,
         4,
         20060114,
         2,
         0,
         null,
         "2023-04-24T18:13:14.029+0000",
         "dbfs:/FileStore/ds2002-lab06/source_data/stream/purchase_orders/Northwind_Fact_PurchaseOrders02.json"
        ],
        [
         2,
         "20060122",
         3,
         20060122,
         36,
         76,
         0,
         null,
         20060122,
         1,
         300,
         34.0,
         43,
         99,
         "Approved",
         0,
         3,
         20060114,
         1,
         0,
         null,
         "2023-04-24T18:13:14.029+0000",
         "dbfs:/FileStore/ds2002-lab06/source_data/stream/purchase_orders/Northwind_Fact_PurchaseOrders02.json"
        ],
        [
         2,
         "20060122",
         2,
         20060122,
         1,
         59,
         0,
         null,
         20060122,
         1,
         40,
         14.0,
         1,
         90,
         "Approved",
         0,
         2,
         20060114,
         1,
         0,
         null,
         "2023-04-24T18:13:14.029+0000",
         "dbfs:/FileStore/ds2002-lab06/source_data/stream/purchase_orders/Northwind_Fact_PurchaseOrders01.json"
        ],
        [
         2,
         "20060122",
         2,
         20060122,
         2,
         60,
         0,
         null,
         20060122,
         1,
         60,
         10.0,
         34,
         90,
         "Approved",
         0,
         2,
         20060114,
         1,
         0,
         null,
         "2023-04-24T18:13:14.029+0000",
         "dbfs:/FileStore/ds2002-lab06/source_data/stream/purchase_orders/Northwind_Fact_PurchaseOrders01.json"
        ],
        [
         2,
         "20060122",
         2,
         20060122,
         3,
         61,
         0,
         null,
         20060122,
         1,
         100,
         34.0,
         43,
         90,
         "Approved",
         0,
         2,
         20060114,
         1,
         0,
         null,
         "2023-04-24T18:13:14.029+0000",
         "dbfs:/FileStore/ds2002-lab06/source_data/stream/purchase_orders/Northwind_Fact_PurchaseOrders01.json"
        ],
        [
         2,
         "20060122",
         2,
         20060122,
         4,
         62,
         0,
         null,
         20060122,
         1,
         125,
         2.0,
         81,
         90,
         "Approved",
         0,
         2,
         20060114,
         1,
         0,
         null,
         "2023-04-24T18:13:14.029+0000",
         "dbfs:/FileStore/ds2002-lab06/source_data/stream/purchase_orders/Northwind_Fact_PurchaseOrders01.json"
        ],
        [
         2,
         "20060122",
         2,
         20060122,
         5,
         null,
         0,
         null,
         null,
         0,
         40,
         14.0,
         1,
         90,
         "Approved",
         0,
         2,
         20060114,
         1,
         0,
         null,
         "2023-04-24T18:13:14.029+0000",
         "dbfs:/FileStore/ds2002-lab06/source_data/stream/purchase_orders/Northwind_Fact_PurchaseOrders01.json"
        ],
        [
         2,
         "20060122",
         2,
         20060122,
         6,
         54,
         0,
         null,
         20060122,
         1,
         100,
         8.0,
         3,
         91,
         "Approved",
         0,
         2,
         20060114,
         3,
         0,
         null,
         "2023-04-24T18:13:14.029+0000",
         "dbfs:/FileStore/ds2002-lab06/source_data/stream/purchase_orders/Northwind_Fact_PurchaseOrders01.json"
        ],
        [
         2,
         "20060122",
         2,
         20060122,
         7,
         55,
         0,
         null,
         20060122,
         1,
         40,
         16.0,
         4,
         91,
         "Approved",
         0,
         2,
         20060114,
         3,
         0,
         null,
         "2023-04-24T18:13:14.029+0000",
         "dbfs:/FileStore/ds2002-lab06/source_data/stream/purchase_orders/Northwind_Fact_PurchaseOrders01.json"
        ],
        [
         2,
         "20060122",
         2,
         20060122,
         8,
         56,
         0,
         null,
         20060122,
         1,
         40,
         16.0,
         5,
         91,
         "Approved",
         0,
         2,
         20060114,
         3,
         0,
         null,
         "2023-04-24T18:13:14.029+0000",
         "dbfs:/FileStore/ds2002-lab06/source_data/stream/purchase_orders/Northwind_Fact_PurchaseOrders01.json"
        ],
        [
         2,
         "20060122",
         2,
         20060122,
         9,
         57,
         0,
         null,
         20060122,
         1,
         40,
         16.0,
         65,
         91,
         "Approved",
         0,
         2,
         20060114,
         3,
         0,
         null,
         "2023-04-24T18:13:14.029+0000",
         "dbfs:/FileStore/ds2002-lab06/source_data/stream/purchase_orders/Northwind_Fact_PurchaseOrders01.json"
        ],
        [
         2,
         "20060122",
         2,
         20060122,
         10,
         58,
         0,
         null,
         20060122,
         1,
         80,
         13.0,
         66,
         91,
         "Approved",
         0,
         2,
         20060114,
         3,
         0,
         null,
         "2023-04-24T18:13:14.029+0000",
         "dbfs:/FileStore/ds2002-lab06/source_data/stream/purchase_orders/Northwind_Fact_PurchaseOrders01.json"
        ],
        [
         2,
         "20060122",
         2,
         20060122,
         11,
         null,
         0,
         null,
         null,
         0,
         50,
         8.0,
         3,
         91,
         "Approved",
         0,
         2,
         20060114,
         3,
         0,
         null,
         "2023-04-24T18:13:14.029+0000",
         "dbfs:/FileStore/ds2002-lab06/source_data/stream/purchase_orders/Northwind_Fact_PurchaseOrders01.json"
        ],
        [
         2,
         "20060122",
         2,
         20060122,
         12,
         null,
         0,
         null,
         null,
         0,
         40,
         16.0,
         4,
         91,
         "Approved",
         0,
         2,
         20060114,
         3,
         0,
         null,
         "2023-04-24T18:13:14.029+0000",
         "dbfs:/FileStore/ds2002-lab06/source_data/stream/purchase_orders/Northwind_Fact_PurchaseOrders01.json"
        ],
        [
         2,
         "20060122",
         2,
         20060122,
         13,
         40,
         0,
         null,
         20060122,
         1,
         100,
         19.0,
         6,
         92,
         "Approved",
         0,
         2,
         20060114,
         2,
         0,
         null,
         "2023-04-24T18:13:14.029+0000",
         "dbfs:/FileStore/ds2002-lab06/source_data/stream/purchase_orders/Northwind_Fact_PurchaseOrders01.json"
        ],
        [
         2,
         "20060122",
         2,
         20060122,
         14,
         41,
         0,
         null,
         20060122,
         1,
         40,
         22.0,
         7,
         92,
         "Approved",
         0,
         2,
         20060114,
         2,
         0,
         null,
         "2023-04-24T18:13:14.029+0000",
         "dbfs:/FileStore/ds2002-lab06/source_data/stream/purchase_orders/Northwind_Fact_PurchaseOrders01.json"
        ],
        [
         2,
         "20060122",
         2,
         20060122,
         15,
         42,
         0,
         null,
         20060122,
         1,
         40,
         30.0,
         8,
         92,
         "Approved",
         0,
         2,
         20060114,
         2,
         0,
         null,
         "2023-04-24T18:13:14.029+0000",
         "dbfs:/FileStore/ds2002-lab06/source_data/stream/purchase_orders/Northwind_Fact_PurchaseOrders01.json"
        ],
        [
         2,
         "20060122",
         2,
         20060122,
         16,
         43,
         0,
         null,
         20060122,
         1,
         40,
         17.0,
         14,
         92,
         "Approved",
         0,
         2,
         20060114,
         2,
         0,
         null,
         "2023-04-24T18:13:14.029+0000",
         "dbfs:/FileStore/ds2002-lab06/source_data/stream/purchase_orders/Northwind_Fact_PurchaseOrders01.json"
        ],
        [
         2,
         "20060122",
         2,
         20060122,
         17,
         44,
         0,
         null,
         20060122,
         1,
         40,
         29.0,
         17,
         92,
         "Approved",
         0,
         2,
         20060114,
         2,
         0,
         null,
         "2023-04-24T18:13:14.029+0000",
         "dbfs:/FileStore/ds2002-lab06/source_data/stream/purchase_orders/Northwind_Fact_PurchaseOrders01.json"
        ],
        [
         2,
         "20060122",
         2,
         20060122,
         18,
         45,
         0,
         null,
         20060122,
         1,
         20,
         7.0,
         19,
         92,
         "Approved",
         0,
         2,
         20060114,
         2,
         0,
         null,
         "2023-04-24T18:13:14.029+0000",
         "dbfs:/FileStore/ds2002-lab06/source_data/stream/purchase_orders/Northwind_Fact_PurchaseOrders01.json"
        ]
       ],
       "datasetInfos": [],
       "dbfsResultPath": null,
       "isJsonSchema": true,
       "metadata": {},
       "overflow": false,
       "plotOptions": {
        "customPlotOptions": {},
        "displayType": "table",
        "pivotAggregation": null,
        "pivotColumns": null,
        "xColumns": null,
        "yColumns": null
       },
       "removedWidgets": [],
       "schema": [
        {
         "metadata": "{}",
         "name": "approved_by",
         "type": "\"long\""
        },
        {
         "metadata": "{}",
         "name": "approved_date_key",
         "type": "\"decimal(10,0)\""
        },
        {
         "metadata": "{}",
         "name": "created_by",
         "type": "\"long\""
        },
        {
         "metadata": "{}",
         "name": "creation_date_key",
         "type": "\"long\""
        },
        {
         "metadata": "{}",
         "name": "fact_purchase_order_key",
         "type": "\"long\""
        },
        {
         "metadata": "{}",
         "name": "inventory_key",
         "type": "\"long\""
        },
        {
         "metadata": "{}",
         "name": "payment_amount",
         "type": "\"long\""
        },
        {
         "metadata": "{}",
         "name": "payment_date",
         "type": "\"string\""
        },
        {
         "metadata": "{}",
         "name": "po_detail_date_received_key",
         "type": "\"long\""
        },
        {
         "metadata": "{}",
         "name": "po_detail_posted_to_inventory",
         "type": "\"long\""
        },
        {
         "metadata": "{}",
         "name": "po_detail_quantity",
         "type": "\"long\""
        },
        {
         "metadata": "{}",
         "name": "po_detail_unit_cost",
         "type": "\"double\""
        },
        {
         "metadata": "{}",
         "name": "product_key",
         "type": "\"long\""
        },
        {
         "metadata": "{}",
         "name": "purchase_order_key",
         "type": "\"long\""
        },
        {
         "metadata": "{}",
         "name": "purchase_order_status",
         "type": "\"string\""
        },
        {
         "metadata": "{}",
         "name": "shipping_fee",
         "type": "\"long\""
        },
        {
         "metadata": "{}",
         "name": "submitted_by",
         "type": "\"long\""
        },
        {
         "metadata": "{}",
         "name": "submitted_date_key",
         "type": "\"long\""
        },
        {
         "metadata": "{}",
         "name": "supplier_key",
         "type": "\"long\""
        },
        {
         "metadata": "{}",
         "name": "taxes",
         "type": "\"long\""
        },
        {
         "metadata": "{}",
         "name": "_rescued_data",
         "type": "\"string\""
        },
        {
         "metadata": "{}",
         "name": "receipt_time",
         "type": "\"timestamp\""
        },
        {
         "metadata": "{}",
         "name": "source_file",
         "type": "\"string\""
        }
       ],
       "type": "table"
      }
     },
     "output_type": "display_data"
    }
   ],
   "source": [
    "%sql\n",
    "SELECT * FROM purchase_orders_bronze_tempview"
   ]
  },
  {
   "cell_type": "code",
   "execution_count": 0,
   "metadata": {
    "application/vnd.databricks.v1+cell": {
     "cellMetadata": {
      "byteLimit": 2048000,
      "rowLimit": 10000
     },
     "inputWidgets": {},
     "nuid": "591b24a4-cd8f-4090-9dda-40e523e5285d",
     "showTitle": false,
     "title": ""
    }
   },
   "outputs": [
    {
     "output_type": "stream",
     "name": "stdout",
     "output_type": "stream",
     "text": [
      "Out[49]: <pyspark.sql.streaming.query.StreamingQuery at 0x7f0db8774d60>"
     ]
    }
   ],
   "source": [
    "(spark.table(\"purchase_orders_bronze_tempview\")\n",
    "      .writeStream\n",
    "      .format(\"delta\")\n",
    "      .option(\"checkpointLocation\", f\"{purchase_orders_output_bronze}/_checkpoint\")\n",
    "      .outputMode(\"append\")\n",
    "      .table(\"fact_purchase_orders_bronze\"))"
   ]
  },
  {
   "cell_type": "markdown",
   "metadata": {
    "application/vnd.databricks.v1+cell": {
     "cellMetadata": {
      "byteLimit": 2048000,
      "rowLimit": 10000
     },
     "inputWidgets": {},
     "nuid": "ef4d8b4e-4002-481b-b805-89d43b3299ce",
     "showTitle": false,
     "title": ""
    }
   },
   "source": [
    "##### 7.2. Silver Table: Include Reference Data"
   ]
  },
  {
   "cell_type": "code",
   "execution_count": 0,
   "metadata": {
    "application/vnd.databricks.v1+cell": {
     "cellMetadata": {
      "byteLimit": 2048000,
      "rowLimit": 10000
     },
     "inputWidgets": {},
     "nuid": "64997d8b-f699-41f7-9dd8-020706e1bc98",
     "showTitle": false,
     "title": ""
    }
   },
   "outputs": [],
   "source": [
    "(spark.readStream\n",
    "  .table(\"fact_purchase_orders_bronze\")\n",
    "  .createOrReplaceTempView(\"purchase_orders_silver_tempview\"))"
   ]
  },
  {
   "cell_type": "code",
   "execution_count": 0,
   "metadata": {
    "application/vnd.databricks.v1+cell": {
     "cellMetadata": {
      "byteLimit": 2048000,
      "implicitDf": true,
      "rowLimit": 10000
     },
     "inputWidgets": {},
     "nuid": "d5fb1d96-374e-49e2-9aaa-d2eb6b201e04",
     "showTitle": false,
     "title": ""
    }
   },
   "outputs": [
    {
     "output_type": "display_data",
     "data": {
      "text/html": [
       "<style scoped>\n",
       "  .table-result-container {\n",
       "    max-height: 300px;\n",
       "    overflow: auto;\n",
       "  }\n",
       "  table, th, td {\n",
       "    border: 1px solid black;\n",
       "    border-collapse: collapse;\n",
       "  }\n",
       "  th, td {\n",
       "    padding: 5px;\n",
       "  }\n",
       "  th {\n",
       "    text-align: left;\n",
       "  }\n",
       "</style><div class='table-result-container'><table class='table-result'><thead style='background-color: white'><tr><th>approved_by</th><th>approved_date_key</th><th>created_by</th><th>creation_date_key</th><th>fact_purchase_order_key</th><th>inventory_key</th><th>payment_amount</th><th>payment_date</th><th>po_detail_date_received_key</th><th>po_detail_posted_to_inventory</th><th>po_detail_quantity</th><th>po_detail_unit_cost</th><th>product_key</th><th>purchase_order_key</th><th>purchase_order_status</th><th>shipping_fee</th><th>submitted_by</th><th>submitted_date_key</th><th>supplier_key</th><th>taxes</th><th>_rescued_data</th><th>receipt_time</th><th>source_file</th></tr></thead><tbody><tr><td>2</td><td>20060122</td><td>9</td><td>20060122</td><td>37</td><td>74</td><td>0</td><td>null</td><td>20060122</td><td>1</td><td>100</td><td>10.0</td><td>48</td><td>100</td><td>Approved</td><td>0</td><td>9</td><td>20060114</td><td>2</td><td>0</td><td>null</td><td>2023-04-24T18:13:17.103+0000</td><td>dbfs:/FileStore/ds2002-lab06/source_data/stream/purchase_orders/Northwind_Fact_PurchaseOrders03.json</td></tr><tr><td>2</td><td>20060122</td><td>2</td><td>20060122</td><td>38</td><td>72</td><td>0</td><td>null</td><td>20060122</td><td>1</td><td>200</td><td>2.0</td><td>81</td><td>101</td><td>Approved</td><td>0</td><td>2</td><td>20060114</td><td>1</td><td>0</td><td>null</td><td>2023-04-24T18:13:17.103+0000</td><td>dbfs:/FileStore/ds2002-lab06/source_data/stream/purchase_orders/Northwind_Fact_PurchaseOrders03.json</td></tr><tr><td>2</td><td>20060404</td><td>1</td><td>20060324</td><td>39</td><td>null</td><td>0</td><td>null</td><td>null</td><td>0</td><td>300</td><td>34.0</td><td>43</td><td>102</td><td>Approved</td><td>0</td><td>1</td><td>20060324</td><td>1</td><td>0</td><td>null</td><td>2023-04-24T18:13:17.103+0000</td><td>dbfs:/FileStore/ds2002-lab06/source_data/stream/purchase_orders/Northwind_Fact_PurchaseOrders03.json</td></tr><tr><td>2</td><td>20060404</td><td>1</td><td>20060324</td><td>40</td><td>111</td><td>0</td><td>null</td><td>20060417</td><td>1</td><td>10</td><td>7.0</td><td>19</td><td>103</td><td>Approved</td><td>0</td><td>1</td><td>20060324</td><td>2</td><td>0</td><td>null</td><td>2023-04-24T18:13:17.103+0000</td><td>dbfs:/FileStore/ds2002-lab06/source_data/stream/purchase_orders/Northwind_Fact_PurchaseOrders03.json</td></tr><tr><td>2</td><td>20060404</td><td>1</td><td>20060324</td><td>41</td><td>115</td><td>0</td><td>null</td><td>20060406</td><td>1</td><td>50</td><td>7.0</td><td>41</td><td>104</td><td>Approved</td><td>0</td><td>1</td><td>20060324</td><td>2</td><td>0</td><td>null</td><td>2023-04-24T18:13:17.103+0000</td><td>dbfs:/FileStore/ds2002-lab06/source_data/stream/purchase_orders/Northwind_Fact_PurchaseOrders03.json</td></tr><tr><td>2</td><td>20060404</td><td>7</td><td>20060324</td><td>42</td><td>100</td><td>0</td><td>null</td><td>20060405</td><td>1</td><td>100</td><td>15.0</td><td>57</td><td>105</td><td>Approved</td><td>0</td><td>7</td><td>20060324</td><td>5</td><td>0</td><td>null</td><td>2023-04-24T18:13:17.103+0000</td><td>dbfs:/FileStore/ds2002-lab06/source_data/stream/purchase_orders/Northwind_Fact_PurchaseOrders03.json</td></tr><tr><td>2</td><td>20060404</td><td>7</td><td>20060324</td><td>43</td><td>113</td><td>0</td><td>null</td><td>20060405</td><td>1</td><td>50</td><td>26.0</td><td>72</td><td>106</td><td>Approved</td><td>0</td><td>7</td><td>20060324</td><td>6</td><td>0</td><td>null</td><td>2023-04-24T18:13:17.103+0000</td><td>dbfs:/FileStore/ds2002-lab06/source_data/stream/purchase_orders/Northwind_Fact_PurchaseOrders03.json</td></tr><tr><td>2</td><td>20060404</td><td>6</td><td>20060324</td><td>44</td><td>107</td><td>0</td><td>null</td><td>20060405</td><td>1</td><td>300</td><td>10.0</td><td>34</td><td>107</td><td>Approved</td><td>0</td><td>6</td><td>20060324</td><td>1</td><td>0</td><td>null</td><td>2023-04-24T18:13:17.103+0000</td><td>dbfs:/FileStore/ds2002-lab06/source_data/stream/purchase_orders/Northwind_Fact_PurchaseOrders03.json</td></tr><tr><td>2</td><td>20060404</td><td>4</td><td>20060324</td><td>45</td><td>105</td><td>0</td><td>null</td><td>20060405</td><td>1</td><td>25</td><td>30.0</td><td>8</td><td>108</td><td>Approved</td><td>0</td><td>4</td><td>20060324</td><td>2</td><td>0</td><td>null</td><td>2023-04-24T18:13:17.103+0000</td><td>dbfs:/FileStore/ds2002-lab06/source_data/stream/purchase_orders/Northwind_Fact_PurchaseOrders03.json</td></tr><tr><td>2</td><td>20060404</td><td>4</td><td>20060324</td><td>46</td><td>109</td><td>0</td><td>null</td><td>20060405</td><td>1</td><td>25</td><td>7.0</td><td>19</td><td>109</td><td>Approved</td><td>0</td><td>4</td><td>20060324</td><td>2</td><td>0</td><td>null</td><td>2023-04-24T18:13:17.103+0000</td><td>dbfs:/FileStore/ds2002-lab06/source_data/stream/purchase_orders/Northwind_Fact_PurchaseOrders03.json</td></tr><tr><td>2</td><td>20060404</td><td>3</td><td>20060324</td><td>47</td><td>103</td><td>0</td><td>null</td><td>20060410</td><td>1</td><td>250</td><td>34.0</td><td>43</td><td>110</td><td>Approved</td><td>0</td><td>3</td><td>20060324</td><td>1</td><td>0</td><td>null</td><td>2023-04-24T18:13:17.103+0000</td><td>dbfs:/FileStore/ds2002-lab06/source_data/stream/purchase_orders/Northwind_Fact_PurchaseOrders03.json</td></tr><tr><td>2</td><td>20060404</td><td>2</td><td>20060331</td><td>48</td><td>102</td><td>0</td><td>null</td><td>20060404</td><td>1</td><td>50</td><td>10.0</td><td>34</td><td>111</td><td>Approved</td><td>0</td><td>2</td><td>20060331</td><td>1</td><td>0</td><td>null</td><td>2023-04-24T18:13:17.103+0000</td><td>dbfs:/FileStore/ds2002-lab06/source_data/stream/purchase_orders/Northwind_Fact_PurchaseOrders03.json</td></tr><tr><td>2</td><td>null</td><td>null</td><td>null</td><td>49</td><td>null</td><td>0</td><td>null</td><td>null</td><td>0</td><td>10</td><td>9.0</td><td>85</td><td>140</td><td>Approved</td><td>0</td><td>2</td><td>20060425</td><td>6</td><td>0</td><td>null</td><td>2023-04-24T18:13:17.103+0000</td><td>dbfs:/FileStore/ds2002-lab06/source_data/stream/purchase_orders/Northwind_Fact_PurchaseOrders03.json</td></tr><tr><td>2</td><td>null</td><td>null</td><td>null</td><td>50</td><td>null</td><td>0</td><td>null</td><td>null</td><td>0</td><td>10</td><td>18.75</td><td>6</td><td>141</td><td>Approved</td><td>0</td><td>2</td><td>20060425</td><td>8</td><td>0</td><td>null</td><td>2023-04-24T18:13:17.103+0000</td><td>dbfs:/FileStore/ds2002-lab06/source_data/stream/purchase_orders/Northwind_Fact_PurchaseOrders03.json</td></tr><tr><td>2</td><td>null</td><td>null</td><td>null</td><td>51</td><td>null</td><td>0</td><td>null</td><td>null</td><td>0</td><td>1</td><td>13.5</td><td>1</td><td>142</td><td>Approved</td><td>0</td><td>2</td><td>20060425</td><td>8</td><td>0</td><td>null</td><td>2023-04-24T18:13:17.103+0000</td><td>dbfs:/FileStore/ds2002-lab06/source_data/stream/purchase_orders/Northwind_Fact_PurchaseOrders03.json</td></tr><tr><td>null</td><td>null</td><td>2</td><td>null</td><td>52</td><td>null</td><td>0</td><td>null</td><td>null</td><td>0</td><td>40</td><td>60.0</td><td>20</td><td>146</td><td>Submitted</td><td>0</td><td>2</td><td>null</td><td>2</td><td>0</td><td>null</td><td>2023-04-24T18:13:17.103+0000</td><td>dbfs:/FileStore/ds2002-lab06/source_data/stream/purchase_orders/Northwind_Fact_PurchaseOrders03.json</td></tr><tr><td>null</td><td>null</td><td>2</td><td>null</td><td>53</td><td>null</td><td>0</td><td>null</td><td>null</td><td>0</td><td>40</td><td>39.0</td><td>51</td><td>146</td><td>Submitted</td><td>0</td><td>2</td><td>null</td><td>2</td><td>0</td><td>null</td><td>2023-04-24T18:13:17.103+0000</td><td>dbfs:/FileStore/ds2002-lab06/source_data/stream/purchase_orders/Northwind_Fact_PurchaseOrders03.json</td></tr><tr><td>null</td><td>null</td><td>2</td><td>null</td><td>54</td><td>null</td><td>0</td><td>null</td><td>null</td><td>0</td><td>120</td><td>13.0</td><td>40</td><td>147</td><td>Submitted</td><td>0</td><td>2</td><td>null</td><td>7</td><td>0</td><td>null</td><td>2023-04-24T18:13:17.103+0000</td><td>dbfs:/FileStore/ds2002-lab06/source_data/stream/purchase_orders/Northwind_Fact_PurchaseOrders03.json</td></tr><tr><td>null</td><td>null</td><td>2</td><td>null</td><td>55</td><td>null</td><td>0</td><td>null</td><td>null</td><td>0</td><td>40</td><td>26.0</td><td>72</td><td>148</td><td>Submitted</td><td>0</td><td>2</td><td>null</td><td>5</td><td>0</td><td>null</td><td>2023-04-24T18:13:17.103+0000</td><td>dbfs:/FileStore/ds2002-lab06/source_data/stream/purchase_orders/Northwind_Fact_PurchaseOrders03.json</td></tr><tr><td>2</td><td>20060122</td><td>2</td><td>20060122</td><td>19</td><td>46</td><td>0</td><td>null</td><td>20060122</td><td>1</td><td>40</td><td>61.0</td><td>20</td><td>92</td><td>Approved</td><td>0</td><td>2</td><td>20060114</td><td>2</td><td>0</td><td>null</td><td>2023-04-24T18:13:17.103+0000</td><td>dbfs:/FileStore/ds2002-lab06/source_data/stream/purchase_orders/Northwind_Fact_PurchaseOrders02.json</td></tr><tr><td>2</td><td>20060122</td><td>2</td><td>20060122</td><td>20</td><td>47</td><td>0</td><td>null</td><td>20060122</td><td>1</td><td>20</td><td>8.0</td><td>21</td><td>92</td><td>Approved</td><td>0</td><td>2</td><td>20060114</td><td>2</td><td>0</td><td>null</td><td>2023-04-24T18:13:17.103+0000</td><td>dbfs:/FileStore/ds2002-lab06/source_data/stream/purchase_orders/Northwind_Fact_PurchaseOrders02.json</td></tr><tr><td>2</td><td>20060122</td><td>2</td><td>20060122</td><td>21</td><td>48</td><td>0</td><td>null</td><td>20060122</td><td>1</td><td>120</td><td>14.0</td><td>40</td><td>92</td><td>Approved</td><td>0</td><td>2</td><td>20060114</td><td>2</td><td>0</td><td>null</td><td>2023-04-24T18:13:17.103+0000</td><td>dbfs:/FileStore/ds2002-lab06/source_data/stream/purchase_orders/Northwind_Fact_PurchaseOrders02.json</td></tr><tr><td>2</td><td>20060122</td><td>2</td><td>20060122</td><td>22</td><td>49</td><td>0</td><td>null</td><td>20060122</td><td>1</td><td>40</td><td>7.0</td><td>41</td><td>92</td><td>Approved</td><td>0</td><td>2</td><td>20060114</td><td>2</td><td>0</td><td>null</td><td>2023-04-24T18:13:17.103+0000</td><td>dbfs:/FileStore/ds2002-lab06/source_data/stream/purchase_orders/Northwind_Fact_PurchaseOrders02.json</td></tr><tr><td>2</td><td>20060122</td><td>2</td><td>20060122</td><td>23</td><td>50</td><td>0</td><td>null</td><td>20060122</td><td>1</td><td>100</td><td>10.0</td><td>48</td><td>92</td><td>Approved</td><td>0</td><td>2</td><td>20060114</td><td>2</td><td>0</td><td>null</td><td>2023-04-24T18:13:17.103+0000</td><td>dbfs:/FileStore/ds2002-lab06/source_data/stream/purchase_orders/Northwind_Fact_PurchaseOrders02.json</td></tr><tr><td>2</td><td>20060122</td><td>2</td><td>20060122</td><td>24</td><td>51</td><td>0</td><td>null</td><td>20060122</td><td>1</td><td>40</td><td>40.0</td><td>51</td><td>92</td><td>Approved</td><td>0</td><td>2</td><td>20060114</td><td>2</td><td>0</td><td>null</td><td>2023-04-24T18:13:17.103+0000</td><td>dbfs:/FileStore/ds2002-lab06/source_data/stream/purchase_orders/Northwind_Fact_PurchaseOrders02.json</td></tr><tr><td>2</td><td>20060122</td><td>2</td><td>20060122</td><td>25</td><td>52</td><td>0</td><td>null</td><td>20060122</td><td>1</td><td>20</td><td>8.0</td><td>74</td><td>92</td><td>Approved</td><td>0</td><td>2</td><td>20060114</td><td>2</td><td>0</td><td>null</td><td>2023-04-24T18:13:17.103+0000</td><td>dbfs:/FileStore/ds2002-lab06/source_data/stream/purchase_orders/Northwind_Fact_PurchaseOrders02.json</td></tr><tr><td>2</td><td>20060122</td><td>2</td><td>20060122</td><td>26</td><td>53</td><td>0</td><td>null</td><td>20060122</td><td>1</td><td>60</td><td>10.0</td><td>77</td><td>92</td><td>Approved</td><td>0</td><td>2</td><td>20060114</td><td>2</td><td>0</td><td>null</td><td>2023-04-24T18:13:17.103+0000</td><td>dbfs:/FileStore/ds2002-lab06/source_data/stream/purchase_orders/Northwind_Fact_PurchaseOrders02.json</td></tr><tr><td>2</td><td>20060122</td><td>2</td><td>20060122</td><td>27</td><td>null</td><td>0</td><td>null</td><td>null</td><td>0</td><td>20</td><td>7.0</td><td>19</td><td>92</td><td>Approved</td><td>0</td><td>2</td><td>20060114</td><td>2</td><td>0</td><td>null</td><td>2023-04-24T18:13:17.103+0000</td><td>dbfs:/FileStore/ds2002-lab06/source_data/stream/purchase_orders/Northwind_Fact_PurchaseOrders02.json</td></tr><tr><td>2</td><td>20060122</td><td>2</td><td>20060122</td><td>28</td><td>37</td><td>0</td><td>null</td><td>20060122</td><td>1</td><td>100</td><td>5.0</td><td>52</td><td>93</td><td>Approved</td><td>0</td><td>2</td><td>20060114</td><td>5</td><td>0</td><td>null</td><td>2023-04-24T18:13:17.103+0000</td><td>dbfs:/FileStore/ds2002-lab06/source_data/stream/purchase_orders/Northwind_Fact_PurchaseOrders02.json</td></tr><tr><td>2</td><td>20060122</td><td>2</td><td>20060122</td><td>29</td><td>38</td><td>0</td><td>null</td><td>20060122</td><td>1</td><td>120</td><td>28.0</td><td>56</td><td>93</td><td>Approved</td><td>0</td><td>2</td><td>20060114</td><td>5</td><td>0</td><td>null</td><td>2023-04-24T18:13:17.103+0000</td><td>dbfs:/FileStore/ds2002-lab06/source_data/stream/purchase_orders/Northwind_Fact_PurchaseOrders02.json</td></tr><tr><td>2</td><td>20060122</td><td>2</td><td>20060122</td><td>30</td><td>39</td><td>0</td><td>null</td><td>20060122</td><td>1</td><td>80</td><td>15.0</td><td>57</td><td>93</td><td>Approved</td><td>0</td><td>2</td><td>20060114</td><td>5</td><td>0</td><td>null</td><td>2023-04-24T18:13:17.103+0000</td><td>dbfs:/FileStore/ds2002-lab06/source_data/stream/purchase_orders/Northwind_Fact_PurchaseOrders02.json</td></tr><tr><td>2</td><td>20060122</td><td>2</td><td>20060122</td><td>31</td><td>36</td><td>0</td><td>null</td><td>20060122</td><td>1</td><td>40</td><td>26.0</td><td>72</td><td>94</td><td>Approved</td><td>0</td><td>2</td><td>20060114</td><td>6</td><td>0</td><td>null</td><td>2023-04-24T18:13:17.103+0000</td><td>dbfs:/FileStore/ds2002-lab06/source_data/stream/purchase_orders/Northwind_Fact_PurchaseOrders02.json</td></tr><tr><td>2</td><td>20060122</td><td>2</td><td>20060122</td><td>32</td><td>35</td><td>0</td><td>null</td><td>20060122</td><td>1</td><td>75</td><td>3.0</td><td>80</td><td>95</td><td>Approved</td><td>0</td><td>2</td><td>20060114</td><td>4</td><td>0</td><td>null</td><td>2023-04-24T18:13:17.103+0000</td><td>dbfs:/FileStore/ds2002-lab06/source_data/stream/purchase_orders/Northwind_Fact_PurchaseOrders02.json</td></tr><tr><td>2</td><td>20060122</td><td>5</td><td>20060122</td><td>33</td><td>82</td><td>0</td><td>null</td><td>20060122</td><td>1</td><td>100</td><td>10.0</td><td>34</td><td>96</td><td>Approved</td><td>0</td><td>5</td><td>20060114</td><td>1</td><td>0</td><td>null</td><td>2023-04-24T18:13:17.103+0000</td><td>dbfs:/FileStore/ds2002-lab06/source_data/stream/purchase_orders/Northwind_Fact_PurchaseOrders02.json</td></tr><tr><td>2</td><td>20060122</td><td>7</td><td>20060122</td><td>34</td><td>80</td><td>0</td><td>null</td><td>20060122</td><td>1</td><td>30</td><td>7.0</td><td>19</td><td>97</td><td>Approved</td><td>0</td><td>7</td><td>20060114</td><td>2</td><td>0</td><td>null</td><td>2023-04-24T18:13:17.103+0000</td><td>dbfs:/FileStore/ds2002-lab06/source_data/stream/purchase_orders/Northwind_Fact_PurchaseOrders02.json</td></tr><tr><td>2</td><td>20060122</td><td>4</td><td>20060122</td><td>35</td><td>78</td><td>0</td><td>null</td><td>20060122</td><td>1</td><td>200</td><td>7.0</td><td>41</td><td>98</td><td>Approved</td><td>0</td><td>4</td><td>20060114</td><td>2</td><td>0</td><td>null</td><td>2023-04-24T18:13:17.103+0000</td><td>dbfs:/FileStore/ds2002-lab06/source_data/stream/purchase_orders/Northwind_Fact_PurchaseOrders02.json</td></tr><tr><td>2</td><td>20060122</td><td>3</td><td>20060122</td><td>36</td><td>76</td><td>0</td><td>null</td><td>20060122</td><td>1</td><td>300</td><td>34.0</td><td>43</td><td>99</td><td>Approved</td><td>0</td><td>3</td><td>20060114</td><td>1</td><td>0</td><td>null</td><td>2023-04-24T18:13:17.103+0000</td><td>dbfs:/FileStore/ds2002-lab06/source_data/stream/purchase_orders/Northwind_Fact_PurchaseOrders02.json</td></tr><tr><td>2</td><td>20060122</td><td>2</td><td>20060122</td><td>1</td><td>59</td><td>0</td><td>null</td><td>20060122</td><td>1</td><td>40</td><td>14.0</td><td>1</td><td>90</td><td>Approved</td><td>0</td><td>2</td><td>20060114</td><td>1</td><td>0</td><td>null</td><td>2023-04-24T18:13:17.103+0000</td><td>dbfs:/FileStore/ds2002-lab06/source_data/stream/purchase_orders/Northwind_Fact_PurchaseOrders01.json</td></tr><tr><td>2</td><td>20060122</td><td>2</td><td>20060122</td><td>2</td><td>60</td><td>0</td><td>null</td><td>20060122</td><td>1</td><td>60</td><td>10.0</td><td>34</td><td>90</td><td>Approved</td><td>0</td><td>2</td><td>20060114</td><td>1</td><td>0</td><td>null</td><td>2023-04-24T18:13:17.103+0000</td><td>dbfs:/FileStore/ds2002-lab06/source_data/stream/purchase_orders/Northwind_Fact_PurchaseOrders01.json</td></tr><tr><td>2</td><td>20060122</td><td>2</td><td>20060122</td><td>3</td><td>61</td><td>0</td><td>null</td><td>20060122</td><td>1</td><td>100</td><td>34.0</td><td>43</td><td>90</td><td>Approved</td><td>0</td><td>2</td><td>20060114</td><td>1</td><td>0</td><td>null</td><td>2023-04-24T18:13:17.103+0000</td><td>dbfs:/FileStore/ds2002-lab06/source_data/stream/purchase_orders/Northwind_Fact_PurchaseOrders01.json</td></tr><tr><td>2</td><td>20060122</td><td>2</td><td>20060122</td><td>4</td><td>62</td><td>0</td><td>null</td><td>20060122</td><td>1</td><td>125</td><td>2.0</td><td>81</td><td>90</td><td>Approved</td><td>0</td><td>2</td><td>20060114</td><td>1</td><td>0</td><td>null</td><td>2023-04-24T18:13:17.103+0000</td><td>dbfs:/FileStore/ds2002-lab06/source_data/stream/purchase_orders/Northwind_Fact_PurchaseOrders01.json</td></tr><tr><td>2</td><td>20060122</td><td>2</td><td>20060122</td><td>5</td><td>null</td><td>0</td><td>null</td><td>null</td><td>0</td><td>40</td><td>14.0</td><td>1</td><td>90</td><td>Approved</td><td>0</td><td>2</td><td>20060114</td><td>1</td><td>0</td><td>null</td><td>2023-04-24T18:13:17.103+0000</td><td>dbfs:/FileStore/ds2002-lab06/source_data/stream/purchase_orders/Northwind_Fact_PurchaseOrders01.json</td></tr><tr><td>2</td><td>20060122</td><td>2</td><td>20060122</td><td>6</td><td>54</td><td>0</td><td>null</td><td>20060122</td><td>1</td><td>100</td><td>8.0</td><td>3</td><td>91</td><td>Approved</td><td>0</td><td>2</td><td>20060114</td><td>3</td><td>0</td><td>null</td><td>2023-04-24T18:13:17.103+0000</td><td>dbfs:/FileStore/ds2002-lab06/source_data/stream/purchase_orders/Northwind_Fact_PurchaseOrders01.json</td></tr><tr><td>2</td><td>20060122</td><td>2</td><td>20060122</td><td>7</td><td>55</td><td>0</td><td>null</td><td>20060122</td><td>1</td><td>40</td><td>16.0</td><td>4</td><td>91</td><td>Approved</td><td>0</td><td>2</td><td>20060114</td><td>3</td><td>0</td><td>null</td><td>2023-04-24T18:13:17.103+0000</td><td>dbfs:/FileStore/ds2002-lab06/source_data/stream/purchase_orders/Northwind_Fact_PurchaseOrders01.json</td></tr><tr><td>2</td><td>20060122</td><td>2</td><td>20060122</td><td>8</td><td>56</td><td>0</td><td>null</td><td>20060122</td><td>1</td><td>40</td><td>16.0</td><td>5</td><td>91</td><td>Approved</td><td>0</td><td>2</td><td>20060114</td><td>3</td><td>0</td><td>null</td><td>2023-04-24T18:13:17.103+0000</td><td>dbfs:/FileStore/ds2002-lab06/source_data/stream/purchase_orders/Northwind_Fact_PurchaseOrders01.json</td></tr><tr><td>2</td><td>20060122</td><td>2</td><td>20060122</td><td>9</td><td>57</td><td>0</td><td>null</td><td>20060122</td><td>1</td><td>40</td><td>16.0</td><td>65</td><td>91</td><td>Approved</td><td>0</td><td>2</td><td>20060114</td><td>3</td><td>0</td><td>null</td><td>2023-04-24T18:13:17.103+0000</td><td>dbfs:/FileStore/ds2002-lab06/source_data/stream/purchase_orders/Northwind_Fact_PurchaseOrders01.json</td></tr><tr><td>2</td><td>20060122</td><td>2</td><td>20060122</td><td>10</td><td>58</td><td>0</td><td>null</td><td>20060122</td><td>1</td><td>80</td><td>13.0</td><td>66</td><td>91</td><td>Approved</td><td>0</td><td>2</td><td>20060114</td><td>3</td><td>0</td><td>null</td><td>2023-04-24T18:13:17.103+0000</td><td>dbfs:/FileStore/ds2002-lab06/source_data/stream/purchase_orders/Northwind_Fact_PurchaseOrders01.json</td></tr><tr><td>2</td><td>20060122</td><td>2</td><td>20060122</td><td>11</td><td>null</td><td>0</td><td>null</td><td>null</td><td>0</td><td>50</td><td>8.0</td><td>3</td><td>91</td><td>Approved</td><td>0</td><td>2</td><td>20060114</td><td>3</td><td>0</td><td>null</td><td>2023-04-24T18:13:17.103+0000</td><td>dbfs:/FileStore/ds2002-lab06/source_data/stream/purchase_orders/Northwind_Fact_PurchaseOrders01.json</td></tr><tr><td>2</td><td>20060122</td><td>2</td><td>20060122</td><td>12</td><td>null</td><td>0</td><td>null</td><td>null</td><td>0</td><td>40</td><td>16.0</td><td>4</td><td>91</td><td>Approved</td><td>0</td><td>2</td><td>20060114</td><td>3</td><td>0</td><td>null</td><td>2023-04-24T18:13:17.103+0000</td><td>dbfs:/FileStore/ds2002-lab06/source_data/stream/purchase_orders/Northwind_Fact_PurchaseOrders01.json</td></tr><tr><td>2</td><td>20060122</td><td>2</td><td>20060122</td><td>13</td><td>40</td><td>0</td><td>null</td><td>20060122</td><td>1</td><td>100</td><td>19.0</td><td>6</td><td>92</td><td>Approved</td><td>0</td><td>2</td><td>20060114</td><td>2</td><td>0</td><td>null</td><td>2023-04-24T18:13:17.103+0000</td><td>dbfs:/FileStore/ds2002-lab06/source_data/stream/purchase_orders/Northwind_Fact_PurchaseOrders01.json</td></tr><tr><td>2</td><td>20060122</td><td>2</td><td>20060122</td><td>14</td><td>41</td><td>0</td><td>null</td><td>20060122</td><td>1</td><td>40</td><td>22.0</td><td>7</td><td>92</td><td>Approved</td><td>0</td><td>2</td><td>20060114</td><td>2</td><td>0</td><td>null</td><td>2023-04-24T18:13:17.103+0000</td><td>dbfs:/FileStore/ds2002-lab06/source_data/stream/purchase_orders/Northwind_Fact_PurchaseOrders01.json</td></tr><tr><td>2</td><td>20060122</td><td>2</td><td>20060122</td><td>15</td><td>42</td><td>0</td><td>null</td><td>20060122</td><td>1</td><td>40</td><td>30.0</td><td>8</td><td>92</td><td>Approved</td><td>0</td><td>2</td><td>20060114</td><td>2</td><td>0</td><td>null</td><td>2023-04-24T18:13:17.103+0000</td><td>dbfs:/FileStore/ds2002-lab06/source_data/stream/purchase_orders/Northwind_Fact_PurchaseOrders01.json</td></tr><tr><td>2</td><td>20060122</td><td>2</td><td>20060122</td><td>16</td><td>43</td><td>0</td><td>null</td><td>20060122</td><td>1</td><td>40</td><td>17.0</td><td>14</td><td>92</td><td>Approved</td><td>0</td><td>2</td><td>20060114</td><td>2</td><td>0</td><td>null</td><td>2023-04-24T18:13:17.103+0000</td><td>dbfs:/FileStore/ds2002-lab06/source_data/stream/purchase_orders/Northwind_Fact_PurchaseOrders01.json</td></tr><tr><td>2</td><td>20060122</td><td>2</td><td>20060122</td><td>17</td><td>44</td><td>0</td><td>null</td><td>20060122</td><td>1</td><td>40</td><td>29.0</td><td>17</td><td>92</td><td>Approved</td><td>0</td><td>2</td><td>20060114</td><td>2</td><td>0</td><td>null</td><td>2023-04-24T18:13:17.103+0000</td><td>dbfs:/FileStore/ds2002-lab06/source_data/stream/purchase_orders/Northwind_Fact_PurchaseOrders01.json</td></tr><tr><td>2</td><td>20060122</td><td>2</td><td>20060122</td><td>18</td><td>45</td><td>0</td><td>null</td><td>20060122</td><td>1</td><td>20</td><td>7.0</td><td>19</td><td>92</td><td>Approved</td><td>0</td><td>2</td><td>20060114</td><td>2</td><td>0</td><td>null</td><td>2023-04-24T18:13:17.103+0000</td><td>dbfs:/FileStore/ds2002-lab06/source_data/stream/purchase_orders/Northwind_Fact_PurchaseOrders01.json</td></tr></tbody></table></div>"
      ]
     },
     "metadata": {
      "application/vnd.databricks.v1+output": {
       "addedWidgets": {},
       "aggData": [],
       "aggError": "",
       "aggOverflow": false,
       "aggSchema": [],
       "aggSeriesLimitReached": false,
       "aggType": "",
       "arguments": {},
       "columnCustomDisplayInfos": {},
       "data": [
        [
         2,
         "20060122",
         9,
         20060122,
         37,
         74,
         0,
         null,
         20060122,
         1,
         100,
         10.0,
         48,
         100,
         "Approved",
         0,
         9,
         20060114,
         2,
         0,
         null,
         "2023-04-24T18:13:17.103+0000",
         "dbfs:/FileStore/ds2002-lab06/source_data/stream/purchase_orders/Northwind_Fact_PurchaseOrders03.json"
        ],
        [
         2,
         "20060122",
         2,
         20060122,
         38,
         72,
         0,
         null,
         20060122,
         1,
         200,
         2.0,
         81,
         101,
         "Approved",
         0,
         2,
         20060114,
         1,
         0,
         null,
         "2023-04-24T18:13:17.103+0000",
         "dbfs:/FileStore/ds2002-lab06/source_data/stream/purchase_orders/Northwind_Fact_PurchaseOrders03.json"
        ],
        [
         2,
         "20060404",
         1,
         20060324,
         39,
         null,
         0,
         null,
         null,
         0,
         300,
         34.0,
         43,
         102,
         "Approved",
         0,
         1,
         20060324,
         1,
         0,
         null,
         "2023-04-24T18:13:17.103+0000",
         "dbfs:/FileStore/ds2002-lab06/source_data/stream/purchase_orders/Northwind_Fact_PurchaseOrders03.json"
        ],
        [
         2,
         "20060404",
         1,
         20060324,
         40,
         111,
         0,
         null,
         20060417,
         1,
         10,
         7.0,
         19,
         103,
         "Approved",
         0,
         1,
         20060324,
         2,
         0,
         null,
         "2023-04-24T18:13:17.103+0000",
         "dbfs:/FileStore/ds2002-lab06/source_data/stream/purchase_orders/Northwind_Fact_PurchaseOrders03.json"
        ],
        [
         2,
         "20060404",
         1,
         20060324,
         41,
         115,
         0,
         null,
         20060406,
         1,
         50,
         7.0,
         41,
         104,
         "Approved",
         0,
         1,
         20060324,
         2,
         0,
         null,
         "2023-04-24T18:13:17.103+0000",
         "dbfs:/FileStore/ds2002-lab06/source_data/stream/purchase_orders/Northwind_Fact_PurchaseOrders03.json"
        ],
        [
         2,
         "20060404",
         7,
         20060324,
         42,
         100,
         0,
         null,
         20060405,
         1,
         100,
         15.0,
         57,
         105,
         "Approved",
         0,
         7,
         20060324,
         5,
         0,
         null,
         "2023-04-24T18:13:17.103+0000",
         "dbfs:/FileStore/ds2002-lab06/source_data/stream/purchase_orders/Northwind_Fact_PurchaseOrders03.json"
        ],
        [
         2,
         "20060404",
         7,
         20060324,
         43,
         113,
         0,
         null,
         20060405,
         1,
         50,
         26.0,
         72,
         106,
         "Approved",
         0,
         7,
         20060324,
         6,
         0,
         null,
         "2023-04-24T18:13:17.103+0000",
         "dbfs:/FileStore/ds2002-lab06/source_data/stream/purchase_orders/Northwind_Fact_PurchaseOrders03.json"
        ],
        [
         2,
         "20060404",
         6,
         20060324,
         44,
         107,
         0,
         null,
         20060405,
         1,
         300,
         10.0,
         34,
         107,
         "Approved",
         0,
         6,
         20060324,
         1,
         0,
         null,
         "2023-04-24T18:13:17.103+0000",
         "dbfs:/FileStore/ds2002-lab06/source_data/stream/purchase_orders/Northwind_Fact_PurchaseOrders03.json"
        ],
        [
         2,
         "20060404",
         4,
         20060324,
         45,
         105,
         0,
         null,
         20060405,
         1,
         25,
         30.0,
         8,
         108,
         "Approved",
         0,
         4,
         20060324,
         2,
         0,
         null,
         "2023-04-24T18:13:17.103+0000",
         "dbfs:/FileStore/ds2002-lab06/source_data/stream/purchase_orders/Northwind_Fact_PurchaseOrders03.json"
        ],
        [
         2,
         "20060404",
         4,
         20060324,
         46,
         109,
         0,
         null,
         20060405,
         1,
         25,
         7.0,
         19,
         109,
         "Approved",
         0,
         4,
         20060324,
         2,
         0,
         null,
         "2023-04-24T18:13:17.103+0000",
         "dbfs:/FileStore/ds2002-lab06/source_data/stream/purchase_orders/Northwind_Fact_PurchaseOrders03.json"
        ],
        [
         2,
         "20060404",
         3,
         20060324,
         47,
         103,
         0,
         null,
         20060410,
         1,
         250,
         34.0,
         43,
         110,
         "Approved",
         0,
         3,
         20060324,
         1,
         0,
         null,
         "2023-04-24T18:13:17.103+0000",
         "dbfs:/FileStore/ds2002-lab06/source_data/stream/purchase_orders/Northwind_Fact_PurchaseOrders03.json"
        ],
        [
         2,
         "20060404",
         2,
         20060331,
         48,
         102,
         0,
         null,
         20060404,
         1,
         50,
         10.0,
         34,
         111,
         "Approved",
         0,
         2,
         20060331,
         1,
         0,
         null,
         "2023-04-24T18:13:17.103+0000",
         "dbfs:/FileStore/ds2002-lab06/source_data/stream/purchase_orders/Northwind_Fact_PurchaseOrders03.json"
        ],
        [
         2,
         null,
         null,
         null,
         49,
         null,
         0,
         null,
         null,
         0,
         10,
         9.0,
         85,
         140,
         "Approved",
         0,
         2,
         20060425,
         6,
         0,
         null,
         "2023-04-24T18:13:17.103+0000",
         "dbfs:/FileStore/ds2002-lab06/source_data/stream/purchase_orders/Northwind_Fact_PurchaseOrders03.json"
        ],
        [
         2,
         null,
         null,
         null,
         50,
         null,
         0,
         null,
         null,
         0,
         10,
         18.75,
         6,
         141,
         "Approved",
         0,
         2,
         20060425,
         8,
         0,
         null,
         "2023-04-24T18:13:17.103+0000",
         "dbfs:/FileStore/ds2002-lab06/source_data/stream/purchase_orders/Northwind_Fact_PurchaseOrders03.json"
        ],
        [
         2,
         null,
         null,
         null,
         51,
         null,
         0,
         null,
         null,
         0,
         1,
         13.5,
         1,
         142,
         "Approved",
         0,
         2,
         20060425,
         8,
         0,
         null,
         "2023-04-24T18:13:17.103+0000",
         "dbfs:/FileStore/ds2002-lab06/source_data/stream/purchase_orders/Northwind_Fact_PurchaseOrders03.json"
        ],
        [
         null,
         null,
         2,
         null,
         52,
         null,
         0,
         null,
         null,
         0,
         40,
         60.0,
         20,
         146,
         "Submitted",
         0,
         2,
         null,
         2,
         0,
         null,
         "2023-04-24T18:13:17.103+0000",
         "dbfs:/FileStore/ds2002-lab06/source_data/stream/purchase_orders/Northwind_Fact_PurchaseOrders03.json"
        ],
        [
         null,
         null,
         2,
         null,
         53,
         null,
         0,
         null,
         null,
         0,
         40,
         39.0,
         51,
         146,
         "Submitted",
         0,
         2,
         null,
         2,
         0,
         null,
         "2023-04-24T18:13:17.103+0000",
         "dbfs:/FileStore/ds2002-lab06/source_data/stream/purchase_orders/Northwind_Fact_PurchaseOrders03.json"
        ],
        [
         null,
         null,
         2,
         null,
         54,
         null,
         0,
         null,
         null,
         0,
         120,
         13.0,
         40,
         147,
         "Submitted",
         0,
         2,
         null,
         7,
         0,
         null,
         "2023-04-24T18:13:17.103+0000",
         "dbfs:/FileStore/ds2002-lab06/source_data/stream/purchase_orders/Northwind_Fact_PurchaseOrders03.json"
        ],
        [
         null,
         null,
         2,
         null,
         55,
         null,
         0,
         null,
         null,
         0,
         40,
         26.0,
         72,
         148,
         "Submitted",
         0,
         2,
         null,
         5,
         0,
         null,
         "2023-04-24T18:13:17.103+0000",
         "dbfs:/FileStore/ds2002-lab06/source_data/stream/purchase_orders/Northwind_Fact_PurchaseOrders03.json"
        ],
        [
         2,
         "20060122",
         2,
         20060122,
         19,
         46,
         0,
         null,
         20060122,
         1,
         40,
         61.0,
         20,
         92,
         "Approved",
         0,
         2,
         20060114,
         2,
         0,
         null,
         "2023-04-24T18:13:17.103+0000",
         "dbfs:/FileStore/ds2002-lab06/source_data/stream/purchase_orders/Northwind_Fact_PurchaseOrders02.json"
        ],
        [
         2,
         "20060122",
         2,
         20060122,
         20,
         47,
         0,
         null,
         20060122,
         1,
         20,
         8.0,
         21,
         92,
         "Approved",
         0,
         2,
         20060114,
         2,
         0,
         null,
         "2023-04-24T18:13:17.103+0000",
         "dbfs:/FileStore/ds2002-lab06/source_data/stream/purchase_orders/Northwind_Fact_PurchaseOrders02.json"
        ],
        [
         2,
         "20060122",
         2,
         20060122,
         21,
         48,
         0,
         null,
         20060122,
         1,
         120,
         14.0,
         40,
         92,
         "Approved",
         0,
         2,
         20060114,
         2,
         0,
         null,
         "2023-04-24T18:13:17.103+0000",
         "dbfs:/FileStore/ds2002-lab06/source_data/stream/purchase_orders/Northwind_Fact_PurchaseOrders02.json"
        ],
        [
         2,
         "20060122",
         2,
         20060122,
         22,
         49,
         0,
         null,
         20060122,
         1,
         40,
         7.0,
         41,
         92,
         "Approved",
         0,
         2,
         20060114,
         2,
         0,
         null,
         "2023-04-24T18:13:17.103+0000",
         "dbfs:/FileStore/ds2002-lab06/source_data/stream/purchase_orders/Northwind_Fact_PurchaseOrders02.json"
        ],
        [
         2,
         "20060122",
         2,
         20060122,
         23,
         50,
         0,
         null,
         20060122,
         1,
         100,
         10.0,
         48,
         92,
         "Approved",
         0,
         2,
         20060114,
         2,
         0,
         null,
         "2023-04-24T18:13:17.103+0000",
         "dbfs:/FileStore/ds2002-lab06/source_data/stream/purchase_orders/Northwind_Fact_PurchaseOrders02.json"
        ],
        [
         2,
         "20060122",
         2,
         20060122,
         24,
         51,
         0,
         null,
         20060122,
         1,
         40,
         40.0,
         51,
         92,
         "Approved",
         0,
         2,
         20060114,
         2,
         0,
         null,
         "2023-04-24T18:13:17.103+0000",
         "dbfs:/FileStore/ds2002-lab06/source_data/stream/purchase_orders/Northwind_Fact_PurchaseOrders02.json"
        ],
        [
         2,
         "20060122",
         2,
         20060122,
         25,
         52,
         0,
         null,
         20060122,
         1,
         20,
         8.0,
         74,
         92,
         "Approved",
         0,
         2,
         20060114,
         2,
         0,
         null,
         "2023-04-24T18:13:17.103+0000",
         "dbfs:/FileStore/ds2002-lab06/source_data/stream/purchase_orders/Northwind_Fact_PurchaseOrders02.json"
        ],
        [
         2,
         "20060122",
         2,
         20060122,
         26,
         53,
         0,
         null,
         20060122,
         1,
         60,
         10.0,
         77,
         92,
         "Approved",
         0,
         2,
         20060114,
         2,
         0,
         null,
         "2023-04-24T18:13:17.103+0000",
         "dbfs:/FileStore/ds2002-lab06/source_data/stream/purchase_orders/Northwind_Fact_PurchaseOrders02.json"
        ],
        [
         2,
         "20060122",
         2,
         20060122,
         27,
         null,
         0,
         null,
         null,
         0,
         20,
         7.0,
         19,
         92,
         "Approved",
         0,
         2,
         20060114,
         2,
         0,
         null,
         "2023-04-24T18:13:17.103+0000",
         "dbfs:/FileStore/ds2002-lab06/source_data/stream/purchase_orders/Northwind_Fact_PurchaseOrders02.json"
        ],
        [
         2,
         "20060122",
         2,
         20060122,
         28,
         37,
         0,
         null,
         20060122,
         1,
         100,
         5.0,
         52,
         93,
         "Approved",
         0,
         2,
         20060114,
         5,
         0,
         null,
         "2023-04-24T18:13:17.103+0000",
         "dbfs:/FileStore/ds2002-lab06/source_data/stream/purchase_orders/Northwind_Fact_PurchaseOrders02.json"
        ],
        [
         2,
         "20060122",
         2,
         20060122,
         29,
         38,
         0,
         null,
         20060122,
         1,
         120,
         28.0,
         56,
         93,
         "Approved",
         0,
         2,
         20060114,
         5,
         0,
         null,
         "2023-04-24T18:13:17.103+0000",
         "dbfs:/FileStore/ds2002-lab06/source_data/stream/purchase_orders/Northwind_Fact_PurchaseOrders02.json"
        ],
        [
         2,
         "20060122",
         2,
         20060122,
         30,
         39,
         0,
         null,
         20060122,
         1,
         80,
         15.0,
         57,
         93,
         "Approved",
         0,
         2,
         20060114,
         5,
         0,
         null,
         "2023-04-24T18:13:17.103+0000",
         "dbfs:/FileStore/ds2002-lab06/source_data/stream/purchase_orders/Northwind_Fact_PurchaseOrders02.json"
        ],
        [
         2,
         "20060122",
         2,
         20060122,
         31,
         36,
         0,
         null,
         20060122,
         1,
         40,
         26.0,
         72,
         94,
         "Approved",
         0,
         2,
         20060114,
         6,
         0,
         null,
         "2023-04-24T18:13:17.103+0000",
         "dbfs:/FileStore/ds2002-lab06/source_data/stream/purchase_orders/Northwind_Fact_PurchaseOrders02.json"
        ],
        [
         2,
         "20060122",
         2,
         20060122,
         32,
         35,
         0,
         null,
         20060122,
         1,
         75,
         3.0,
         80,
         95,
         "Approved",
         0,
         2,
         20060114,
         4,
         0,
         null,
         "2023-04-24T18:13:17.103+0000",
         "dbfs:/FileStore/ds2002-lab06/source_data/stream/purchase_orders/Northwind_Fact_PurchaseOrders02.json"
        ],
        [
         2,
         "20060122",
         5,
         20060122,
         33,
         82,
         0,
         null,
         20060122,
         1,
         100,
         10.0,
         34,
         96,
         "Approved",
         0,
         5,
         20060114,
         1,
         0,
         null,
         "2023-04-24T18:13:17.103+0000",
         "dbfs:/FileStore/ds2002-lab06/source_data/stream/purchase_orders/Northwind_Fact_PurchaseOrders02.json"
        ],
        [
         2,
         "20060122",
         7,
         20060122,
         34,
         80,
         0,
         null,
         20060122,
         1,
         30,
         7.0,
         19,
         97,
         "Approved",
         0,
         7,
         20060114,
         2,
         0,
         null,
         "2023-04-24T18:13:17.103+0000",
         "dbfs:/FileStore/ds2002-lab06/source_data/stream/purchase_orders/Northwind_Fact_PurchaseOrders02.json"
        ],
        [
         2,
         "20060122",
         4,
         20060122,
         35,
         78,
         0,
         null,
         20060122,
         1,
         200,
         7.0,
         41,
         98,
         "Approved",
         0,
         4,
         20060114,
         2,
         0,
         null,
         "2023-04-24T18:13:17.103+0000",
         "dbfs:/FileStore/ds2002-lab06/source_data/stream/purchase_orders/Northwind_Fact_PurchaseOrders02.json"
        ],
        [
         2,
         "20060122",
         3,
         20060122,
         36,
         76,
         0,
         null,
         20060122,
         1,
         300,
         34.0,
         43,
         99,
         "Approved",
         0,
         3,
         20060114,
         1,
         0,
         null,
         "2023-04-24T18:13:17.103+0000",
         "dbfs:/FileStore/ds2002-lab06/source_data/stream/purchase_orders/Northwind_Fact_PurchaseOrders02.json"
        ],
        [
         2,
         "20060122",
         2,
         20060122,
         1,
         59,
         0,
         null,
         20060122,
         1,
         40,
         14.0,
         1,
         90,
         "Approved",
         0,
         2,
         20060114,
         1,
         0,
         null,
         "2023-04-24T18:13:17.103+0000",
         "dbfs:/FileStore/ds2002-lab06/source_data/stream/purchase_orders/Northwind_Fact_PurchaseOrders01.json"
        ],
        [
         2,
         "20060122",
         2,
         20060122,
         2,
         60,
         0,
         null,
         20060122,
         1,
         60,
         10.0,
         34,
         90,
         "Approved",
         0,
         2,
         20060114,
         1,
         0,
         null,
         "2023-04-24T18:13:17.103+0000",
         "dbfs:/FileStore/ds2002-lab06/source_data/stream/purchase_orders/Northwind_Fact_PurchaseOrders01.json"
        ],
        [
         2,
         "20060122",
         2,
         20060122,
         3,
         61,
         0,
         null,
         20060122,
         1,
         100,
         34.0,
         43,
         90,
         "Approved",
         0,
         2,
         20060114,
         1,
         0,
         null,
         "2023-04-24T18:13:17.103+0000",
         "dbfs:/FileStore/ds2002-lab06/source_data/stream/purchase_orders/Northwind_Fact_PurchaseOrders01.json"
        ],
        [
         2,
         "20060122",
         2,
         20060122,
         4,
         62,
         0,
         null,
         20060122,
         1,
         125,
         2.0,
         81,
         90,
         "Approved",
         0,
         2,
         20060114,
         1,
         0,
         null,
         "2023-04-24T18:13:17.103+0000",
         "dbfs:/FileStore/ds2002-lab06/source_data/stream/purchase_orders/Northwind_Fact_PurchaseOrders01.json"
        ],
        [
         2,
         "20060122",
         2,
         20060122,
         5,
         null,
         0,
         null,
         null,
         0,
         40,
         14.0,
         1,
         90,
         "Approved",
         0,
         2,
         20060114,
         1,
         0,
         null,
         "2023-04-24T18:13:17.103+0000",
         "dbfs:/FileStore/ds2002-lab06/source_data/stream/purchase_orders/Northwind_Fact_PurchaseOrders01.json"
        ],
        [
         2,
         "20060122",
         2,
         20060122,
         6,
         54,
         0,
         null,
         20060122,
         1,
         100,
         8.0,
         3,
         91,
         "Approved",
         0,
         2,
         20060114,
         3,
         0,
         null,
         "2023-04-24T18:13:17.103+0000",
         "dbfs:/FileStore/ds2002-lab06/source_data/stream/purchase_orders/Northwind_Fact_PurchaseOrders01.json"
        ],
        [
         2,
         "20060122",
         2,
         20060122,
         7,
         55,
         0,
         null,
         20060122,
         1,
         40,
         16.0,
         4,
         91,
         "Approved",
         0,
         2,
         20060114,
         3,
         0,
         null,
         "2023-04-24T18:13:17.103+0000",
         "dbfs:/FileStore/ds2002-lab06/source_data/stream/purchase_orders/Northwind_Fact_PurchaseOrders01.json"
        ],
        [
         2,
         "20060122",
         2,
         20060122,
         8,
         56,
         0,
         null,
         20060122,
         1,
         40,
         16.0,
         5,
         91,
         "Approved",
         0,
         2,
         20060114,
         3,
         0,
         null,
         "2023-04-24T18:13:17.103+0000",
         "dbfs:/FileStore/ds2002-lab06/source_data/stream/purchase_orders/Northwind_Fact_PurchaseOrders01.json"
        ],
        [
         2,
         "20060122",
         2,
         20060122,
         9,
         57,
         0,
         null,
         20060122,
         1,
         40,
         16.0,
         65,
         91,
         "Approved",
         0,
         2,
         20060114,
         3,
         0,
         null,
         "2023-04-24T18:13:17.103+0000",
         "dbfs:/FileStore/ds2002-lab06/source_data/stream/purchase_orders/Northwind_Fact_PurchaseOrders01.json"
        ],
        [
         2,
         "20060122",
         2,
         20060122,
         10,
         58,
         0,
         null,
         20060122,
         1,
         80,
         13.0,
         66,
         91,
         "Approved",
         0,
         2,
         20060114,
         3,
         0,
         null,
         "2023-04-24T18:13:17.103+0000",
         "dbfs:/FileStore/ds2002-lab06/source_data/stream/purchase_orders/Northwind_Fact_PurchaseOrders01.json"
        ],
        [
         2,
         "20060122",
         2,
         20060122,
         11,
         null,
         0,
         null,
         null,
         0,
         50,
         8.0,
         3,
         91,
         "Approved",
         0,
         2,
         20060114,
         3,
         0,
         null,
         "2023-04-24T18:13:17.103+0000",
         "dbfs:/FileStore/ds2002-lab06/source_data/stream/purchase_orders/Northwind_Fact_PurchaseOrders01.json"
        ],
        [
         2,
         "20060122",
         2,
         20060122,
         12,
         null,
         0,
         null,
         null,
         0,
         40,
         16.0,
         4,
         91,
         "Approved",
         0,
         2,
         20060114,
         3,
         0,
         null,
         "2023-04-24T18:13:17.103+0000",
         "dbfs:/FileStore/ds2002-lab06/source_data/stream/purchase_orders/Northwind_Fact_PurchaseOrders01.json"
        ],
        [
         2,
         "20060122",
         2,
         20060122,
         13,
         40,
         0,
         null,
         20060122,
         1,
         100,
         19.0,
         6,
         92,
         "Approved",
         0,
         2,
         20060114,
         2,
         0,
         null,
         "2023-04-24T18:13:17.103+0000",
         "dbfs:/FileStore/ds2002-lab06/source_data/stream/purchase_orders/Northwind_Fact_PurchaseOrders01.json"
        ],
        [
         2,
         "20060122",
         2,
         20060122,
         14,
         41,
         0,
         null,
         20060122,
         1,
         40,
         22.0,
         7,
         92,
         "Approved",
         0,
         2,
         20060114,
         2,
         0,
         null,
         "2023-04-24T18:13:17.103+0000",
         "dbfs:/FileStore/ds2002-lab06/source_data/stream/purchase_orders/Northwind_Fact_PurchaseOrders01.json"
        ],
        [
         2,
         "20060122",
         2,
         20060122,
         15,
         42,
         0,
         null,
         20060122,
         1,
         40,
         30.0,
         8,
         92,
         "Approved",
         0,
         2,
         20060114,
         2,
         0,
         null,
         "2023-04-24T18:13:17.103+0000",
         "dbfs:/FileStore/ds2002-lab06/source_data/stream/purchase_orders/Northwind_Fact_PurchaseOrders01.json"
        ],
        [
         2,
         "20060122",
         2,
         20060122,
         16,
         43,
         0,
         null,
         20060122,
         1,
         40,
         17.0,
         14,
         92,
         "Approved",
         0,
         2,
         20060114,
         2,
         0,
         null,
         "2023-04-24T18:13:17.103+0000",
         "dbfs:/FileStore/ds2002-lab06/source_data/stream/purchase_orders/Northwind_Fact_PurchaseOrders01.json"
        ],
        [
         2,
         "20060122",
         2,
         20060122,
         17,
         44,
         0,
         null,
         20060122,
         1,
         40,
         29.0,
         17,
         92,
         "Approved",
         0,
         2,
         20060114,
         2,
         0,
         null,
         "2023-04-24T18:13:17.103+0000",
         "dbfs:/FileStore/ds2002-lab06/source_data/stream/purchase_orders/Northwind_Fact_PurchaseOrders01.json"
        ],
        [
         2,
         "20060122",
         2,
         20060122,
         18,
         45,
         0,
         null,
         20060122,
         1,
         20,
         7.0,
         19,
         92,
         "Approved",
         0,
         2,
         20060114,
         2,
         0,
         null,
         "2023-04-24T18:13:17.103+0000",
         "dbfs:/FileStore/ds2002-lab06/source_data/stream/purchase_orders/Northwind_Fact_PurchaseOrders01.json"
        ]
       ],
       "datasetInfos": [],
       "dbfsResultPath": null,
       "isJsonSchema": true,
       "metadata": {},
       "overflow": false,
       "plotOptions": {
        "customPlotOptions": {},
        "displayType": "table",
        "pivotAggregation": null,
        "pivotColumns": null,
        "xColumns": null,
        "yColumns": null
       },
       "removedWidgets": [],
       "schema": [
        {
         "metadata": "{}",
         "name": "approved_by",
         "type": "\"long\""
        },
        {
         "metadata": "{}",
         "name": "approved_date_key",
         "type": "\"decimal(10,0)\""
        },
        {
         "metadata": "{}",
         "name": "created_by",
         "type": "\"long\""
        },
        {
         "metadata": "{}",
         "name": "creation_date_key",
         "type": "\"long\""
        },
        {
         "metadata": "{}",
         "name": "fact_purchase_order_key",
         "type": "\"long\""
        },
        {
         "metadata": "{}",
         "name": "inventory_key",
         "type": "\"long\""
        },
        {
         "metadata": "{}",
         "name": "payment_amount",
         "type": "\"long\""
        },
        {
         "metadata": "{}",
         "name": "payment_date",
         "type": "\"string\""
        },
        {
         "metadata": "{}",
         "name": "po_detail_date_received_key",
         "type": "\"long\""
        },
        {
         "metadata": "{}",
         "name": "po_detail_posted_to_inventory",
         "type": "\"long\""
        },
        {
         "metadata": "{}",
         "name": "po_detail_quantity",
         "type": "\"long\""
        },
        {
         "metadata": "{}",
         "name": "po_detail_unit_cost",
         "type": "\"double\""
        },
        {
         "metadata": "{}",
         "name": "product_key",
         "type": "\"long\""
        },
        {
         "metadata": "{}",
         "name": "purchase_order_key",
         "type": "\"long\""
        },
        {
         "metadata": "{}",
         "name": "purchase_order_status",
         "type": "\"string\""
        },
        {
         "metadata": "{}",
         "name": "shipping_fee",
         "type": "\"long\""
        },
        {
         "metadata": "{}",
         "name": "submitted_by",
         "type": "\"long\""
        },
        {
         "metadata": "{}",
         "name": "submitted_date_key",
         "type": "\"long\""
        },
        {
         "metadata": "{}",
         "name": "supplier_key",
         "type": "\"long\""
        },
        {
         "metadata": "{}",
         "name": "taxes",
         "type": "\"long\""
        },
        {
         "metadata": "{}",
         "name": "_rescued_data",
         "type": "\"string\""
        },
        {
         "metadata": "{}",
         "name": "receipt_time",
         "type": "\"timestamp\""
        },
        {
         "metadata": "{}",
         "name": "source_file",
         "type": "\"string\""
        }
       ],
       "type": "table"
      }
     },
     "output_type": "display_data"
    }
   ],
   "source": [
    "%sql\n",
    "SELECT * FROM purchase_orders_silver_tempview"
   ]
  },
  {
   "cell_type": "code",
   "execution_count": 0,
   "metadata": {
    "application/vnd.databricks.v1+cell": {
     "cellMetadata": {
      "byteLimit": 2048000,
      "implicitDf": true,
      "rowLimit": 10000
     },
     "inputWidgets": {},
     "nuid": "e6cf19c8-d178-461d-b10c-16ca87a2a882",
     "showTitle": false,
     "title": ""
    }
   },
   "outputs": [
    {
     "output_type": "display_data",
     "data": {
      "text/html": [
       "<style scoped>\n",
       "  .table-result-container {\n",
       "    max-height: 300px;\n",
       "    overflow: auto;\n",
       "  }\n",
       "  table, th, td {\n",
       "    border: 1px solid black;\n",
       "    border-collapse: collapse;\n",
       "  }\n",
       "  th, td {\n",
       "    padding: 5px;\n",
       "  }\n",
       "  th {\n",
       "    text-align: left;\n",
       "  }\n",
       "</style><div class='table-result-container'><table class='table-result'><thead style='background-color: white'><tr><th>col_name</th><th>data_type</th><th>comment</th></tr></thead><tbody><tr><td>approved_by</td><td>bigint</td><td>null</td></tr><tr><td>approved_date_key</td><td>decimal(10,0)</td><td>null</td></tr><tr><td>created_by</td><td>bigint</td><td>null</td></tr><tr><td>creation_date_key</td><td>bigint</td><td>null</td></tr><tr><td>fact_purchase_order_key</td><td>bigint</td><td>null</td></tr><tr><td>inventory_key</td><td>bigint</td><td>null</td></tr><tr><td>payment_amount</td><td>bigint</td><td>null</td></tr><tr><td>payment_date</td><td>string</td><td>null</td></tr><tr><td>po_detail_date_received_key</td><td>bigint</td><td>null</td></tr><tr><td>po_detail_posted_to_inventory</td><td>bigint</td><td>null</td></tr><tr><td>po_detail_quantity</td><td>bigint</td><td>null</td></tr><tr><td>po_detail_unit_cost</td><td>double</td><td>null</td></tr><tr><td>product_key</td><td>bigint</td><td>null</td></tr><tr><td>purchase_order_key</td><td>bigint</td><td>null</td></tr><tr><td>purchase_order_status</td><td>string</td><td>null</td></tr><tr><td>shipping_fee</td><td>bigint</td><td>null</td></tr><tr><td>submitted_by</td><td>bigint</td><td>null</td></tr><tr><td>submitted_date_key</td><td>bigint</td><td>null</td></tr><tr><td>supplier_key</td><td>bigint</td><td>null</td></tr><tr><td>taxes</td><td>bigint</td><td>null</td></tr><tr><td>_rescued_data</td><td>string</td><td>null</td></tr><tr><td>receipt_time</td><td>timestamp</td><td>null</td></tr><tr><td>source_file</td><td>string</td><td>null</td></tr></tbody></table></div>"
      ]
     },
     "metadata": {
      "application/vnd.databricks.v1+output": {
       "addedWidgets": {},
       "aggData": [],
       "aggError": "",
       "aggOverflow": false,
       "aggSchema": [],
       "aggSeriesLimitReached": false,
       "aggType": "",
       "arguments": {},
       "columnCustomDisplayInfos": {},
       "data": [
        [
         "approved_by",
         "bigint",
         null
        ],
        [
         "approved_date_key",
         "decimal(10,0)",
         null
        ],
        [
         "created_by",
         "bigint",
         null
        ],
        [
         "creation_date_key",
         "bigint",
         null
        ],
        [
         "fact_purchase_order_key",
         "bigint",
         null
        ],
        [
         "inventory_key",
         "bigint",
         null
        ],
        [
         "payment_amount",
         "bigint",
         null
        ],
        [
         "payment_date",
         "string",
         null
        ],
        [
         "po_detail_date_received_key",
         "bigint",
         null
        ],
        [
         "po_detail_posted_to_inventory",
         "bigint",
         null
        ],
        [
         "po_detail_quantity",
         "bigint",
         null
        ],
        [
         "po_detail_unit_cost",
         "double",
         null
        ],
        [
         "product_key",
         "bigint",
         null
        ],
        [
         "purchase_order_key",
         "bigint",
         null
        ],
        [
         "purchase_order_status",
         "string",
         null
        ],
        [
         "shipping_fee",
         "bigint",
         null
        ],
        [
         "submitted_by",
         "bigint",
         null
        ],
        [
         "submitted_date_key",
         "bigint",
         null
        ],
        [
         "supplier_key",
         "bigint",
         null
        ],
        [
         "taxes",
         "bigint",
         null
        ],
        [
         "_rescued_data",
         "string",
         null
        ],
        [
         "receipt_time",
         "timestamp",
         null
        ],
        [
         "source_file",
         "string",
         null
        ]
       ],
       "datasetInfos": [],
       "dbfsResultPath": null,
       "isJsonSchema": true,
       "metadata": {},
       "overflow": false,
       "plotOptions": {
        "customPlotOptions": {},
        "displayType": "table",
        "pivotAggregation": null,
        "pivotColumns": null,
        "xColumns": null,
        "yColumns": null
       },
       "removedWidgets": [],
       "schema": [
        {
         "metadata": "{\"comment\":\"name of the column\"}",
         "name": "col_name",
         "type": "\"string\""
        },
        {
         "metadata": "{\"comment\":\"data type of the column\"}",
         "name": "data_type",
         "type": "\"string\""
        },
        {
         "metadata": "{\"comment\":\"comment of the column\"}",
         "name": "comment",
         "type": "\"string\""
        }
       ],
       "type": "table"
      }
     },
     "output_type": "display_data"
    }
   ],
   "source": [
    "%sql\n",
    "DESCRIBE EXTENDED purchase_orders_silver_tempview"
   ]
  },
  {
   "cell_type": "code",
   "execution_count": 0,
   "metadata": {
    "application/vnd.databricks.v1+cell": {
     "cellMetadata": {
      "byteLimit": 2048000,
      "implicitDf": true,
      "rowLimit": 10000
     },
     "inputWidgets": {},
     "nuid": "7d20e510-7ba2-420f-bac9-47bf2ac9a7fd",
     "showTitle": false,
     "title": ""
    }
   },
   "outputs": [
    {
     "output_type": "display_data",
     "data": {
      "text/html": [
       "<style scoped>\n",
       "  .table-result-container {\n",
       "    max-height: 300px;\n",
       "    overflow: auto;\n",
       "  }\n",
       "  table, th, td {\n",
       "    border: 1px solid black;\n",
       "    border-collapse: collapse;\n",
       "  }\n",
       "  th, td {\n",
       "    padding: 5px;\n",
       "  }\n",
       "  th {\n",
       "    text-align: left;\n",
       "  }\n",
       "</style><div class='table-result-container'><table class='table-result'><thead style='background-color: white'><tr></tr></thead><tbody></tbody></table></div>"
      ]
     },
     "metadata": {
      "application/vnd.databricks.v1+output": {
       "addedWidgets": {},
       "aggData": [],
       "aggError": "",
       "aggOverflow": false,
       "aggSchema": [],
       "aggSeriesLimitReached": false,
       "aggType": "",
       "arguments": {},
       "columnCustomDisplayInfos": {},
       "data": [],
       "datasetInfos": [],
       "dbfsResultPath": null,
       "isJsonSchema": true,
       "metadata": {},
       "overflow": false,
       "plotOptions": {
        "customPlotOptions": {},
        "displayType": "table",
        "pivotAggregation": null,
        "pivotColumns": null,
        "xColumns": null,
        "yColumns": null
       },
       "removedWidgets": [],
       "schema": [],
       "type": "table"
      }
     },
     "output_type": "display_data"
    }
   ],
   "source": [
    "%sql\n",
    "-- Create a new Temporary View named \"purchase_orders_silver_tempview\" by selecting data from\n",
    "-- \"purchase_orders_silver_tempview\" and joining it to the Supplier, Product, Employee and Data dimension tables.\n",
    "-- Remember that the Date dimension can serve as a \"Role Playing\" dimension by being Joined upon multiple times.\n",
    "CREATE OR REPLACE TEMPORARY VIEW fact_purchase_orders_silver_tempview AS (\n",
    "  SELECT o.fact_purchase_order_key,\n",
    "      o.purchase_order_key,\n",
    "      o.supplier_key,\n",
    "      s.company AS supplier_company,\n",
    "      s.last_name AS supplier_last_name,\n",
    "      s.first_name AS supplier_first_name,\n",
    "      o.product_key,\n",
    "      p.product_code,\n",
    "      p.product_name,\n",
    "      o.submitted_date_key,\n",
    "      p.standard_cost AS product_standard_cost,\n",
    "      p.list_price AS product_list_price,\n",
    "      p.category AS product_category,\n",
    "      od.day_name_of_week AS order_day_name_of_week,\n",
    "      od.day_of_month AS order_day_of_month,\n",
    "      od.weekday_weekend AS order_weekday_weekend,\n",
    "      od.month_name AS order_month_name,\n",
    "      od.calendar_quarter AS order_quarter,\n",
    "      od.calendar_year AS order_year\n",
    "  FROM purchase_orders_silver_tempview AS o\n",
    "  INNER JOIN northwind_dlh.dim_product AS p\n",
    "  ON p.product_key = o.product_key\n",
    "  INNER JOIN northwind_dlh.dim_supplier AS s\n",
    "  ON s.supplier_key = o.supplier_key\n",
    "  LEFT OUTER JOIN northwind_dlh.dim_date AS od\n",
    "  ON od.date_key = o.submitted_date_key\n",
    ")"
   ]
  },
  {
   "cell_type": "code",
   "execution_count": 0,
   "metadata": {
    "application/vnd.databricks.v1+cell": {
     "cellMetadata": {
      "byteLimit": 2048000,
      "rowLimit": 10000
     },
     "inputWidgets": {},
     "nuid": "95519b99-c294-4b0b-9c24-f36383d8602a",
     "showTitle": false,
     "title": ""
    }
   },
   "outputs": [
    {
     "output_type": "stream",
     "name": "stdout",
     "output_type": "stream",
     "text": [
      "Out[54]: <pyspark.sql.streaming.query.StreamingQuery at 0x7f0dc0141580>"
     ]
    }
   ],
   "source": [
    "(spark.table(\"fact_purchase_orders_silver_tempview\")\n",
    "      .writeStream\n",
    "      .format(\"delta\")\n",
    "      .option(\"checkpointLocation\", f\"{purchase_orders_output_silver}/_checkpoint\")\n",
    "      .outputMode(\"append\")\n",
    "      .table(\"fact_purchase_orders_silver\"))"
   ]
  },
  {
   "cell_type": "code",
   "execution_count": 0,
   "metadata": {
    "application/vnd.databricks.v1+cell": {
     "cellMetadata": {
      "byteLimit": 2048000,
      "implicitDf": true,
      "rowLimit": 10000
     },
     "inputWidgets": {},
     "nuid": "f104d194-8005-4468-b57a-babc6cf11014",
     "showTitle": false,
     "title": ""
    }
   },
   "outputs": [
    {
     "output_type": "display_data",
     "data": {
      "text/html": [
       "<style scoped>\n",
       "  .table-result-container {\n",
       "    max-height: 300px;\n",
       "    overflow: auto;\n",
       "  }\n",
       "  table, th, td {\n",
       "    border: 1px solid black;\n",
       "    border-collapse: collapse;\n",
       "  }\n",
       "  th, td {\n",
       "    padding: 5px;\n",
       "  }\n",
       "  th {\n",
       "    text-align: left;\n",
       "  }\n",
       "</style><div class='table-result-container'><table class='table-result'><thead style='background-color: white'><tr><th>fact_purchase_order_key</th><th>purchase_order_key</th><th>supplier_key</th><th>supplier_company</th><th>supplier_last_name</th><th>supplier_first_name</th><th>product_key</th><th>product_code</th><th>product_name</th><th>submitted_date_key</th><th>product_standard_cost</th><th>product_list_price</th><th>product_category</th><th>order_day_name_of_week</th><th>order_day_of_month</th><th>order_weekday_weekend</th><th>order_month_name</th><th>order_quarter</th><th>order_year</th></tr></thead><tbody></tbody></table></div>"
      ]
     },
     "metadata": {
      "application/vnd.databricks.v1+output": {
       "addedWidgets": {},
       "aggData": [],
       "aggError": "",
       "aggOverflow": false,
       "aggSchema": [],
       "aggSeriesLimitReached": false,
       "aggType": "",
       "arguments": {},
       "columnCustomDisplayInfos": {},
       "data": [],
       "datasetInfos": [],
       "dbfsResultPath": null,
       "isJsonSchema": true,
       "metadata": {},
       "overflow": false,
       "plotOptions": {
        "customPlotOptions": {},
        "displayType": "table",
        "pivotAggregation": null,
        "pivotColumns": null,
        "xColumns": null,
        "yColumns": null
       },
       "removedWidgets": [],
       "schema": [
        {
         "metadata": "{}",
         "name": "fact_purchase_order_key",
         "type": "\"long\""
        },
        {
         "metadata": "{}",
         "name": "purchase_order_key",
         "type": "\"long\""
        },
        {
         "metadata": "{}",
         "name": "supplier_key",
         "type": "\"long\""
        },
        {
         "metadata": "{}",
         "name": "supplier_company",
         "type": "\"string\""
        },
        {
         "metadata": "{}",
         "name": "supplier_last_name",
         "type": "\"string\""
        },
        {
         "metadata": "{}",
         "name": "supplier_first_name",
         "type": "\"string\""
        },
        {
         "metadata": "{}",
         "name": "product_key",
         "type": "\"long\""
        },
        {
         "metadata": "{\"scale\":0}",
         "name": "product_code",
         "type": "\"string\""
        },
        {
         "metadata": "{\"scale\":0}",
         "name": "product_name",
         "type": "\"string\""
        },
        {
         "metadata": "{}",
         "name": "submitted_date_key",
         "type": "\"long\""
        },
        {
         "metadata": "{\"scale\":4}",
         "name": "product_standard_cost",
         "type": "\"decimal(19,4)\""
        },
        {
         "metadata": "{\"scale\":4}",
         "name": "product_list_price",
         "type": "\"decimal(19,4)\""
        },
        {
         "metadata": "{\"scale\":0}",
         "name": "product_category",
         "type": "\"string\""
        },
        {
         "metadata": "{\"scale\":0}",
         "name": "order_day_name_of_week",
         "type": "\"string\""
        },
        {
         "metadata": "{\"scale\":0}",
         "name": "order_day_of_month",
         "type": "\"integer\""
        },
        {
         "metadata": "{\"scale\":0}",
         "name": "order_weekday_weekend",
         "type": "\"string\""
        },
        {
         "metadata": "{\"scale\":0}",
         "name": "order_month_name",
         "type": "\"string\""
        },
        {
         "metadata": "{\"scale\":0}",
         "name": "order_quarter",
         "type": "\"integer\""
        },
        {
         "metadata": "{\"scale\":0}",
         "name": "order_year",
         "type": "\"integer\""
        }
       ],
       "type": "table"
      }
     },
     "output_type": "display_data"
    }
   ],
   "source": [
    "%sql\n",
    "SELECT * FROM fact_purchase_orders_silver"
   ]
  },
  {
   "cell_type": "code",
   "execution_count": 0,
   "metadata": {
    "application/vnd.databricks.v1+cell": {
     "cellMetadata": {
      "byteLimit": 2048000,
      "implicitDf": true,
      "rowLimit": 10000
     },
     "inputWidgets": {},
     "nuid": "bd525449-f99f-4fb2-b764-62efcf42ed92",
     "showTitle": false,
     "title": ""
    }
   },
   "outputs": [
    {
     "output_type": "display_data",
     "data": {
      "text/html": [
       "<style scoped>\n",
       "  .table-result-container {\n",
       "    max-height: 300px;\n",
       "    overflow: auto;\n",
       "  }\n",
       "  table, th, td {\n",
       "    border: 1px solid black;\n",
       "    border-collapse: collapse;\n",
       "  }\n",
       "  th, td {\n",
       "    padding: 5px;\n",
       "  }\n",
       "  th {\n",
       "    text-align: left;\n",
       "  }\n",
       "</style><div class='table-result-container'><table class='table-result'><thead style='background-color: white'><tr><th>col_name</th><th>data_type</th><th>comment</th></tr></thead><tbody><tr><td>fact_purchase_order_key</td><td>bigint</td><td>null</td></tr><tr><td>purchase_order_key</td><td>bigint</td><td>null</td></tr><tr><td>supplier_key</td><td>bigint</td><td>null</td></tr><tr><td>supplier_company</td><td>string</td><td>null</td></tr><tr><td>supplier_last_name</td><td>string</td><td>null</td></tr><tr><td>supplier_first_name</td><td>string</td><td>null</td></tr><tr><td>product_key</td><td>bigint</td><td>null</td></tr><tr><td>product_code</td><td>string</td><td>null</td></tr><tr><td>product_name</td><td>string</td><td>null</td></tr><tr><td>submitted_date_key</td><td>bigint</td><td>null</td></tr><tr><td>product_standard_cost</td><td>decimal(19,4)</td><td>null</td></tr><tr><td>product_list_price</td><td>decimal(19,4)</td><td>null</td></tr><tr><td>product_category</td><td>string</td><td>null</td></tr><tr><td>order_day_name_of_week</td><td>string</td><td>null</td></tr><tr><td>order_day_of_month</td><td>int</td><td>null</td></tr><tr><td>order_weekday_weekend</td><td>string</td><td>null</td></tr><tr><td>order_month_name</td><td>string</td><td>null</td></tr><tr><td>order_quarter</td><td>int</td><td>null</td></tr><tr><td>order_year</td><td>int</td><td>null</td></tr><tr><td></td><td></td><td></td></tr><tr><td># Detailed Table Information</td><td></td><td></td></tr><tr><td>Catalog</td><td>spark_catalog</td><td></td></tr><tr><td>Database</td><td>northwind_dlh</td><td></td></tr><tr><td>Table</td><td>fact_purchase_orders_silver</td><td></td></tr><tr><td>Type</td><td>MANAGED</td><td></td></tr><tr><td>Location</td><td>dbfs:/FileStore/ds2002-lab06/northwind_dlh/fact_purchase_orders_silver</td><td></td></tr><tr><td>Provider</td><td>delta</td><td></td></tr><tr><td>Owner</td><td>root</td><td></td></tr><tr><td>Is_managed_location</td><td>true</td><td></td></tr><tr><td>Table Properties</td><td>[delta.minReaderVersion=1,delta.minWriterVersion=2]</td><td></td></tr></tbody></table></div>"
      ]
     },
     "metadata": {
      "application/vnd.databricks.v1+output": {
       "addedWidgets": {},
       "aggData": [],
       "aggError": "",
       "aggOverflow": false,
       "aggSchema": [],
       "aggSeriesLimitReached": false,
       "aggType": "",
       "arguments": {},
       "columnCustomDisplayInfos": {},
       "data": [
        [
         "fact_purchase_order_key",
         "bigint",
         null
        ],
        [
         "purchase_order_key",
         "bigint",
         null
        ],
        [
         "supplier_key",
         "bigint",
         null
        ],
        [
         "supplier_company",
         "string",
         null
        ],
        [
         "supplier_last_name",
         "string",
         null
        ],
        [
         "supplier_first_name",
         "string",
         null
        ],
        [
         "product_key",
         "bigint",
         null
        ],
        [
         "product_code",
         "string",
         null
        ],
        [
         "product_name",
         "string",
         null
        ],
        [
         "submitted_date_key",
         "bigint",
         null
        ],
        [
         "product_standard_cost",
         "decimal(19,4)",
         null
        ],
        [
         "product_list_price",
         "decimal(19,4)",
         null
        ],
        [
         "product_category",
         "string",
         null
        ],
        [
         "order_day_name_of_week",
         "string",
         null
        ],
        [
         "order_day_of_month",
         "int",
         null
        ],
        [
         "order_weekday_weekend",
         "string",
         null
        ],
        [
         "order_month_name",
         "string",
         null
        ],
        [
         "order_quarter",
         "int",
         null
        ],
        [
         "order_year",
         "int",
         null
        ],
        [
         "",
         "",
         ""
        ],
        [
         "# Detailed Table Information",
         "",
         ""
        ],
        [
         "Catalog",
         "spark_catalog",
         ""
        ],
        [
         "Database",
         "northwind_dlh",
         ""
        ],
        [
         "Table",
         "fact_purchase_orders_silver",
         ""
        ],
        [
         "Type",
         "MANAGED",
         ""
        ],
        [
         "Location",
         "dbfs:/FileStore/ds2002-lab06/northwind_dlh/fact_purchase_orders_silver",
         ""
        ],
        [
         "Provider",
         "delta",
         ""
        ],
        [
         "Owner",
         "root",
         ""
        ],
        [
         "Is_managed_location",
         "true",
         ""
        ],
        [
         "Table Properties",
         "[delta.minReaderVersion=1,delta.minWriterVersion=2]",
         ""
        ]
       ],
       "datasetInfos": [],
       "dbfsResultPath": null,
       "isJsonSchema": true,
       "metadata": {},
       "overflow": false,
       "plotOptions": {
        "customPlotOptions": {},
        "displayType": "table",
        "pivotAggregation": null,
        "pivotColumns": null,
        "xColumns": null,
        "yColumns": null
       },
       "removedWidgets": [],
       "schema": [
        {
         "metadata": "{\"comment\":\"name of the column\"}",
         "name": "col_name",
         "type": "\"string\""
        },
        {
         "metadata": "{\"comment\":\"data type of the column\"}",
         "name": "data_type",
         "type": "\"string\""
        },
        {
         "metadata": "{\"comment\":\"comment of the column\"}",
         "name": "comment",
         "type": "\"string\""
        }
       ],
       "type": "table"
      }
     },
     "output_type": "display_data"
    }
   ],
   "source": [
    "%sql\n",
    "DESCRIBE EXTENDED fact_purchase_orders_silver"
   ]
  },
  {
   "cell_type": "markdown",
   "metadata": {
    "application/vnd.databricks.v1+cell": {
     "cellMetadata": {
      "byteLimit": 2048000,
      "rowLimit": 10000
     },
     "inputWidgets": {},
     "nuid": "d707a46f-7cf1-4a89-814b-2f473afd7cb3",
     "showTitle": false,
     "title": ""
    }
   },
   "source": [
    "##### 7.3. Gold Table: Perform Aggregations"
   ]
  },
  {
   "cell_type": "code",
   "execution_count": 0,
   "metadata": {
    "application/vnd.databricks.v1+cell": {
     "cellMetadata": {
      "byteLimit": 2048000,
      "implicitDf": true,
      "rowLimit": 10000
     },
     "inputWidgets": {},
     "nuid": "4589465a-fdcc-4cd1-b08f-b99a22319f4f",
     "showTitle": false,
     "title": ""
    }
   },
   "outputs": [
    {
     "output_type": "display_data",
     "data": {
      "text/html": [
       "<style scoped>\n",
       "  .table-result-container {\n",
       "    max-height: 300px;\n",
       "    overflow: auto;\n",
       "  }\n",
       "  table, th, td {\n",
       "    border: 1px solid black;\n",
       "    border-collapse: collapse;\n",
       "  }\n",
       "  th, td {\n",
       "    padding: 5px;\n",
       "  }\n",
       "  th {\n",
       "    text-align: left;\n",
       "  }\n",
       "</style><div class='table-result-container'><table class='table-result'><thead style='background-color: white'><tr><th>Supplier</th><th>Product</th><th>Total_List_Price</th></tr></thead><tbody><tr><td>Supplier B</td><td>Northwind Traders Marmalade</td><td>81.0000</td></tr><tr><td>Supplier B</td><td>Northwind Traders Dried Apples</td><td>53.0000</td></tr><tr><td>Supplier A</td><td>Northwind Traders Coffee</td><td>46.0000</td></tr><tr><td>Supplier B</td><td>Northwind Traders Curry Sauce</td><td>40.0000</td></tr><tr><td>Supplier B</td><td>Northwind Traders Fruit Cocktail</td><td>39.0000</td></tr><tr><td>Supplier E</td><td>Northwind Traders Gnocchi</td><td>38.0000</td></tr><tr><td>Supplier E</td><td>Northwind Traders Mozzarella</td><td>34.8000</td></tr><tr><td>Supplier F</td><td>Northwind Traders Mozzarella</td><td>34.8000</td></tr><tr><td>Supplier B</td><td>Northwind Traders Dried Pears</td><td>30.0000</td></tr><tr><td>Supplier H</td><td>Northwind Traders Boysenberry Spread</td><td>25.0000</td></tr><tr><td>Supplier B</td><td>Northwind Traders Boysenberry Spread</td><td>25.0000</td></tr><tr><td>Supplier B</td><td>Northwind Traders Walnuts</td><td>23.2500</td></tr><tr><td>Supplier C</td><td>Northwind Traders Cajun Seasoning</td><td>22.0000</td></tr><tr><td>Supplier C</td><td>Northwind Traders Olive Oil</td><td>21.3500</td></tr><tr><td>Supplier C</td><td>Northwind Traders Hot Pepper Sauce</td><td>21.0500</td></tr><tr><td>Supplier E</td><td>Northwind Traders Ravioli</td><td>19.5000</td></tr><tr><td>Supplier G</td><td>Northwind Traders Crab Meat</td><td>18.4000</td></tr><tr><td>Supplier B</td><td>Northwind Traders Crab Meat</td><td>18.4000</td></tr><tr><td>Supplier H</td><td>Northwind Traders Chai</td><td>18.0000</td></tr><tr><td>Supplier A</td><td>Northwind Traders Chai</td><td>18.0000</td></tr><tr><td>Supplier C</td><td>Northwind Traders Tomato Sauce</td><td>17.0000</td></tr><tr><td>Supplier A</td><td>Northwind Traders Beer</td><td>14.0000</td></tr><tr><td>Supplier B</td><td>Northwind Traders Mustard</td><td>13.0000</td></tr><tr><td>Supplier B</td><td>Northwind Traders Chocolate</td><td>12.7500</td></tr><tr><td>Supplier F</td><td>Northwind Traders Brownie Mix</td><td>12.4900</td></tr><tr><td>Supplier B</td><td>Northwind Traders Scones</td><td>10.0000</td></tr><tr><td>Supplier B</td><td>Northwind Traders Almonds</td><td>10.0000</td></tr><tr><td>Supplier C</td><td>Northwind Traders Syrup</td><td>10.0000</td></tr><tr><td>Supplier B</td><td>Northwind Traders Clam Chowder</td><td>9.6500</td></tr><tr><td>Supplier B</td><td>Northwind Traders Chocolate Biscuits Mix</td><td>9.2000</td></tr><tr><td>Supplier E</td><td>Northwind Traders Long Grain Rice</td><td>7.0000</td></tr><tr><td>Supplier D</td><td>Northwind Traders Dried Plums</td><td>3.5000</td></tr><tr><td>Supplier A</td><td>Northwind Traders Green Tea</td><td>2.9900</td></tr></tbody></table></div>"
      ]
     },
     "metadata": {
      "application/vnd.databricks.v1+output": {
       "addedWidgets": {},
       "aggData": [],
       "aggError": "",
       "aggOverflow": false,
       "aggSchema": [],
       "aggSeriesLimitReached": false,
       "aggType": "",
       "arguments": {},
       "columnCustomDisplayInfos": {},
       "data": [
        [
         "Supplier B",
         "Northwind Traders Marmalade",
         "81.0000"
        ],
        [
         "Supplier B",
         "Northwind Traders Dried Apples",
         "53.0000"
        ],
        [
         "Supplier A",
         "Northwind Traders Coffee",
         "46.0000"
        ],
        [
         "Supplier B",
         "Northwind Traders Curry Sauce",
         "40.0000"
        ],
        [
         "Supplier B",
         "Northwind Traders Fruit Cocktail",
         "39.0000"
        ],
        [
         "Supplier E",
         "Northwind Traders Gnocchi",
         "38.0000"
        ],
        [
         "Supplier E",
         "Northwind Traders Mozzarella",
         "34.8000"
        ],
        [
         "Supplier F",
         "Northwind Traders Mozzarella",
         "34.8000"
        ],
        [
         "Supplier B",
         "Northwind Traders Dried Pears",
         "30.0000"
        ],
        [
         "Supplier H",
         "Northwind Traders Boysenberry Spread",
         "25.0000"
        ],
        [
         "Supplier B",
         "Northwind Traders Boysenberry Spread",
         "25.0000"
        ],
        [
         "Supplier B",
         "Northwind Traders Walnuts",
         "23.2500"
        ],
        [
         "Supplier C",
         "Northwind Traders Cajun Seasoning",
         "22.0000"
        ],
        [
         "Supplier C",
         "Northwind Traders Olive Oil",
         "21.3500"
        ],
        [
         "Supplier C",
         "Northwind Traders Hot Pepper Sauce",
         "21.0500"
        ],
        [
         "Supplier E",
         "Northwind Traders Ravioli",
         "19.5000"
        ],
        [
         "Supplier G",
         "Northwind Traders Crab Meat",
         "18.4000"
        ],
        [
         "Supplier B",
         "Northwind Traders Crab Meat",
         "18.4000"
        ],
        [
         "Supplier H",
         "Northwind Traders Chai",
         "18.0000"
        ],
        [
         "Supplier A",
         "Northwind Traders Chai",
         "18.0000"
        ],
        [
         "Supplier C",
         "Northwind Traders Tomato Sauce",
         "17.0000"
        ],
        [
         "Supplier A",
         "Northwind Traders Beer",
         "14.0000"
        ],
        [
         "Supplier B",
         "Northwind Traders Mustard",
         "13.0000"
        ],
        [
         "Supplier B",
         "Northwind Traders Chocolate",
         "12.7500"
        ],
        [
         "Supplier F",
         "Northwind Traders Brownie Mix",
         "12.4900"
        ],
        [
         "Supplier B",
         "Northwind Traders Scones",
         "10.0000"
        ],
        [
         "Supplier B",
         "Northwind Traders Almonds",
         "10.0000"
        ],
        [
         "Supplier C",
         "Northwind Traders Syrup",
         "10.0000"
        ],
        [
         "Supplier B",
         "Northwind Traders Clam Chowder",
         "9.6500"
        ],
        [
         "Supplier B",
         "Northwind Traders Chocolate Biscuits Mix",
         "9.2000"
        ],
        [
         "Supplier E",
         "Northwind Traders Long Grain Rice",
         "7.0000"
        ],
        [
         "Supplier D",
         "Northwind Traders Dried Plums",
         "3.5000"
        ],
        [
         "Supplier A",
         "Northwind Traders Green Tea",
         "2.9900"
        ]
       ],
       "datasetInfos": [],
       "dbfsResultPath": null,
       "isJsonSchema": true,
       "metadata": {},
       "overflow": false,
       "plotOptions": {
        "customPlotOptions": {},
        "displayType": "table",
        "pivotAggregation": null,
        "pivotColumns": null,
        "xColumns": null,
        "yColumns": null
       },
       "removedWidgets": [],
       "schema": [
        {
         "metadata": "{}",
         "name": "Supplier",
         "type": "\"string\""
        },
        {
         "metadata": "{\"scale\":0}",
         "name": "Product",
         "type": "\"string\""
        },
        {
         "metadata": "{\"scale\":4}",
         "name": "Total_List_Price",
         "type": "\"decimal(19,4)\""
        }
       ],
       "type": "table"
      }
     },
     "output_type": "display_data"
    }
   ],
   "source": [
    "%sql\n",
    "-- Author a query that returns the Total List Price grouped by Supplier and Product and sorted by Total List Price descending.\n",
    "SELECT supplier_company AS Supplier\n",
    "  , product_name AS Product\n",
    "  , product_list_price AS Total_List_Price\n",
    "FROM northwind_dlh.fact_purchase_orders_silver\n",
    "GROUP BY Supplier, Product, Total_List_Price\n",
    "ORDER BY Total_List_Price DESC"
   ]
  },
  {
   "cell_type": "markdown",
   "metadata": {
    "application/vnd.databricks.v1+cell": {
     "cellMetadata": {
      "byteLimit": 2048000,
      "rowLimit": 10000
     },
     "inputWidgets": {},
     "nuid": "3d871224-85b8-47f4-b723-cf0b88840464",
     "showTitle": false,
     "title": ""
    }
   },
   "source": [
    "#### 8.0. Use AutoLoader to Process Streaming (Hot Path) Inventory Transactions Fact Data \n",
    "##### 8.1. Bronze Table: Process 'Raw' JSON Data"
   ]
  },
  {
   "cell_type": "code",
   "execution_count": 0,
   "metadata": {
    "application/vnd.databricks.v1+cell": {
     "cellMetadata": {
      "byteLimit": 2048000,
      "rowLimit": 10000
     },
     "inputWidgets": {},
     "nuid": "045ebc74-f39c-4f26-af1f-e73c91cdf944",
     "showTitle": false,
     "title": ""
    }
   },
   "outputs": [],
   "source": [
    "# Use spark.readStream and the AutoLoader to read in the JSON files in the \"inventory_trans_stream_dir\"\n",
    "# directory and then create a TempView named \"inventory_transactions_raw_tempview\".\n",
    "# Be sure to set the \"cloudFiles.schemaLocation\" Option using the \"inventory_trans_output_bronze\" directory\n",
    "(spark.readStream\n",
    " .format(\"cloudFiles\")\n",
    " .option(\"cloudFiles.format\", \"json\")\n",
    " .option(\"cloudFiles.schemaHints\", \"fact_inventory_transaction_key BIGINT\")\n",
    " .option(\"cloudFiles.schemaHints\", \"inventory_transaction_key BIGINT\")\n",
    " .option(\"cloudFiles.schemaHints\", \"product_key BIGINT\")\n",
    " .option(\"cloudFiles.schemaHints\", \"transaction_created_date_key DECIMAL\")\n",
    " .option(\"cloudFiles.schemaHints\", \"transaction_modified_date_key DECIMAL\")\n",
    " .option(\"cloudFiles.schemaHints\", \"inventory_transaction_type STRING\")\n",
    " .option(\"cloudFiles.schemaHints\", \"quantity DECIMAL\")\n",
    " .option(\"cloudFiles.schemaHints\", \"purchase_order_key BIGINT\")\n",
    " .option(\"cloudFiles.schemaHints\", \"order_key BIGINT\")\n",
    " .option(\"cloudFiles.schemaLocation\", inventory_trans_output_bronze)\n",
    " .option(\"cloudFiles.inferColumnTypes\", \"true\")\n",
    " .option(\"multiLine\", \"true\")\n",
    " .load(inventory_trans_stream_dir)\n",
    " .createOrReplaceTempView(\"inventory_transactions_raw_tempview\"))"
   ]
  },
  {
   "cell_type": "code",
   "execution_count": 0,
   "metadata": {
    "application/vnd.databricks.v1+cell": {
     "cellMetadata": {
      "byteLimit": 2048000,
      "implicitDf": true,
      "rowLimit": 10000
     },
     "inputWidgets": {},
     "nuid": "13f95bdd-ef5e-4a01-b59c-3d60ee9b2677",
     "showTitle": false,
     "title": ""
    }
   },
   "outputs": [
    {
     "output_type": "display_data",
     "data": {
      "text/html": [
       "<style scoped>\n",
       "  .table-result-container {\n",
       "    max-height: 300px;\n",
       "    overflow: auto;\n",
       "  }\n",
       "  table, th, td {\n",
       "    border: 1px solid black;\n",
       "    border-collapse: collapse;\n",
       "  }\n",
       "  th, td {\n",
       "    padding: 5px;\n",
       "  }\n",
       "  th {\n",
       "    text-align: left;\n",
       "  }\n",
       "</style><div class='table-result-container'><table class='table-result'><thead style='background-color: white'><tr></tr></thead><tbody></tbody></table></div>"
      ]
     },
     "metadata": {
      "application/vnd.databricks.v1+output": {
       "addedWidgets": {},
       "aggData": [],
       "aggError": "",
       "aggOverflow": false,
       "aggSchema": [],
       "aggSeriesLimitReached": false,
       "aggType": "",
       "arguments": {},
       "columnCustomDisplayInfos": {},
       "data": [],
       "datasetInfos": [],
       "dbfsResultPath": null,
       "isJsonSchema": true,
       "metadata": {},
       "overflow": false,
       "plotOptions": {
        "customPlotOptions": {},
        "displayType": "table",
        "pivotAggregation": null,
        "pivotColumns": null,
        "xColumns": null,
        "yColumns": null
       },
       "removedWidgets": [],
       "schema": [],
       "type": "table"
      }
     },
     "output_type": "display_data"
    }
   ],
   "source": [
    "%sql\n",
    "/* Add Metadata for Traceability */\n",
    "CREATE OR REPLACE TEMPORARY VIEW inventory_transactions_bronze_tempview AS (\n",
    "  SELECT *, current_timestamp() receipt_time, input_file_name() source_file\n",
    "  FROM inventory_transactions_raw_tempview\n",
    ")"
   ]
  },
  {
   "cell_type": "code",
   "execution_count": 0,
   "metadata": {
    "application/vnd.databricks.v1+cell": {
     "cellMetadata": {
      "byteLimit": 2048000,
      "implicitDf": true,
      "rowLimit": 10000
     },
     "inputWidgets": {},
     "nuid": "05db6c40-f3a6-4149-9431-c88ce472f65a",
     "showTitle": false,
     "title": ""
    }
   },
   "outputs": [
    {
     "output_type": "display_data",
     "data": {
      "text/html": [
       "<style scoped>\n",
       "  .table-result-container {\n",
       "    max-height: 300px;\n",
       "    overflow: auto;\n",
       "  }\n",
       "  table, th, td {\n",
       "    border: 1px solid black;\n",
       "    border-collapse: collapse;\n",
       "  }\n",
       "  th, td {\n",
       "    padding: 5px;\n",
       "  }\n",
       "  th {\n",
       "    text-align: left;\n",
       "  }\n",
       "</style><div class='table-result-container'><table class='table-result'><thead style='background-color: white'><tr><th>fact_inventory_transaction_key</th><th>inventory_transaction_key</th><th>inventory_transaction_type</th><th>order_key</th><th>product_key</th><th>purchase_order_key</th><th>quantity</th><th>transaction_created_date_key</th><th>transaction_modified_date_key</th><th>_rescued_data</th></tr></thead><tbody></tbody></table></div>"
      ]
     },
     "metadata": {
      "application/vnd.databricks.v1+output": {
       "addedWidgets": {},
       "aggData": [],
       "aggError": "",
       "aggOverflow": false,
       "aggSchema": [],
       "aggSeriesLimitReached": false,
       "aggType": "",
       "arguments": {},
       "columnCustomDisplayInfos": {},
       "data": [],
       "datasetInfos": [],
       "dbfsResultPath": null,
       "isJsonSchema": true,
       "metadata": {
        "isDbfsCommandResult": false
       },
       "overflow": false,
       "plotOptions": {
        "customPlotOptions": {},
        "displayType": "table",
        "pivotAggregation": null,
        "pivotColumns": null,
        "xColumns": null,
        "yColumns": null
       },
       "removedWidgets": [],
       "schema": [
        {
         "metadata": "{}",
         "name": "fact_inventory_transaction_key",
         "type": "\"long\""
        },
        {
         "metadata": "{}",
         "name": "inventory_transaction_key",
         "type": "\"long\""
        },
        {
         "metadata": "{}",
         "name": "inventory_transaction_type",
         "type": "\"string\""
        },
        {
         "metadata": "{}",
         "name": "order_key",
         "type": "\"long\""
        },
        {
         "metadata": "{}",
         "name": "product_key",
         "type": "\"long\""
        },
        {
         "metadata": "{}",
         "name": "purchase_order_key",
         "type": "\"string\""
        },
        {
         "metadata": "{}",
         "name": "quantity",
         "type": "\"long\""
        },
        {
         "metadata": "{}",
         "name": "transaction_created_date_key",
         "type": "\"long\""
        },
        {
         "metadata": "{}",
         "name": "transaction_modified_date_key",
         "type": "\"long\""
        },
        {
         "metadata": "{}",
         "name": "_rescued_data",
         "type": "\"string\""
        }
       ],
       "type": "table"
      }
     },
     "output_type": "display_data"
    }
   ],
   "source": [
    "%sql\n",
    "SELECT * FROM inventory_transactions_raw_tempview"
   ]
  },
  {
   "cell_type": "code",
   "execution_count": 0,
   "metadata": {
    "application/vnd.databricks.v1+cell": {
     "cellMetadata": {
      "byteLimit": 2048000,
      "rowLimit": 10000
     },
     "inputWidgets": {},
     "nuid": "ecdd97a8-3a53-4996-af65-ab1765da1589",
     "showTitle": false,
     "title": ""
    }
   },
   "outputs": [
    {
     "output_type": "stream",
     "name": "stdout",
     "output_type": "stream",
     "text": [
      "Out[61]: <pyspark.sql.streaming.query.StreamingQuery at 0x7f0db8774f40>"
     ]
    }
   ],
   "source": [
    "(spark.table(\"inventory_transactions_bronze_tempview\")\n",
    "     .writeStream\n",
    "     .format(\"delta\")\n",
    "     .option(\"checkpointLocation\", f\"{inventory_trans_output_bronze}/_checkpoint\")\n",
    "     .outputMode(\"append\")\n",
    "     .table(\"fact_inventory_transactions_bronze\"))"
   ]
  },
  {
   "cell_type": "markdown",
   "metadata": {
    "application/vnd.databricks.v1+cell": {
     "cellMetadata": {
      "byteLimit": 2048000,
      "rowLimit": 10000
     },
     "inputWidgets": {},
     "nuid": "3fc67185-6093-4216-8a3f-85a1b168cbc8",
     "showTitle": false,
     "title": ""
    }
   },
   "source": [
    "##### 8.2. Silver Table: Include Reference Data"
   ]
  },
  {
   "cell_type": "code",
   "execution_count": 0,
   "metadata": {
    "application/vnd.databricks.v1+cell": {
     "cellMetadata": {
      "byteLimit": 2048000,
      "rowLimit": 10000
     },
     "inputWidgets": {},
     "nuid": "e6e45489-6a37-4250-85bf-c8739f32fc0a",
     "showTitle": false,
     "title": ""
    }
   },
   "outputs": [],
   "source": [
    "(spark.readStream\n",
    "  .table(\"fact_inventory_transactions_bronze\")\n",
    "  .createOrReplaceTempView(\"inventory_transactions_silver_tempview\"))"
   ]
  },
  {
   "cell_type": "code",
   "execution_count": 0,
   "metadata": {
    "application/vnd.databricks.v1+cell": {
     "cellMetadata": {
      "byteLimit": 2048000,
      "implicitDf": true,
      "rowLimit": 10000
     },
     "inputWidgets": {},
     "nuid": "b3c72d37-3d06-4ce5-bf51-8da71c33781b",
     "showTitle": false,
     "title": ""
    }
   },
   "outputs": [
    {
     "output_type": "display_data",
     "data": {
      "text/html": [
       "<style scoped>\n",
       "  .table-result-container {\n",
       "    max-height: 300px;\n",
       "    overflow: auto;\n",
       "  }\n",
       "  table, th, td {\n",
       "    border: 1px solid black;\n",
       "    border-collapse: collapse;\n",
       "  }\n",
       "  th, td {\n",
       "    padding: 5px;\n",
       "  }\n",
       "  th {\n",
       "    text-align: left;\n",
       "  }\n",
       "</style><div class='table-result-container'><table class='table-result'><thead style='background-color: white'><tr><th>fact_inventory_transaction_key</th><th>inventory_transaction_key</th><th>inventory_transaction_type</th><th>order_key</th><th>product_key</th><th>purchase_order_key</th><th>quantity</th><th>transaction_created_date_key</th><th>transaction_modified_date_key</th><th>_rescued_data</th><th>receipt_time</th><th>source_file</th></tr></thead><tbody></tbody></table></div>"
      ]
     },
     "metadata": {
      "application/vnd.databricks.v1+output": {
       "addedWidgets": {},
       "aggData": [],
       "aggError": "",
       "aggOverflow": false,
       "aggSchema": [],
       "aggSeriesLimitReached": false,
       "aggType": "",
       "arguments": {},
       "columnCustomDisplayInfos": {},
       "data": [],
       "datasetInfos": [],
       "dbfsResultPath": null,
       "isJsonSchema": true,
       "metadata": {
        "isDbfsCommandResult": false
       },
       "overflow": false,
       "plotOptions": {
        "customPlotOptions": {},
        "displayType": "table",
        "pivotAggregation": null,
        "pivotColumns": null,
        "xColumns": null,
        "yColumns": null
       },
       "removedWidgets": [],
       "schema": [
        {
         "metadata": "{}",
         "name": "fact_inventory_transaction_key",
         "type": "\"long\""
        },
        {
         "metadata": "{}",
         "name": "inventory_transaction_key",
         "type": "\"long\""
        },
        {
         "metadata": "{}",
         "name": "inventory_transaction_type",
         "type": "\"string\""
        },
        {
         "metadata": "{}",
         "name": "order_key",
         "type": "\"long\""
        },
        {
         "metadata": "{}",
         "name": "product_key",
         "type": "\"long\""
        },
        {
         "metadata": "{}",
         "name": "purchase_order_key",
         "type": "\"string\""
        },
        {
         "metadata": "{}",
         "name": "quantity",
         "type": "\"long\""
        },
        {
         "metadata": "{}",
         "name": "transaction_created_date_key",
         "type": "\"long\""
        },
        {
         "metadata": "{}",
         "name": "transaction_modified_date_key",
         "type": "\"long\""
        },
        {
         "metadata": "{}",
         "name": "_rescued_data",
         "type": "\"string\""
        },
        {
         "metadata": "{}",
         "name": "receipt_time",
         "type": "\"timestamp\""
        },
        {
         "metadata": "{}",
         "name": "source_file",
         "type": "\"string\""
        }
       ],
       "type": "table"
      }
     },
     "output_type": "display_data"
    }
   ],
   "source": [
    "%sql\n",
    "SELECT * FROM inventory_transactions_silver_tempview"
   ]
  },
  {
   "cell_type": "code",
   "execution_count": 0,
   "metadata": {
    "application/vnd.databricks.v1+cell": {
     "cellMetadata": {
      "byteLimit": 2048000,
      "implicitDf": true,
      "rowLimit": 10000
     },
     "inputWidgets": {},
     "nuid": "3ded4ac4-c6de-4c9a-8dcd-b0b7568c2db5",
     "showTitle": false,
     "title": ""
    }
   },
   "outputs": [
    {
     "output_type": "display_data",
     "data": {
      "text/html": [
       "<style scoped>\n",
       "  .table-result-container {\n",
       "    max-height: 300px;\n",
       "    overflow: auto;\n",
       "  }\n",
       "  table, th, td {\n",
       "    border: 1px solid black;\n",
       "    border-collapse: collapse;\n",
       "  }\n",
       "  th, td {\n",
       "    padding: 5px;\n",
       "  }\n",
       "  th {\n",
       "    text-align: left;\n",
       "  }\n",
       "</style><div class='table-result-container'><table class='table-result'><thead style='background-color: white'><tr><th>col_name</th><th>data_type</th><th>comment</th></tr></thead><tbody><tr><td>fact_inventory_transaction_key</td><td>bigint</td><td>null</td></tr><tr><td>inventory_transaction_key</td><td>bigint</td><td>null</td></tr><tr><td>inventory_transaction_type</td><td>string</td><td>null</td></tr><tr><td>order_key</td><td>bigint</td><td>null</td></tr><tr><td>product_key</td><td>bigint</td><td>null</td></tr><tr><td>purchase_order_key</td><td>string</td><td>null</td></tr><tr><td>quantity</td><td>bigint</td><td>null</td></tr><tr><td>transaction_created_date_key</td><td>bigint</td><td>null</td></tr><tr><td>transaction_modified_date_key</td><td>bigint</td><td>null</td></tr><tr><td>_rescued_data</td><td>string</td><td>null</td></tr><tr><td>receipt_time</td><td>timestamp</td><td>null</td></tr><tr><td>source_file</td><td>string</td><td>null</td></tr></tbody></table></div>"
      ]
     },
     "metadata": {
      "application/vnd.databricks.v1+output": {
       "addedWidgets": {},
       "aggData": [],
       "aggError": "",
       "aggOverflow": false,
       "aggSchema": [],
       "aggSeriesLimitReached": false,
       "aggType": "",
       "arguments": {},
       "columnCustomDisplayInfos": {},
       "data": [
        [
         "fact_inventory_transaction_key",
         "bigint",
         null
        ],
        [
         "inventory_transaction_key",
         "bigint",
         null
        ],
        [
         "inventory_transaction_type",
         "string",
         null
        ],
        [
         "order_key",
         "bigint",
         null
        ],
        [
         "product_key",
         "bigint",
         null
        ],
        [
         "purchase_order_key",
         "string",
         null
        ],
        [
         "quantity",
         "bigint",
         null
        ],
        [
         "transaction_created_date_key",
         "bigint",
         null
        ],
        [
         "transaction_modified_date_key",
         "bigint",
         null
        ],
        [
         "_rescued_data",
         "string",
         null
        ],
        [
         "receipt_time",
         "timestamp",
         null
        ],
        [
         "source_file",
         "string",
         null
        ]
       ],
       "datasetInfos": [],
       "dbfsResultPath": null,
       "isJsonSchema": true,
       "metadata": {},
       "overflow": false,
       "plotOptions": {
        "customPlotOptions": {},
        "displayType": "table",
        "pivotAggregation": null,
        "pivotColumns": null,
        "xColumns": null,
        "yColumns": null
       },
       "removedWidgets": [],
       "schema": [
        {
         "metadata": "{\"comment\":\"name of the column\"}",
         "name": "col_name",
         "type": "\"string\""
        },
        {
         "metadata": "{\"comment\":\"data type of the column\"}",
         "name": "data_type",
         "type": "\"string\""
        },
        {
         "metadata": "{\"comment\":\"comment of the column\"}",
         "name": "comment",
         "type": "\"string\""
        }
       ],
       "type": "table"
      }
     },
     "output_type": "display_data"
    }
   ],
   "source": [
    "%sql\n",
    "DESCRIBE EXTENDED inventory_transactions_silver_tempview"
   ]
  },
  {
   "cell_type": "code",
   "execution_count": 0,
   "metadata": {
    "application/vnd.databricks.v1+cell": {
     "cellMetadata": {
      "byteLimit": 2048000,
      "implicitDf": true,
      "rowLimit": 10000
     },
     "inputWidgets": {},
     "nuid": "616be98c-9e78-4f25-ae89-957693d79662",
     "showTitle": false,
     "title": ""
    }
   },
   "outputs": [
    {
     "output_type": "display_data",
     "data": {
      "text/html": [
       "<style scoped>\n",
       "  .table-result-container {\n",
       "    max-height: 300px;\n",
       "    overflow: auto;\n",
       "  }\n",
       "  table, th, td {\n",
       "    border: 1px solid black;\n",
       "    border-collapse: collapse;\n",
       "  }\n",
       "  th, td {\n",
       "    padding: 5px;\n",
       "  }\n",
       "  th {\n",
       "    text-align: left;\n",
       "  }\n",
       "</style><div class='table-result-container'><table class='table-result'><thead style='background-color: white'><tr></tr></thead><tbody></tbody></table></div>"
      ]
     },
     "metadata": {
      "application/vnd.databricks.v1+output": {
       "addedWidgets": {},
       "aggData": [],
       "aggError": "",
       "aggOverflow": false,
       "aggSchema": [],
       "aggSeriesLimitReached": false,
       "aggType": "",
       "arguments": {},
       "columnCustomDisplayInfos": {},
       "data": [],
       "datasetInfos": [],
       "dbfsResultPath": null,
       "isJsonSchema": true,
       "metadata": {},
       "overflow": false,
       "plotOptions": {
        "customPlotOptions": {},
        "displayType": "table",
        "pivotAggregation": null,
        "pivotColumns": null,
        "xColumns": null,
        "yColumns": null
       },
       "removedWidgets": [],
       "schema": [],
       "type": "table"
      }
     },
     "output_type": "display_data"
    }
   ],
   "source": [
    "%sql\n",
    "-- Create a new Temporary View named \"fact_inventory_transactions_silver_tempview\" by selecting data from\n",
    "-- \"inventory_transactions_silver_tempview\" and joining it to the Product and Data dimension tables.\n",
    "-- Remember that the Date dimension can serve as a \"Role Playing\" dimension by being Joined upon multiple times.\n",
    "CREATE OR REPLACE TEMPORARY VIEW fact_inventory_transactions_silver_tempview AS (\n",
    "  SELECT o.fact_inventory_transaction_key,\n",
    "      o.inventory_transaction_key,\n",
    "      o.inventory_transaction_type,\n",
    "      o.product_key,\n",
    "      o.transaction_created_date_key,\n",
    "      o.quantity,\n",
    "      o.order_key,\n",
    "      p.product_code,\n",
    "      p.product_name,\n",
    "      p.standard_cost AS product_standard_cost,\n",
    "      p.list_price AS product_list_price,\n",
    "      p.category AS product_category,\n",
    "      od.day_name_of_week AS order_day_name_of_week,\n",
    "      od.day_of_month AS order_day_of_month,\n",
    "      od.weekday_weekend AS order_weekday_weekend,\n",
    "      od.month_name AS order_month_name,\n",
    "      od.calendar_quarter AS order_quarter,\n",
    "      od.calendar_year AS order_year\n",
    "  FROM inventory_transactions_silver_tempview AS o\n",
    "  INNER JOIN northwind_dlh.dim_product AS p\n",
    "  ON p.product_key = o.product_key\n",
    "  LEFT OUTER JOIN northwind_dlh.dim_date AS od\n",
    "  ON od.date_key = o.transaction_created_date_key\n",
    ")"
   ]
  },
  {
   "cell_type": "code",
   "execution_count": 0,
   "metadata": {
    "application/vnd.databricks.v1+cell": {
     "cellMetadata": {
      "byteLimit": 2048000,
      "rowLimit": 10000
     },
     "inputWidgets": {},
     "nuid": "b555412e-e498-4585-9e7b-e52c194e14a0",
     "showTitle": false,
     "title": ""
    }
   },
   "outputs": [
    {
     "output_type": "stream",
     "name": "stdout",
     "output_type": "stream",
     "text": [
      "Out[74]: <pyspark.sql.streaming.query.StreamingQuery at 0x7f0db8706610>"
     ]
    }
   ],
   "source": [
    "(spark.table(\"fact_inventory_transactions_silver_tempview\")\n",
    "      .writeStream\n",
    "      .format(\"delta\")\n",
    "      .option(\"checkpointLocation\", f\"{inventory_trans_output_silver}/_checkpoint\")\n",
    "      .outputMode(\"append\")\n",
    "      .table(\"fact_inventory_transactions_silver\"))"
   ]
  },
  {
   "cell_type": "code",
   "execution_count": 0,
   "metadata": {
    "application/vnd.databricks.v1+cell": {
     "cellMetadata": {
      "byteLimit": 2048000,
      "implicitDf": true,
      "rowLimit": 10000
     },
     "inputWidgets": {},
     "nuid": "e7db4b79-69f5-43f3-bdce-c4fb4c8b2176",
     "showTitle": false,
     "title": ""
    }
   },
   "outputs": [
    {
     "output_type": "display_data",
     "data": {
      "text/html": [
       "<style scoped>\n",
       "  .table-result-container {\n",
       "    max-height: 300px;\n",
       "    overflow: auto;\n",
       "  }\n",
       "  table, th, td {\n",
       "    border: 1px solid black;\n",
       "    border-collapse: collapse;\n",
       "  }\n",
       "  th, td {\n",
       "    padding: 5px;\n",
       "  }\n",
       "  th {\n",
       "    text-align: left;\n",
       "  }\n",
       "</style><div class='table-result-container'><table class='table-result'><thead style='background-color: white'><tr><th>fact_inventory_transaction_key</th><th>inventory_transaction_key</th><th>inventory_transaction_type</th><th>product_key</th><th>transaction_created_date_key</th><th>quantity</th><th>order_key</th><th>product_code</th><th>product_name</th><th>product_standard_cost</th><th>product_list_price</th><th>product_category</th><th>order_day_name_of_week</th><th>order_day_of_month</th><th>order_weekday_weekend</th><th>order_month_name</th><th>order_quarter</th><th>order_year</th></tr></thead><tbody><tr><td>1</td><td>35</td><td>Purchased</td><td>80</td><td>20060322</td><td>75</td><td>null</td><td>NWTDFN-80</td><td>Northwind Traders Dried Plums</td><td>3.0000</td><td>3.5000</td><td>Dried Fruit & Nuts</td><td>Wednesday</td><td>22</td><td>Weekday</td><td>March</td><td>1</td><td>2006</td></tr><tr><td>2</td><td>36</td><td>Purchased</td><td>72</td><td>20060322</td><td>40</td><td>null</td><td>NWTD-72</td><td>Northwind Traders Mozzarella</td><td>26.1000</td><td>34.8000</td><td>Dairy products</td><td>Wednesday</td><td>22</td><td>Weekday</td><td>March</td><td>1</td><td>2006</td></tr><tr><td>3</td><td>37</td><td>Purchased</td><td>52</td><td>20060322</td><td>100</td><td>null</td><td>NWTG-52</td><td>Northwind Traders Long Grain Rice</td><td>5.2500</td><td>7.0000</td><td>Grains</td><td>Wednesday</td><td>22</td><td>Weekday</td><td>March</td><td>1</td><td>2006</td></tr><tr><td>4</td><td>38</td><td>Purchased</td><td>56</td><td>20060322</td><td>120</td><td>null</td><td>NWTP-56</td><td>Northwind Traders Gnocchi</td><td>28.5000</td><td>38.0000</td><td>Pasta</td><td>Wednesday</td><td>22</td><td>Weekday</td><td>March</td><td>1</td><td>2006</td></tr><tr><td>5</td><td>39</td><td>Purchased</td><td>57</td><td>20060322</td><td>80</td><td>null</td><td>NWTP-57</td><td>Northwind Traders Ravioli</td><td>14.6250</td><td>19.5000</td><td>Pasta</td><td>Wednesday</td><td>22</td><td>Weekday</td><td>March</td><td>1</td><td>2006</td></tr><tr><td>6</td><td>40</td><td>Purchased</td><td>6</td><td>20060322</td><td>100</td><td>null</td><td>NWTJP-6</td><td>Northwind Traders Boysenberry Spread</td><td>18.7500</td><td>25.0000</td><td>Jams, Preserves</td><td>Wednesday</td><td>22</td><td>Weekday</td><td>March</td><td>1</td><td>2006</td></tr><tr><td>7</td><td>41</td><td>Purchased</td><td>7</td><td>20060322</td><td>40</td><td>null</td><td>NWTDFN-7</td><td>Northwind Traders Dried Pears</td><td>22.5000</td><td>30.0000</td><td>Dried Fruit & Nuts</td><td>Wednesday</td><td>22</td><td>Weekday</td><td>March</td><td>1</td><td>2006</td></tr><tr><td>8</td><td>42</td><td>Purchased</td><td>8</td><td>20060322</td><td>40</td><td>null</td><td>NWTS-8</td><td>Northwind Traders Curry Sauce</td><td>30.0000</td><td>40.0000</td><td>Sauces</td><td>Wednesday</td><td>22</td><td>Weekday</td><td>March</td><td>1</td><td>2006</td></tr><tr><td>9</td><td>43</td><td>Purchased</td><td>14</td><td>20060322</td><td>40</td><td>null</td><td>NWTDFN-14</td><td>Northwind Traders Walnuts</td><td>17.4375</td><td>23.2500</td><td>Dried Fruit & Nuts</td><td>Wednesday</td><td>22</td><td>Weekday</td><td>March</td><td>1</td><td>2006</td></tr><tr><td>10</td><td>44</td><td>Purchased</td><td>17</td><td>20060322</td><td>40</td><td>null</td><td>NWTCFV-17</td><td>Northwind Traders Fruit Cocktail</td><td>29.2500</td><td>39.0000</td><td>Canned Fruit & Vegetables</td><td>Wednesday</td><td>22</td><td>Weekday</td><td>March</td><td>1</td><td>2006</td></tr><tr><td>11</td><td>45</td><td>Purchased</td><td>19</td><td>20060322</td><td>20</td><td>null</td><td>NWTBGM-19</td><td>Northwind Traders Chocolate Biscuits Mix</td><td>6.9000</td><td>9.2000</td><td>Baked Goods & Mixes</td><td>Wednesday</td><td>22</td><td>Weekday</td><td>March</td><td>1</td><td>2006</td></tr><tr><td>12</td><td>46</td><td>Purchased</td><td>20</td><td>20060322</td><td>40</td><td>null</td><td>NWTJP-6</td><td>Northwind Traders Marmalade</td><td>60.7500</td><td>81.0000</td><td>Jams, Preserves</td><td>Wednesday</td><td>22</td><td>Weekday</td><td>March</td><td>1</td><td>2006</td></tr><tr><td>13</td><td>47</td><td>Purchased</td><td>21</td><td>20060322</td><td>20</td><td>null</td><td>NWTBGM-21</td><td>Northwind Traders Scones</td><td>7.5000</td><td>10.0000</td><td>Baked Goods & Mixes</td><td>Wednesday</td><td>22</td><td>Weekday</td><td>March</td><td>1</td><td>2006</td></tr><tr><td>14</td><td>48</td><td>Purchased</td><td>40</td><td>20060322</td><td>120</td><td>null</td><td>NWTCM-40</td><td>Northwind Traders Crab Meat</td><td>13.8000</td><td>18.4000</td><td>Canned Meat</td><td>Wednesday</td><td>22</td><td>Weekday</td><td>March</td><td>1</td><td>2006</td></tr><tr><td>15</td><td>49</td><td>Purchased</td><td>41</td><td>20060322</td><td>40</td><td>null</td><td>NWTSO-41</td><td>Northwind Traders Clam Chowder</td><td>7.2375</td><td>9.6500</td><td>Soups</td><td>Wednesday</td><td>22</td><td>Weekday</td><td>March</td><td>1</td><td>2006</td></tr><tr><td>16</td><td>50</td><td>Purchased</td><td>48</td><td>20060322</td><td>100</td><td>null</td><td>NWTCA-48</td><td>Northwind Traders Chocolate</td><td>9.5625</td><td>12.7500</td><td>Candy</td><td>Wednesday</td><td>22</td><td>Weekday</td><td>March</td><td>1</td><td>2006</td></tr><tr><td>17</td><td>51</td><td>Purchased</td><td>51</td><td>20060322</td><td>40</td><td>null</td><td>NWTDFN-51</td><td>Northwind Traders Dried Apples</td><td>39.7500</td><td>53.0000</td><td>Dried Fruit & Nuts</td><td>Wednesday</td><td>22</td><td>Weekday</td><td>March</td><td>1</td><td>2006</td></tr><tr><td>18</td><td>52</td><td>Purchased</td><td>74</td><td>20060322</td><td>20</td><td>null</td><td>NWTDFN-74</td><td>Northwind Traders Almonds</td><td>7.5000</td><td>10.0000</td><td>Dried Fruit & Nuts</td><td>Wednesday</td><td>22</td><td>Weekday</td><td>March</td><td>1</td><td>2006</td></tr><tr><td>19</td><td>53</td><td>Purchased</td><td>77</td><td>20060322</td><td>60</td><td>null</td><td>NWTCO-77</td><td>Northwind Traders Mustard</td><td>9.7500</td><td>13.0000</td><td>Condiments</td><td>Wednesday</td><td>22</td><td>Weekday</td><td>March</td><td>1</td><td>2006</td></tr><tr><td>20</td><td>54</td><td>Purchased</td><td>3</td><td>20060322</td><td>100</td><td>null</td><td>NWTCO-3</td><td>Northwind Traders Syrup</td><td>7.5000</td><td>10.0000</td><td>Condiments</td><td>Wednesday</td><td>22</td><td>Weekday</td><td>March</td><td>1</td><td>2006</td></tr><tr><td>21</td><td>55</td><td>Purchased</td><td>4</td><td>20060322</td><td>40</td><td>null</td><td>NWTCO-4</td><td>Northwind Traders Cajun Seasoning</td><td>16.5000</td><td>22.0000</td><td>Condiments</td><td>Wednesday</td><td>22</td><td>Weekday</td><td>March</td><td>1</td><td>2006</td></tr><tr><td>22</td><td>56</td><td>Purchased</td><td>5</td><td>20060322</td><td>40</td><td>null</td><td>NWTO-5</td><td>Northwind Traders Olive Oil</td><td>16.0125</td><td>21.3500</td><td>Oil</td><td>Wednesday</td><td>22</td><td>Weekday</td><td>March</td><td>1</td><td>2006</td></tr><tr><td>23</td><td>57</td><td>Purchased</td><td>65</td><td>20060322</td><td>40</td><td>null</td><td>NWTS-65</td><td>Northwind Traders Hot Pepper Sauce</td><td>15.7875</td><td>21.0500</td><td>Sauces</td><td>Wednesday</td><td>22</td><td>Weekday</td><td>March</td><td>1</td><td>2006</td></tr><tr><td>24</td><td>58</td><td>Purchased</td><td>66</td><td>20060322</td><td>80</td><td>null</td><td>NWTS-66</td><td>Northwind Traders Tomato Sauce</td><td>12.7500</td><td>17.0000</td><td>Sauces</td><td>Wednesday</td><td>22</td><td>Weekday</td><td>March</td><td>1</td><td>2006</td></tr><tr><td>25</td><td>59</td><td>Purchased</td><td>1</td><td>20060322</td><td>40</td><td>null</td><td>NWTB-1</td><td>Northwind Traders Chai</td><td>13.5000</td><td>18.0000</td><td>Beverages</td><td>Wednesday</td><td>22</td><td>Weekday</td><td>March</td><td>1</td><td>2006</td></tr><tr><td>26</td><td>60</td><td>Purchased</td><td>34</td><td>20060322</td><td>60</td><td>null</td><td>NWTB-34</td><td>Northwind Traders Beer</td><td>10.5000</td><td>14.0000</td><td>Beverages</td><td>Wednesday</td><td>22</td><td>Weekday</td><td>March</td><td>1</td><td>2006</td></tr><tr><td>27</td><td>61</td><td>Purchased</td><td>43</td><td>20060322</td><td>100</td><td>null</td><td>NWTB-43</td><td>Northwind Traders Coffee</td><td>34.5000</td><td>46.0000</td><td>Beverages</td><td>Wednesday</td><td>22</td><td>Weekday</td><td>March</td><td>1</td><td>2006</td></tr><tr><td>28</td><td>62</td><td>Purchased</td><td>81</td><td>20060322</td><td>125</td><td>null</td><td>NWTB-81</td><td>Northwind Traders Green Tea</td><td>2.0000</td><td>2.9900</td><td>Beverages</td><td>Wednesday</td><td>22</td><td>Weekday</td><td>March</td><td>1</td><td>2006</td></tr><tr><td>29</td><td>72</td><td>Purchased</td><td>81</td><td>20060324</td><td>200</td><td>null</td><td>NWTB-81</td><td>Northwind Traders Green Tea</td><td>2.0000</td><td>2.9900</td><td>Beverages</td><td>Friday</td><td>24</td><td>Weekday</td><td>March</td><td>1</td><td>2006</td></tr><tr><td>30</td><td>74</td><td>Purchased</td><td>48</td><td>20060324</td><td>100</td><td>null</td><td>NWTCA-48</td><td>Northwind Traders Chocolate</td><td>9.5625</td><td>12.7500</td><td>Candy</td><td>Friday</td><td>24</td><td>Weekday</td><td>March</td><td>1</td><td>2006</td></tr><tr><td>31</td><td>76</td><td>Purchased</td><td>43</td><td>20060324</td><td>300</td><td>null</td><td>NWTB-43</td><td>Northwind Traders Coffee</td><td>34.5000</td><td>46.0000</td><td>Beverages</td><td>Friday</td><td>24</td><td>Weekday</td><td>March</td><td>1</td><td>2006</td></tr><tr><td>32</td><td>78</td><td>Purchased</td><td>41</td><td>20060324</td><td>200</td><td>null</td><td>NWTSO-41</td><td>Northwind Traders Clam Chowder</td><td>7.2375</td><td>9.6500</td><td>Soups</td><td>Friday</td><td>24</td><td>Weekday</td><td>March</td><td>1</td><td>2006</td></tr><tr><td>33</td><td>80</td><td>Purchased</td><td>19</td><td>20060324</td><td>30</td><td>null</td><td>NWTBGM-19</td><td>Northwind Traders Chocolate Biscuits Mix</td><td>6.9000</td><td>9.2000</td><td>Baked Goods & Mixes</td><td>Friday</td><td>24</td><td>Weekday</td><td>March</td><td>1</td><td>2006</td></tr><tr><td>34</td><td>82</td><td>Purchased</td><td>34</td><td>20060324</td><td>100</td><td>null</td><td>NWTB-34</td><td>Northwind Traders Beer</td><td>10.5000</td><td>14.0000</td><td>Beverages</td><td>Friday</td><td>24</td><td>Weekday</td><td>March</td><td>1</td><td>2006</td></tr><tr><td>93</td><td>86</td><td>On Hold</td><td>80</td><td>20060324</td><td>20</td><td>null</td><td>NWTDFN-80</td><td>Northwind Traders Dried Plums</td><td>3.0000</td><td>3.5000</td><td>Dried Fruit & Nuts</td><td>Friday</td><td>24</td><td>Weekday</td><td>March</td><td>1</td><td>2006</td></tr><tr><td>94</td><td>87</td><td>On Hold</td><td>81</td><td>20060324</td><td>50</td><td>null</td><td>NWTB-81</td><td>Northwind Traders Green Tea</td><td>2.0000</td><td>2.9900</td><td>Beverages</td><td>Friday</td><td>24</td><td>Weekday</td><td>March</td><td>1</td><td>2006</td></tr><tr><td>95</td><td>88</td><td>On Hold</td><td>1</td><td>20060324</td><td>25</td><td>null</td><td>NWTB-1</td><td>Northwind Traders Chai</td><td>13.5000</td><td>18.0000</td><td>Beverages</td><td>Friday</td><td>24</td><td>Weekday</td><td>March</td><td>1</td><td>2006</td></tr><tr><td>96</td><td>89</td><td>On Hold</td><td>43</td><td>20060324</td><td>25</td><td>null</td><td>NWTB-43</td><td>Northwind Traders Coffee</td><td>34.5000</td><td>46.0000</td><td>Beverages</td><td>Friday</td><td>24</td><td>Weekday</td><td>March</td><td>1</td><td>2006</td></tr><tr><td>97</td><td>90</td><td>On Hold</td><td>81</td><td>20060324</td><td>25</td><td>null</td><td>NWTB-81</td><td>Northwind Traders Green Tea</td><td>2.0000</td><td>2.9900</td><td>Beverages</td><td>Friday</td><td>24</td><td>Weekday</td><td>March</td><td>1</td><td>2006</td></tr><tr><td>98</td><td>96</td><td>On Hold</td><td>34</td><td>20060330</td><td>12</td><td>null</td><td>NWTB-34</td><td>Northwind Traders Beer</td><td>10.5000</td><td>14.0000</td><td>Beverages</td><td>Thursday</td><td>30</td><td>Weekday</td><td>March</td><td>1</td><td>2006</td></tr><tr><td>99</td><td>97</td><td>On Hold</td><td>34</td><td>20060330</td><td>10</td><td>null</td><td>NWTB-34</td><td>Northwind Traders Beer</td><td>10.5000</td><td>14.0000</td><td>Beverages</td><td>Thursday</td><td>30</td><td>Weekday</td><td>March</td><td>1</td><td>2006</td></tr><tr><td>100</td><td>98</td><td>On Hold</td><td>34</td><td>20060330</td><td>1</td><td>null</td><td>NWTB-34</td><td>Northwind Traders Beer</td><td>10.5000</td><td>14.0000</td><td>Beverages</td><td>Thursday</td><td>30</td><td>Weekday</td><td>March</td><td>1</td><td>2006</td></tr><tr><td>101</td><td>104</td><td>On Hold</td><td>43</td><td>20060404</td><td>300</td><td>null</td><td>NWTB-43</td><td>Northwind Traders Coffee</td><td>34.5000</td><td>46.0000</td><td>Beverages</td><td>Tuesday</td><td>4</td><td>Weekday</td><td>April</td><td>2</td><td>2006</td></tr><tr><td>68</td><td>106</td><td>Sold</td><td>8</td><td>20060404</td><td>25</td><td>null</td><td>NWTS-8</td><td>Northwind Traders Curry Sauce</td><td>30.0000</td><td>40.0000</td><td>Sauces</td><td>Tuesday</td><td>4</td><td>Weekday</td><td>April</td><td>2</td><td>2006</td></tr><tr><td>69</td><td>108</td><td>Sold</td><td>34</td><td>20060404</td><td>300</td><td>null</td><td>NWTB-34</td><td>Northwind Traders Beer</td><td>10.5000</td><td>14.0000</td><td>Beverages</td><td>Tuesday</td><td>4</td><td>Weekday</td><td>April</td><td>2</td><td>2006</td></tr><tr><td>70</td><td>110</td><td>Sold</td><td>19</td><td>20060404</td><td>10</td><td>null</td><td>NWTBGM-19</td><td>Northwind Traders Chocolate Biscuits Mix</td><td>6.9000</td><td>9.2000</td><td>Baked Goods & Mixes</td><td>Tuesday</td><td>4</td><td>Weekday</td><td>April</td><td>2</td><td>2006</td></tr><tr><td>71</td><td>112</td><td>Sold</td><td>19</td><td>20060404</td><td>25</td><td>null</td><td>NWTBGM-19</td><td>Northwind Traders Chocolate Biscuits Mix</td><td>6.9000</td><td>9.2000</td><td>Baked Goods & Mixes</td><td>Tuesday</td><td>4</td><td>Weekday</td><td>April</td><td>2</td><td>2006</td></tr><tr><td>72</td><td>114</td><td>Sold</td><td>72</td><td>20060404</td><td>50</td><td>null</td><td>NWTD-72</td><td>Northwind Traders Mozzarella</td><td>26.1000</td><td>34.8000</td><td>Dairy products</td><td>Tuesday</td><td>4</td><td>Weekday</td><td>April</td><td>2</td><td>2006</td></tr><tr><td>73</td><td>116</td><td>Sold</td><td>41</td><td>20060404</td><td>50</td><td>null</td><td>NWTSO-41</td><td>Northwind Traders Clam Chowder</td><td>7.2375</td><td>9.6500</td><td>Soups</td><td>Tuesday</td><td>4</td><td>Weekday</td><td>April</td><td>2</td><td>2006</td></tr><tr><td>74</td><td>117</td><td>Sold</td><td>34</td><td>20060404</td><td>87</td><td>null</td><td>NWTB-34</td><td>Northwind Traders Beer</td><td>10.5000</td><td>14.0000</td><td>Beverages</td><td>Tuesday</td><td>4</td><td>Weekday</td><td>April</td><td>2</td><td>2006</td></tr><tr><td>75</td><td>118</td><td>Sold</td><td>51</td><td>20060404</td><td>30</td><td>null</td><td>NWTDFN-51</td><td>Northwind Traders Dried Apples</td><td>39.7500</td><td>53.0000</td><td>Dried Fruit & Nuts</td><td>Tuesday</td><td>4</td><td>Weekday</td><td>April</td><td>2</td><td>2006</td></tr><tr><td>76</td><td>119</td><td>Sold</td><td>7</td><td>20060404</td><td>30</td><td>null</td><td>NWTDFN-7</td><td>Northwind Traders Dried Pears</td><td>22.5000</td><td>30.0000</td><td>Dried Fruit & Nuts</td><td>Tuesday</td><td>4</td><td>Weekday</td><td>April</td><td>2</td><td>2006</td></tr><tr><td>77</td><td>120</td><td>Sold</td><td>17</td><td>20060404</td><td>40</td><td>null</td><td>NWTCFV-17</td><td>Northwind Traders Fruit Cocktail</td><td>29.2500</td><td>39.0000</td><td>Canned Fruit & Vegetables</td><td>Tuesday</td><td>4</td><td>Weekday</td><td>April</td><td>2</td><td>2006</td></tr><tr><td>78</td><td>121</td><td>Sold</td><td>6</td><td>20060404</td><td>90</td><td>null</td><td>NWTJP-6</td><td>Northwind Traders Boysenberry Spread</td><td>18.7500</td><td>25.0000</td><td>Jams, Preserves</td><td>Tuesday</td><td>4</td><td>Weekday</td><td>April</td><td>2</td><td>2006</td></tr><tr><td>79</td><td>122</td><td>Sold</td><td>4</td><td>20060404</td><td>30</td><td>null</td><td>NWTCO-4</td><td>Northwind Traders Cajun Seasoning</td><td>16.5000</td><td>22.0000</td><td>Condiments</td><td>Tuesday</td><td>4</td><td>Weekday</td><td>April</td><td>2</td><td>2006</td></tr><tr><td>80</td><td>123</td><td>Sold</td><td>48</td><td>20060404</td><td>40</td><td>null</td><td>NWTCA-48</td><td>Northwind Traders Chocolate</td><td>9.5625</td><td>12.7500</td><td>Candy</td><td>Tuesday</td><td>4</td><td>Weekday</td><td>April</td><td>2</td><td>2006</td></tr><tr><td>81</td><td>124</td><td>Sold</td><td>48</td><td>20060404</td><td>40</td><td>null</td><td>NWTCA-48</td><td>Northwind Traders Chocolate</td><td>9.5625</td><td>12.7500</td><td>Candy</td><td>Tuesday</td><td>4</td><td>Weekday</td><td>April</td><td>2</td><td>2006</td></tr><tr><td>82</td><td>125</td><td>Sold</td><td>41</td><td>20060404</td><td>10</td><td>null</td><td>NWTSO-41</td><td>Northwind Traders Clam Chowder</td><td>7.2375</td><td>9.6500</td><td>Soups</td><td>Tuesday</td><td>4</td><td>Weekday</td><td>April</td><td>2</td><td>2006</td></tr><tr><td>83</td><td>126</td><td>Sold</td><td>43</td><td>20060404</td><td>5</td><td>null</td><td>NWTB-43</td><td>Northwind Traders Coffee</td><td>34.5000</td><td>46.0000</td><td>Beverages</td><td>Tuesday</td><td>4</td><td>Weekday</td><td>April</td><td>2</td><td>2006</td></tr><tr><td>84</td><td>127</td><td>Sold</td><td>40</td><td>20060404</td><td>40</td><td>null</td><td>NWTCM-40</td><td>Northwind Traders Crab Meat</td><td>13.8000</td><td>18.4000</td><td>Canned Meat</td><td>Tuesday</td><td>4</td><td>Weekday</td><td>April</td><td>2</td><td>2006</td></tr><tr><td>85</td><td>128</td><td>Sold</td><td>8</td><td>20060404</td><td>20</td><td>null</td><td>NWTS-8</td><td>Northwind Traders Curry Sauce</td><td>30.0000</td><td>40.0000</td><td>Sauces</td><td>Tuesday</td><td>4</td><td>Weekday</td><td>April</td><td>2</td><td>2006</td></tr><tr><td>86</td><td>129</td><td>Sold</td><td>80</td><td>20060404</td><td>15</td><td>null</td><td>NWTDFN-80</td><td>Northwind Traders Dried Plums</td><td>3.0000</td><td>3.5000</td><td>Dried Fruit & Nuts</td><td>Tuesday</td><td>4</td><td>Weekday</td><td>April</td><td>2</td><td>2006</td></tr><tr><td>87</td><td>130</td><td>Sold</td><td>74</td><td>20060404</td><td>20</td><td>null</td><td>NWTDFN-74</td><td>Northwind Traders Almonds</td><td>7.5000</td><td>10.0000</td><td>Dried Fruit & Nuts</td><td>Tuesday</td><td>4</td><td>Weekday</td><td>April</td><td>2</td><td>2006</td></tr><tr><td>88</td><td>131</td><td>Sold</td><td>72</td><td>20060404</td><td>40</td><td>null</td><td>NWTD-72</td><td>Northwind Traders Mozzarella</td><td>26.1000</td><td>34.8000</td><td>Dairy products</td><td>Tuesday</td><td>4</td><td>Weekday</td><td>April</td><td>2</td><td>2006</td></tr><tr><td>89</td><td>132</td><td>Sold</td><td>3</td><td>20060404</td><td>50</td><td>null</td><td>NWTCO-3</td><td>Northwind Traders Syrup</td><td>7.5000</td><td>10.0000</td><td>Condiments</td><td>Tuesday</td><td>4</td><td>Weekday</td><td>April</td><td>2</td><td>2006</td></tr><tr><td>90</td><td>133</td><td>Sold</td><td>8</td><td>20060404</td><td>3</td><td>null</td><td>NWTS-8</td><td>Northwind Traders Curry Sauce</td><td>30.0000</td><td>40.0000</td><td>Sauces</td><td>Tuesday</td><td>4</td><td>Weekday</td><td>April</td><td>2</td><td>2006</td></tr><tr><td>91</td><td>134</td><td>Sold</td><td>20</td><td>20060404</td><td>40</td><td>null</td><td>NWTJP-6</td><td>Northwind Traders Marmalade</td><td>60.7500</td><td>81.0000</td><td>Jams, Preserves</td><td>Tuesday</td><td>4</td><td>Weekday</td><td>April</td><td>2</td><td>2006</td></tr><tr><td>92</td><td>135</td><td>Sold</td><td>52</td><td>20060404</td><td>40</td><td>null</td><td>NWTG-52</td><td>Northwind Traders Long Grain Rice</td><td>5.2500</td><td>7.0000</td><td>Grains</td><td>Tuesday</td><td>4</td><td>Weekday</td><td>April</td><td>2</td><td>2006</td></tr><tr><td>102</td><td>136</td><td>On Hold</td><td>56</td><td>20060425</td><td>110</td><td>null</td><td>NWTP-56</td><td>Northwind Traders Gnocchi</td><td>28.5000</td><td>38.0000</td><td>Pasta</td><td>Tuesday</td><td>25</td><td>Weekday</td><td>April</td><td>2</td><td>2006</td></tr><tr><td>44</td><td>63</td><td>Sold</td><td>80</td><td>20060322</td><td>30</td><td>null</td><td>NWTDFN-80</td><td>Northwind Traders Dried Plums</td><td>3.0000</td><td>3.5000</td><td>Dried Fruit & Nuts</td><td>Wednesday</td><td>22</td><td>Weekday</td><td>March</td><td>1</td><td>2006</td></tr><tr><td>45</td><td>64</td><td>Sold</td><td>7</td><td>20060322</td><td>10</td><td>null</td><td>NWTDFN-7</td><td>Northwind Traders Dried Pears</td><td>22.5000</td><td>30.0000</td><td>Dried Fruit & Nuts</td><td>Wednesday</td><td>22</td><td>Weekday</td><td>March</td><td>1</td><td>2006</td></tr><tr><td>46</td><td>65</td><td>Sold</td><td>51</td><td>20060322</td><td>10</td><td>null</td><td>NWTDFN-51</td><td>Northwind Traders Dried Apples</td><td>39.7500</td><td>53.0000</td><td>Dried Fruit & Nuts</td><td>Wednesday</td><td>22</td><td>Weekday</td><td>March</td><td>1</td><td>2006</td></tr><tr><td>47</td><td>66</td><td>Sold</td><td>80</td><td>20060322</td><td>10</td><td>null</td><td>NWTDFN-80</td><td>Northwind Traders Dried Plums</td><td>3.0000</td><td>3.5000</td><td>Dried Fruit & Nuts</td><td>Wednesday</td><td>22</td><td>Weekday</td><td>March</td><td>1</td><td>2006</td></tr><tr><td>48</td><td>67</td><td>Sold</td><td>1</td><td>20060322</td><td>15</td><td>null</td><td>NWTB-1</td><td>Northwind Traders Chai</td><td>13.5000</td><td>18.0000</td><td>Beverages</td><td>Wednesday</td><td>22</td><td>Weekday</td><td>March</td><td>1</td><td>2006</td></tr><tr><td>49</td><td>68</td><td>Sold</td><td>43</td><td>20060322</td><td>20</td><td>null</td><td>NWTB-43</td><td>Northwind Traders Coffee</td><td>34.5000</td><td>46.0000</td><td>Beverages</td><td>Wednesday</td><td>22</td><td>Weekday</td><td>March</td><td>1</td><td>2006</td></tr><tr><td>50</td><td>69</td><td>Sold</td><td>19</td><td>20060322</td><td>20</td><td>null</td><td>NWTBGM-19</td><td>Northwind Traders Chocolate Biscuits Mix</td><td>6.9000</td><td>9.2000</td><td>Baked Goods & Mixes</td><td>Wednesday</td><td>22</td><td>Weekday</td><td>March</td><td>1</td><td>2006</td></tr><tr><td>51</td><td>70</td><td>Sold</td><td>48</td><td>20060322</td><td>10</td><td>null</td><td>NWTCA-48</td><td>Northwind Traders Chocolate</td><td>9.5625</td><td>12.7500</td><td>Candy</td><td>Wednesday</td><td>22</td><td>Weekday</td><td>March</td><td>1</td><td>2006</td></tr><tr><td>52</td><td>71</td><td>Sold</td><td>8</td><td>20060322</td><td>17</td><td>null</td><td>NWTS-8</td><td>Northwind Traders Curry Sauce</td><td>30.0000</td><td>40.0000</td><td>Sauces</td><td>Wednesday</td><td>22</td><td>Weekday</td><td>March</td><td>1</td><td>2006</td></tr><tr><td>53</td><td>73</td><td>Sold</td><td>81</td><td>20060324</td><td>200</td><td>null</td><td>NWTB-81</td><td>Northwind Traders Green Tea</td><td>2.0000</td><td>2.9900</td><td>Beverages</td><td>Friday</td><td>24</td><td>Weekday</td><td>March</td><td>1</td><td>2006</td></tr><tr><td>54</td><td>75</td><td>Sold</td><td>48</td><td>20060324</td><td>100</td><td>null</td><td>NWTCA-48</td><td>Northwind Traders Chocolate</td><td>9.5625</td><td>12.7500</td><td>Candy</td><td>Friday</td><td>24</td><td>Weekday</td><td>March</td><td>1</td><td>2006</td></tr><tr><td>55</td><td>77</td><td>Sold</td><td>43</td><td>20060324</td><td>300</td><td>null</td><td>NWTB-43</td><td>Northwind Traders Coffee</td><td>34.5000</td><td>46.0000</td><td>Beverages</td><td>Friday</td><td>24</td><td>Weekday</td><td>March</td><td>1</td><td>2006</td></tr><tr><td>56</td><td>79</td><td>Sold</td><td>41</td><td>20060324</td><td>200</td><td>null</td><td>NWTSO-41</td><td>Northwind Traders Clam Chowder</td><td>7.2375</td><td>9.6500</td><td>Soups</td><td>Friday</td><td>24</td><td>Weekday</td><td>March</td><td>1</td><td>2006</td></tr><tr><td>57</td><td>81</td><td>Sold</td><td>19</td><td>20060324</td><td>30</td><td>null</td><td>NWTBGM-19</td><td>Northwind Traders Chocolate Biscuits Mix</td><td>6.9000</td><td>9.2000</td><td>Baked Goods & Mixes</td><td>Friday</td><td>24</td><td>Weekday</td><td>March</td><td>1</td><td>2006</td></tr><tr><td>58</td><td>83</td><td>Sold</td><td>34</td><td>20060324</td><td>100</td><td>null</td><td>NWTB-34</td><td>Northwind Traders Beer</td><td>10.5000</td><td>14.0000</td><td>Beverages</td><td>Friday</td><td>24</td><td>Weekday</td><td>March</td><td>1</td><td>2006</td></tr><tr><td>59</td><td>84</td><td>Sold</td><td>6</td><td>20060324</td><td>10</td><td>null</td><td>NWTJP-6</td><td>Northwind Traders Boysenberry Spread</td><td>18.7500</td><td>25.0000</td><td>Jams, Preserves</td><td>Friday</td><td>24</td><td>Weekday</td><td>March</td><td>1</td><td>2006</td></tr><tr><td>60</td><td>85</td><td>Sold</td><td>4</td><td>20060324</td><td>10</td><td>null</td><td>NWTCO-4</td><td>Northwind Traders Cajun Seasoning</td><td>16.5000</td><td>22.0000</td><td>Condiments</td><td>Friday</td><td>24</td><td>Weekday</td><td>March</td><td>1</td><td>2006</td></tr><tr><td>61</td><td>91</td><td>Sold</td><td>40</td><td>20060324</td><td>50</td><td>null</td><td>NWTCM-40</td><td>Northwind Traders Crab Meat</td><td>13.8000</td><td>18.4000</td><td>Canned Meat</td><td>Friday</td><td>24</td><td>Weekday</td><td>March</td><td>1</td><td>2006</td></tr><tr><td>62</td><td>92</td><td>Sold</td><td>21</td><td>20060324</td><td>20</td><td>null</td><td>NWTBGM-21</td><td>Northwind Traders Scones</td><td>7.5000</td><td>10.0000</td><td>Baked Goods & Mixes</td><td>Friday</td><td>24</td><td>Weekday</td><td>March</td><td>1</td><td>2006</td></tr><tr><td>63</td><td>93</td><td>Sold</td><td>5</td><td>20060324</td><td>25</td><td>null</td><td>NWTO-5</td><td>Northwind Traders Olive Oil</td><td>16.0125</td><td>21.3500</td><td>Oil</td><td>Friday</td><td>24</td><td>Weekday</td><td>March</td><td>1</td><td>2006</td></tr><tr><td>64</td><td>94</td><td>Sold</td><td>41</td><td>20060324</td><td>30</td><td>null</td><td>NWTSO-41</td><td>Northwind Traders Clam Chowder</td><td>7.2375</td><td>9.6500</td><td>Soups</td><td>Friday</td><td>24</td><td>Weekday</td><td>March</td><td>1</td><td>2006</td></tr><tr><td>65</td><td>95</td><td>Sold</td><td>40</td><td>20060324</td><td>30</td><td>null</td><td>NWTCM-40</td><td>Northwind Traders Crab Meat</td><td>13.8000</td><td>18.4000</td><td>Canned Meat</td><td>Friday</td><td>24</td><td>Weekday</td><td>March</td><td>1</td><td>2006</td></tr><tr><td>66</td><td>99</td><td>Sold</td><td>48</td><td>20060403</td><td>10</td><td>null</td><td>NWTCA-48</td><td>Northwind Traders Chocolate</td><td>9.5625</td><td>12.7500</td><td>Candy</td><td>Monday</td><td>3</td><td>Weekday</td><td>April</td><td>2</td><td>2006</td></tr><tr><td>35</td><td>100</td><td>Purchased</td><td>57</td><td>20060404</td><td>100</td><td>null</td><td>NWTP-57</td><td>Northwind Traders Ravioli</td><td>14.6250</td><td>19.5000</td><td>Pasta</td><td>Tuesday</td><td>4</td><td>Weekday</td><td>April</td><td>2</td><td>2006</td></tr><tr><td>67</td><td>101</td><td>Sold</td><td>57</td><td>20060404</td><td>100</td><td>null</td><td>NWTP-57</td><td>Northwind Traders Ravioli</td><td>14.6250</td><td>19.5000</td><td>Pasta</td><td>Tuesday</td><td>4</td><td>Weekday</td><td>April</td><td>2</td><td>2006</td></tr><tr><td>36</td><td>102</td><td>Purchased</td><td>34</td><td>20060404</td><td>50</td><td>null</td><td>NWTB-34</td><td>Northwind Traders Beer</td><td>10.5000</td><td>14.0000</td><td>Beverages</td><td>Tuesday</td><td>4</td><td>Weekday</td><td>April</td><td>2</td><td>2006</td></tr><tr><td>37</td><td>103</td><td>Purchased</td><td>43</td><td>20060404</td><td>250</td><td>null</td><td>NWTB-43</td><td>Northwind Traders Coffee</td><td>34.5000</td><td>46.0000</td><td>Beverages</td><td>Tuesday</td><td>4</td><td>Weekday</td><td>April</td><td>2</td><td>2006</td></tr><tr><td>38</td><td>105</td><td>Purchased</td><td>8</td><td>20060404</td><td>25</td><td>null</td><td>NWTS-8</td><td>Northwind Traders Curry Sauce</td><td>30.0000</td><td>40.0000</td><td>Sauces</td><td>Tuesday</td><td>4</td><td>Weekday</td><td>April</td><td>2</td><td>2006</td></tr><tr><td>68</td><td>106</td><td>Sold</td><td>8</td><td>20060404</td><td>25</td><td>null</td><td>NWTS-8</td><td>Northwind Traders Curry Sauce</td><td>30.0000</td><td>40.0000</td><td>Sauces</td><td>Tuesday</td><td>4</td><td>Weekday</td><td>April</td><td>2</td><td>2006</td></tr><tr><td>39</td><td>107</td><td>Purchased</td><td>34</td><td>20060404</td><td>300</td><td>null</td><td>NWTB-34</td><td>Northwind Traders Beer</td><td>10.5000</td><td>14.0000</td><td>Beverages</td><td>Tuesday</td><td>4</td><td>Weekday</td><td>April</td><td>2</td><td>2006</td></tr><tr><td>40</td><td>109</td><td>Purchased</td><td>19</td><td>20060404</td><td>25</td><td>null</td><td>NWTBGM-19</td><td>Northwind Traders Chocolate Biscuits Mix</td><td>6.9000</td><td>9.2000</td><td>Baked Goods & Mixes</td><td>Tuesday</td><td>4</td><td>Weekday</td><td>April</td><td>2</td><td>2006</td></tr><tr><td>41</td><td>111</td><td>Purchased</td><td>19</td><td>20060404</td><td>10</td><td>null</td><td>NWTBGM-19</td><td>Northwind Traders Chocolate Biscuits Mix</td><td>6.9000</td><td>9.2000</td><td>Baked Goods & Mixes</td><td>Tuesday</td><td>4</td><td>Weekday</td><td>April</td><td>2</td><td>2006</td></tr><tr><td>42</td><td>113</td><td>Purchased</td><td>72</td><td>20060404</td><td>50</td><td>null</td><td>NWTD-72</td><td>Northwind Traders Mozzarella</td><td>26.1000</td><td>34.8000</td><td>Dairy products</td><td>Tuesday</td><td>4</td><td>Weekday</td><td>April</td><td>2</td><td>2006</td></tr><tr><td>43</td><td>115</td><td>Purchased</td><td>41</td><td>20060404</td><td>50</td><td>null</td><td>NWTSO-41</td><td>Northwind Traders Clam Chowder</td><td>7.2375</td><td>9.6500</td><td>Soups</td><td>Tuesday</td><td>4</td><td>Weekday</td><td>April</td><td>2</td><td>2006</td></tr></tbody></table></div>"
      ]
     },
     "metadata": {
      "application/vnd.databricks.v1+output": {
       "addedWidgets": {},
       "aggData": [],
       "aggError": "",
       "aggOverflow": false,
       "aggSchema": [],
       "aggSeriesLimitReached": false,
       "aggType": "",
       "arguments": {},
       "columnCustomDisplayInfos": {},
       "data": [
        [
         1,
         35,
         "Purchased",
         80,
         20060322,
         75,
         null,
         "NWTDFN-80",
         "Northwind Traders Dried Plums",
         "3.0000",
         "3.5000",
         "Dried Fruit & Nuts",
         "Wednesday",
         22,
         "Weekday",
         "March",
         1,
         2006
        ],
        [
         2,
         36,
         "Purchased",
         72,
         20060322,
         40,
         null,
         "NWTD-72",
         "Northwind Traders Mozzarella",
         "26.1000",
         "34.8000",
         "Dairy products",
         "Wednesday",
         22,
         "Weekday",
         "March",
         1,
         2006
        ],
        [
         3,
         37,
         "Purchased",
         52,
         20060322,
         100,
         null,
         "NWTG-52",
         "Northwind Traders Long Grain Rice",
         "5.2500",
         "7.0000",
         "Grains",
         "Wednesday",
         22,
         "Weekday",
         "March",
         1,
         2006
        ],
        [
         4,
         38,
         "Purchased",
         56,
         20060322,
         120,
         null,
         "NWTP-56",
         "Northwind Traders Gnocchi",
         "28.5000",
         "38.0000",
         "Pasta",
         "Wednesday",
         22,
         "Weekday",
         "March",
         1,
         2006
        ],
        [
         5,
         39,
         "Purchased",
         57,
         20060322,
         80,
         null,
         "NWTP-57",
         "Northwind Traders Ravioli",
         "14.6250",
         "19.5000",
         "Pasta",
         "Wednesday",
         22,
         "Weekday",
         "March",
         1,
         2006
        ],
        [
         6,
         40,
         "Purchased",
         6,
         20060322,
         100,
         null,
         "NWTJP-6",
         "Northwind Traders Boysenberry Spread",
         "18.7500",
         "25.0000",
         "Jams, Preserves",
         "Wednesday",
         22,
         "Weekday",
         "March",
         1,
         2006
        ],
        [
         7,
         41,
         "Purchased",
         7,
         20060322,
         40,
         null,
         "NWTDFN-7",
         "Northwind Traders Dried Pears",
         "22.5000",
         "30.0000",
         "Dried Fruit & Nuts",
         "Wednesday",
         22,
         "Weekday",
         "March",
         1,
         2006
        ],
        [
         8,
         42,
         "Purchased",
         8,
         20060322,
         40,
         null,
         "NWTS-8",
         "Northwind Traders Curry Sauce",
         "30.0000",
         "40.0000",
         "Sauces",
         "Wednesday",
         22,
         "Weekday",
         "March",
         1,
         2006
        ],
        [
         9,
         43,
         "Purchased",
         14,
         20060322,
         40,
         null,
         "NWTDFN-14",
         "Northwind Traders Walnuts",
         "17.4375",
         "23.2500",
         "Dried Fruit & Nuts",
         "Wednesday",
         22,
         "Weekday",
         "March",
         1,
         2006
        ],
        [
         10,
         44,
         "Purchased",
         17,
         20060322,
         40,
         null,
         "NWTCFV-17",
         "Northwind Traders Fruit Cocktail",
         "29.2500",
         "39.0000",
         "Canned Fruit & Vegetables",
         "Wednesday",
         22,
         "Weekday",
         "March",
         1,
         2006
        ],
        [
         11,
         45,
         "Purchased",
         19,
         20060322,
         20,
         null,
         "NWTBGM-19",
         "Northwind Traders Chocolate Biscuits Mix",
         "6.9000",
         "9.2000",
         "Baked Goods & Mixes",
         "Wednesday",
         22,
         "Weekday",
         "March",
         1,
         2006
        ],
        [
         12,
         46,
         "Purchased",
         20,
         20060322,
         40,
         null,
         "NWTJP-6",
         "Northwind Traders Marmalade",
         "60.7500",
         "81.0000",
         "Jams, Preserves",
         "Wednesday",
         22,
         "Weekday",
         "March",
         1,
         2006
        ],
        [
         13,
         47,
         "Purchased",
         21,
         20060322,
         20,
         null,
         "NWTBGM-21",
         "Northwind Traders Scones",
         "7.5000",
         "10.0000",
         "Baked Goods & Mixes",
         "Wednesday",
         22,
         "Weekday",
         "March",
         1,
         2006
        ],
        [
         14,
         48,
         "Purchased",
         40,
         20060322,
         120,
         null,
         "NWTCM-40",
         "Northwind Traders Crab Meat",
         "13.8000",
         "18.4000",
         "Canned Meat",
         "Wednesday",
         22,
         "Weekday",
         "March",
         1,
         2006
        ],
        [
         15,
         49,
         "Purchased",
         41,
         20060322,
         40,
         null,
         "NWTSO-41",
         "Northwind Traders Clam Chowder",
         "7.2375",
         "9.6500",
         "Soups",
         "Wednesday",
         22,
         "Weekday",
         "March",
         1,
         2006
        ],
        [
         16,
         50,
         "Purchased",
         48,
         20060322,
         100,
         null,
         "NWTCA-48",
         "Northwind Traders Chocolate",
         "9.5625",
         "12.7500",
         "Candy",
         "Wednesday",
         22,
         "Weekday",
         "March",
         1,
         2006
        ],
        [
         17,
         51,
         "Purchased",
         51,
         20060322,
         40,
         null,
         "NWTDFN-51",
         "Northwind Traders Dried Apples",
         "39.7500",
         "53.0000",
         "Dried Fruit & Nuts",
         "Wednesday",
         22,
         "Weekday",
         "March",
         1,
         2006
        ],
        [
         18,
         52,
         "Purchased",
         74,
         20060322,
         20,
         null,
         "NWTDFN-74",
         "Northwind Traders Almonds",
         "7.5000",
         "10.0000",
         "Dried Fruit & Nuts",
         "Wednesday",
         22,
         "Weekday",
         "March",
         1,
         2006
        ],
        [
         19,
         53,
         "Purchased",
         77,
         20060322,
         60,
         null,
         "NWTCO-77",
         "Northwind Traders Mustard",
         "9.7500",
         "13.0000",
         "Condiments",
         "Wednesday",
         22,
         "Weekday",
         "March",
         1,
         2006
        ],
        [
         20,
         54,
         "Purchased",
         3,
         20060322,
         100,
         null,
         "NWTCO-3",
         "Northwind Traders Syrup",
         "7.5000",
         "10.0000",
         "Condiments",
         "Wednesday",
         22,
         "Weekday",
         "March",
         1,
         2006
        ],
        [
         21,
         55,
         "Purchased",
         4,
         20060322,
         40,
         null,
         "NWTCO-4",
         "Northwind Traders Cajun Seasoning",
         "16.5000",
         "22.0000",
         "Condiments",
         "Wednesday",
         22,
         "Weekday",
         "March",
         1,
         2006
        ],
        [
         22,
         56,
         "Purchased",
         5,
         20060322,
         40,
         null,
         "NWTO-5",
         "Northwind Traders Olive Oil",
         "16.0125",
         "21.3500",
         "Oil",
         "Wednesday",
         22,
         "Weekday",
         "March",
         1,
         2006
        ],
        [
         23,
         57,
         "Purchased",
         65,
         20060322,
         40,
         null,
         "NWTS-65",
         "Northwind Traders Hot Pepper Sauce",
         "15.7875",
         "21.0500",
         "Sauces",
         "Wednesday",
         22,
         "Weekday",
         "March",
         1,
         2006
        ],
        [
         24,
         58,
         "Purchased",
         66,
         20060322,
         80,
         null,
         "NWTS-66",
         "Northwind Traders Tomato Sauce",
         "12.7500",
         "17.0000",
         "Sauces",
         "Wednesday",
         22,
         "Weekday",
         "March",
         1,
         2006
        ],
        [
         25,
         59,
         "Purchased",
         1,
         20060322,
         40,
         null,
         "NWTB-1",
         "Northwind Traders Chai",
         "13.5000",
         "18.0000",
         "Beverages",
         "Wednesday",
         22,
         "Weekday",
         "March",
         1,
         2006
        ],
        [
         26,
         60,
         "Purchased",
         34,
         20060322,
         60,
         null,
         "NWTB-34",
         "Northwind Traders Beer",
         "10.5000",
         "14.0000",
         "Beverages",
         "Wednesday",
         22,
         "Weekday",
         "March",
         1,
         2006
        ],
        [
         27,
         61,
         "Purchased",
         43,
         20060322,
         100,
         null,
         "NWTB-43",
         "Northwind Traders Coffee",
         "34.5000",
         "46.0000",
         "Beverages",
         "Wednesday",
         22,
         "Weekday",
         "March",
         1,
         2006
        ],
        [
         28,
         62,
         "Purchased",
         81,
         20060322,
         125,
         null,
         "NWTB-81",
         "Northwind Traders Green Tea",
         "2.0000",
         "2.9900",
         "Beverages",
         "Wednesday",
         22,
         "Weekday",
         "March",
         1,
         2006
        ],
        [
         29,
         72,
         "Purchased",
         81,
         20060324,
         200,
         null,
         "NWTB-81",
         "Northwind Traders Green Tea",
         "2.0000",
         "2.9900",
         "Beverages",
         "Friday",
         24,
         "Weekday",
         "March",
         1,
         2006
        ],
        [
         30,
         74,
         "Purchased",
         48,
         20060324,
         100,
         null,
         "NWTCA-48",
         "Northwind Traders Chocolate",
         "9.5625",
         "12.7500",
         "Candy",
         "Friday",
         24,
         "Weekday",
         "March",
         1,
         2006
        ],
        [
         31,
         76,
         "Purchased",
         43,
         20060324,
         300,
         null,
         "NWTB-43",
         "Northwind Traders Coffee",
         "34.5000",
         "46.0000",
         "Beverages",
         "Friday",
         24,
         "Weekday",
         "March",
         1,
         2006
        ],
        [
         32,
         78,
         "Purchased",
         41,
         20060324,
         200,
         null,
         "NWTSO-41",
         "Northwind Traders Clam Chowder",
         "7.2375",
         "9.6500",
         "Soups",
         "Friday",
         24,
         "Weekday",
         "March",
         1,
         2006
        ],
        [
         33,
         80,
         "Purchased",
         19,
         20060324,
         30,
         null,
         "NWTBGM-19",
         "Northwind Traders Chocolate Biscuits Mix",
         "6.9000",
         "9.2000",
         "Baked Goods & Mixes",
         "Friday",
         24,
         "Weekday",
         "March",
         1,
         2006
        ],
        [
         34,
         82,
         "Purchased",
         34,
         20060324,
         100,
         null,
         "NWTB-34",
         "Northwind Traders Beer",
         "10.5000",
         "14.0000",
         "Beverages",
         "Friday",
         24,
         "Weekday",
         "March",
         1,
         2006
        ],
        [
         93,
         86,
         "On Hold",
         80,
         20060324,
         20,
         null,
         "NWTDFN-80",
         "Northwind Traders Dried Plums",
         "3.0000",
         "3.5000",
         "Dried Fruit & Nuts",
         "Friday",
         24,
         "Weekday",
         "March",
         1,
         2006
        ],
        [
         94,
         87,
         "On Hold",
         81,
         20060324,
         50,
         null,
         "NWTB-81",
         "Northwind Traders Green Tea",
         "2.0000",
         "2.9900",
         "Beverages",
         "Friday",
         24,
         "Weekday",
         "March",
         1,
         2006
        ],
        [
         95,
         88,
         "On Hold",
         1,
         20060324,
         25,
         null,
         "NWTB-1",
         "Northwind Traders Chai",
         "13.5000",
         "18.0000",
         "Beverages",
         "Friday",
         24,
         "Weekday",
         "March",
         1,
         2006
        ],
        [
         96,
         89,
         "On Hold",
         43,
         20060324,
         25,
         null,
         "NWTB-43",
         "Northwind Traders Coffee",
         "34.5000",
         "46.0000",
         "Beverages",
         "Friday",
         24,
         "Weekday",
         "March",
         1,
         2006
        ],
        [
         97,
         90,
         "On Hold",
         81,
         20060324,
         25,
         null,
         "NWTB-81",
         "Northwind Traders Green Tea",
         "2.0000",
         "2.9900",
         "Beverages",
         "Friday",
         24,
         "Weekday",
         "March",
         1,
         2006
        ],
        [
         98,
         96,
         "On Hold",
         34,
         20060330,
         12,
         null,
         "NWTB-34",
         "Northwind Traders Beer",
         "10.5000",
         "14.0000",
         "Beverages",
         "Thursday",
         30,
         "Weekday",
         "March",
         1,
         2006
        ],
        [
         99,
         97,
         "On Hold",
         34,
         20060330,
         10,
         null,
         "NWTB-34",
         "Northwind Traders Beer",
         "10.5000",
         "14.0000",
         "Beverages",
         "Thursday",
         30,
         "Weekday",
         "March",
         1,
         2006
        ],
        [
         100,
         98,
         "On Hold",
         34,
         20060330,
         1,
         null,
         "NWTB-34",
         "Northwind Traders Beer",
         "10.5000",
         "14.0000",
         "Beverages",
         "Thursday",
         30,
         "Weekday",
         "March",
         1,
         2006
        ],
        [
         101,
         104,
         "On Hold",
         43,
         20060404,
         300,
         null,
         "NWTB-43",
         "Northwind Traders Coffee",
         "34.5000",
         "46.0000",
         "Beverages",
         "Tuesday",
         4,
         "Weekday",
         "April",
         2,
         2006
        ],
        [
         68,
         106,
         "Sold",
         8,
         20060404,
         25,
         null,
         "NWTS-8",
         "Northwind Traders Curry Sauce",
         "30.0000",
         "40.0000",
         "Sauces",
         "Tuesday",
         4,
         "Weekday",
         "April",
         2,
         2006
        ],
        [
         69,
         108,
         "Sold",
         34,
         20060404,
         300,
         null,
         "NWTB-34",
         "Northwind Traders Beer",
         "10.5000",
         "14.0000",
         "Beverages",
         "Tuesday",
         4,
         "Weekday",
         "April",
         2,
         2006
        ],
        [
         70,
         110,
         "Sold",
         19,
         20060404,
         10,
         null,
         "NWTBGM-19",
         "Northwind Traders Chocolate Biscuits Mix",
         "6.9000",
         "9.2000",
         "Baked Goods & Mixes",
         "Tuesday",
         4,
         "Weekday",
         "April",
         2,
         2006
        ],
        [
         71,
         112,
         "Sold",
         19,
         20060404,
         25,
         null,
         "NWTBGM-19",
         "Northwind Traders Chocolate Biscuits Mix",
         "6.9000",
         "9.2000",
         "Baked Goods & Mixes",
         "Tuesday",
         4,
         "Weekday",
         "April",
         2,
         2006
        ],
        [
         72,
         114,
         "Sold",
         72,
         20060404,
         50,
         null,
         "NWTD-72",
         "Northwind Traders Mozzarella",
         "26.1000",
         "34.8000",
         "Dairy products",
         "Tuesday",
         4,
         "Weekday",
         "April",
         2,
         2006
        ],
        [
         73,
         116,
         "Sold",
         41,
         20060404,
         50,
         null,
         "NWTSO-41",
         "Northwind Traders Clam Chowder",
         "7.2375",
         "9.6500",
         "Soups",
         "Tuesday",
         4,
         "Weekday",
         "April",
         2,
         2006
        ],
        [
         74,
         117,
         "Sold",
         34,
         20060404,
         87,
         null,
         "NWTB-34",
         "Northwind Traders Beer",
         "10.5000",
         "14.0000",
         "Beverages",
         "Tuesday",
         4,
         "Weekday",
         "April",
         2,
         2006
        ],
        [
         75,
         118,
         "Sold",
         51,
         20060404,
         30,
         null,
         "NWTDFN-51",
         "Northwind Traders Dried Apples",
         "39.7500",
         "53.0000",
         "Dried Fruit & Nuts",
         "Tuesday",
         4,
         "Weekday",
         "April",
         2,
         2006
        ],
        [
         76,
         119,
         "Sold",
         7,
         20060404,
         30,
         null,
         "NWTDFN-7",
         "Northwind Traders Dried Pears",
         "22.5000",
         "30.0000",
         "Dried Fruit & Nuts",
         "Tuesday",
         4,
         "Weekday",
         "April",
         2,
         2006
        ],
        [
         77,
         120,
         "Sold",
         17,
         20060404,
         40,
         null,
         "NWTCFV-17",
         "Northwind Traders Fruit Cocktail",
         "29.2500",
         "39.0000",
         "Canned Fruit & Vegetables",
         "Tuesday",
         4,
         "Weekday",
         "April",
         2,
         2006
        ],
        [
         78,
         121,
         "Sold",
         6,
         20060404,
         90,
         null,
         "NWTJP-6",
         "Northwind Traders Boysenberry Spread",
         "18.7500",
         "25.0000",
         "Jams, Preserves",
         "Tuesday",
         4,
         "Weekday",
         "April",
         2,
         2006
        ],
        [
         79,
         122,
         "Sold",
         4,
         20060404,
         30,
         null,
         "NWTCO-4",
         "Northwind Traders Cajun Seasoning",
         "16.5000",
         "22.0000",
         "Condiments",
         "Tuesday",
         4,
         "Weekday",
         "April",
         2,
         2006
        ],
        [
         80,
         123,
         "Sold",
         48,
         20060404,
         40,
         null,
         "NWTCA-48",
         "Northwind Traders Chocolate",
         "9.5625",
         "12.7500",
         "Candy",
         "Tuesday",
         4,
         "Weekday",
         "April",
         2,
         2006
        ],
        [
         81,
         124,
         "Sold",
         48,
         20060404,
         40,
         null,
         "NWTCA-48",
         "Northwind Traders Chocolate",
         "9.5625",
         "12.7500",
         "Candy",
         "Tuesday",
         4,
         "Weekday",
         "April",
         2,
         2006
        ],
        [
         82,
         125,
         "Sold",
         41,
         20060404,
         10,
         null,
         "NWTSO-41",
         "Northwind Traders Clam Chowder",
         "7.2375",
         "9.6500",
         "Soups",
         "Tuesday",
         4,
         "Weekday",
         "April",
         2,
         2006
        ],
        [
         83,
         126,
         "Sold",
         43,
         20060404,
         5,
         null,
         "NWTB-43",
         "Northwind Traders Coffee",
         "34.5000",
         "46.0000",
         "Beverages",
         "Tuesday",
         4,
         "Weekday",
         "April",
         2,
         2006
        ],
        [
         84,
         127,
         "Sold",
         40,
         20060404,
         40,
         null,
         "NWTCM-40",
         "Northwind Traders Crab Meat",
         "13.8000",
         "18.4000",
         "Canned Meat",
         "Tuesday",
         4,
         "Weekday",
         "April",
         2,
         2006
        ],
        [
         85,
         128,
         "Sold",
         8,
         20060404,
         20,
         null,
         "NWTS-8",
         "Northwind Traders Curry Sauce",
         "30.0000",
         "40.0000",
         "Sauces",
         "Tuesday",
         4,
         "Weekday",
         "April",
         2,
         2006
        ],
        [
         86,
         129,
         "Sold",
         80,
         20060404,
         15,
         null,
         "NWTDFN-80",
         "Northwind Traders Dried Plums",
         "3.0000",
         "3.5000",
         "Dried Fruit & Nuts",
         "Tuesday",
         4,
         "Weekday",
         "April",
         2,
         2006
        ],
        [
         87,
         130,
         "Sold",
         74,
         20060404,
         20,
         null,
         "NWTDFN-74",
         "Northwind Traders Almonds",
         "7.5000",
         "10.0000",
         "Dried Fruit & Nuts",
         "Tuesday",
         4,
         "Weekday",
         "April",
         2,
         2006
        ],
        [
         88,
         131,
         "Sold",
         72,
         20060404,
         40,
         null,
         "NWTD-72",
         "Northwind Traders Mozzarella",
         "26.1000",
         "34.8000",
         "Dairy products",
         "Tuesday",
         4,
         "Weekday",
         "April",
         2,
         2006
        ],
        [
         89,
         132,
         "Sold",
         3,
         20060404,
         50,
         null,
         "NWTCO-3",
         "Northwind Traders Syrup",
         "7.5000",
         "10.0000",
         "Condiments",
         "Tuesday",
         4,
         "Weekday",
         "April",
         2,
         2006
        ],
        [
         90,
         133,
         "Sold",
         8,
         20060404,
         3,
         null,
         "NWTS-8",
         "Northwind Traders Curry Sauce",
         "30.0000",
         "40.0000",
         "Sauces",
         "Tuesday",
         4,
         "Weekday",
         "April",
         2,
         2006
        ],
        [
         91,
         134,
         "Sold",
         20,
         20060404,
         40,
         null,
         "NWTJP-6",
         "Northwind Traders Marmalade",
         "60.7500",
         "81.0000",
         "Jams, Preserves",
         "Tuesday",
         4,
         "Weekday",
         "April",
         2,
         2006
        ],
        [
         92,
         135,
         "Sold",
         52,
         20060404,
         40,
         null,
         "NWTG-52",
         "Northwind Traders Long Grain Rice",
         "5.2500",
         "7.0000",
         "Grains",
         "Tuesday",
         4,
         "Weekday",
         "April",
         2,
         2006
        ],
        [
         102,
         136,
         "On Hold",
         56,
         20060425,
         110,
         null,
         "NWTP-56",
         "Northwind Traders Gnocchi",
         "28.5000",
         "38.0000",
         "Pasta",
         "Tuesday",
         25,
         "Weekday",
         "April",
         2,
         2006
        ],
        [
         44,
         63,
         "Sold",
         80,
         20060322,
         30,
         null,
         "NWTDFN-80",
         "Northwind Traders Dried Plums",
         "3.0000",
         "3.5000",
         "Dried Fruit & Nuts",
         "Wednesday",
         22,
         "Weekday",
         "March",
         1,
         2006
        ],
        [
         45,
         64,
         "Sold",
         7,
         20060322,
         10,
         null,
         "NWTDFN-7",
         "Northwind Traders Dried Pears",
         "22.5000",
         "30.0000",
         "Dried Fruit & Nuts",
         "Wednesday",
         22,
         "Weekday",
         "March",
         1,
         2006
        ],
        [
         46,
         65,
         "Sold",
         51,
         20060322,
         10,
         null,
         "NWTDFN-51",
         "Northwind Traders Dried Apples",
         "39.7500",
         "53.0000",
         "Dried Fruit & Nuts",
         "Wednesday",
         22,
         "Weekday",
         "March",
         1,
         2006
        ],
        [
         47,
         66,
         "Sold",
         80,
         20060322,
         10,
         null,
         "NWTDFN-80",
         "Northwind Traders Dried Plums",
         "3.0000",
         "3.5000",
         "Dried Fruit & Nuts",
         "Wednesday",
         22,
         "Weekday",
         "March",
         1,
         2006
        ],
        [
         48,
         67,
         "Sold",
         1,
         20060322,
         15,
         null,
         "NWTB-1",
         "Northwind Traders Chai",
         "13.5000",
         "18.0000",
         "Beverages",
         "Wednesday",
         22,
         "Weekday",
         "March",
         1,
         2006
        ],
        [
         49,
         68,
         "Sold",
         43,
         20060322,
         20,
         null,
         "NWTB-43",
         "Northwind Traders Coffee",
         "34.5000",
         "46.0000",
         "Beverages",
         "Wednesday",
         22,
         "Weekday",
         "March",
         1,
         2006
        ],
        [
         50,
         69,
         "Sold",
         19,
         20060322,
         20,
         null,
         "NWTBGM-19",
         "Northwind Traders Chocolate Biscuits Mix",
         "6.9000",
         "9.2000",
         "Baked Goods & Mixes",
         "Wednesday",
         22,
         "Weekday",
         "March",
         1,
         2006
        ],
        [
         51,
         70,
         "Sold",
         48,
         20060322,
         10,
         null,
         "NWTCA-48",
         "Northwind Traders Chocolate",
         "9.5625",
         "12.7500",
         "Candy",
         "Wednesday",
         22,
         "Weekday",
         "March",
         1,
         2006
        ],
        [
         52,
         71,
         "Sold",
         8,
         20060322,
         17,
         null,
         "NWTS-8",
         "Northwind Traders Curry Sauce",
         "30.0000",
         "40.0000",
         "Sauces",
         "Wednesday",
         22,
         "Weekday",
         "March",
         1,
         2006
        ],
        [
         53,
         73,
         "Sold",
         81,
         20060324,
         200,
         null,
         "NWTB-81",
         "Northwind Traders Green Tea",
         "2.0000",
         "2.9900",
         "Beverages",
         "Friday",
         24,
         "Weekday",
         "March",
         1,
         2006
        ],
        [
         54,
         75,
         "Sold",
         48,
         20060324,
         100,
         null,
         "NWTCA-48",
         "Northwind Traders Chocolate",
         "9.5625",
         "12.7500",
         "Candy",
         "Friday",
         24,
         "Weekday",
         "March",
         1,
         2006
        ],
        [
         55,
         77,
         "Sold",
         43,
         20060324,
         300,
         null,
         "NWTB-43",
         "Northwind Traders Coffee",
         "34.5000",
         "46.0000",
         "Beverages",
         "Friday",
         24,
         "Weekday",
         "March",
         1,
         2006
        ],
        [
         56,
         79,
         "Sold",
         41,
         20060324,
         200,
         null,
         "NWTSO-41",
         "Northwind Traders Clam Chowder",
         "7.2375",
         "9.6500",
         "Soups",
         "Friday",
         24,
         "Weekday",
         "March",
         1,
         2006
        ],
        [
         57,
         81,
         "Sold",
         19,
         20060324,
         30,
         null,
         "NWTBGM-19",
         "Northwind Traders Chocolate Biscuits Mix",
         "6.9000",
         "9.2000",
         "Baked Goods & Mixes",
         "Friday",
         24,
         "Weekday",
         "March",
         1,
         2006
        ],
        [
         58,
         83,
         "Sold",
         34,
         20060324,
         100,
         null,
         "NWTB-34",
         "Northwind Traders Beer",
         "10.5000",
         "14.0000",
         "Beverages",
         "Friday",
         24,
         "Weekday",
         "March",
         1,
         2006
        ],
        [
         59,
         84,
         "Sold",
         6,
         20060324,
         10,
         null,
         "NWTJP-6",
         "Northwind Traders Boysenberry Spread",
         "18.7500",
         "25.0000",
         "Jams, Preserves",
         "Friday",
         24,
         "Weekday",
         "March",
         1,
         2006
        ],
        [
         60,
         85,
         "Sold",
         4,
         20060324,
         10,
         null,
         "NWTCO-4",
         "Northwind Traders Cajun Seasoning",
         "16.5000",
         "22.0000",
         "Condiments",
         "Friday",
         24,
         "Weekday",
         "March",
         1,
         2006
        ],
        [
         61,
         91,
         "Sold",
         40,
         20060324,
         50,
         null,
         "NWTCM-40",
         "Northwind Traders Crab Meat",
         "13.8000",
         "18.4000",
         "Canned Meat",
         "Friday",
         24,
         "Weekday",
         "March",
         1,
         2006
        ],
        [
         62,
         92,
         "Sold",
         21,
         20060324,
         20,
         null,
         "NWTBGM-21",
         "Northwind Traders Scones",
         "7.5000",
         "10.0000",
         "Baked Goods & Mixes",
         "Friday",
         24,
         "Weekday",
         "March",
         1,
         2006
        ],
        [
         63,
         93,
         "Sold",
         5,
         20060324,
         25,
         null,
         "NWTO-5",
         "Northwind Traders Olive Oil",
         "16.0125",
         "21.3500",
         "Oil",
         "Friday",
         24,
         "Weekday",
         "March",
         1,
         2006
        ],
        [
         64,
         94,
         "Sold",
         41,
         20060324,
         30,
         null,
         "NWTSO-41",
         "Northwind Traders Clam Chowder",
         "7.2375",
         "9.6500",
         "Soups",
         "Friday",
         24,
         "Weekday",
         "March",
         1,
         2006
        ],
        [
         65,
         95,
         "Sold",
         40,
         20060324,
         30,
         null,
         "NWTCM-40",
         "Northwind Traders Crab Meat",
         "13.8000",
         "18.4000",
         "Canned Meat",
         "Friday",
         24,
         "Weekday",
         "March",
         1,
         2006
        ],
        [
         66,
         99,
         "Sold",
         48,
         20060403,
         10,
         null,
         "NWTCA-48",
         "Northwind Traders Chocolate",
         "9.5625",
         "12.7500",
         "Candy",
         "Monday",
         3,
         "Weekday",
         "April",
         2,
         2006
        ],
        [
         35,
         100,
         "Purchased",
         57,
         20060404,
         100,
         null,
         "NWTP-57",
         "Northwind Traders Ravioli",
         "14.6250",
         "19.5000",
         "Pasta",
         "Tuesday",
         4,
         "Weekday",
         "April",
         2,
         2006
        ],
        [
         67,
         101,
         "Sold",
         57,
         20060404,
         100,
         null,
         "NWTP-57",
         "Northwind Traders Ravioli",
         "14.6250",
         "19.5000",
         "Pasta",
         "Tuesday",
         4,
         "Weekday",
         "April",
         2,
         2006
        ],
        [
         36,
         102,
         "Purchased",
         34,
         20060404,
         50,
         null,
         "NWTB-34",
         "Northwind Traders Beer",
         "10.5000",
         "14.0000",
         "Beverages",
         "Tuesday",
         4,
         "Weekday",
         "April",
         2,
         2006
        ],
        [
         37,
         103,
         "Purchased",
         43,
         20060404,
         250,
         null,
         "NWTB-43",
         "Northwind Traders Coffee",
         "34.5000",
         "46.0000",
         "Beverages",
         "Tuesday",
         4,
         "Weekday",
         "April",
         2,
         2006
        ],
        [
         38,
         105,
         "Purchased",
         8,
         20060404,
         25,
         null,
         "NWTS-8",
         "Northwind Traders Curry Sauce",
         "30.0000",
         "40.0000",
         "Sauces",
         "Tuesday",
         4,
         "Weekday",
         "April",
         2,
         2006
        ],
        [
         68,
         106,
         "Sold",
         8,
         20060404,
         25,
         null,
         "NWTS-8",
         "Northwind Traders Curry Sauce",
         "30.0000",
         "40.0000",
         "Sauces",
         "Tuesday",
         4,
         "Weekday",
         "April",
         2,
         2006
        ],
        [
         39,
         107,
         "Purchased",
         34,
         20060404,
         300,
         null,
         "NWTB-34",
         "Northwind Traders Beer",
         "10.5000",
         "14.0000",
         "Beverages",
         "Tuesday",
         4,
         "Weekday",
         "April",
         2,
         2006
        ],
        [
         40,
         109,
         "Purchased",
         19,
         20060404,
         25,
         null,
         "NWTBGM-19",
         "Northwind Traders Chocolate Biscuits Mix",
         "6.9000",
         "9.2000",
         "Baked Goods & Mixes",
         "Tuesday",
         4,
         "Weekday",
         "April",
         2,
         2006
        ],
        [
         41,
         111,
         "Purchased",
         19,
         20060404,
         10,
         null,
         "NWTBGM-19",
         "Northwind Traders Chocolate Biscuits Mix",
         "6.9000",
         "9.2000",
         "Baked Goods & Mixes",
         "Tuesday",
         4,
         "Weekday",
         "April",
         2,
         2006
        ],
        [
         42,
         113,
         "Purchased",
         72,
         20060404,
         50,
         null,
         "NWTD-72",
         "Northwind Traders Mozzarella",
         "26.1000",
         "34.8000",
         "Dairy products",
         "Tuesday",
         4,
         "Weekday",
         "April",
         2,
         2006
        ],
        [
         43,
         115,
         "Purchased",
         41,
         20060404,
         50,
         null,
         "NWTSO-41",
         "Northwind Traders Clam Chowder",
         "7.2375",
         "9.6500",
         "Soups",
         "Tuesday",
         4,
         "Weekday",
         "April",
         2,
         2006
        ]
       ],
       "datasetInfos": [],
       "dbfsResultPath": null,
       "isJsonSchema": true,
       "metadata": {},
       "overflow": false,
       "plotOptions": {
        "customPlotOptions": {},
        "displayType": "table",
        "pivotAggregation": null,
        "pivotColumns": null,
        "xColumns": null,
        "yColumns": null
       },
       "removedWidgets": [],
       "schema": [
        {
         "metadata": "{}",
         "name": "fact_inventory_transaction_key",
         "type": "\"long\""
        },
        {
         "metadata": "{}",
         "name": "inventory_transaction_key",
         "type": "\"long\""
        },
        {
         "metadata": "{}",
         "name": "inventory_transaction_type",
         "type": "\"string\""
        },
        {
         "metadata": "{}",
         "name": "product_key",
         "type": "\"long\""
        },
        {
         "metadata": "{}",
         "name": "transaction_created_date_key",
         "type": "\"long\""
        },
        {
         "metadata": "{}",
         "name": "quantity",
         "type": "\"long\""
        },
        {
         "metadata": "{}",
         "name": "order_key",
         "type": "\"long\""
        },
        {
         "metadata": "{\"scale\":0}",
         "name": "product_code",
         "type": "\"string\""
        },
        {
         "metadata": "{\"scale\":0}",
         "name": "product_name",
         "type": "\"string\""
        },
        {
         "metadata": "{\"scale\":4}",
         "name": "product_standard_cost",
         "type": "\"decimal(19,4)\""
        },
        {
         "metadata": "{\"scale\":4}",
         "name": "product_list_price",
         "type": "\"decimal(19,4)\""
        },
        {
         "metadata": "{\"scale\":0}",
         "name": "product_category",
         "type": "\"string\""
        },
        {
         "metadata": "{\"scale\":0}",
         "name": "order_day_name_of_week",
         "type": "\"string\""
        },
        {
         "metadata": "{\"scale\":0}",
         "name": "order_day_of_month",
         "type": "\"integer\""
        },
        {
         "metadata": "{\"scale\":0}",
         "name": "order_weekday_weekend",
         "type": "\"string\""
        },
        {
         "metadata": "{\"scale\":0}",
         "name": "order_month_name",
         "type": "\"string\""
        },
        {
         "metadata": "{\"scale\":0}",
         "name": "order_quarter",
         "type": "\"integer\""
        },
        {
         "metadata": "{\"scale\":0}",
         "name": "order_year",
         "type": "\"integer\""
        }
       ],
       "type": "table"
      }
     },
     "output_type": "display_data"
    }
   ],
   "source": [
    "%sql\n",
    "SELECT * FROM fact_inventory_transactions_silver"
   ]
  },
  {
   "cell_type": "code",
   "execution_count": 0,
   "metadata": {
    "application/vnd.databricks.v1+cell": {
     "cellMetadata": {
      "byteLimit": 2048000,
      "implicitDf": true,
      "rowLimit": 10000
     },
     "inputWidgets": {},
     "nuid": "a094cc61-d1d5-4537-a389-fa8e126a0c60",
     "showTitle": false,
     "title": ""
    }
   },
   "outputs": [
    {
     "output_type": "display_data",
     "data": {
      "text/html": [
       "<style scoped>\n",
       "  .table-result-container {\n",
       "    max-height: 300px;\n",
       "    overflow: auto;\n",
       "  }\n",
       "  table, th, td {\n",
       "    border: 1px solid black;\n",
       "    border-collapse: collapse;\n",
       "  }\n",
       "  th, td {\n",
       "    padding: 5px;\n",
       "  }\n",
       "  th {\n",
       "    text-align: left;\n",
       "  }\n",
       "</style><div class='table-result-container'><table class='table-result'><thead style='background-color: white'><tr><th>col_name</th><th>data_type</th><th>comment</th></tr></thead><tbody><tr><td>fact_inventory_transaction_key</td><td>bigint</td><td>null</td></tr><tr><td>inventory_transaction_key</td><td>bigint</td><td>null</td></tr><tr><td>inventory_transaction_type</td><td>string</td><td>null</td></tr><tr><td>product_key</td><td>bigint</td><td>null</td></tr><tr><td>transaction_created_date_key</td><td>bigint</td><td>null</td></tr><tr><td>quantity</td><td>bigint</td><td>null</td></tr><tr><td>order_key</td><td>bigint</td><td>null</td></tr><tr><td>product_code</td><td>string</td><td>null</td></tr><tr><td>product_name</td><td>string</td><td>null</td></tr><tr><td>product_standard_cost</td><td>decimal(19,4)</td><td>null</td></tr><tr><td>product_list_price</td><td>decimal(19,4)</td><td>null</td></tr><tr><td>product_category</td><td>string</td><td>null</td></tr><tr><td>order_day_name_of_week</td><td>string</td><td>null</td></tr><tr><td>order_day_of_month</td><td>int</td><td>null</td></tr><tr><td>order_weekday_weekend</td><td>string</td><td>null</td></tr><tr><td>order_month_name</td><td>string</td><td>null</td></tr><tr><td>order_quarter</td><td>int</td><td>null</td></tr><tr><td>order_year</td><td>int</td><td>null</td></tr><tr><td></td><td></td><td></td></tr><tr><td># Detailed Table Information</td><td></td><td></td></tr><tr><td>Catalog</td><td>spark_catalog</td><td></td></tr><tr><td>Database</td><td>northwind_dlh</td><td></td></tr><tr><td>Table</td><td>fact_inventory_transactions_silver</td><td></td></tr><tr><td>Type</td><td>MANAGED</td><td></td></tr><tr><td>Location</td><td>dbfs:/FileStore/ds2002-lab06/northwind_dlh/fact_inventory_transactions_silver</td><td></td></tr><tr><td>Provider</td><td>delta</td><td></td></tr><tr><td>Owner</td><td>root</td><td></td></tr><tr><td>Is_managed_location</td><td>true</td><td></td></tr><tr><td>Table Properties</td><td>[delta.minReaderVersion=1,delta.minWriterVersion=2]</td><td></td></tr></tbody></table></div>"
      ]
     },
     "metadata": {
      "application/vnd.databricks.v1+output": {
       "addedWidgets": {},
       "aggData": [],
       "aggError": "",
       "aggOverflow": false,
       "aggSchema": [],
       "aggSeriesLimitReached": false,
       "aggType": "",
       "arguments": {},
       "columnCustomDisplayInfos": {},
       "data": [
        [
         "fact_inventory_transaction_key",
         "bigint",
         null
        ],
        [
         "inventory_transaction_key",
         "bigint",
         null
        ],
        [
         "inventory_transaction_type",
         "string",
         null
        ],
        [
         "product_key",
         "bigint",
         null
        ],
        [
         "transaction_created_date_key",
         "bigint",
         null
        ],
        [
         "quantity",
         "bigint",
         null
        ],
        [
         "order_key",
         "bigint",
         null
        ],
        [
         "product_code",
         "string",
         null
        ],
        [
         "product_name",
         "string",
         null
        ],
        [
         "product_standard_cost",
         "decimal(19,4)",
         null
        ],
        [
         "product_list_price",
         "decimal(19,4)",
         null
        ],
        [
         "product_category",
         "string",
         null
        ],
        [
         "order_day_name_of_week",
         "string",
         null
        ],
        [
         "order_day_of_month",
         "int",
         null
        ],
        [
         "order_weekday_weekend",
         "string",
         null
        ],
        [
         "order_month_name",
         "string",
         null
        ],
        [
         "order_quarter",
         "int",
         null
        ],
        [
         "order_year",
         "int",
         null
        ],
        [
         "",
         "",
         ""
        ],
        [
         "# Detailed Table Information",
         "",
         ""
        ],
        [
         "Catalog",
         "spark_catalog",
         ""
        ],
        [
         "Database",
         "northwind_dlh",
         ""
        ],
        [
         "Table",
         "fact_inventory_transactions_silver",
         ""
        ],
        [
         "Type",
         "MANAGED",
         ""
        ],
        [
         "Location",
         "dbfs:/FileStore/ds2002-lab06/northwind_dlh/fact_inventory_transactions_silver",
         ""
        ],
        [
         "Provider",
         "delta",
         ""
        ],
        [
         "Owner",
         "root",
         ""
        ],
        [
         "Is_managed_location",
         "true",
         ""
        ],
        [
         "Table Properties",
         "[delta.minReaderVersion=1,delta.minWriterVersion=2]",
         ""
        ]
       ],
       "datasetInfos": [],
       "dbfsResultPath": null,
       "isJsonSchema": true,
       "metadata": {},
       "overflow": false,
       "plotOptions": {
        "customPlotOptions": {},
        "displayType": "table",
        "pivotAggregation": null,
        "pivotColumns": null,
        "xColumns": null,
        "yColumns": null
       },
       "removedWidgets": [],
       "schema": [
        {
         "metadata": "{\"comment\":\"name of the column\"}",
         "name": "col_name",
         "type": "\"string\""
        },
        {
         "metadata": "{\"comment\":\"data type of the column\"}",
         "name": "data_type",
         "type": "\"string\""
        },
        {
         "metadata": "{\"comment\":\"comment of the column\"}",
         "name": "comment",
         "type": "\"string\""
        }
       ],
       "type": "table"
      }
     },
     "output_type": "display_data"
    }
   ],
   "source": [
    "%sql\n",
    "DESCRIBE EXTENDED fact_inventory_transactions_silver"
   ]
  },
  {
   "cell_type": "markdown",
   "metadata": {
    "application/vnd.databricks.v1+cell": {
     "cellMetadata": {
      "byteLimit": 2048000,
      "rowLimit": 10000
     },
     "inputWidgets": {},
     "nuid": "cf279dad-12f0-4a55-a821-ecc61d653d6b",
     "showTitle": false,
     "title": ""
    }
   },
   "source": [
    "##### 8.3. Gold Table: Perform Aggregations"
   ]
  },
  {
   "cell_type": "code",
   "execution_count": 0,
   "metadata": {
    "application/vnd.databricks.v1+cell": {
     "cellMetadata": {
      "byteLimit": 2048000,
      "implicitDf": true,
      "rowLimit": 10000
     },
     "inputWidgets": {},
     "nuid": "b4d66c1d-4712-4cc1-bf4d-0d297cd6a1fb",
     "showTitle": false,
     "title": ""
    }
   },
   "outputs": [
    {
     "output_type": "display_data",
     "data": {
      "text/html": [
       "<style scoped>\n",
       "  .table-result-container {\n",
       "    max-height: 300px;\n",
       "    overflow: auto;\n",
       "  }\n",
       "  table, th, td {\n",
       "    border: 1px solid black;\n",
       "    border-collapse: collapse;\n",
       "  }\n",
       "  th, td {\n",
       "    padding: 5px;\n",
       "  }\n",
       "  th {\n",
       "    text-align: left;\n",
       "  }\n",
       "</style><div class='table-result-container'><table class='table-result'><thead style='background-color: white'><tr><th>Total_Quantity</th><th>Quarter_Created</th><th>Inventory_Transaction_Type</th><th>Product</th></tr></thead><tbody><tr><td>300</td><td>1</td><td>Purchased</td><td>Northwind Traders Coffee</td></tr><tr><td>300</td><td>2</td><td>Sold</td><td>Northwind Traders Beer</td></tr><tr><td>300</td><td>2</td><td>On Hold</td><td>Northwind Traders Coffee</td></tr><tr><td>300</td><td>1</td><td>Sold</td><td>Northwind Traders Coffee</td></tr><tr><td>300</td><td>2</td><td>Purchased</td><td>Northwind Traders Beer</td></tr><tr><td>250</td><td>2</td><td>Purchased</td><td>Northwind Traders Coffee</td></tr><tr><td>200</td><td>1</td><td>Purchased</td><td>Northwind Traders Green Tea</td></tr><tr><td>200</td><td>1</td><td>Purchased</td><td>Northwind Traders Clam Chowder</td></tr><tr><td>200</td><td>1</td><td>Sold</td><td>Northwind Traders Green Tea</td></tr><tr><td>200</td><td>1</td><td>Sold</td><td>Northwind Traders Clam Chowder</td></tr><tr><td>125</td><td>1</td><td>Purchased</td><td>Northwind Traders Green Tea</td></tr><tr><td>120</td><td>1</td><td>Purchased</td><td>Northwind Traders Crab Meat</td></tr><tr><td>120</td><td>1</td><td>Purchased</td><td>Northwind Traders Gnocchi</td></tr><tr><td>110</td><td>2</td><td>On Hold</td><td>Northwind Traders Gnocchi</td></tr><tr><td>100</td><td>1</td><td>Purchased</td><td>Northwind Traders Beer</td></tr><tr><td>100</td><td>1</td><td>Purchased</td><td>Northwind Traders Coffee</td></tr><tr><td>100</td><td>1</td><td>Purchased</td><td>Northwind Traders Syrup</td></tr><tr><td>100</td><td>1</td><td>Purchased</td><td>Northwind Traders Boysenberry Spread</td></tr><tr><td>100</td><td>1</td><td>Purchased</td><td>Northwind Traders Long Grain Rice</td></tr><tr><td>100</td><td>1</td><td>Purchased</td><td>Northwind Traders Chocolate</td></tr><tr><td>100</td><td>2</td><td>Sold</td><td>Northwind Traders Ravioli</td></tr><tr><td>100</td><td>1</td><td>Sold</td><td>Northwind Traders Beer</td></tr><tr><td>100</td><td>2</td><td>Purchased</td><td>Northwind Traders Ravioli</td></tr><tr><td>100</td><td>1</td><td>Sold</td><td>Northwind Traders Chocolate</td></tr><tr><td>90</td><td>2</td><td>Sold</td><td>Northwind Traders Boysenberry Spread</td></tr><tr><td>87</td><td>2</td><td>Sold</td><td>Northwind Traders Beer</td></tr><tr><td>80</td><td>1</td><td>Purchased</td><td>Northwind Traders Ravioli</td></tr><tr><td>80</td><td>1</td><td>Purchased</td><td>Northwind Traders Tomato Sauce</td></tr><tr><td>75</td><td>1</td><td>Purchased</td><td>Northwind Traders Dried Plums</td></tr><tr><td>60</td><td>1</td><td>Purchased</td><td>Northwind Traders Mustard</td></tr><tr><td>60</td><td>1</td><td>Purchased</td><td>Northwind Traders Beer</td></tr><tr><td>50</td><td>2</td><td>Sold</td><td>Northwind Traders Syrup</td></tr><tr><td>50</td><td>2</td><td>Sold</td><td>Northwind Traders Mozzarella</td></tr><tr><td>50</td><td>1</td><td>On Hold</td><td>Northwind Traders Green Tea</td></tr><tr><td>50</td><td>2</td><td>Sold</td><td>Northwind Traders Clam Chowder</td></tr><tr><td>50</td><td>2</td><td>Purchased</td><td>Northwind Traders Beer</td></tr><tr><td>50</td><td>1</td><td>Sold</td><td>Northwind Traders Crab Meat</td></tr><tr><td>50</td><td>2</td><td>Purchased</td><td>Northwind Traders Clam Chowder</td></tr><tr><td>50</td><td>2</td><td>Purchased</td><td>Northwind Traders Mozzarella</td></tr><tr><td>40</td><td>1</td><td>Purchased</td><td>Northwind Traders Chai</td></tr><tr><td>40</td><td>1</td><td>Purchased</td><td>Northwind Traders Dried Pears</td></tr><tr><td>40</td><td>1</td><td>Purchased</td><td>Northwind Traders Olive Oil</td></tr><tr><td>40</td><td>1</td><td>Purchased</td><td>Northwind Traders Walnuts</td></tr><tr><td>40</td><td>1</td><td>Purchased</td><td>Northwind Traders Dried Apples</td></tr><tr><td>40</td><td>1</td><td>Purchased</td><td>Northwind Traders Hot Pepper Sauce</td></tr><tr><td>40</td><td>1</td><td>Purchased</td><td>Northwind Traders Fruit Cocktail</td></tr><tr><td>40</td><td>1</td><td>Purchased</td><td>Northwind Traders Marmalade</td></tr><tr><td>40</td><td>1</td><td>Purchased</td><td>Northwind Traders Mozzarella</td></tr><tr><td>40</td><td>1</td><td>Purchased</td><td>Northwind Traders Curry Sauce</td></tr><tr><td>40</td><td>1</td><td>Purchased</td><td>Northwind Traders Cajun Seasoning</td></tr><tr><td>40</td><td>1</td><td>Purchased</td><td>Northwind Traders Clam Chowder</td></tr><tr><td>40</td><td>2</td><td>Sold</td><td>Northwind Traders Chocolate</td></tr><tr><td>40</td><td>2</td><td>Sold</td><td>Northwind Traders Crab Meat</td></tr><tr><td>40</td><td>2</td><td>Sold</td><td>Northwind Traders Marmalade</td></tr><tr><td>40</td><td>2</td><td>Sold</td><td>Northwind Traders Mozzarella</td></tr><tr><td>40</td><td>2</td><td>Sold</td><td>Northwind Traders Long Grain Rice</td></tr><tr><td>40</td><td>2</td><td>Sold</td><td>Northwind Traders Fruit Cocktail</td></tr><tr><td>30</td><td>1</td><td>Purchased</td><td>Northwind Traders Chocolate Biscuits Mix</td></tr><tr><td>30</td><td>2</td><td>Sold</td><td>Northwind Traders Dried Apples</td></tr><tr><td>30</td><td>2</td><td>Sold</td><td>Northwind Traders Cajun Seasoning</td></tr><tr><td>30</td><td>2</td><td>Sold</td><td>Northwind Traders Dried Pears</td></tr><tr><td>30</td><td>1</td><td>Sold</td><td>Northwind Traders Crab Meat</td></tr><tr><td>30</td><td>1</td><td>Sold</td><td>Northwind Traders Dried Plums</td></tr><tr><td>30</td><td>1</td><td>Sold</td><td>Northwind Traders Chocolate Biscuits Mix</td></tr><tr><td>30</td><td>1</td><td>Sold</td><td>Northwind Traders Clam Chowder</td></tr><tr><td>25</td><td>1</td><td>On Hold</td><td>Northwind Traders Green Tea</td></tr><tr><td>25</td><td>1</td><td>On Hold</td><td>Northwind Traders Coffee</td></tr><tr><td>25</td><td>1</td><td>On Hold</td><td>Northwind Traders Chai</td></tr><tr><td>25</td><td>2</td><td>Sold</td><td>Northwind Traders Chocolate Biscuits Mix</td></tr><tr><td>25</td><td>2</td><td>Sold</td><td>Northwind Traders Curry Sauce</td></tr><tr><td>25</td><td>2</td><td>Purchased</td><td>Northwind Traders Curry Sauce</td></tr><tr><td>25</td><td>1</td><td>Sold</td><td>Northwind Traders Olive Oil</td></tr><tr><td>25</td><td>2</td><td>Purchased</td><td>Northwind Traders Chocolate Biscuits Mix</td></tr><tr><td>20</td><td>1</td><td>Purchased</td><td>Northwind Traders Scones</td></tr><tr><td>20</td><td>1</td><td>Purchased</td><td>Northwind Traders Chocolate Biscuits Mix</td></tr><tr><td>20</td><td>1</td><td>Purchased</td><td>Northwind Traders Almonds</td></tr><tr><td>20</td><td>2</td><td>Sold</td><td>Northwind Traders Almonds</td></tr><tr><td>20</td><td>2</td><td>Sold</td><td>Northwind Traders Curry Sauce</td></tr><tr><td>20</td><td>1</td><td>On Hold</td><td>Northwind Traders Dried Plums</td></tr><tr><td>20</td><td>1</td><td>Sold</td><td>Northwind Traders Scones</td></tr><tr><td>20</td><td>1</td><td>Sold</td><td>Northwind Traders Chocolate Biscuits Mix</td></tr><tr><td>20</td><td>1</td><td>Sold</td><td>Northwind Traders Coffee</td></tr><tr><td>17</td><td>1</td><td>Sold</td><td>Northwind Traders Curry Sauce</td></tr><tr><td>15</td><td>2</td><td>Sold</td><td>Northwind Traders Dried Plums</td></tr><tr><td>15</td><td>1</td><td>Sold</td><td>Northwind Traders Chai</td></tr><tr><td>12</td><td>1</td><td>On Hold</td><td>Northwind Traders Beer</td></tr><tr><td>10</td><td>2</td><td>Sold</td><td>Northwind Traders Chocolate Biscuits Mix</td></tr><tr><td>10</td><td>2</td><td>Sold</td><td>Northwind Traders Clam Chowder</td></tr><tr><td>10</td><td>1</td><td>On Hold</td><td>Northwind Traders Beer</td></tr><tr><td>10</td><td>1</td><td>Sold</td><td>Northwind Traders Cajun Seasoning</td></tr><tr><td>10</td><td>2</td><td>Purchased</td><td>Northwind Traders Chocolate Biscuits Mix</td></tr><tr><td>10</td><td>1</td><td>Sold</td><td>Northwind Traders Dried Apples</td></tr><tr><td>10</td><td>1</td><td>Sold</td><td>Northwind Traders Dried Plums</td></tr><tr><td>10</td><td>2</td><td>Sold</td><td>Northwind Traders Chocolate</td></tr><tr><td>10</td><td>1</td><td>Sold</td><td>Northwind Traders Chocolate</td></tr><tr><td>10</td><td>1</td><td>Sold</td><td>Northwind Traders Dried Pears</td></tr><tr><td>10</td><td>1</td><td>Sold</td><td>Northwind Traders Boysenberry Spread</td></tr><tr><td>5</td><td>2</td><td>Sold</td><td>Northwind Traders Coffee</td></tr><tr><td>3</td><td>2</td><td>Sold</td><td>Northwind Traders Curry Sauce</td></tr><tr><td>1</td><td>1</td><td>On Hold</td><td>Northwind Traders Beer</td></tr></tbody></table></div>"
      ]
     },
     "metadata": {
      "application/vnd.databricks.v1+output": {
       "addedWidgets": {},
       "aggData": [],
       "aggError": "",
       "aggOverflow": false,
       "aggSchema": [],
       "aggSeriesLimitReached": false,
       "aggType": "",
       "arguments": {},
       "columnCustomDisplayInfos": {},
       "data": [
        [
         300,
         1,
         "Purchased",
         "Northwind Traders Coffee"
        ],
        [
         300,
         2,
         "Sold",
         "Northwind Traders Beer"
        ],
        [
         300,
         2,
         "On Hold",
         "Northwind Traders Coffee"
        ],
        [
         300,
         1,
         "Sold",
         "Northwind Traders Coffee"
        ],
        [
         300,
         2,
         "Purchased",
         "Northwind Traders Beer"
        ],
        [
         250,
         2,
         "Purchased",
         "Northwind Traders Coffee"
        ],
        [
         200,
         1,
         "Purchased",
         "Northwind Traders Green Tea"
        ],
        [
         200,
         1,
         "Purchased",
         "Northwind Traders Clam Chowder"
        ],
        [
         200,
         1,
         "Sold",
         "Northwind Traders Green Tea"
        ],
        [
         200,
         1,
         "Sold",
         "Northwind Traders Clam Chowder"
        ],
        [
         125,
         1,
         "Purchased",
         "Northwind Traders Green Tea"
        ],
        [
         120,
         1,
         "Purchased",
         "Northwind Traders Crab Meat"
        ],
        [
         120,
         1,
         "Purchased",
         "Northwind Traders Gnocchi"
        ],
        [
         110,
         2,
         "On Hold",
         "Northwind Traders Gnocchi"
        ],
        [
         100,
         1,
         "Purchased",
         "Northwind Traders Beer"
        ],
        [
         100,
         1,
         "Purchased",
         "Northwind Traders Coffee"
        ],
        [
         100,
         1,
         "Purchased",
         "Northwind Traders Syrup"
        ],
        [
         100,
         1,
         "Purchased",
         "Northwind Traders Boysenberry Spread"
        ],
        [
         100,
         1,
         "Purchased",
         "Northwind Traders Long Grain Rice"
        ],
        [
         100,
         1,
         "Purchased",
         "Northwind Traders Chocolate"
        ],
        [
         100,
         2,
         "Sold",
         "Northwind Traders Ravioli"
        ],
        [
         100,
         1,
         "Sold",
         "Northwind Traders Beer"
        ],
        [
         100,
         2,
         "Purchased",
         "Northwind Traders Ravioli"
        ],
        [
         100,
         1,
         "Sold",
         "Northwind Traders Chocolate"
        ],
        [
         90,
         2,
         "Sold",
         "Northwind Traders Boysenberry Spread"
        ],
        [
         87,
         2,
         "Sold",
         "Northwind Traders Beer"
        ],
        [
         80,
         1,
         "Purchased",
         "Northwind Traders Ravioli"
        ],
        [
         80,
         1,
         "Purchased",
         "Northwind Traders Tomato Sauce"
        ],
        [
         75,
         1,
         "Purchased",
         "Northwind Traders Dried Plums"
        ],
        [
         60,
         1,
         "Purchased",
         "Northwind Traders Mustard"
        ],
        [
         60,
         1,
         "Purchased",
         "Northwind Traders Beer"
        ],
        [
         50,
         2,
         "Sold",
         "Northwind Traders Syrup"
        ],
        [
         50,
         2,
         "Sold",
         "Northwind Traders Mozzarella"
        ],
        [
         50,
         1,
         "On Hold",
         "Northwind Traders Green Tea"
        ],
        [
         50,
         2,
         "Sold",
         "Northwind Traders Clam Chowder"
        ],
        [
         50,
         2,
         "Purchased",
         "Northwind Traders Beer"
        ],
        [
         50,
         1,
         "Sold",
         "Northwind Traders Crab Meat"
        ],
        [
         50,
         2,
         "Purchased",
         "Northwind Traders Clam Chowder"
        ],
        [
         50,
         2,
         "Purchased",
         "Northwind Traders Mozzarella"
        ],
        [
         40,
         1,
         "Purchased",
         "Northwind Traders Chai"
        ],
        [
         40,
         1,
         "Purchased",
         "Northwind Traders Dried Pears"
        ],
        [
         40,
         1,
         "Purchased",
         "Northwind Traders Olive Oil"
        ],
        [
         40,
         1,
         "Purchased",
         "Northwind Traders Walnuts"
        ],
        [
         40,
         1,
         "Purchased",
         "Northwind Traders Dried Apples"
        ],
        [
         40,
         1,
         "Purchased",
         "Northwind Traders Hot Pepper Sauce"
        ],
        [
         40,
         1,
         "Purchased",
         "Northwind Traders Fruit Cocktail"
        ],
        [
         40,
         1,
         "Purchased",
         "Northwind Traders Marmalade"
        ],
        [
         40,
         1,
         "Purchased",
         "Northwind Traders Mozzarella"
        ],
        [
         40,
         1,
         "Purchased",
         "Northwind Traders Curry Sauce"
        ],
        [
         40,
         1,
         "Purchased",
         "Northwind Traders Cajun Seasoning"
        ],
        [
         40,
         1,
         "Purchased",
         "Northwind Traders Clam Chowder"
        ],
        [
         40,
         2,
         "Sold",
         "Northwind Traders Chocolate"
        ],
        [
         40,
         2,
         "Sold",
         "Northwind Traders Crab Meat"
        ],
        [
         40,
         2,
         "Sold",
         "Northwind Traders Marmalade"
        ],
        [
         40,
         2,
         "Sold",
         "Northwind Traders Mozzarella"
        ],
        [
         40,
         2,
         "Sold",
         "Northwind Traders Long Grain Rice"
        ],
        [
         40,
         2,
         "Sold",
         "Northwind Traders Fruit Cocktail"
        ],
        [
         30,
         1,
         "Purchased",
         "Northwind Traders Chocolate Biscuits Mix"
        ],
        [
         30,
         2,
         "Sold",
         "Northwind Traders Dried Apples"
        ],
        [
         30,
         2,
         "Sold",
         "Northwind Traders Cajun Seasoning"
        ],
        [
         30,
         2,
         "Sold",
         "Northwind Traders Dried Pears"
        ],
        [
         30,
         1,
         "Sold",
         "Northwind Traders Crab Meat"
        ],
        [
         30,
         1,
         "Sold",
         "Northwind Traders Dried Plums"
        ],
        [
         30,
         1,
         "Sold",
         "Northwind Traders Chocolate Biscuits Mix"
        ],
        [
         30,
         1,
         "Sold",
         "Northwind Traders Clam Chowder"
        ],
        [
         25,
         1,
         "On Hold",
         "Northwind Traders Green Tea"
        ],
        [
         25,
         1,
         "On Hold",
         "Northwind Traders Coffee"
        ],
        [
         25,
         1,
         "On Hold",
         "Northwind Traders Chai"
        ],
        [
         25,
         2,
         "Sold",
         "Northwind Traders Chocolate Biscuits Mix"
        ],
        [
         25,
         2,
         "Sold",
         "Northwind Traders Curry Sauce"
        ],
        [
         25,
         2,
         "Purchased",
         "Northwind Traders Curry Sauce"
        ],
        [
         25,
         1,
         "Sold",
         "Northwind Traders Olive Oil"
        ],
        [
         25,
         2,
         "Purchased",
         "Northwind Traders Chocolate Biscuits Mix"
        ],
        [
         20,
         1,
         "Purchased",
         "Northwind Traders Scones"
        ],
        [
         20,
         1,
         "Purchased",
         "Northwind Traders Chocolate Biscuits Mix"
        ],
        [
         20,
         1,
         "Purchased",
         "Northwind Traders Almonds"
        ],
        [
         20,
         2,
         "Sold",
         "Northwind Traders Almonds"
        ],
        [
         20,
         2,
         "Sold",
         "Northwind Traders Curry Sauce"
        ],
        [
         20,
         1,
         "On Hold",
         "Northwind Traders Dried Plums"
        ],
        [
         20,
         1,
         "Sold",
         "Northwind Traders Scones"
        ],
        [
         20,
         1,
         "Sold",
         "Northwind Traders Chocolate Biscuits Mix"
        ],
        [
         20,
         1,
         "Sold",
         "Northwind Traders Coffee"
        ],
        [
         17,
         1,
         "Sold",
         "Northwind Traders Curry Sauce"
        ],
        [
         15,
         2,
         "Sold",
         "Northwind Traders Dried Plums"
        ],
        [
         15,
         1,
         "Sold",
         "Northwind Traders Chai"
        ],
        [
         12,
         1,
         "On Hold",
         "Northwind Traders Beer"
        ],
        [
         10,
         2,
         "Sold",
         "Northwind Traders Chocolate Biscuits Mix"
        ],
        [
         10,
         2,
         "Sold",
         "Northwind Traders Clam Chowder"
        ],
        [
         10,
         1,
         "On Hold",
         "Northwind Traders Beer"
        ],
        [
         10,
         1,
         "Sold",
         "Northwind Traders Cajun Seasoning"
        ],
        [
         10,
         2,
         "Purchased",
         "Northwind Traders Chocolate Biscuits Mix"
        ],
        [
         10,
         1,
         "Sold",
         "Northwind Traders Dried Apples"
        ],
        [
         10,
         1,
         "Sold",
         "Northwind Traders Dried Plums"
        ],
        [
         10,
         2,
         "Sold",
         "Northwind Traders Chocolate"
        ],
        [
         10,
         1,
         "Sold",
         "Northwind Traders Chocolate"
        ],
        [
         10,
         1,
         "Sold",
         "Northwind Traders Dried Pears"
        ],
        [
         10,
         1,
         "Sold",
         "Northwind Traders Boysenberry Spread"
        ],
        [
         5,
         2,
         "Sold",
         "Northwind Traders Coffee"
        ],
        [
         3,
         2,
         "Sold",
         "Northwind Traders Curry Sauce"
        ],
        [
         1,
         1,
         "On Hold",
         "Northwind Traders Beer"
        ]
       ],
       "datasetInfos": [],
       "dbfsResultPath": null,
       "isJsonSchema": true,
       "metadata": {},
       "overflow": false,
       "plotOptions": {
        "customPlotOptions": {},
        "displayType": "table",
        "pivotAggregation": null,
        "pivotColumns": null,
        "xColumns": null,
        "yColumns": null
       },
       "removedWidgets": [],
       "schema": [
        {
         "metadata": "{}",
         "name": "Total_Quantity",
         "type": "\"long\""
        },
        {
         "metadata": "{\"scale\":0}",
         "name": "Quarter_Created",
         "type": "\"integer\""
        },
        {
         "metadata": "{}",
         "name": "Inventory_Transaction_Type",
         "type": "\"string\""
        },
        {
         "metadata": "{\"scale\":0}",
         "name": "Product",
         "type": "\"string\""
        }
       ],
       "type": "table"
      }
     },
     "output_type": "display_data"
    }
   ],
   "source": [
    "%sql\n",
    "-- Author a query that returns the Total Quantity grouped by the Quarter Created, Inventory Transaction Type, and Product\n",
    "-- Sort by the Total Quantity Descending\n",
    "SELECT quantity AS Total_Quantity\n",
    "  , order_quarter AS Quarter_Created\n",
    "  , inventory_transaction_type AS Inventory_Transaction_Type\n",
    "  , product_name AS Product\n",
    "FROM northwind_dlh.fact_inventory_transactions_silver\n",
    "GROUP BY Product, Quarter_Created, Inventory_Transaction_Type, Total_Quantity\n",
    "ORDER BY Total_Quantity DESC"
   ]
  },
  {
   "cell_type": "markdown",
   "metadata": {
    "application/vnd.databricks.v1+cell": {
     "cellMetadata": {
      "byteLimit": 2048000,
      "rowLimit": 10000
     },
     "inputWidgets": {},
     "nuid": "143f665e-eda3-4fbf-8f72-9aab08ae302b",
     "showTitle": false,
     "title": ""
    }
   },
   "source": [
    "#### 9.0. Clean up the File System"
   ]
  },
  {
   "cell_type": "code",
   "execution_count": 0,
   "metadata": {
    "application/vnd.databricks.v1+cell": {
     "cellMetadata": {
      "byteLimit": 2048000,
      "rowLimit": 10000
     },
     "inputWidgets": {},
     "nuid": "5d6447df-9b1b-4ca6-aab4-9651998583d9",
     "showTitle": false,
     "title": ""
    }
   },
   "outputs": [
    {
     "output_type": "display_data",
     "data": {
      "text/html": [
       "<style scoped>\n",
       "  .ansiout {\n",
       "    display: block;\n",
       "    unicode-bidi: embed;\n",
       "    white-space: pre-wrap;\n",
       "    word-wrap: break-word;\n",
       "    word-break: break-all;\n",
       "    font-family: \"Source Code Pro\", \"Menlo\", monospace;;\n",
       "    font-size: 13px;\n",
       "    color: #555;\n",
       "    margin-left: 4px;\n",
       "    line-height: 19px;\n",
       "  }\n",
       "</style>\n",
       "<div class=\"ansiout\">res12: Boolean = true\n",
       "</div>"
      ]
     },
     "metadata": {
      "application/vnd.databricks.v1+output": {
       "addedWidgets": {},
       "arguments": {},
       "data": "<div class=\"ansiout\">res12: Boolean = true\n</div>",
       "datasetInfos": [],
       "metadata": {
        "isDbfsCommandResult": false
       },
       "removedWidgets": [],
       "type": "html"
      }
     },
     "output_type": "display_data"
    }
   ],
   "source": [
    "%fs rm -r /FileStore/ds2002-lab06/"
   ]
  }
 ],
 "metadata": {
  "application/vnd.databricks.v1+notebook": {
   "dashboards": [],
   "language": "python",
   "notebookMetadata": {
    "mostRecentlyExecutedCommandWithImplicitDF": {
     "commandId": 1541247766898148,
     "dataframes": [
      "_sqldf"
     ]
    },
    "pythonIndentUnit": 4
   },
   "notebookName": "6.0-Lab-DataLakehouse-Structured-Streaming",
   "notebookOrigID": 1541247766898055,
   "widgets": {}
  }
 },
 "nbformat": 4,
 "nbformat_minor": 0
}
